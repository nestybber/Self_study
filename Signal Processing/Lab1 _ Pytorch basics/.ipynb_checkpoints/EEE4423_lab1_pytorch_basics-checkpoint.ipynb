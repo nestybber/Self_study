{
 "cells": [
  {
   "cell_type": "markdown",
   "metadata": {
    "colab_type": "text",
    "id": "qwoDNgGWFKdL"
   },
   "source": [
    "> ### EEE4423: Signal Processing Lab\n",
    "\n",
    "# LAB \\# I: PyTorch Basics"
   ]
  },
  {
   "cell_type": "code",
   "execution_count": 0,
   "metadata": {
    "colab": {},
    "colab_type": "code",
    "id": "YRKJW5a2FKdN",
    "outputId": "6816c411-d6ea-4962-b503-0d4a7ee1c4d4"
   },
   "outputs": [
    {
     "name": "stdout",
     "output_type": "stream",
     "text": [
      "This code is written at 2019-01-03 19:21:40.917707\n"
     ]
    }
   ],
   "source": [
    "import datetime\n",
    "print(\"This code is written at \" + str(datetime.datetime.now()))"
   ]
  },
  {
   "cell_type": "code",
   "execution_count": 1,
   "metadata": {
    "colab": {
     "base_uri": "https://localhost:8080/",
     "height": 127
    },
    "colab_type": "code",
    "executionInfo": {
     "elapsed": 56053,
     "status": "ok",
     "timestamp": 1550538194854,
     "user": {
      "displayName": "­노종윤(대학원/일반대학원 전기전자공학과)",
      "photoUrl": "",
      "userId": "09464694302284817245"
     },
     "user_tz": -540
    },
    "id": "V9_8fjTcFN7M",
    "outputId": "cc45b817-eed9-4586-ef03-be78e83fb1bb"
   },
   "outputs": [
    {
     "name": "stdout",
     "output_type": "stream",
     "text": [
      "E: Package 'python-software-properties' has no installation candidate\n",
      "Please, open the following URL in a web browser: https://accounts.google.com/o/oauth2/auth?client_id=32555940559.apps.googleusercontent.com&redirect_uri=urn%3Aietf%3Awg%3Aoauth%3A2.0%3Aoob&scope=https%3A%2F%2Fwww.googleapis.com%2Fauth%2Fdrive&response_type=code&access_type=offline&approval_prompt=force\n",
      "··········\n",
      "Please, open the following URL in a web browser: https://accounts.google.com/o/oauth2/auth?client_id=32555940559.apps.googleusercontent.com&redirect_uri=urn%3Aietf%3Awg%3Aoauth%3A2.0%3Aoob&scope=https%3A%2F%2Fwww.googleapis.com%2Fauth%2Fdrive&response_type=code&access_type=offline&approval_prompt=force\n",
      "Please enter the verification code: Access token retrieved correctly.\n"
     ]
    }
   ],
   "source": [
    "!apt-get install -y -qq software-properties-common python-software-properties module-init-tools\n",
    "!add-apt-repository -y ppa:alessandro-strada/ppa 2>&1 > /dev/null\n",
    "!apt-get update -qq 2>&1 > /dev/null\n",
    "!apt-get -y install -qq google-drive-ocamlfuse fuse\n",
    "from google.colab import auth\n",
    "auth.authenticate_user()\n",
    "from oauth2client.client import GoogleCredentials\n",
    "creds = GoogleCredentials.get_application_default()\n",
    "import getpass\n",
    "!google-drive-ocamlfuse -headless -id={creds.client_id} -secret={creds.client_secret} < /dev/null 2>&1 | grep URL\n",
    "vcode = getpass.getpass()\n",
    "!echo {vcode} | google-drive-ocamlfuse -headless -id={creds.client_id} -secret={creds.client_secret}\n"
   ]
  },
  {
   "cell_type": "code",
   "execution_count": 3,
   "metadata": {
    "colab": {
     "base_uri": "https://localhost:8080/",
     "height": 125
    },
    "colab_type": "code",
    "executionInfo": {
     "elapsed": 6387,
     "status": "ok",
     "timestamp": 1550538231818,
     "user": {
      "displayName": "­노종윤(대학원/일반대학원 전기전자공학과)",
      "photoUrl": "",
      "userId": "09464694302284817245"
     },
     "user_tz": -540
    },
    "id": "mE2hK5gDHNnA",
    "outputId": "c2f2fc03-fdde-4768-c41e-29d9b7d0312e"
   },
   "outputs": [
    {
     "name": "stdout",
     "output_type": "stream",
     "text": [
      "fuse: mountpoint is not empty\n",
      "fuse: if you are sure this is safe, use the 'nonempty' mount option\n",
      "total 12\n",
      "drwxr-xr-x 1 root root 4096 Feb 14 17:23 sample_data\n",
      "drwxr-xr-x 2 root root 4096 Feb 19 01:00 drive\n",
      "-rw-r--r-- 1 root root 2531 Feb 19 01:02 adc.json\n"
     ]
    }
   ],
   "source": [
    "!mkdir -p drive  # 생성 \n",
    "!google-drive-ocamlfuse drive  #연동 \n",
    "!ls -ltr #연동확인 "
   ]
  },
  {
   "cell_type": "code",
   "execution_count": 10,
   "metadata": {
    "colab": {
     "base_uri": "https://localhost:8080/",
     "height": 35
    },
    "colab_type": "code",
    "executionInfo": {
     "elapsed": 1108,
     "status": "ok",
     "timestamp": 1550538440704,
     "user": {
      "displayName": "­노종윤(대학원/일반대학원 전기전자공학과)",
      "photoUrl": "",
      "userId": "09464694302284817245"
     },
     "user_tz": -540
    },
    "id": "RGMTRKRbSX_7",
    "outputId": "3d5500f6-26c6-4509-f74a-b05d7e96b654"
   },
   "outputs": [
    {
     "name": "stdout",
     "output_type": "stream",
     "text": [
      "/content/drive\n"
     ]
    }
   ],
   "source": [
    "cd drive #접근\n"
   ]
  },
  {
   "cell_type": "code",
   "execution_count": 11,
   "metadata": {
    "colab": {
     "base_uri": "https://localhost:8080/",
     "height": 71
    },
    "colab_type": "code",
    "executionInfo": {
     "elapsed": 3384,
     "status": "ok",
     "timestamp": 1550538464185,
     "user": {
      "displayName": "­노종윤(대학원/일반대학원 전기전자공학과)",
      "photoUrl": "",
      "userId": "09464694302284817245"
     },
     "user_tz": -540
    },
    "id": "Q4F7-9hVSzpO",
    "outputId": "cc3fe8d1-7b49-4ee2-b021-3f171a279e65"
   },
   "outputs": [
    {
     "name": "stdout",
     "output_type": "stream",
     "text": [
      "total 8\n",
      "drwxr-xr-x 2 root root 4096 Oct 17 08:23 \u001b[0m\u001b[01;34mjynoh\u001b[0m/\n",
      "drwxr-xr-x 2 root root 4096 Feb 18 06:52 \u001b[01;34mSPLAB_colab\u001b[0m/\n"
     ]
    }
   ],
   "source": [
    "ls -ltr #내 구글드라이브 확인 "
   ]
  },
  {
   "cell_type": "code",
   "execution_count": 12,
   "metadata": {
    "colab": {
     "base_uri": "https://localhost:8080/",
     "height": 35
    },
    "colab_type": "code",
    "executionInfo": {
     "elapsed": 1964,
     "status": "ok",
     "timestamp": 1550540447350,
     "user": {
      "displayName": "­노종윤(대학원/일반대학원 전기전자공학과)",
      "photoUrl": "",
      "userId": "09464694302284817245"
     },
     "user_tz": -540
    },
    "id": "e8WjcNbFThE3",
    "outputId": "9c0da983-d6e7-43e6-bd3f-65f0c3767f26"
   },
   "outputs": [
    {
     "name": "stdout",
     "output_type": "stream",
     "text": [
      "/content/drive/SPLAB_colab\n"
     ]
    }
   ],
   "source": [
    "cd SPLAB_colab"
   ]
  },
  {
   "cell_type": "code",
   "execution_count": 13,
   "metadata": {
    "colab": {
     "base_uri": "https://localhost:8080/",
     "height": 647
    },
    "colab_type": "code",
    "executionInfo": {
     "elapsed": 3697,
     "status": "ok",
     "timestamp": 1550540457739,
     "user": {
      "displayName": "­노종윤(대학원/일반대학원 전기전자공학과)",
      "photoUrl": "",
      "userId": "09464694302284817245"
     },
     "user_tz": -540
    },
    "id": "jKAJKSGmaalw",
    "outputId": "d4e2d996-5df6-40bb-f528-87e2724e8f2a"
   },
   "outputs": [
    {
     "name": "stdout",
     "output_type": "stream",
     "text": [
      "total 28092\n",
      "-rw-r--r-- 1 root root  257388 Feb 18 08:12  EEE4423_lab2_ml_basics.ipynb\n",
      "-rw-r--r-- 1 root root   54675 Feb 18 08:12 'EEE4423_lab3_vgg_resnet[CoLab]_problem.ipynb'\n",
      "-rw-r--r-- 1 root root   42623 Feb 18 08:12  EEE4423_lab3_cnns.ipynb\n",
      "-rw-r--r-- 1 root root 3078542 Feb 18 08:12  EEE4423_lab4_Grad-CAM_problem.ipynb\n",
      "-rw-r--r-- 1 root root   11835 Feb 18 08:12  EEE4423_lab3-vgg_resnet.ipynb\n",
      "-rw-r--r-- 1 root root   63596 Feb 18 08:12  EEE4423_lab1_pytorch_basics.ipynb\n",
      "-rw-r--r-- 1 root root    9544 Feb 18 08:12 '[EEE4423] Paper List.docx'\n",
      "-rw-r--r-- 1 root root   19466 Feb 18 08:12  EEE4423_lab9-style_transfer.ipynb\n",
      "-rw-r--r-- 1 root root  160516 Feb 18 08:12  EEE4423_lab8_yolo_dection_model_solution.ipynb\n",
      "-rw-r--r-- 1 root root  144271 Feb 18 08:12  EEE4423_lab5_STN_solution.ipynb\n",
      "-rw-r--r-- 1 root root   85443 Feb 18 08:12 'EEE4423_lab3_vgg_resnet[CoLab]_solution.ipynb'\n",
      "-rw-r--r-- 1 root root   40292 Feb 18 08:12  EEE4423_lab8_yolo_dection_model_problem.ipynb\n",
      "-rw-r--r-- 1 root root  614636 Feb 18 08:12  EEE4423_lab7-semantic_segmentation.ipynb\n",
      "-rw-r--r-- 1 root root  136561 Feb 18 08:12  EEE4423_lab5_STN_problem.ipynb\n",
      "-rw-r--r-- 1 root root 2757431 Feb 18 08:12  EEE4423_lab4_CAM.ipynb\n",
      "-rw-r--r-- 1 root root  185758 Feb 18 08:12  EEE4423_lab12_gan.ipynb\n",
      "-rw-r--r-- 1 root root  155294 Feb 18 08:13  EEE4423_lab13_cyclegan_solution.ipynb\n",
      "-rw-r--r-- 1 root root   37914 Feb 18 08:13 'EEE4423_lab10_Character Generation using LSTM_sol.ipynb'\n",
      "-rw-r--r-- 1 root root   50574 Feb 18 08:13  EEE4423_lab11_Seq2Seq_sol.ipynb\n",
      "-rw-r--r-- 1 root root   47855 Feb 18 08:13  EEE4423_lab11_Seq2Seq.ipynb\n",
      "-rw-r--r-- 1 root root 3084129 Feb 18 08:13  EEE4423_lab4_Grad-CAM_solution.ipynb\n",
      "-rw-r--r-- 1 root root  387795 Feb 18 08:13  EEE4423_lab13_Image_translation.ipynb\n",
      "-rw-r--r-- 1 root root  149205 Feb 18 08:13  EEE4423_lab13_cyclegan_problem.ipynb\n",
      "-rw-r--r-- 1 root root   26978 Feb 18 08:13  EEE4423_lab10_RNN.ipynb\n",
      "-rw-r--r-- 1 root root   35053 Feb 18 08:13 'EEE4423_lab10_Character Generation using LSTM.ipynb'\n",
      "-rw-r--r-- 1 root root 3402661 Feb 18 08:13  EEE4423_lab6_fsrcnn_solution.ipynb\n",
      "-rw-r--r-- 1 root root 3355519 Feb 18 08:13  EEE4423_lab9-style_transfer-solution.ipynb\n",
      "-rw-r--r-- 1 root root 3395635 Feb 18 08:13  EEE4423_lab6_fsrcnn_problem.ipynb\n",
      "-rw-r--r-- 1 root root 2462683 Feb 18 08:13  EEE4423_lab7-semantic_segmentation_solution.ipynb\n",
      "-rw-r--r-- 1 root root 2246750 Feb 18 08:13  EEE4423_lab12_dcgan_solution.ipynb\n",
      "-rw-r--r-- 1 root root 2245702 Feb 18 08:13  EEE4423_lab12_dcgan_problem.ipynb\n",
      "drwxr-xr-x 2 root root    4096 Feb 18 08:13  \u001b[0m\u001b[01;34mimages\u001b[0m/\n",
      "drwxr-xr-x 2 root root    4096 Feb 18 08:14  \u001b[01;34mcodes\u001b[0m/\n",
      "drwxr-xr-x 2 root root    4096 Feb 18 08:15  \u001b[01;34mpretrain\u001b[0m/\n"
     ]
    }
   ],
   "source": [
    "ls -ltr"
   ]
  },
  {
   "cell_type": "markdown",
   "metadata": {
    "colab_type": "text",
    "id": "1T-GStK7FKdT"
   },
   "source": [
    "# 1. Matrices with PyTorch \n",
    "\n",
    "## Matrices\n",
    "\n",
    "\n",
    "### Matrices Brief Introduction\n",
    "- Basic definition: rectangular array of numbers.\n",
    "- Tensors (PyTorch)\n",
    "- Ndarrays (NumPy)\n",
    "\n",
    "- **2 x 2 Matrix (R x C)**\n",
    "\n",
    "1 | 1 \n",
    "--- | ---\n",
    "1 | 1 \n",
    "\n",
    "- **2 x 3 Matrix**\n",
    "\n",
    "1 | 1 | 1\n",
    "--- | ---| ---\n",
    "1 | 1 | 1 \n",
    "\n",
    "### Creating Matrices"
   ]
  },
  {
   "cell_type": "markdown",
   "metadata": {
    "colab_type": "text",
    "id": "DrRzuI1EFKdU"
   },
   "source": [
    "- **Create list**"
   ]
  },
  {
   "cell_type": "code",
   "execution_count": 2,
   "metadata": {
    "colab": {
     "base_uri": "https://localhost:8080/",
     "height": 35
    },
    "colab_type": "code",
    "executionInfo": {
     "elapsed": 1108,
     "status": "ok",
     "timestamp": 1550540637201,
     "user": {
      "displayName": "­노종윤(대학원/일반대학원 전기전자공학과)",
      "photoUrl": "",
      "userId": "09464694302284817245"
     },
     "user_tz": -540
    },
    "id": "31jN__SzFKdV",
    "outputId": "2f9342d2-4cd4-4316-c096-e5ce71b3f76f"
   },
   "outputs": [
    {
     "name": "stdout",
     "output_type": "stream",
     "text": [
      "[[1, 2], [3, 4]]\n"
     ]
    }
   ],
   "source": [
    "# Creating a 2x2 array\n",
    "arr = [[1, 2], [3, 4]]\n",
    "print(arr)"
   ]
  },
  {
   "cell_type": "markdown",
   "metadata": {
    "colab_type": "text",
    "id": "NyTio1oyFKdZ"
   },
   "source": [
    "- **Create numpy array via list**"
   ]
  },
  {
   "cell_type": "code",
   "execution_count": 3,
   "metadata": {
    "colab": {
     "base_uri": "https://localhost:8080/",
     "height": 53
    },
    "colab_type": "code",
    "executionInfo": {
     "elapsed": 1132,
     "status": "ok",
     "timestamp": 1550540643044,
     "user": {
      "displayName": "­노종윤(대학원/일반대학원 전기전자공학과)",
      "photoUrl": "",
      "userId": "09464694302284817245"
     },
     "user_tz": -540
    },
    "id": "SzSprGPYFKda",
    "outputId": "b694b534-28fd-4883-836d-3bf61dd237cd"
   },
   "outputs": [
    {
     "data": {
      "text/plain": [
       "array([[1, 2],\n",
       "       [3, 4]])"
      ]
     },
     "execution_count": 3,
     "metadata": {},
     "output_type": "execute_result"
    }
   ],
   "source": [
    "import numpy as np\n",
    "\n",
    "# Convert to NumPy\n",
    "np.array(arr)"
   ]
  },
  {
   "cell_type": "markdown",
   "metadata": {
    "colab_type": "text",
    "id": "zHKNPuztFKde"
   },
   "source": [
    "- **Convert numpy array to PyTorch tensor**"
   ]
  },
  {
   "cell_type": "code",
   "execution_count": 6,
   "metadata": {
    "colab": {},
    "colab_type": "code",
    "id": "1R70R711FKdf",
    "outputId": "3b7519dd-6a55-4129-9c91-080b96d6be9d"
   },
   "outputs": [
    {
     "data": {
      "text/plain": [
       "tensor([[1., 2.],\n",
       "        [3., 4.]])"
      ]
     },
     "execution_count": 6,
     "metadata": {},
     "output_type": "execute_result"
    }
   ],
   "source": [
    "import torch\n",
    "\n",
    "# Convert to PyTorch Tensor\n",
    "torch.Tensor(arr)"
   ]
  },
  {
   "cell_type": "markdown",
   "metadata": {
    "colab_type": "text",
    "id": "gaaIWJMmFKdi"
   },
   "source": [
    "### Creating Matrices  with Default Values"
   ]
  },
  {
   "cell_type": "markdown",
   "metadata": {
    "colab_type": "text",
    "id": "Gz1kpnJ5FKdj"
   },
   "source": [
    "- **Create 2x2 numpy array of 1's**"
   ]
  },
  {
   "cell_type": "code",
   "execution_count": 7,
   "metadata": {
    "colab": {},
    "colab_type": "code",
    "id": "7rR7JajcFKdk",
    "outputId": "81f93a1f-a8c9-4178-a2fc-ed8d758e54db"
   },
   "outputs": [
    {
     "data": {
      "text/plain": [
       "array([[1., 1.],\n",
       "       [1., 1.]])"
      ]
     },
     "execution_count": 7,
     "metadata": {},
     "output_type": "execute_result"
    }
   ],
   "source": [
    "np.ones((2, 2))"
   ]
  },
  {
   "cell_type": "markdown",
   "metadata": {
    "colab_type": "text",
    "id": "iv5JreZWFKdp"
   },
   "source": [
    "- **Create 2x2 torch tensor of 1's**"
   ]
  },
  {
   "cell_type": "code",
   "execution_count": 8,
   "metadata": {
    "colab": {},
    "colab_type": "code",
    "id": "rYUAm_PiFKdq",
    "outputId": "da693f1b-14d5-4192-8bad-e61abcf82ea9"
   },
   "outputs": [
    {
     "data": {
      "text/plain": [
       "tensor([[1., 1.],\n",
       "        [1., 1.]])"
      ]
     },
     "execution_count": 8,
     "metadata": {},
     "output_type": "execute_result"
    }
   ],
   "source": [
    "torch.ones((2, 2))"
   ]
  },
  {
   "cell_type": "markdown",
   "metadata": {
    "colab_type": "text",
    "id": "zTum5YcsFKdv"
   },
   "source": [
    "- **Create 2x2 numpy array of random numbers**"
   ]
  },
  {
   "cell_type": "code",
   "execution_count": 9,
   "metadata": {
    "colab": {},
    "colab_type": "code",
    "id": "419Zq5wbFKdz",
    "outputId": "0c1d264c-dbbf-46cf-94b0-cd80111f51e4"
   },
   "outputs": [
    {
     "data": {
      "text/plain": [
       "array([[0.21652694, 0.74450481],\n",
       "       [0.94503814, 0.20466552]])"
      ]
     },
     "execution_count": 9,
     "metadata": {},
     "output_type": "execute_result"
    }
   ],
   "source": [
    "np.random.rand(2, 2)"
   ]
  },
  {
   "cell_type": "markdown",
   "metadata": {
    "colab_type": "text",
    "id": "PY9YTj80FKd2"
   },
   "source": [
    "- **Create 2x2 PyTorch tensor of random numbers**"
   ]
  },
  {
   "cell_type": "code",
   "execution_count": 10,
   "metadata": {
    "colab": {},
    "colab_type": "code",
    "id": "hiyEKq93FKd3",
    "outputId": "324c7799-4872-4545-82b9-c0023d4fb9c1"
   },
   "outputs": [
    {
     "data": {
      "text/plain": [
       "tensor([[0.8527, 0.9615],\n",
       "        [0.5544, 0.6224]])"
      ]
     },
     "execution_count": 10,
     "metadata": {},
     "output_type": "execute_result"
    }
   ],
   "source": [
    "torch.rand(2, 2)"
   ]
  },
  {
   "cell_type": "markdown",
   "metadata": {
    "colab_type": "text",
    "id": "mjKaN0HIFKd6"
   },
   "source": [
    "### Seeds for Reproducibility"
   ]
  },
  {
   "cell_type": "markdown",
   "metadata": {
    "colab_type": "text",
    "id": "xBIQZ9BQFKd7"
   },
   "source": [
    "> **Why do we need seeds?** \n",
    ">\n",
    "> We need seeds to enable reproduction of experimental results. This becomes critical later on where you can easily let people reproduce your code's output exactly as you've produced.`"
   ]
  },
  {
   "cell_type": "markdown",
   "metadata": {
    "colab_type": "text",
    "id": "G1igeEJhFKd8"
   },
   "source": [
    "- **Create seed to enable fixed numbers for random number generation**"
   ]
  },
  {
   "cell_type": "code",
   "execution_count": 11,
   "metadata": {
    "colab": {},
    "colab_type": "code",
    "id": "21arIRnCFKd9",
    "outputId": "962c538d-763f-4d24-99bc-afe9dcf7d2b3"
   },
   "outputs": [
    {
     "data": {
      "text/plain": [
       "array([[0.5488135 , 0.71518937],\n",
       "       [0.60276338, 0.54488318]])"
      ]
     },
     "execution_count": 11,
     "metadata": {},
     "output_type": "execute_result"
    }
   ],
   "source": [
    "# Seed\n",
    "np.random.seed(0)\n",
    "np.random.rand(2, 2)"
   ]
  },
  {
   "cell_type": "markdown",
   "metadata": {
    "colab_type": "text",
    "id": "9dBEMeyTFKeA"
   },
   "source": [
    "- **Repeat random array generation to check**\n",
    "\n",
    "If you do not set the seed, you would not get the same set of numbers like here."
   ]
  },
  {
   "cell_type": "code",
   "execution_count": 12,
   "metadata": {
    "colab": {},
    "colab_type": "code",
    "id": "wfK-x1r6FKeB",
    "outputId": "fa08f8f4-61a5-4903-e80a-527215ba397f"
   },
   "outputs": [
    {
     "data": {
      "text/plain": [
       "array([[0.5488135 , 0.71518937],\n",
       "       [0.60276338, 0.54488318]])"
      ]
     },
     "execution_count": 12,
     "metadata": {},
     "output_type": "execute_result"
    }
   ],
   "source": [
    "# Seed\n",
    "np.random.seed(0)\n",
    "np.random.rand(2,2 )"
   ]
  },
  {
   "cell_type": "markdown",
   "metadata": {
    "colab_type": "text",
    "id": "4eKwyTJ5FKeG"
   },
   "source": [
    "- **Create a numpy array without seed**\n",
    "\n",
    "Notice how you get different numbers compared to the first 2 tries?"
   ]
  },
  {
   "cell_type": "code",
   "execution_count": 14,
   "metadata": {
    "colab": {},
    "colab_type": "code",
    "id": "_OJhKpq6FKeH",
    "outputId": "a42bdc88-679d-40d7-edef-ef49597432c6"
   },
   "outputs": [
    {
     "data": {
      "text/plain": [
       "array([[0.96366276, 0.38344152],\n",
       "       [0.79172504, 0.52889492]])"
      ]
     },
     "execution_count": 14,
     "metadata": {},
     "output_type": "execute_result"
    }
   ],
   "source": [
    "# No seed\n",
    "np.random.rand(2, 2)"
   ]
  },
  {
   "cell_type": "markdown",
   "metadata": {
    "colab_type": "text",
    "id": "yjp7ayvXFKeL"
   },
   "source": [
    "- **Repeat numpy array generation without seed**\n",
    "\n",
    "You get the point now, you get a totally different set of numbers."
   ]
  },
  {
   "cell_type": "code",
   "execution_count": 15,
   "metadata": {
    "colab": {},
    "colab_type": "code",
    "id": "AhR5WR1yFKeM",
    "outputId": "a4fd6c70-8265-49d3-f928-b0c6e2453294"
   },
   "outputs": [
    {
     "data": {
      "text/plain": [
       "array([[0.56804456, 0.92559664],\n",
       "       [0.07103606, 0.0871293 ]])"
      ]
     },
     "execution_count": 15,
     "metadata": {},
     "output_type": "execute_result"
    }
   ],
   "source": [
    "# No seed\n",
    "np.random.rand(2, 2)"
   ]
  },
  {
   "cell_type": "markdown",
   "metadata": {
    "colab_type": "text",
    "id": "C6zWtn90FKeQ"
   },
   "source": [
    "- **Create a PyTorch tensor with a fixed seed**"
   ]
  },
  {
   "cell_type": "code",
   "execution_count": 16,
   "metadata": {
    "colab": {},
    "colab_type": "code",
    "id": "hJpOzvMMFKeR",
    "outputId": "f82b96aa-761f-4689-8368-e7db79e42b66"
   },
   "outputs": [
    {
     "data": {
      "text/plain": [
       "tensor([[0.4963, 0.7682],\n",
       "        [0.0885, 0.1320]])"
      ]
     },
     "execution_count": 16,
     "metadata": {},
     "output_type": "execute_result"
    }
   ],
   "source": [
    "# Torch Seed\n",
    "torch.manual_seed(0)\n",
    "torch.rand(2, 2)"
   ]
  },
  {
   "cell_type": "markdown",
   "metadata": {
    "colab_type": "text",
    "id": "_OXSaGobFKeV"
   },
   "source": [
    "- **Repeat creating a PyTorch fixed seed tensor**"
   ]
  },
  {
   "cell_type": "code",
   "execution_count": 17,
   "metadata": {
    "colab": {},
    "colab_type": "code",
    "id": "4XRUWRvkFKeV",
    "outputId": "61a3001e-0c6a-4911-e92b-44dade6f0e17"
   },
   "outputs": [
    {
     "data": {
      "text/plain": [
       "tensor([[0.4963, 0.7682],\n",
       "        [0.0885, 0.1320]])"
      ]
     },
     "execution_count": 17,
     "metadata": {},
     "output_type": "execute_result"
    }
   ],
   "source": [
    "# Torch Seed\n",
    "torch.manual_seed(0)\n",
    "torch.rand(2, 2)"
   ]
  },
  {
   "cell_type": "markdown",
   "metadata": {
    "colab_type": "text",
    "id": "I5SqyjaKFKeY"
   },
   "source": [
    "- **Creating a PyTorch tensor without seed**\n",
    "\n",
    "Like with a numpy array of random numbers without seed, you will not get the same results as above."
   ]
  },
  {
   "cell_type": "code",
   "execution_count": 0,
   "metadata": {
    "colab": {},
    "colab_type": "code",
    "id": "fj3FMgtaFKea",
    "outputId": "97319608-062d-47d7-d8c3-67c167f7641d"
   },
   "outputs": [
    {
     "data": {
      "text/plain": [
       "tensor([[0.3074, 0.6341],\n",
       "        [0.4901, 0.8964]])"
      ]
     },
     "execution_count": 15,
     "metadata": {
      "tags": []
     },
     "output_type": "execute_result"
    }
   ],
   "source": [
    "# Torch No Seed\n",
    "torch.rand(2, 2)"
   ]
  },
  {
   "cell_type": "markdown",
   "metadata": {
    "colab_type": "text",
    "id": "TK49O-CFFKed"
   },
   "source": [
    "- **Repeat creating a PyTorch tensor without seed**\n",
    "\n",
    "Notice how these are different numbers again?"
   ]
  },
  {
   "cell_type": "code",
   "execution_count": 0,
   "metadata": {
    "colab": {},
    "colab_type": "code",
    "id": "v2LbhXfmFKee",
    "outputId": "66c0dfa8-e157-44e7-f071-69471b75792d"
   },
   "outputs": [
    {
     "data": {
      "text/plain": [
       "tensor([[0.4556, 0.6323],\n",
       "        [0.3489, 0.4017]])"
      ]
     },
     "execution_count": 16,
     "metadata": {
      "tags": []
     },
     "output_type": "execute_result"
    }
   ],
   "source": [
    "# Torch No Seed\n",
    "torch.rand(2, 2)"
   ]
  },
  {
   "cell_type": "markdown",
   "metadata": {
    "colab_type": "text",
    "id": "hNiNrJ83FKeh"
   },
   "source": [
    "- **Seed for GPU is different: Fix a seed for GPU tensors**\n",
    "\n",
    "When you conduct deep learning experiments, typically you want to use GPUs to accelerate your computations and fixing seed for tensors on GPUs is different from CPUs as we have done above."
   ]
  },
  {
   "cell_type": "code",
   "execution_count": 0,
   "metadata": {
    "colab": {},
    "colab_type": "code",
    "id": "3tD-zazoFKei"
   },
   "outputs": [],
   "source": [
    "if torch.cuda.is_available():\n",
    "    torch.cuda.manual_seed_all(0)\n",
    "if torch.cuda.is_available():\n",
    "    torch.cuda.manual_seed_all(0)"
   ]
  },
  {
   "cell_type": "markdown",
   "metadata": {
    "colab_type": "text",
    "id": "e-5gZE6KFKek"
   },
   "source": [
    "### NumPy and Torch Bridge"
   ]
  },
  {
   "cell_type": "markdown",
   "metadata": {
    "colab_type": "text",
    "id": "0jAVMy3lFKel"
   },
   "source": [
    "#### NumPy to Torch"
   ]
  },
  {
   "cell_type": "markdown",
   "metadata": {
    "colab_type": "text",
    "id": "vfGZlSPZFKem"
   },
   "source": [
    "- **Create a numpy array of 1's**"
   ]
  },
  {
   "cell_type": "code",
   "execution_count": 19,
   "metadata": {
    "colab": {},
    "colab_type": "code",
    "id": "QHPBR2Y1FKem",
    "outputId": "791d75ba-9744-4e06-ef71-05a8ba7777bb"
   },
   "outputs": [
    {
     "name": "stdout",
     "output_type": "stream",
     "text": [
      "[[1. 1.]\n",
      " [1. 1.]]\n"
     ]
    }
   ],
   "source": [
    "# Numpy array\n",
    "np_array = np.ones((2, 2))\n",
    "\n",
    "print(np_array)"
   ]
  },
  {
   "cell_type": "markdown",
   "metadata": {
    "colab_type": "text",
    "id": "1IPnZRJGFKep"
   },
   "source": [
    "- **Get the type of class for the numpy array**"
   ]
  },
  {
   "cell_type": "code",
   "execution_count": 20,
   "metadata": {
    "colab": {},
    "colab_type": "code",
    "id": "RVl2TRyFFKeq",
    "outputId": "6dbae871-7b9c-4e7e-a56e-a3328dbd53d8"
   },
   "outputs": [
    {
     "name": "stdout",
     "output_type": "stream",
     "text": [
      "<class 'numpy.ndarray'>\n"
     ]
    }
   ],
   "source": [
    "print(type(np_array))"
   ]
  },
  {
   "cell_type": "code",
   "execution_count": 21,
   "metadata": {
    "colab": {},
    "colab_type": "code",
    "id": "2n2dYaRtFKes",
    "outputId": "86f43fe1-9ff5-4057-cb43-6afef897fdd1"
   },
   "outputs": [
    {
     "name": "stdout",
     "output_type": "stream",
     "text": [
      "float64\n"
     ]
    }
   ],
   "source": [
    "print(np_array.dtype)"
   ]
  },
  {
   "cell_type": "markdown",
   "metadata": {
    "colab_type": "text",
    "id": "FEn0Es0eFKev"
   },
   "source": [
    "- **Convert numpy array to PyTorch tensor**"
   ]
  },
  {
   "cell_type": "code",
   "execution_count": 22,
   "metadata": {
    "colab": {},
    "colab_type": "code",
    "id": "u6-0MKoKFKew",
    "outputId": "f79ad22b-f8f8-4f4e-9e63-069e0f078d09"
   },
   "outputs": [
    {
     "name": "stdout",
     "output_type": "stream",
     "text": [
      "tensor([[1., 1.],\n",
      "        [1., 1.]], dtype=torch.float64)\n"
     ]
    }
   ],
   "source": [
    "# Convert to Torch Tensor\n",
    "torch_tensor = torch.from_numpy(np_array)\n",
    "\n",
    "print(torch_tensor)"
   ]
  },
  {
   "cell_type": "markdown",
   "metadata": {
    "colab_type": "text",
    "id": "ACT4eRqQFKez"
   },
   "source": [
    "- **Get type of class for PyTorch tensor**\n",
    "\n",
    "Notice how it shows it's a torch Float64 Tensor? There're actually tensor types and it depends on the numpy data type."
   ]
  },
  {
   "cell_type": "code",
   "execution_count": 0,
   "metadata": {
    "colab": {},
    "colab_type": "code",
    "id": "-zps-gzOFKez",
    "outputId": "644ee7d1-bb0f-4e53-f8d9-0da728640dfb"
   },
   "outputs": [
    {
     "name": "stdout",
     "output_type": "stream",
     "text": [
      "torch.float64\n"
     ]
    }
   ],
   "source": [
    "print(torch_tensor.dtype)"
   ]
  },
  {
   "cell_type": "markdown",
   "metadata": {
    "colab_type": "text",
    "id": "GkGpZGruFKe2"
   },
   "source": [
    "- **Create PyTorch tensor from a different numpy datatype**\n",
    "\n",
    "You will get an error running this code because PyTorch tensor don't support all datatype."
   ]
  },
  {
   "cell_type": "code",
   "execution_count": 0,
   "metadata": {
    "colab": {},
    "colab_type": "code",
    "id": "qHYUtHrqFKe3",
    "outputId": "91704d73-3841-4164-b935-c88f3c49f61b"
   },
   "outputs": [
    {
     "ename": "TypeError",
     "evalue": "can't convert np.ndarray of type numpy.int8. The only supported types are: double, float, float16, int64, int32, and uint8.",
     "output_type": "error",
     "traceback": [
      "\u001b[0;31m---------------------------------------------------------------------------\u001b[0m",
      "\u001b[0;31mTypeError\u001b[0m                                 Traceback (most recent call last)",
      "\u001b[0;32m<ipython-input-23-b0946f0ff726>\u001b[0m in \u001b[0;36m<module>\u001b[0;34m()\u001b[0m\n\u001b[1;32m      1\u001b[0m \u001b[0;31m# Data types matter: intentional error\u001b[0m\u001b[0;34m\u001b[0m\u001b[0;34m\u001b[0m\u001b[0;34m\u001b[0m\u001b[0m\n\u001b[1;32m      2\u001b[0m \u001b[0mnp_array_new\u001b[0m \u001b[0;34m=\u001b[0m \u001b[0mnp\u001b[0m\u001b[0;34m.\u001b[0m\u001b[0mones\u001b[0m\u001b[0;34m(\u001b[0m\u001b[0;34m(\u001b[0m\u001b[0;36m2\u001b[0m\u001b[0;34m,\u001b[0m \u001b[0;36m2\u001b[0m\u001b[0;34m)\u001b[0m\u001b[0;34m,\u001b[0m \u001b[0mdtype\u001b[0m\u001b[0;34m=\u001b[0m\u001b[0mnp\u001b[0m\u001b[0;34m.\u001b[0m\u001b[0mint8\u001b[0m\u001b[0;34m)\u001b[0m\u001b[0;34m\u001b[0m\u001b[0;34m\u001b[0m\u001b[0m\n\u001b[0;32m----> 3\u001b[0;31m \u001b[0mtorch\u001b[0m\u001b[0;34m.\u001b[0m\u001b[0mfrom_numpy\u001b[0m\u001b[0;34m(\u001b[0m\u001b[0mnp_array_new\u001b[0m\u001b[0;34m)\u001b[0m\u001b[0;34m\u001b[0m\u001b[0;34m\u001b[0m\u001b[0m\n\u001b[0m",
      "\u001b[0;31mTypeError\u001b[0m: can't convert np.ndarray of type numpy.int8. The only supported types are: double, float, float16, int64, int32, and uint8."
     ]
    }
   ],
   "source": [
    "# Data types matter: intentional error\n",
    "np_array_new = np.ones((2, 2), dtype=np.int8)\n",
    "torch.from_numpy(np_array_new)"
   ]
  },
  {
   "cell_type": "markdown",
   "metadata": {
    "colab_type": "text",
    "id": "-XJrTI2KFKe5"
   },
   "source": [
    "> **What conversion support does Numpy to PyTorch tensor bridge gives?**\n",
    "> - `double`\n",
    "> - `float` \n",
    "> - `int64`, `int32`, `uint8` \n",
    ">\n",
    "> [TORCH.DTYPE](https://pytorch.org/docs/stable/tensor_attributes.html#torch.torch.dtype)"
   ]
  },
  {
   "cell_type": "markdown",
   "metadata": {
    "colab_type": "text",
    "id": "07Lw2U6LFKe6"
   },
   "source": [
    "- **Create PyTorch long tensor**\n",
    "\n",
    "See how a int64 numpy array gives you a PyTorch long tensor?"
   ]
  },
  {
   "cell_type": "code",
   "execution_count": 0,
   "metadata": {
    "colab": {},
    "colab_type": "code",
    "id": "0d_eqjt5FKe7"
   },
   "outputs": [],
   "source": [
    "# Data types matter\n",
    "np_array_new = np.ones((2, 2), dtype=np.int64)\n",
    "torch_tensor = torch.from_numpy(np_array_new)"
   ]
  },
  {
   "cell_type": "code",
   "execution_count": 0,
   "metadata": {
    "colab": {},
    "colab_type": "code",
    "id": "WcK7K2zLFKe9",
    "outputId": "eb750ec4-a464-420e-8b22-a364b1f70d77"
   },
   "outputs": [
    {
     "name": "stdout",
     "output_type": "stream",
     "text": [
      "torch.int64\n"
     ]
    }
   ],
   "source": [
    "print(torch_tensor.dtype)"
   ]
  },
  {
   "cell_type": "markdown",
   "metadata": {
    "colab_type": "text",
    "id": "kA_E4EU7FKfE"
   },
   "source": [
    "- **Create PyTorch int tensor**"
   ]
  },
  {
   "cell_type": "code",
   "execution_count": 0,
   "metadata": {
    "colab": {},
    "colab_type": "code",
    "id": "9rygYjuCFKfF",
    "outputId": "675c14be-d6bc-4a2e-c192-c6028d638659"
   },
   "outputs": [
    {
     "data": {
      "text/plain": [
       "tensor([[1, 1],\n",
       "        [1, 1]], dtype=torch.int32)"
      ]
     },
     "execution_count": 26,
     "metadata": {
      "tags": []
     },
     "output_type": "execute_result"
    }
   ],
   "source": [
    "# Data types matter\n",
    "np_array_new = np.ones((2, 2), dtype=np.int32)\n",
    "torch.from_numpy(np_array_new)"
   ]
  },
  {
   "cell_type": "markdown",
   "metadata": {
    "colab_type": "text",
    "id": "d7KjdbK2FKfI"
   },
   "source": [
    "- **Create PyTorch byte tensor**"
   ]
  },
  {
   "cell_type": "code",
   "execution_count": 0,
   "metadata": {
    "colab": {},
    "colab_type": "code",
    "id": "nN7TqTVrFKfI",
    "outputId": "3433ec9c-bf29-4a7b-9b91-abb5bc61dc14"
   },
   "outputs": [
    {
     "data": {
      "text/plain": [
       "tensor([[1, 1],\n",
       "        [1, 1]], dtype=torch.uint8)"
      ]
     },
     "execution_count": 27,
     "metadata": {
      "tags": []
     },
     "output_type": "execute_result"
    }
   ],
   "source": [
    "# Data types matter\n",
    "np_array_new = np.ones((2, 2), dtype=np.uint8)\n",
    "torch.from_numpy(np_array_new)"
   ]
  },
  {
   "cell_type": "markdown",
   "metadata": {
    "colab_type": "text",
    "id": "5Ay4AXMbFKfP"
   },
   "source": [
    "- **Create PyTorch Double Tensor**"
   ]
  },
  {
   "cell_type": "code",
   "execution_count": 0,
   "metadata": {
    "colab": {},
    "colab_type": "code",
    "id": "pwj9L5qVFKfQ",
    "outputId": "33944cba-cd76-43e1-abba-6aa7e833433f"
   },
   "outputs": [
    {
     "data": {
      "text/plain": [
       "tensor([[1., 1.],\n",
       "        [1., 1.]], dtype=torch.float64)"
      ]
     },
     "execution_count": 28,
     "metadata": {
      "tags": []
     },
     "output_type": "execute_result"
    }
   ],
   "source": [
    "# Data types matter\n",
    "np_array_new = np.ones((2, 2), dtype=np.float64)\n",
    "torch.from_numpy(np_array_new)"
   ]
  },
  {
   "cell_type": "markdown",
   "metadata": {
    "colab_type": "text",
    "id": "1FoOWtaqFKfT"
   },
   "source": [
    "Alternatively you can do this too via `np.double`"
   ]
  },
  {
   "cell_type": "code",
   "execution_count": 0,
   "metadata": {
    "colab": {},
    "colab_type": "code",
    "id": "ewaGoqx2FKfT",
    "outputId": "018bea44-e2cc-4d4a-cdc2-f168a6d0d9b4"
   },
   "outputs": [
    {
     "data": {
      "text/plain": [
       "tensor([[1., 1.],\n",
       "        [1., 1.]], dtype=torch.float64)"
      ]
     },
     "execution_count": 29,
     "metadata": {
      "tags": []
     },
     "output_type": "execute_result"
    }
   ],
   "source": [
    "# Data types matter\n",
    "np_array_new = np.ones((2, 2), dtype=np.double)\n",
    "torch.from_numpy(np_array_new)"
   ]
  },
  {
   "cell_type": "markdown",
   "metadata": {
    "colab_type": "text",
    "id": "M4TljtKCFKfW"
   },
   "source": [
    "- **Create PyTorch Float Tensor**"
   ]
  },
  {
   "cell_type": "code",
   "execution_count": 0,
   "metadata": {
    "colab": {},
    "colab_type": "code",
    "id": "tci1HdxDFKfX",
    "outputId": "087fc38e-074e-4c50-fda9-5bc550cd465a"
   },
   "outputs": [
    {
     "data": {
      "text/plain": [
       "tensor([[1., 1.],\n",
       "        [1., 1.]])"
      ]
     },
     "execution_count": 30,
     "metadata": {
      "tags": []
     },
     "output_type": "execute_result"
    }
   ],
   "source": [
    "# Data types matter\n",
    "np_array_new = np.ones((2, 2), dtype=np.float32)\n",
    "torch.from_numpy(np_array_new)"
   ]
  },
  {
   "cell_type": "markdown",
   "metadata": {
    "colab_type": "text",
    "id": "rpYLvlrRFKfZ"
   },
   "source": [
    "#### Torch to NumPy "
   ]
  },
  {
   "cell_type": "markdown",
   "metadata": {
    "colab_type": "text",
    "id": "r3B1XxHfFKfa"
   },
   "source": [
    "- **Create PyTorch tensor of 1's**\n",
    "\n",
    "You would realize this defaults to a float tensor by default if you do this."
   ]
  },
  {
   "cell_type": "code",
   "execution_count": 0,
   "metadata": {
    "colab": {},
    "colab_type": "code",
    "id": "CXEF_EWRFKfb",
    "outputId": "78ac8596-61b9-4736-a94e-092634da776f"
   },
   "outputs": [
    {
     "name": "stdout",
     "output_type": "stream",
     "text": [
      "torch.float32\n"
     ]
    }
   ],
   "source": [
    "torch_tensor = torch.ones(2, 2)\n",
    "\n",
    "print(torch_tensor.dtype)"
   ]
  },
  {
   "cell_type": "markdown",
   "metadata": {
    "colab_type": "text",
    "id": "UZmqKIefFKfg"
   },
   "source": [
    "- **Convert tensor to numpy**\n",
    "\n",
    "It's as simple as this."
   ]
  },
  {
   "cell_type": "code",
   "execution_count": 0,
   "metadata": {
    "colab": {},
    "colab_type": "code",
    "id": "aV9DGU8ZFKfh",
    "outputId": "7c59d54c-1473-4430-988d-7d1a16a8104e"
   },
   "outputs": [
    {
     "name": "stdout",
     "output_type": "stream",
     "text": [
      "<class 'numpy.ndarray'>\n"
     ]
    }
   ],
   "source": [
    "torch_to_numpy = torch_tensor.numpy()\n",
    "\n",
    "print(type(torch_to_numpy))"
   ]
  },
  {
   "cell_type": "code",
   "execution_count": 0,
   "metadata": {
    "colab": {},
    "colab_type": "code",
    "id": "BM6I8erwFKfk",
    "outputId": "593d7e98-f31f-4a3e-bd7e-eb83bf76566f"
   },
   "outputs": [
    {
     "name": "stdout",
     "output_type": "stream",
     "text": [
      "float32\n"
     ]
    }
   ],
   "source": [
    "print(torch_to_numpy.dtype)"
   ]
  },
  {
   "cell_type": "code",
   "execution_count": 27,
   "metadata": {},
   "outputs": [
    {
     "data": {
      "text/plain": [
       "array([[1, 1],\n",
       "       [1, 1]], dtype=int64)"
      ]
     },
     "execution_count": 27,
     "metadata": {},
     "output_type": "execute_result"
    }
   ],
   "source": [
    "array = np.ones((2, 2), dtype=np.int64)\n",
    "tensor = torch.from_numpy(array)\n",
    "numpy = tensor.numpy()\n",
    "numpy"
   ]
  },
  {
   "cell_type": "markdown",
   "metadata": {
    "colab_type": "text",
    "id": "p1r_-cktFKfp"
   },
   "source": [
    "### Tensors on CPU vs GPU"
   ]
  },
  {
   "cell_type": "markdown",
   "metadata": {
    "colab_type": "text",
    "id": "s0xqtY1_FKfp"
   },
   "source": [
    "- **Move tensor to CPU and back**\n",
    "\n",
    "This by default creates a tensor on CPU. You do not need to do anything."
   ]
  },
  {
   "cell_type": "code",
   "execution_count": 28,
   "metadata": {
    "colab": {},
    "colab_type": "code",
    "id": "m3pgyJAIFKfq"
   },
   "outputs": [],
   "source": [
    "# CPU\n",
    "tensor_cpu = torch.ones(2, 2)"
   ]
  },
  {
   "cell_type": "markdown",
   "metadata": {
    "colab_type": "text",
    "id": "Qon0oykFFKfs"
   },
   "source": [
    "If you would like to send a tensor to your GPU, you just need to do a simple `.cuda()`"
   ]
  },
  {
   "cell_type": "code",
   "execution_count": 29,
   "metadata": {
    "colab": {},
    "colab_type": "code",
    "id": "LJLNaULdFKfs",
    "outputId": "cb57a5fb-f8cf-4c3f-b151-9b81b6c45044"
   },
   "outputs": [
    {
     "data": {
      "text/plain": [
       "tensor([[1., 1.],\n",
       "        [1., 1.]], device='cuda:0')"
      ]
     },
     "execution_count": 29,
     "metadata": {},
     "output_type": "execute_result"
    }
   ],
   "source": [
    "# CPU to GPU\n",
    "device = torch.device(\"cuda:0\" if torch.cuda.is_available() else \"cpu\")\n",
    "tensor_cpu.to(device)"
   ]
  },
  {
   "cell_type": "code",
   "execution_count": 37,
   "metadata": {
    "scrolled": false
   },
   "outputs": [
    {
     "data": {
      "text/plain": [
       "tensor([[1., 1.],\n",
       "        [1., 1.]], device='cuda:0')"
      ]
     },
     "execution_count": 37,
     "metadata": {},
     "output_type": "execute_result"
    }
   ],
   "source": [
    "device = torch.device(\"cuda:0\" if torch.cuda.is_available() else \"cpu\")\n",
    "tensor_cpu.to(device) # cpu to gpu\n",
    "tensor_cpu.cpu()      # gpu to cpu"
   ]
  },
  {
   "cell_type": "markdown",
   "metadata": {
    "colab_type": "text",
    "id": "7I11joMQFKfu"
   },
   "source": [
    "And if you want to move that tensor on the GPU back to the CPU, just do the following."
   ]
  },
  {
   "cell_type": "code",
   "execution_count": 0,
   "metadata": {
    "colab": {},
    "colab_type": "code",
    "id": "cTthnhBBFKfv",
    "outputId": "829fb052-bc0b-4413-f2e5-104a4b25a295"
   },
   "outputs": [
    {
     "data": {
      "text/plain": [
       "tensor([[1., 1.],\n",
       "        [1., 1.]])"
      ]
     },
     "execution_count": 36,
     "metadata": {
      "tags": []
     },
     "output_type": "execute_result"
    }
   ],
   "source": [
    "# GPU to CPU\n",
    "tensor_cpu.cpu()"
   ]
  },
  {
   "cell_type": "markdown",
   "metadata": {
    "colab_type": "text",
    "id": "VTI7CunLFKfy"
   },
   "source": [
    "- **More examples**"
   ]
  },
  {
   "cell_type": "code",
   "execution_count": 38,
   "metadata": {
    "colab": {},
    "colab_type": "code",
    "id": "BSnnEgeKFKfy"
   },
   "outputs": [],
   "source": [
    "x = torch.randn(2,4)"
   ]
  },
  {
   "cell_type": "code",
   "execution_count": 39,
   "metadata": {
    "colab": {},
    "colab_type": "code",
    "id": "ZgSk2xwJFKf0",
    "outputId": "086c0827-e91c-4144-8420-16e417fe162d"
   },
   "outputs": [
    {
     "name": "stdout",
     "output_type": "stream",
     "text": [
      "tensor([[-1.1788,  1.5684, -0.0845, -0.3986],\n",
      "        [ 1.4033,  1.8380,  0.2807,  0.5967]], device='cuda:0')\n",
      "tensor([[-1.1788,  1.5684, -0.0845, -0.3986],\n",
      "        [ 1.4033,  1.8380,  0.2807,  0.5967]], dtype=torch.float64)\n"
     ]
    }
   ],
   "source": [
    "if torch.cuda.is_available():\n",
    "    device = torch.device(\"cuda\")          # a CUDA device object\n",
    "    y = torch.ones_like(x, device=device)  # directly create a tensor on GPU\n",
    "    x = x.to(device)                       # or just use strings ``.to(\"cuda\")``\n",
    "    z = x + y\n",
    "    print(z)\n",
    "    print(z.to(\"cpu\", torch.double))       # ``.to`` can also change dtype together!"
   ]
  },
  {
   "cell_type": "markdown",
   "metadata": {
    "colab_type": "text",
    "id": "AVFxDy8DFKf3"
   },
   "source": [
    "### Tensor Operations"
   ]
  },
  {
   "cell_type": "markdown",
   "metadata": {
    "colab_type": "text",
    "id": "7Gf0TsNjFKf4"
   },
   "source": [
    "#### Resizing Tensor"
   ]
  },
  {
   "cell_type": "markdown",
   "metadata": {
    "colab_type": "text",
    "id": "8uiwCJCcFKf4"
   },
   "source": [
    "- **Creating a 2x2 tensor**"
   ]
  },
  {
   "cell_type": "code",
   "execution_count": 0,
   "metadata": {
    "colab": {},
    "colab_type": "code",
    "id": "A0LvyZwdFKf5",
    "outputId": "ff1e11f4-7bcb-4cd9-a655-14d88c50de94"
   },
   "outputs": [
    {
     "name": "stdout",
     "output_type": "stream",
     "text": [
      "tensor([[1., 1.],\n",
      "        [1., 1.]])\n"
     ]
    }
   ],
   "source": [
    "a = torch.ones(2, 2)\n",
    "print(a)"
   ]
  },
  {
   "cell_type": "markdown",
   "metadata": {
    "colab_type": "text",
    "id": "Y52miLCIFKf8"
   },
   "source": [
    "- **Getting size of tensor**"
   ]
  },
  {
   "cell_type": "code",
   "execution_count": 0,
   "metadata": {
    "colab": {},
    "colab_type": "code",
    "id": "vnDUzVY6FKf9",
    "outputId": "e6fe4ced-0164-4228-c099-3c3d748151e7"
   },
   "outputs": [
    {
     "name": "stdout",
     "output_type": "stream",
     "text": [
      "torch.Size([2, 2])\n"
     ]
    }
   ],
   "source": [
    "print(a.size())"
   ]
  },
  {
   "cell_type": "markdown",
   "metadata": {
    "colab_type": "text",
    "id": "zoscAaleFKf_"
   },
   "source": [
    "- **Resize tensor to 4x1**"
   ]
  },
  {
   "cell_type": "code",
   "execution_count": 0,
   "metadata": {
    "colab": {},
    "colab_type": "code",
    "id": "lNLtW1kcFKgA",
    "outputId": "298ec773-0f15-40c4-82e7-e090f7eaa77a"
   },
   "outputs": [
    {
     "data": {
      "text/plain": [
       "tensor([1., 1., 1., 1.])"
      ]
     },
     "execution_count": 41,
     "metadata": {
      "tags": []
     },
     "output_type": "execute_result"
    }
   ],
   "source": [
    "a.view(4)"
   ]
  },
  {
   "cell_type": "markdown",
   "metadata": {
    "colab_type": "text",
    "id": "yWZDKdmWFKgC"
   },
   "source": [
    "- **Get size of resized tensor**"
   ]
  },
  {
   "cell_type": "code",
   "execution_count": 0,
   "metadata": {
    "colab": {},
    "colab_type": "code",
    "id": "vvi5BK98FKgD",
    "outputId": "84158f40-0d9f-4f09-93e1-c08f66426421"
   },
   "outputs": [
    {
     "data": {
      "text/plain": [
       "torch.Size([4])"
      ]
     },
     "execution_count": 42,
     "metadata": {
      "tags": []
     },
     "output_type": "execute_result"
    }
   ],
   "source": [
    "a.view(4).size()"
   ]
  },
  {
   "cell_type": "markdown",
   "metadata": {
    "colab_type": "text",
    "id": "aKnRdnkEFKgF"
   },
   "source": [
    "#### Element-wise Addition"
   ]
  },
  {
   "cell_type": "markdown",
   "metadata": {
    "colab_type": "text",
    "id": "wrhzfNSEFKgF"
   },
   "source": [
    "- **Creating first 2x2 tensor**"
   ]
  },
  {
   "cell_type": "code",
   "execution_count": 48,
   "metadata": {
    "colab": {},
    "colab_type": "code",
    "id": "mLbbvLrPFKgG",
    "outputId": "b169ac8d-cbdd-4412-de3e-667b0449e055"
   },
   "outputs": [
    {
     "name": "stdout",
     "output_type": "stream",
     "text": [
      "tensor([[1., 1.],\n",
      "        [1., 1.]])\n"
     ]
    }
   ],
   "source": [
    "a = torch.ones(2, 2)\n",
    "print(a)"
   ]
  },
  {
   "cell_type": "markdown",
   "metadata": {
    "colab_type": "text",
    "id": "Y6FKLIVdFKgJ"
   },
   "source": [
    "- **Creating second 2x2 tensor**"
   ]
  },
  {
   "cell_type": "code",
   "execution_count": 49,
   "metadata": {
    "colab": {},
    "colab_type": "code",
    "id": "GcjhmXE3FKgJ",
    "outputId": "e169cc38-d00d-4d67-d547-5c9736d90a6d"
   },
   "outputs": [
    {
     "name": "stdout",
     "output_type": "stream",
     "text": [
      "tensor([[1., 1.],\n",
      "        [1., 1.]])\n"
     ]
    }
   ],
   "source": [
    "b = torch.ones(2, 2)\n",
    "print(b)"
   ]
  },
  {
   "cell_type": "markdown",
   "metadata": {
    "colab_type": "text",
    "id": "DmzK_jh5FKgM"
   },
   "source": [
    "- **Element-wise addition of 2 tensors**"
   ]
  },
  {
   "cell_type": "code",
   "execution_count": 0,
   "metadata": {
    "colab": {},
    "colab_type": "code",
    "id": "-NDYb1zrFKgM",
    "outputId": "d2a75e17-fbf6-479c-d1cc-93a180d76044"
   },
   "outputs": [
    {
     "name": "stdout",
     "output_type": "stream",
     "text": [
      "tensor([[2., 2.],\n",
      "        [2., 2.]])\n"
     ]
    }
   ],
   "source": [
    "# Element-wise addition\n",
    "c = a + b\n",
    "print(c)"
   ]
  },
  {
   "cell_type": "markdown",
   "metadata": {
    "colab_type": "text",
    "id": "6QOdOpAUFKgO"
   },
   "source": [
    "- **Alternative element-wise addition of 2 tensors**"
   ]
  },
  {
   "cell_type": "code",
   "execution_count": 0,
   "metadata": {
    "colab": {},
    "colab_type": "code",
    "id": "xGuOx7QoFKgP",
    "outputId": "80102c75-c982-4d1c-db9c-cf739203cb32"
   },
   "outputs": [
    {
     "name": "stdout",
     "output_type": "stream",
     "text": [
      "tensor([[2., 2.],\n",
      "        [2., 2.]])\n"
     ]
    }
   ],
   "source": [
    "# Element-wise addition\n",
    "c = torch.add(a, b)\n",
    "print(c)"
   ]
  },
  {
   "cell_type": "markdown",
   "metadata": {
    "colab_type": "text",
    "id": "IVndLpD8FKgR"
   },
   "source": [
    "- **In-place element-wise addition**\n",
    "\n",
    "This would replace the c tensor values with the new addition."
   ]
  },
  {
   "cell_type": "code",
   "execution_count": 0,
   "metadata": {
    "colab": {},
    "colab_type": "code",
    "id": "uviTWDX5FKgS",
    "outputId": "5270b419-7637-4960-a909-33284d6bfcdc"
   },
   "outputs": [
    {
     "name": "stdout",
     "output_type": "stream",
     "text": [
      "Old c tensor\n",
      "tensor([[2., 2.],\n",
      "        [2., 2.]])\n",
      "------------------------------------------------------------\n",
      "New c tensor\n",
      "tensor([[3., 3.],\n",
      "        [3., 3.]])\n"
     ]
    }
   ],
   "source": [
    "# In-place addition\n",
    "print('Old c tensor')\n",
    "print(c)\n",
    "\n",
    "c.add_(a) # replace c with c + a\n",
    "\n",
    "print('-'*60)\n",
    "print('New c tensor')\n",
    "print(c)"
   ]
  },
  {
   "cell_type": "markdown",
   "metadata": {
    "colab_type": "text",
    "id": "amV7bpl5FKgW"
   },
   "source": [
    "#### Element-wise Subtraction"
   ]
  },
  {
   "cell_type": "markdown",
   "metadata": {
    "colab_type": "text",
    "id": "HuveC5HuFKgW"
   },
   "source": [
    "- **Check values of tensor a and b'**\n",
    "\n",
    "Take note that you've created tensor a and b of sizes 2x2 filled with 1's each above."
   ]
  },
  {
   "cell_type": "code",
   "execution_count": 0,
   "metadata": {
    "colab": {},
    "colab_type": "code",
    "id": "z8Yb2OmtFKgZ",
    "outputId": "68c58489-6cc5-4d48-c426-f57f0c531ac1"
   },
   "outputs": [
    {
     "name": "stdout",
     "output_type": "stream",
     "text": [
      "tensor([[1., 1.],\n",
      "        [1., 1.]])\n",
      "tensor([[1., 1.],\n",
      "        [1., 1.]])\n"
     ]
    }
   ],
   "source": [
    "print(a)\n",
    "print(b)"
   ]
  },
  {
   "cell_type": "markdown",
   "metadata": {
    "colab_type": "text",
    "id": "UTb62M_UFKgb"
   },
   "source": [
    "- **Element-wise subtraction: method 1**"
   ]
  },
  {
   "cell_type": "code",
   "execution_count": 0,
   "metadata": {
    "colab": {},
    "colab_type": "code",
    "id": "P9w5x5AEFKgb",
    "outputId": "afd295fa-4db5-4e26-b12c-ba19e6b23934"
   },
   "outputs": [
    {
     "data": {
      "text/plain": [
       "tensor([[0., 0.],\n",
       "        [0., 0.]])"
      ]
     },
     "execution_count": 49,
     "metadata": {
      "tags": []
     },
     "output_type": "execute_result"
    }
   ],
   "source": [
    "a - b"
   ]
  },
  {
   "cell_type": "markdown",
   "metadata": {
    "colab_type": "text",
    "id": "hZLoY564FKgd"
   },
   "source": [
    "- **Element-wise subtraction: method 2**"
   ]
  },
  {
   "cell_type": "code",
   "execution_count": 0,
   "metadata": {
    "colab": {},
    "colab_type": "code",
    "id": "SJEZjZztFKge",
    "outputId": "5c9e9bab-8a55-4d48-eeef-fd9fb9b9bd25"
   },
   "outputs": [
    {
     "name": "stdout",
     "output_type": "stream",
     "text": [
      "tensor([[0., 0.],\n",
      "        [0., 0.]])\n",
      "tensor([[1., 1.],\n",
      "        [1., 1.]])\n"
     ]
    }
   ],
   "source": [
    "# Not in-place\n",
    "print(a.sub(b))\n",
    "print(a)"
   ]
  },
  {
   "cell_type": "markdown",
   "metadata": {
    "colab_type": "text",
    "id": "60FwtnUGFKgg"
   },
   "source": [
    "- **Element-wise subtraction: method 3**"
   ]
  },
  {
   "cell_type": "code",
   "execution_count": 0,
   "metadata": {
    "colab": {},
    "colab_type": "code",
    "id": "jS9x8CLOFKgh",
    "outputId": "b96e0d68-952d-4a74-c13d-11a912d31080"
   },
   "outputs": [
    {
     "name": "stdout",
     "output_type": "stream",
     "text": [
      "tensor([[0., 0.],\n",
      "        [0., 0.]])\n",
      "tensor([[0., 0.],\n",
      "        [0., 0.]])\n"
     ]
    }
   ],
   "source": [
    "# Inplace\n",
    "print(a.sub_(b))\n",
    "print(a)"
   ]
  },
  {
   "cell_type": "markdown",
   "metadata": {
    "colab_type": "text",
    "id": "bcsZK5pvFKgk"
   },
   "source": [
    "#### Element-Wise Multiplication"
   ]
  },
  {
   "cell_type": "markdown",
   "metadata": {
    "colab_type": "text",
    "id": "si9IvRsBFKgl"
   },
   "source": [
    "- **Create tensor a and b of sizes 2x2 filled with 1's and 0's**"
   ]
  },
  {
   "cell_type": "code",
   "execution_count": 54,
   "metadata": {
    "colab": {},
    "colab_type": "code",
    "id": "Ew6oSAgvFKgl",
    "outputId": "557933f2-597f-420a-ddd4-24a6c4fe1334"
   },
   "outputs": [
    {
     "name": "stdout",
     "output_type": "stream",
     "text": [
      "tensor([[1., 1.],\n",
      "        [1., 1.]])\n",
      "tensor([[2., 2.],\n",
      "        [2., 2.]])\n"
     ]
    }
   ],
   "source": [
    "a = torch.ones(2, 2)\n",
    "print(a)\n",
    "b = 2*torch.ones(2, 2)\n",
    "print(b)"
   ]
  },
  {
   "cell_type": "markdown",
   "metadata": {
    "colab_type": "text",
    "id": "2XiVGk1qFKgo"
   },
   "source": [
    "- **Element-wise multiplication: method 1**"
   ]
  },
  {
   "cell_type": "code",
   "execution_count": 55,
   "metadata": {
    "colab": {},
    "colab_type": "code",
    "id": "rKBOLgTvFKgo",
    "outputId": "681e95a9-0133-4734-9e5d-0cada96e1078"
   },
   "outputs": [
    {
     "data": {
      "text/plain": [
       "tensor([[2., 2.],\n",
       "        [2., 2.]])"
      ]
     },
     "execution_count": 55,
     "metadata": {},
     "output_type": "execute_result"
    }
   ],
   "source": [
    "a * b"
   ]
  },
  {
   "cell_type": "markdown",
   "metadata": {
    "colab_type": "text",
    "id": "uXzTbyIXFKgq"
   },
   "source": [
    "- **Element-wise multiplication: method 2**"
   ]
  },
  {
   "cell_type": "code",
   "execution_count": 56,
   "metadata": {
    "colab": {},
    "colab_type": "code",
    "id": "pywp_cX7FKgq",
    "outputId": "85e0629b-f12b-4b4f-e893-bb29425533d1"
   },
   "outputs": [
    {
     "name": "stdout",
     "output_type": "stream",
     "text": [
      "tensor([[2., 2.],\n",
      "        [2., 2.]])\n",
      "tensor([[1., 1.],\n",
      "        [1., 1.]])\n"
     ]
    }
   ],
   "source": [
    "# Not in-place\n",
    "print(torch.mul(a, b))\n",
    "print(a)"
   ]
  },
  {
   "cell_type": "markdown",
   "metadata": {
    "colab_type": "text",
    "id": "1WtBjy8KFKgs"
   },
   "source": [
    "- **Element-wise multiplication: method 3**"
   ]
  },
  {
   "cell_type": "code",
   "execution_count": 57,
   "metadata": {
    "colab": {},
    "colab_type": "code",
    "id": "PkEhw3qNFKgs",
    "outputId": "9608117c-52e6-4f90-cfcc-a680b3d7369b"
   },
   "outputs": [
    {
     "name": "stdout",
     "output_type": "stream",
     "text": [
      "tensor([[2., 2.],\n",
      "        [2., 2.]])\n",
      "tensor([[2., 2.],\n",
      "        [2., 2.]])\n"
     ]
    }
   ],
   "source": [
    "# In-place\n",
    "print(a.mul_(b))\n",
    "print(a)"
   ]
  },
  {
   "cell_type": "markdown",
   "metadata": {
    "colab_type": "text",
    "id": "yhhMMlZ5FKgt"
   },
   "source": [
    "#### Element-Wise Division"
   ]
  },
  {
   "cell_type": "markdown",
   "metadata": {
    "colab_type": "text",
    "id": "N8Vr-fvCFKgu"
   },
   "source": [
    "- **Create tensor a and b of sizes 2x2 filled with 1's and 0's**"
   ]
  },
  {
   "cell_type": "code",
   "execution_count": 58,
   "metadata": {
    "colab": {},
    "colab_type": "code",
    "id": "LvnUea8fFKgu",
    "outputId": "2e4391c8-ee75-41c3-997a-34427a3c22c7"
   },
   "outputs": [
    {
     "name": "stdout",
     "output_type": "stream",
     "text": [
      "tensor([[3., 3.],\n",
      "        [3., 3.]])\n",
      "tensor([[1., 1.],\n",
      "        [1., 1.]])\n"
     ]
    }
   ],
   "source": [
    "a = 3 * torch.ones(2, 2)\n",
    "print(a)\n",
    "b = torch.ones(2, 2)\n",
    "print(b)"
   ]
  },
  {
   "cell_type": "markdown",
   "metadata": {
    "colab_type": "text",
    "id": "uJITtst-FKgv"
   },
   "source": [
    "- **Element-wise division: method 1**"
   ]
  },
  {
   "cell_type": "code",
   "execution_count": 0,
   "metadata": {
    "colab": {},
    "colab_type": "code",
    "id": "zWj41sUVFKgw",
    "outputId": "86abd6ce-8584-4e9f-9702-9fd03e83d570"
   },
   "outputs": [
    {
     "data": {
      "text/plain": [
       "tensor([[0.3333, 0.3333],\n",
       "        [0.3333, 0.3333]])"
      ]
     },
     "execution_count": 57,
     "metadata": {
      "tags": []
     },
     "output_type": "execute_result"
    }
   ],
   "source": [
    "b / a"
   ]
  },
  {
   "cell_type": "code",
   "execution_count": 0,
   "metadata": {
    "colab": {},
    "colab_type": "code",
    "id": "yBhhcGNqFKgx",
    "outputId": "dc42da49-32d7-4e22-e58b-b0934c0cf40d"
   },
   "outputs": [
    {
     "name": "stdout",
     "output_type": "stream",
     "text": [
      "tensor([[3., 3.],\n",
      "        [3., 3.]])\n",
      "tensor([[1., 1.],\n",
      "        [1., 1.]])\n"
     ]
    }
   ],
   "source": [
    "print(a)\n",
    "print(b)"
   ]
  },
  {
   "cell_type": "markdown",
   "metadata": {
    "colab_type": "text",
    "id": "Nd8IMTJdFKgy"
   },
   "source": [
    "- **Element-wise division: method 2**"
   ]
  },
  {
   "cell_type": "code",
   "execution_count": 0,
   "metadata": {
    "colab": {},
    "colab_type": "code",
    "id": "vDQ_d_bGFKgz",
    "outputId": "e5fb3676-8bb2-4d08-ea20-7636a6c56337"
   },
   "outputs": [
    {
     "data": {
      "text/plain": [
       "tensor([[0.3333, 0.3333],\n",
       "        [0.3333, 0.3333]])"
      ]
     },
     "execution_count": 59,
     "metadata": {
      "tags": []
     },
     "output_type": "execute_result"
    }
   ],
   "source": [
    "torch.div(b, a)"
   ]
  },
  {
   "cell_type": "code",
   "execution_count": 0,
   "metadata": {
    "colab": {},
    "colab_type": "code",
    "id": "0PNacl53FKg0",
    "outputId": "bb4f07ba-bff0-4174-d732-ec41ddbf8faa"
   },
   "outputs": [
    {
     "name": "stdout",
     "output_type": "stream",
     "text": [
      "tensor([[3., 3.],\n",
      "        [3., 3.]])\n",
      "tensor([[1., 1.],\n",
      "        [1., 1.]])\n"
     ]
    }
   ],
   "source": [
    "print(a)\n",
    "print(b)"
   ]
  },
  {
   "cell_type": "markdown",
   "metadata": {
    "colab_type": "text",
    "id": "Tln7XRH5FKg2"
   },
   "source": [
    "- **Element-wise division: method 3**"
   ]
  },
  {
   "cell_type": "code",
   "execution_count": 0,
   "metadata": {
    "colab": {},
    "colab_type": "code",
    "id": "klh4Aj41FKg2",
    "outputId": "35a8fc63-344f-4f56-bbf4-42ac52b90f5f"
   },
   "outputs": [
    {
     "data": {
      "text/plain": [
       "tensor([[0.3333, 0.3333],\n",
       "        [0.3333, 0.3333]])"
      ]
     },
     "execution_count": 61,
     "metadata": {
      "tags": []
     },
     "output_type": "execute_result"
    }
   ],
   "source": [
    "# Inplace\n",
    "b.div_(a)"
   ]
  },
  {
   "cell_type": "code",
   "execution_count": 0,
   "metadata": {
    "colab": {},
    "colab_type": "code",
    "id": "WCSSBYVaFKg3",
    "outputId": "e4ce36cf-34d4-4bfc-e958-7be6beacc9d8"
   },
   "outputs": [
    {
     "name": "stdout",
     "output_type": "stream",
     "text": [
      "tensor([[3., 3.],\n",
      "        [3., 3.]])\n",
      "tensor([[0.3333, 0.3333],\n",
      "        [0.3333, 0.3333]])\n"
     ]
    }
   ],
   "source": [
    "print(a)\n",
    "print(b)"
   ]
  },
  {
   "cell_type": "markdown",
   "metadata": {
    "colab_type": "text",
    "id": "Bay_-n0GFKg5"
   },
   "source": [
    "#### Tensor Mean"
   ]
  },
  {
   "cell_type": "markdown",
   "metadata": {
    "colab_type": "text",
    "id": "wrIxFDU3FKg6"
   },
   "source": [
    "$$1 + 2 + 3 + 4 + 5 + 6 + 7 + 8 + 9 + 10 = 55$$\n",
    "\n",
    "$$ mean = 55 /10 = 5.5 $$\n"
   ]
  },
  {
   "cell_type": "markdown",
   "metadata": {
    "colab_type": "text",
    "id": "Xah9K3bTFKg8"
   },
   "source": [
    "- **Create tensor of size 10 filled from 1 to 10**"
   ]
  },
  {
   "cell_type": "code",
   "execution_count": 0,
   "metadata": {
    "colab": {},
    "colab_type": "code",
    "id": "rROUdfXlFKg8",
    "outputId": "5984d287-5133-4cb1-d322-43a1adb0cfac"
   },
   "outputs": [
    {
     "data": {
      "text/plain": [
       "torch.Size([10])"
      ]
     },
     "execution_count": 63,
     "metadata": {
      "tags": []
     },
     "output_type": "execute_result"
    }
   ],
   "source": [
    "a = torch.Tensor([1, 2, 3, 4, 5, 6, 7, 8, 9, 10])\n",
    "a.size()"
   ]
  },
  {
   "cell_type": "markdown",
   "metadata": {
    "colab_type": "text",
    "id": "eJSwLvAdFKg_"
   },
   "source": [
    "- **Get tensor mean**\n",
    "\n",
    "Here we get 5.5 as we've calculated manually above."
   ]
  },
  {
   "cell_type": "code",
   "execution_count": 0,
   "metadata": {
    "colab": {},
    "colab_type": "code",
    "id": "R8NTnv_NFKg_",
    "outputId": "2f45da08-6fe5-4cb7-c745-0018184d90ef"
   },
   "outputs": [
    {
     "data": {
      "text/plain": [
       "tensor(5.5000)"
      ]
     },
     "execution_count": 64,
     "metadata": {
      "tags": []
     },
     "output_type": "execute_result"
    }
   ],
   "source": [
    "a.mean(dim=0)"
   ]
  },
  {
   "cell_type": "markdown",
   "metadata": {
    "colab_type": "text",
    "id": "7UuP3IemFKhA"
   },
   "source": [
    "- **Get tensor mean on second dimension**\n",
    "\n",
    "Here we get an error because the tensor is of size 10 and not 10x1 so there's no second dimension to calculate."
   ]
  },
  {
   "cell_type": "code",
   "execution_count": 0,
   "metadata": {
    "colab": {},
    "colab_type": "code",
    "id": "bgmT-tJPFKhB",
    "outputId": "fa367126-eaea-4b7c-f2e5-faf270565e1d"
   },
   "outputs": [
    {
     "ename": "RuntimeError",
     "evalue": "Dimension out of range (expected to be in range of [-1, 0], but got 1)",
     "output_type": "error",
     "traceback": [
      "\u001b[0;31m---------------------------------------------------------------------------\u001b[0m",
      "\u001b[0;31mRuntimeError\u001b[0m                              Traceback (most recent call last)",
      "\u001b[0;32m<ipython-input-65-4c15dff00899>\u001b[0m in \u001b[0;36m<module>\u001b[0;34m()\u001b[0m\n\u001b[0;32m----> 1\u001b[0;31m \u001b[0ma\u001b[0m\u001b[0;34m.\u001b[0m\u001b[0mmean\u001b[0m\u001b[0;34m(\u001b[0m\u001b[0mdim\u001b[0m\u001b[0;34m=\u001b[0m\u001b[0;36m1\u001b[0m\u001b[0;34m)\u001b[0m\u001b[0;34m\u001b[0m\u001b[0;34m\u001b[0m\u001b[0m\n\u001b[0m",
      "\u001b[0;31mRuntimeError\u001b[0m: Dimension out of range (expected to be in range of [-1, 0], but got 1)"
     ]
    }
   ],
   "source": [
    "a.mean(dim=1)"
   ]
  },
  {
   "cell_type": "markdown",
   "metadata": {
    "colab_type": "text",
    "id": "4caxbUI9FKhC"
   },
   "source": [
    "- **Create a 2x10 Tensor, of 1-10 digits each**"
   ]
  },
  {
   "cell_type": "code",
   "execution_count": 68,
   "metadata": {
    "colab": {},
    "colab_type": "code",
    "id": "PwpD8VwYFKhC"
   },
   "outputs": [],
   "source": [
    "a = torch.Tensor([[1, 2, 3, 4, 5, 6, 7, 8, 9, 10], [1, 2, 3, 4, 5, 6, 7, 8, 9, 10]])"
   ]
  },
  {
   "cell_type": "code",
   "execution_count": 69,
   "metadata": {
    "colab": {},
    "colab_type": "code",
    "id": "4wa2JoOUFKhD",
    "outputId": "8c450422-5af1-41c5-c70e-02031035decf"
   },
   "outputs": [
    {
     "data": {
      "text/plain": [
       "torch.Size([2, 10])"
      ]
     },
     "execution_count": 69,
     "metadata": {},
     "output_type": "execute_result"
    }
   ],
   "source": [
    "a.size()"
   ]
  },
  {
   "cell_type": "markdown",
   "metadata": {
    "colab_type": "text",
    "id": "gLQGb8oZFKhF"
   },
   "source": [
    "- **Get tensor mean on second dimension**\n",
    "\n",
    "Here we won't get an error like previously because we've a tensor of size 2x10"
   ]
  },
  {
   "cell_type": "code",
   "execution_count": 70,
   "metadata": {
    "colab": {},
    "colab_type": "code",
    "id": "vRbnq-qLFKhG",
    "outputId": "f9e64029-666e-4537-b667-d7b5ea117ead"
   },
   "outputs": [
    {
     "data": {
      "text/plain": [
       "tensor([5.5000, 5.5000])"
      ]
     },
     "execution_count": 70,
     "metadata": {},
     "output_type": "execute_result"
    }
   ],
   "source": [
    "a.mean(dim=1) # row if 2-dim"
   ]
  },
  {
   "cell_type": "code",
   "execution_count": 71,
   "metadata": {},
   "outputs": [
    {
     "data": {
      "text/plain": [
       "tensor([ 1.,  2.,  3.,  4.,  5.,  6.,  7.,  8.,  9., 10.])"
      ]
     },
     "execution_count": 71,
     "metadata": {},
     "output_type": "execute_result"
    }
   ],
   "source": [
    "a.mean(dim=0) # col if 2-dim"
   ]
  },
  {
   "cell_type": "markdown",
   "metadata": {
    "colab_type": "text",
    "id": "yTsdl3XvFKhH"
   },
   "source": [
    "#### Tensor Standard Deviation"
   ]
  },
  {
   "cell_type": "markdown",
   "metadata": {
    "colab_type": "text",
    "id": "fY7LnoRVFKhI"
   },
   "source": [
    "- **Get standard deviation of tensor**"
   ]
  },
  {
   "cell_type": "code",
   "execution_count": 72,
   "metadata": {
    "colab": {},
    "colab_type": "code",
    "id": "_vBmD7X_FKhI",
    "outputId": "eb5285ea-64c7-4e7a-ceab-a7910ea4b56d"
   },
   "outputs": [
    {
     "data": {
      "text/plain": [
       "tensor(3.0277)"
      ]
     },
     "execution_count": 72,
     "metadata": {},
     "output_type": "execute_result"
    }
   ],
   "source": [
    "a = torch.Tensor([1, 2, 3, 4, 5, 6, 7, 8, 9, 10])\n",
    "a.std(dim=0)"
   ]
  },
  {
   "cell_type": "markdown",
   "metadata": {
    "colab_type": "text",
    "id": "JOjipo26FKhN"
   },
   "source": [
    "#### Broadcasting, Reshape, Repeat, Concatentate, Advanced Indexing"
   ]
  },
  {
   "cell_type": "markdown",
   "metadata": {
    "colab_type": "text",
    "id": "0Zpw5rHHFKhN"
   },
   "source": [
    "- **Initialize a random tensor**"
   ]
  },
  {
   "cell_type": "code",
   "execution_count": 73,
   "metadata": {
    "colab": {},
    "colab_type": "code",
    "id": "ehLm3f9YFKhO",
    "outputId": "b36019fe-deea-4f0e-c71d-39ff81420764"
   },
   "outputs": [
    {
     "data": {
      "text/plain": [
       "tensor([[5.1429e-39, 4.2246e-39, 1.0286e-38],\n",
       "        [1.0653e-38, 1.0194e-38, 8.4490e-39],\n",
       "        [1.0469e-38, 9.3674e-39, 9.9184e-39],\n",
       "        [8.7245e-39, 9.2755e-39, 8.9082e-39],\n",
       "        [9.9184e-39, 8.4490e-39, 9.6429e-39]])"
      ]
     },
     "execution_count": 73,
     "metadata": {},
     "output_type": "execute_result"
    }
   ],
   "source": [
    "torch.Tensor(5, 3)"
   ]
  },
  {
   "cell_type": "markdown",
   "metadata": {
    "colab_type": "text",
    "id": "03mbF1YQFKhP"
   },
   "source": [
    "- **From a uniform distribution**"
   ]
  },
  {
   "cell_type": "code",
   "execution_count": 74,
   "metadata": {
    "colab": {},
    "colab_type": "code",
    "id": "z5AVu8foFKhP",
    "outputId": "b310de51-70b3-4fda-d394-fd2dbd0a8371"
   },
   "outputs": [
    {
     "data": {
      "text/plain": [
       "tensor([[-0.5837,  0.8596,  0.4462],\n",
       "        [ 0.4847,  0.0526, -0.5127],\n",
       "        [ 0.1692, -0.9337, -0.7226],\n",
       "        [-0.5155,  0.6309,  0.5863],\n",
       "        [-0.4435, -0.0361,  0.6396]])"
      ]
     },
     "execution_count": 74,
     "metadata": {},
     "output_type": "execute_result"
    }
   ],
   "source": [
    "torch.Tensor(5, 3).uniform_(-1, 1)"
   ]
  },
  {
   "cell_type": "markdown",
   "metadata": {
    "colab_type": "text",
    "id": "IFf5f017FKhR"
   },
   "source": [
    "- **Get it's shape**"
   ]
  },
  {
   "cell_type": "code",
   "execution_count": 78,
   "metadata": {
    "colab": {},
    "colab_type": "code",
    "id": "7XA7ocWWFKhR"
   },
   "outputs": [],
   "source": [
    "x = torch.Tensor(5, 3).uniform_(-1, 1)"
   ]
  },
  {
   "cell_type": "code",
   "execution_count": 79,
   "metadata": {
    "colab": {},
    "colab_type": "code",
    "id": "ls3waKpCFKhS",
    "outputId": "9dd829f8-c74e-4399-b8b6-85a412a34594"
   },
   "outputs": [
    {
     "name": "stdout",
     "output_type": "stream",
     "text": [
      "torch.Size([5, 3])\n"
     ]
    }
   ],
   "source": [
    "print(x.size())"
   ]
  },
  {
   "cell_type": "markdown",
   "metadata": {
    "colab_type": "text",
    "id": "BRuXcbMJFKhU"
   },
   "source": [
    "- **Broadcasting**"
   ]
  },
  {
   "cell_type": "code",
   "execution_count": 77,
   "metadata": {
    "colab": {},
    "colab_type": "code",
    "id": "ipJim8lAFKhU",
    "outputId": "c44465ca-1467-4475-c4a0-1eacd07467e8"
   },
   "outputs": [
    {
     "name": "stdout",
     "output_type": "stream",
     "text": [
      "torch.Size([5, 3])\n",
      "tensor([[ 1.6518,  1.0546,  0.7928],\n",
      "        [ 1.6091,  0.3499,  1.1250],\n",
      "        [ 0.3564,  0.4386,  0.6151],\n",
      "        [-0.1930, -0.2433, -1.2378],\n",
      "        [-1.4682, -1.2213, -1.8965]])\n"
     ]
    }
   ],
   "source": [
    "print (x.size())\n",
    "y = x + torch.randn(5, 1)\n",
    "print(y)"
   ]
  },
  {
   "cell_type": "markdown",
   "metadata": {
    "colab_type": "text",
    "id": "KlV4_y2vFKhY"
   },
   "source": [
    "- **Reshape**"
   ]
  },
  {
   "cell_type": "code",
   "execution_count": 82,
   "metadata": {
    "colab": {},
    "colab_type": "code",
    "id": "XwKh8niEFKhY"
   },
   "outputs": [],
   "source": [
    "y = torch.randn(5, 10, 15)"
   ]
  },
  {
   "cell_type": "code",
   "execution_count": 0,
   "metadata": {
    "colab": {},
    "colab_type": "code",
    "id": "PrugCO_oFKhZ",
    "outputId": "a022165b-754f-41a6-e9d4-cfb57ab20c96"
   },
   "outputs": [
    {
     "name": "stdout",
     "output_type": "stream",
     "text": [
      "torch.Size([5, 10, 15])\n"
     ]
    }
   ],
   "source": [
    "print(y.size())"
   ]
  },
  {
   "cell_type": "code",
   "execution_count": 0,
   "metadata": {
    "colab": {},
    "colab_type": "code",
    "id": "YKy1TGRaFKha",
    "outputId": "6629220d-7767-406f-f733-58076d54b9a1"
   },
   "outputs": [
    {
     "name": "stdout",
     "output_type": "stream",
     "text": [
      "torch.Size([50, 15])\n"
     ]
    }
   ],
   "source": [
    "print(y.view(-1, 15).size())  # Same as doing y.view(50, 15)"
   ]
  },
  {
   "cell_type": "code",
   "execution_count": 0,
   "metadata": {
    "colab": {},
    "colab_type": "code",
    "id": "iqYZ8jGWFKhb",
    "outputId": "36fd3b0f-2d99-4923-8bf0-a7039da885c8"
   },
   "outputs": [
    {
     "name": "stdout",
     "output_type": "stream",
     "text": [
      "torch.Size([50, 1, 15])\n"
     ]
    }
   ],
   "source": [
    "print(y.view(-1, 15).unsqueeze(1).size()) # Adds a dimension at index 1."
   ]
  },
  {
   "cell_type": "code",
   "execution_count": 0,
   "metadata": {
    "colab": {},
    "colab_type": "code",
    "id": "ScBVNkKUFKhc",
    "outputId": "7e74903d-3a9c-430d-9102-d34dfe9a7930"
   },
   "outputs": [
    {
     "name": "stdout",
     "output_type": "stream",
     "text": [
      "torch.Size([50, 15])\n"
     ]
    }
   ],
   "source": [
    "print(y.view(-1, 15).unsqueeze(1).squeeze().size())\n",
    "# If input is of shape: (Ax1xBxCx1xD)(Ax1xBxCx1xD) then the out Tensor will be of shape: (AxBxCxD)(AxBxCxD)"
   ]
  },
  {
   "cell_type": "code",
   "execution_count": 0,
   "metadata": {
    "colab": {},
    "colab_type": "code",
    "id": "BLKAelutFKhe",
    "outputId": "d10aa45a-a23e-474c-f49e-b4c1a738bb1e"
   },
   "outputs": [
    {
     "name": "stdout",
     "output_type": "stream",
     "text": [
      "torch.Size([10, 5, 15])\n"
     ]
    }
   ],
   "source": [
    "print(y.transpose(0, 1).size())"
   ]
  },
  {
   "cell_type": "code",
   "execution_count": 0,
   "metadata": {
    "colab": {},
    "colab_type": "code",
    "id": "Bnp63ehSFKhf",
    "outputId": "9210d266-607f-4005-9f26-d0d389cdce13"
   },
   "outputs": [
    {
     "name": "stdout",
     "output_type": "stream",
     "text": [
      "torch.Size([5, 15, 10])\n"
     ]
    }
   ],
   "source": [
    "print(y.transpose(1, 2).size())"
   ]
  },
  {
   "cell_type": "code",
   "execution_count": 0,
   "metadata": {
    "colab": {},
    "colab_type": "code",
    "id": "whNBxv0xFKhi",
    "outputId": "614c079f-3f66-4117-878d-c7236cc23485"
   },
   "outputs": [
    {
     "name": "stdout",
     "output_type": "stream",
     "text": [
      "torch.Size([10, 15, 5])\n"
     ]
    }
   ],
   "source": [
    "print(y.transpose(0, 1).transpose(1, 2).size())"
   ]
  },
  {
   "cell_type": "code",
   "execution_count": 0,
   "metadata": {
    "colab": {},
    "colab_type": "code",
    "id": "MejG4SsBFKhk",
    "outputId": "24ce8d7e-6077-4eed-e068-2918fcadf16e"
   },
   "outputs": [
    {
     "name": "stdout",
     "output_type": "stream",
     "text": [
      "torch.Size([10, 15, 5])\n"
     ]
    }
   ],
   "source": [
    "print(y.permute(1, 2, 0).size())"
   ]
  },
  {
   "cell_type": "markdown",
   "metadata": {
    "colab_type": "text",
    "id": "oLAvAGJwFKhm"
   },
   "source": [
    "- **Repeat**"
   ]
  },
  {
   "cell_type": "code",
   "execution_count": 88,
   "metadata": {
    "colab": {},
    "colab_type": "code",
    "id": "qYI1eQT1FKhm",
    "outputId": "eb99c922-6e36-4bb0-a212-e38724337a95"
   },
   "outputs": [
    {
     "name": "stdout",
     "output_type": "stream",
     "text": [
      "torch.Size([50, 100, 15])\n"
     ]
    }
   ],
   "source": [
    "print(y.view(-1, 15).unsqueeze(1).expand(50, 100, 15).size())"
   ]
  },
  {
   "cell_type": "code",
   "execution_count": 0,
   "metadata": {
    "colab": {},
    "colab_type": "code",
    "id": "gMd0ka6UFKhn",
    "outputId": "d6a67983-e37d-4bb6-b908-7f8e0ccdbfa8"
   },
   "outputs": [
    {
     "name": "stdout",
     "output_type": "stream",
     "text": [
      "torch.Size([50, 100, 15])\n"
     ]
    }
   ],
   "source": [
    "print(y.view(-1, 15).unsqueeze(1).expand_as(torch.randn(50, 100, 15)).size())"
   ]
  },
  {
   "cell_type": "code",
   "execution_count": 92,
   "metadata": {
    "colab": {},
    "colab_type": "code",
    "id": "NycVmbt-FKhr"
   },
   "outputs": [],
   "source": [
    "y = torch.randn(1, 2, 3)"
   ]
  },
  {
   "cell_type": "code",
   "execution_count": 93,
   "metadata": {
    "colab": {},
    "colab_type": "code",
    "id": "QLFGs5XxFKhs",
    "outputId": "134f9d2d-31f8-4ff8-9b21-3a8b76ccd495"
   },
   "outputs": [
    {
     "data": {
      "text/plain": [
       "tensor([[[-0.6670,  1.3790, -0.6422],\n",
       "         [-1.1970,  0.1216,  0.5369]]])"
      ]
     },
     "execution_count": 93,
     "metadata": {},
     "output_type": "execute_result"
    }
   ],
   "source": [
    "y"
   ]
  },
  {
   "cell_type": "code",
   "execution_count": 94,
   "metadata": {
    "colab": {},
    "colab_type": "code",
    "id": "V9qr7zitFKht",
    "outputId": "11b84a70-70d8-4231-d2bb-f9b88840083b"
   },
   "outputs": [
    {
     "data": {
      "text/plain": [
       "torch.Size([1, 2, 3])"
      ]
     },
     "execution_count": 94,
     "metadata": {},
     "output_type": "execute_result"
    }
   ],
   "source": [
    "y.size()"
   ]
  },
  {
   "cell_type": "code",
   "execution_count": 95,
   "metadata": {
    "colab": {},
    "colab_type": "code",
    "id": "btgOGfTcFKhv"
   },
   "outputs": [],
   "source": [
    "y = y.view(-1, 2)"
   ]
  },
  {
   "cell_type": "code",
   "execution_count": 96,
   "metadata": {
    "colab": {},
    "colab_type": "code",
    "id": "uORuw1BJFKhw",
    "outputId": "bcd4057e-0b65-4a1d-8163-b47d05e8db7b"
   },
   "outputs": [
    {
     "data": {
      "text/plain": [
       "tensor([[-0.6670,  1.3790],\n",
       "        [-0.6422, -1.1970],\n",
       "        [ 0.1216,  0.5369]])"
      ]
     },
     "execution_count": 96,
     "metadata": {},
     "output_type": "execute_result"
    }
   ],
   "source": [
    "y"
   ]
  },
  {
   "cell_type": "code",
   "execution_count": 97,
   "metadata": {
    "colab": {},
    "colab_type": "code",
    "id": "N1GqVr4qFKhy",
    "outputId": "cf1828ba-abba-4079-eefc-333954fc44f9"
   },
   "outputs": [
    {
     "data": {
      "text/plain": [
       "torch.Size([3, 2])"
      ]
     },
     "execution_count": 97,
     "metadata": {},
     "output_type": "execute_result"
    }
   ],
   "source": [
    "y.size()"
   ]
  },
  {
   "cell_type": "code",
   "execution_count": 98,
   "metadata": {
    "colab": {},
    "colab_type": "code",
    "id": "VIbKeKFaFKh0"
   },
   "outputs": [],
   "source": [
    "y = y.unsqueeze(1)"
   ]
  },
  {
   "cell_type": "code",
   "execution_count": 99,
   "metadata": {
    "colab": {},
    "colab_type": "code",
    "id": "krM0FF4qFKh1",
    "outputId": "b7c221a8-00fb-4154-eccc-a3388c50a7be"
   },
   "outputs": [
    {
     "data": {
      "text/plain": [
       "tensor([[[-0.6670,  1.3790]],\n",
       "\n",
       "        [[-0.6422, -1.1970]],\n",
       "\n",
       "        [[ 0.1216,  0.5369]]])"
      ]
     },
     "execution_count": 99,
     "metadata": {},
     "output_type": "execute_result"
    }
   ],
   "source": [
    "y"
   ]
  },
  {
   "cell_type": "code",
   "execution_count": 100,
   "metadata": {
    "colab": {},
    "colab_type": "code",
    "id": "BuAXLGYuFKh2",
    "outputId": "845f0e9e-3e9d-4e66-d1e6-4033c9820c17"
   },
   "outputs": [
    {
     "data": {
      "text/plain": [
       "torch.Size([3, 1, 2])"
      ]
     },
     "execution_count": 100,
     "metadata": {},
     "output_type": "execute_result"
    }
   ],
   "source": [
    "y.size()"
   ]
  },
  {
   "cell_type": "code",
   "execution_count": 102,
   "metadata": {
    "colab": {},
    "colab_type": "code",
    "id": "kj8I_CB8FKh6"
   },
   "outputs": [],
   "source": [
    "y = y.expand(3,5,2)"
   ]
  },
  {
   "cell_type": "code",
   "execution_count": 103,
   "metadata": {
    "colab": {},
    "colab_type": "code",
    "id": "_WeCy6E0FKh7",
    "outputId": "d44ed393-d3d6-42a7-ff8d-18b7faa8f066"
   },
   "outputs": [
    {
     "data": {
      "text/plain": [
       "tensor([[[-0.6670,  1.3790],\n",
       "         [-0.6670,  1.3790],\n",
       "         [-0.6670,  1.3790],\n",
       "         [-0.6670,  1.3790],\n",
       "         [-0.6670,  1.3790]],\n",
       "\n",
       "        [[-0.6422, -1.1970],\n",
       "         [-0.6422, -1.1970],\n",
       "         [-0.6422, -1.1970],\n",
       "         [-0.6422, -1.1970],\n",
       "         [-0.6422, -1.1970]],\n",
       "\n",
       "        [[ 0.1216,  0.5369],\n",
       "         [ 0.1216,  0.5369],\n",
       "         [ 0.1216,  0.5369],\n",
       "         [ 0.1216,  0.5369],\n",
       "         [ 0.1216,  0.5369]]])"
      ]
     },
     "execution_count": 103,
     "metadata": {},
     "output_type": "execute_result"
    }
   ],
   "source": [
    "y"
   ]
  },
  {
   "cell_type": "code",
   "execution_count": 104,
   "metadata": {
    "colab": {},
    "colab_type": "code",
    "id": "Qm5vSGVwFKh8",
    "outputId": "441d28f9-7fe0-4e37-ecd8-7f34cd788e83"
   },
   "outputs": [
    {
     "data": {
      "text/plain": [
       "torch.Size([3, 5, 2])"
      ]
     },
     "execution_count": 104,
     "metadata": {},
     "output_type": "execute_result"
    }
   ],
   "source": [
    "y.size()"
   ]
  },
  {
   "cell_type": "markdown",
   "metadata": {
    "colab_type": "text",
    "id": "AvovhQoxFKh9"
   },
   "source": [
    "- **Concatenate**"
   ]
  },
  {
   "cell_type": "code",
   "execution_count": 112,
   "metadata": {
    "colab": {},
    "colab_type": "code",
    "id": "jQEkw8lRFKh9",
    "outputId": "f9d18628-1a57-49ad-ab9d-bf73a0f0207c"
   },
   "outputs": [
    {
     "name": "stdout",
     "output_type": "stream",
     "text": [
      "torch.Size([3, 5, 4])\n"
     ]
    }
   ],
   "source": [
    "# 2 is the dimension over which the tensors are concatenated\n",
    "print(torch.cat([y, y], 2).size())"
   ]
  },
  {
   "cell_type": "code",
   "execution_count": 116,
   "metadata": {
    "colab": {},
    "colab_type": "code",
    "id": "Eug5D3piFKh_",
    "outputId": "f809584e-d10c-415d-dadf-f999e923b5e0"
   },
   "outputs": [
    {
     "name": "stdout",
     "output_type": "stream",
     "text": [
      "torch.Size([3, 5, 2, 2])\n"
     ]
    }
   ],
   "source": [
    "# stack concatenates the sequence of tensors along a new dimension.\n",
    "print(torch.stack([y, y], 3).size())"
   ]
  },
  {
   "cell_type": "markdown",
   "metadata": {
    "colab_type": "text",
    "id": "z5lDAO8AFKiA"
   },
   "source": [
    "- **Advanced Indexing**"
   ]
  },
  {
   "cell_type": "code",
   "execution_count": 127,
   "metadata": {
    "colab": {},
    "colab_type": "code",
    "id": "PsAeGykrFKiA",
    "outputId": "58349674-5ad6-45e8-e21b-e5f84b7ccc44"
   },
   "outputs": [
    {
     "name": "stdout",
     "output_type": "stream",
     "text": [
      "tensor([[[-0.4588, -1.2930,  1.0784,  0.1164],\n",
      "         [ 0.2690, -1.8819, -0.5457, -0.7749],\n",
      "         [-0.6011,  1.2822,  1.1949, -0.6237]],\n",
      "\n",
      "        [[ 1.3919, -0.1986,  2.3296,  0.8224],\n",
      "         [ 0.6284, -0.5955,  0.7763, -0.1440],\n",
      "         [-0.1603,  1.2137, -0.3041, -0.3039]]])\n",
      "tensor([[[ 1.3919, -0.1986,  2.3296,  0.8224],\n",
      "         [ 0.6284, -0.5955,  0.7763, -0.1440],\n",
      "         [-0.1603,  1.2137, -0.3041, -0.3039]],\n",
      "\n",
      "        [[ 1.3919, -0.1986,  2.3296,  0.8224],\n",
      "         [ 0.6284, -0.5955,  0.7763, -0.1440],\n",
      "         [-0.1603,  1.2137, -0.3041, -0.3039]],\n",
      "\n",
      "        [[ 1.3919, -0.1986,  2.3296,  0.8224],\n",
      "         [ 0.6284, -0.5955,  0.7763, -0.1440],\n",
      "         [-0.1603,  1.2137, -0.3041, -0.3039]],\n",
      "\n",
      "        [[ 1.3919, -0.1986,  2.3296,  0.8224],\n",
      "         [ 0.6284, -0.5955,  0.7763, -0.1440],\n",
      "         [-0.1603,  1.2137, -0.3041, -0.3039]]])\n",
      "torch.Size([4, 3, 4])\n"
     ]
    }
   ],
   "source": [
    "y = torch.randn(2, 3, 4)\n",
    "print(y)\n",
    "print(y[[1, 1, 1, 1]]) # same with stacking\n",
    "print(y[[1, 0, 1, 1]].size())"
   ]
  },
  {
   "cell_type": "code",
   "execution_count": 128,
   "metadata": {
    "colab": {},
    "colab_type": "code",
    "id": "QuJAD7NyFKiB",
    "outputId": "42e08f8b-32f2-45cf-f810-0633ff7da255"
   },
   "outputs": [
    {
     "name": "stdout",
     "output_type": "stream",
     "text": [
      "torch.Size([2, 3, 4])\n"
     ]
    }
   ],
   "source": [
    "# PyTorch doesn't support negative strides yet so ::-1 does not work.\n",
    "rev_idx = torch.arange(1, -1, -1).long()\n",
    "print(y[rev_idx].size())"
   ]
  },
  {
   "cell_type": "markdown",
   "metadata": {
    "colab_type": "text",
    "id": "eFcVy8r6FKiD"
   },
   "source": [
    "## Summary\n",
    "We've learnt to...\n",
    "\n",
    "- Create Matrices\n",
    "- Create Matrices with Default Initialization Values\n",
    "    - Zeros \n",
    "    - Ones\n",
    "- Initialize Seeds for Reproducibility on GPU and CPU\n",
    "- Convert Matrices: NumPy to Torch and Torch to NumPy\n",
    "- Move Tensors: CPU to GPU and GPU to CPU\n",
    "- Run Important Tensor Operations\n",
    "    - Element-wise addition, subtraction, multiplication and division\n",
    "    - Resize\n",
    "    - Calculate mean \n",
    "    - Calculate standard deviation\n",
    "    - Broadcasting\n",
    "    - Reshape\n",
    "    - Repeat\n",
    "    - Concatentate\n",
    "    - Advanced Indexing"
   ]
  },
  {
   "cell_type": "markdown",
   "metadata": {
    "colab_type": "text",
    "id": "G_0L8rLQFKiD"
   },
   "source": [
    "# 2. Gradients with PyTorch \n",
    "\n",
    "## Tensors with Gradients\n",
    "\n",
    "\n",
    "### Creating Tensors with Gradients\n",
    "- Allows accumulation of gradients"
   ]
  },
  {
   "cell_type": "markdown",
   "metadata": {
    "colab_type": "text",
    "id": "hzd0_EywFKiD"
   },
   "source": [
    "- **Method 1: Create tensor with gradients**\n",
    "\n",
    "It is very similar to creating a tensor, all you need to do is to add an additional argument."
   ]
  },
  {
   "cell_type": "code",
   "execution_count": 133,
   "metadata": {
    "colab": {},
    "colab_type": "code",
    "id": "JN_ORsILFKiD"
   },
   "outputs": [],
   "source": [
    "a = torch.ones((2, 2), requires_grad=True)"
   ]
  },
  {
   "cell_type": "markdown",
   "metadata": {
    "colab_type": "text",
    "id": "QkAbQQARFKiE"
   },
   "source": [
    "- **Check if tensor requires gradients**\n",
    "\n",
    "This should return `True` otherwise you've not done it right."
   ]
  },
  {
   "cell_type": "code",
   "execution_count": 134,
   "metadata": {
    "colab": {},
    "colab_type": "code",
    "id": "0QO_wY55FKiE",
    "outputId": "13e15e89-b884-4085-fc0c-dc56fe446418"
   },
   "outputs": [
    {
     "name": "stdout",
     "output_type": "stream",
     "text": [
      "True\n"
     ]
    }
   ],
   "source": [
    "a.requires_grad"
   ]
  },
  {
   "cell_type": "markdown",
   "metadata": {
    "colab_type": "text",
    "id": "QqIuLNt6FKiF"
   },
   "source": [
    "- **Method 2: Create tensor with gradients**\n",
    "\n",
    "This allows you to create a tensor as usual then an additional line to allow it to accumulate gradients."
   ]
  },
  {
   "cell_type": "code",
   "execution_count": 0,
   "metadata": {
    "colab": {},
    "colab_type": "code",
    "id": "hqlqWTHvFKiG",
    "outputId": "95454a4d-ca58-43a3-f853-28e1dd48e643"
   },
   "outputs": [
    {
     "data": {
      "text/plain": [
       "True"
      ]
     },
     "execution_count": 104,
     "metadata": {
      "tags": []
     },
     "output_type": "execute_result"
    }
   ],
   "source": [
    "# Normal way of creating gradients\n",
    "a = torch.ones(2, 2)\n",
    "\n",
    "# Requires gradient\n",
    "a.requires_grad_()\n",
    "\n",
    "# Check if requires gradient\n",
    "a.requires_grad"
   ]
  },
  {
   "cell_type": "markdown",
   "metadata": {
    "colab_type": "text",
    "id": "bOxv3DWgFKiI"
   },
   "source": [
    "- **A tensor without gradients just for comparison**\n",
    "\n",
    "If you do not do either of the methods above, you'll realize you will get False for checking for gradients."
   ]
  },
  {
   "cell_type": "code",
   "execution_count": 0,
   "metadata": {
    "colab": {},
    "colab_type": "code",
    "id": "fS3QUuQbFKiI"
   },
   "outputs": [],
   "source": [
    "# Not a variable\n",
    "no_gradient = torch.ones(2, 2)"
   ]
  },
  {
   "cell_type": "code",
   "execution_count": 0,
   "metadata": {
    "colab": {},
    "colab_type": "code",
    "id": "dQjYVBEuFKiJ",
    "outputId": "503c5190-8088-4263-cc87-6513c1ef42af"
   },
   "outputs": [
    {
     "data": {
      "text/plain": [
       "False"
      ]
     },
     "execution_count": 106,
     "metadata": {
      "tags": []
     },
     "output_type": "execute_result"
    }
   ],
   "source": [
    "no_gradient.requires_grad"
   ]
  },
  {
   "cell_type": "markdown",
   "metadata": {
    "colab_type": "text",
    "id": "O-glsfUSFKiK"
   },
   "source": [
    "- **Tensor with gradients addition operation**"
   ]
  },
  {
   "cell_type": "code",
   "execution_count": 0,
   "metadata": {
    "colab": {},
    "colab_type": "code",
    "id": "3yxJ3UGIFKiK",
    "outputId": "8f20355f-dc3c-42ca-81d0-aa59542aa137"
   },
   "outputs": [
    {
     "name": "stdout",
     "output_type": "stream",
     "text": [
      "tensor([[2., 2.],\n",
      "        [2., 2.]], grad_fn=<AddBackward0>)\n",
      "tensor([[2., 2.],\n",
      "        [2., 2.]], grad_fn=<AddBackward0>)\n"
     ]
    }
   ],
   "source": [
    "# Behaves similarly to tensors\n",
    "b = torch.ones((2, 2), requires_grad=True)\n",
    "print(a + b)\n",
    "print(torch.add(a, b))"
   ]
  },
  {
   "cell_type": "markdown",
   "metadata": {
    "colab_type": "text",
    "id": "-zA2jNSxFKiM"
   },
   "source": [
    "- **Tensor with gradients multiplication operation**\n",
    "\n",
    "As usual, the operations we learnt previously for tensors apply for tensors with gradients. Feel free to try divisions, mean or standard deviation!"
   ]
  },
  {
   "cell_type": "code",
   "execution_count": 0,
   "metadata": {
    "colab": {},
    "colab_type": "code",
    "id": "PnHlK5-JFKiN",
    "outputId": "73e67c67-08b9-4f2f-b56c-e9c1f11eec44"
   },
   "outputs": [
    {
     "name": "stdout",
     "output_type": "stream",
     "text": [
      "tensor([[1., 1.],\n",
      "        [1., 1.]], grad_fn=<MulBackward0>)\n",
      "tensor([[1., 1.],\n",
      "        [1., 1.]], grad_fn=<MulBackward0>)\n"
     ]
    }
   ],
   "source": [
    "print(a * b)\n",
    "print(torch.mul(a, b))"
   ]
  },
  {
   "cell_type": "markdown",
   "metadata": {
    "colab_type": "text",
    "id": "31Y1KLICFKiO"
   },
   "source": [
    "### Creating Tensors with Gradients"
   ]
  },
  {
   "cell_type": "markdown",
   "metadata": {
    "colab_type": "text",
    "id": "Hwi3BXHsFKiP"
   },
   "source": [
    "> **What exactly is `requires_grad`?** \n",
    ">\n",
    "> Allows calculation of gradients w.r.t. the tensor that all allows gradients accumulation"
   ]
  },
  {
   "cell_type": "markdown",
   "metadata": {
    "colab_type": "text",
    "id": "fqQWYd5fFKiP"
   },
   "source": [
    "$$y_i = 5(x_i+1)^2$$"
   ]
  },
  {
   "cell_type": "markdown",
   "metadata": {
    "colab_type": "text",
    "id": "BuaLadcOFKiP"
   },
   "source": [
    "- **Create tensor of size 2x1 filled with 1's that requires gradient**"
   ]
  },
  {
   "cell_type": "code",
   "execution_count": 0,
   "metadata": {
    "colab": {},
    "colab_type": "code",
    "id": "O457NwVwFKiQ"
   },
   "outputs": [],
   "source": [
    "x = torch.ones(2, requires_grad=True)"
   ]
  },
  {
   "cell_type": "code",
   "execution_count": 0,
   "metadata": {
    "colab": {},
    "colab_type": "code",
    "id": "6SEqGwX9FKiQ",
    "outputId": "05c92b30-37b1-4da9-f46f-c46fa97a8eb0"
   },
   "outputs": [
    {
     "data": {
      "text/plain": [
       "tensor([1., 1.], requires_grad=True)"
      ]
     },
     "execution_count": 110,
     "metadata": {
      "tags": []
     },
     "output_type": "execute_result"
    }
   ],
   "source": [
    "x"
   ]
  },
  {
   "cell_type": "markdown",
   "metadata": {
    "colab_type": "text",
    "id": "-Up9k49uFKiR"
   },
   "source": [
    "- **Simple linear equation with x tensor created**"
   ]
  },
  {
   "cell_type": "markdown",
   "metadata": {
    "colab_type": "text",
    "id": "q2AmEJU_FKiR"
   },
   "source": [
    "$$y_i\\bigr\\rvert_{x_i=1} = 5(1 + 1)^2 = 5(2)^2 = 5(4) = 20$$\n",
    "\n",
    "We should get a value of 20 by replicating this simple equation"
   ]
  },
  {
   "cell_type": "code",
   "execution_count": 0,
   "metadata": {
    "colab": {},
    "colab_type": "code",
    "id": "LH5aVOaKFKiS"
   },
   "outputs": [],
   "source": [
    "y = 5 * (x + 1) ** 2"
   ]
  },
  {
   "cell_type": "code",
   "execution_count": 0,
   "metadata": {
    "colab": {},
    "colab_type": "code",
    "id": "OAakn7JnFKiS",
    "outputId": "adaa7e45-b0be-4acf-fca4-d64b6ab6f865"
   },
   "outputs": [
    {
     "data": {
      "text/plain": [
       "tensor([20., 20.], grad_fn=<MulBackward0>)"
      ]
     },
     "execution_count": 112,
     "metadata": {
      "tags": []
     },
     "output_type": "execute_result"
    }
   ],
   "source": [
    "y"
   ]
  },
  {
   "cell_type": "markdown",
   "metadata": {
    "colab_type": "text",
    "id": "TeuEUe-1FKiT"
   },
   "source": [
    "- **Simple equation with y tensor**\n",
    "\n",
    "Backward should be called only on a scalar (i.e. 1-element tensor) or with gradient w.r.t. the variable\n",
    "\n",
    "Let's reduce y to a scalar then...\n",
    "\n",
    "$$o = \\frac{1}{2}\\sum_i y_i$$\n",
    "\n",
    "As you can see above, we've a tensor filled with 20's, so average them would return 20"
   ]
  },
  {
   "cell_type": "code",
   "execution_count": 0,
   "metadata": {
    "colab": {},
    "colab_type": "code",
    "id": "p5EXh95-FKiU"
   },
   "outputs": [],
   "source": [
    "o = (1/2) * torch.sum(y)"
   ]
  },
  {
   "cell_type": "code",
   "execution_count": 0,
   "metadata": {
    "colab": {},
    "colab_type": "code",
    "id": "bZ4O1A11FKiU",
    "outputId": "689cabce-0af1-43b0-a622-0e20851cb270"
   },
   "outputs": [
    {
     "data": {
      "text/plain": [
       "tensor(20., grad_fn=<MulBackward0>)"
      ]
     },
     "execution_count": 114,
     "metadata": {
      "tags": []
     },
     "output_type": "execute_result"
    }
   ],
   "source": [
    "o"
   ]
  },
  {
   "cell_type": "markdown",
   "metadata": {
    "colab_type": "text",
    "id": "nrFmwf55FKiV"
   },
   "source": [
    "- **Calculating first derivative**"
   ]
  },
  {
   "cell_type": "markdown",
   "metadata": {
    "colab_type": "text",
    "id": "ji8oJ-NYFKiV"
   },
   "source": [
    "**Recap `y` equation**: $y_i = 5(x_i+1)^2$\n",
    "    \n",
    "**Recap `o` equation**: $o = \\frac{1}{2}\\sum_i y_i$\n",
    "    \n",
    "**Substitute `y` into `o` equation**: $o = \\frac{1}{2} \\sum_i 5(x_i+1)^2$\n",
    "    \n",
    "$$\\frac{\\partial o}{\\partial x_i} = \\frac{1}{2}[10(x_i+1)]$$\n",
    "    \n",
    "$$\\frac{\\partial o}{\\partial x_i}\\bigr\\rvert_{x_i=1} = \\frac{1}{2}[10(1 + 1)] = \\frac{10}{2}(2) = 10$$\n",
    "    \n",
    "\n",
    "We should expect to get 10, and it's so simple to do this with PyTorch with the following line...\n",
    "    \n",
    "Get first derivative:"
   ]
  },
  {
   "cell_type": "code",
   "execution_count": 0,
   "metadata": {
    "colab": {},
    "colab_type": "code",
    "id": "d_QGYMqUFKiW"
   },
   "outputs": [],
   "source": [
    "o.backward()"
   ]
  },
  {
   "cell_type": "markdown",
   "metadata": {
    "colab_type": "text",
    "id": "9t1t4r_kFKiW"
   },
   "source": [
    "Print out first derivative:"
   ]
  },
  {
   "cell_type": "code",
   "execution_count": 0,
   "metadata": {
    "colab": {},
    "colab_type": "code",
    "id": "nLsgplz6FKiX",
    "outputId": "01d389ab-e2a1-4a64-be64-62f1d86af703"
   },
   "outputs": [
    {
     "data": {
      "text/plain": [
       "tensor([10., 10.])"
      ]
     },
     "execution_count": 116,
     "metadata": {
      "tags": []
     },
     "output_type": "execute_result"
    }
   ],
   "source": [
    "x.grad"
   ]
  },
  {
   "cell_type": "markdown",
   "metadata": {
    "colab_type": "text",
    "id": "3LO6BMS_FKiX"
   },
   "source": [
    "- **If x requires gradient and you create new objects with it, you get all gradients**"
   ]
  },
  {
   "cell_type": "code",
   "execution_count": 0,
   "metadata": {
    "colab": {},
    "colab_type": "code",
    "id": "A0TgDH5bFKiZ",
    "outputId": "089e1a8c-133d-452d-b5bc-1aa45f7bca19"
   },
   "outputs": [
    {
     "name": "stdout",
     "output_type": "stream",
     "text": [
      "True\n",
      "True\n",
      "True\n"
     ]
    }
   ],
   "source": [
    "print(x.requires_grad)\n",
    "print(y.requires_grad)\n",
    "print(o.requires_grad)"
   ]
  },
  {
   "cell_type": "markdown",
   "metadata": {
    "colab_type": "text",
    "id": "r4E_ZOu7FKid"
   },
   "source": [
    "- **Stop autograd from tracking history on Tensors**\n",
    "\n",
    "You can also stop autograd from tracking history on Tensors with `.requires_grad=True` by wrapping the code block in `with torch.no_grad()`:"
   ]
  },
  {
   "cell_type": "code",
   "execution_count": 0,
   "metadata": {
    "colab": {},
    "colab_type": "code",
    "id": "xh5SnjS6FKid",
    "outputId": "3328966a-7bea-40df-eab2-10ca4bf06759"
   },
   "outputs": [
    {
     "name": "stdout",
     "output_type": "stream",
     "text": [
      "True\n",
      "True\n"
     ]
    }
   ],
   "source": [
    "print(x.requires_grad)\n",
    "print((x ** 2).requires_grad)"
   ]
  },
  {
   "cell_type": "code",
   "execution_count": 0,
   "metadata": {
    "colab": {},
    "colab_type": "code",
    "id": "3_exzm-2FKie",
    "outputId": "a31e4064-8c6a-45bc-f6a6-e8189e84b383"
   },
   "outputs": [
    {
     "name": "stdout",
     "output_type": "stream",
     "text": [
      "False\n"
     ]
    }
   ],
   "source": [
    "with torch.no_grad():\n",
    "    print((x ** 2).requires_grad)"
   ]
  },
  {
   "cell_type": "markdown",
   "metadata": {
    "colab_type": "text",
    "id": "ca90prtDFKif"
   },
   "source": [
    "## Summary\n",
    "We've learnt to...\n",
    "\n",
    "- Tensor with Gradients\n",
    "    - Wraps a tensor for gradient accumulation\n",
    "- Gradients\n",
    "    - Define original equation\n",
    "    - Substitute equation with `x` values\n",
    "    - Reduce to scalar output, `o` through `mean`\n",
    "    - Calculate gradients with `o.backward()`\n",
    "    - Then access gradients of the `x` tensor with `requires_grad` through `x.grad`"
   ]
  },
  {
   "cell_type": "markdown",
   "metadata": {
    "colab_type": "text",
    "id": "MgagWR7eFKif"
   },
   "source": [
    "### *References*\n",
    "[1] [DOI](https://zenodo.org/badge/139945544.svg)(https://zenodo.org/badge/latestdoi/139945544)\n",
    "\n",
    "[2] https://github.com/mila-udem/welcome_tutorials/tree/master/pytorch\n",
    "\n",
    "[3] https://pytorch.org/tutorials/beginner/blitz/tensor_tutorial.html#sphx-glr-beginner-blitz-tensor-tutorial-py\n",
    "\n",
    "[4] https://pytorch.org/tutorials/beginner/blitz/autograd_tutorial.html#sphx-glr-beginner-blitz-autograd-tutorial-py"
   ]
  },
  {
   "cell_type": "code",
   "execution_count": 0,
   "metadata": {
    "colab": {},
    "colab_type": "code",
    "id": "GmQoe0LCFKif"
   },
   "outputs": [],
   "source": []
  }
 ],
 "metadata": {
  "accelerator": "GPU",
  "colab": {
   "name": "EEE4423_lab1_pytorch_basics.ipynb",
   "provenance": [],
   "version": "0.3.2"
  },
  "kernelspec": {
   "display_name": "Python 3",
   "language": "python",
   "name": "python3"
  },
  "language_info": {
   "codemirror_mode": {
    "name": "ipython",
    "version": 3
   },
   "file_extension": ".py",
   "mimetype": "text/x-python",
   "name": "python",
   "nbconvert_exporter": "python",
   "pygments_lexer": "ipython3",
   "version": "3.7.3"
  }
 },
 "nbformat": 4,
 "nbformat_minor": 1
}
