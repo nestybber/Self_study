{
 "cells": [
  {
   "cell_type": "markdown",
   "metadata": {},
   "source": [
    "> ### EEE4423: Signal Processing Lab\n",
    "\n",
    "# LAB \\#2: Machine Learning Basics:\n",
    "## Linear Regression, Logistic Regression, Multi-Layer Perceptron"
   ]
  },
  {
   "cell_type": "code",
   "execution_count": 1,
   "metadata": {},
   "outputs": [
    {
     "name": "stdout",
     "output_type": "stream",
     "text": [
      "This code is written at 2019-01-08 14:37:42.332042\n"
     ]
    }
   ],
   "source": [
    "import datetime\n",
    "print(\"This code is written at \" + str(datetime.datetime.now()))"
   ]
  },
  {
   "cell_type": "markdown",
   "metadata": {},
   "source": [
    "# Linear Regression with PyTorch\n",
    "\n",
    "## 1. About Linear Regression\n",
    "\n",
    "\n",
    "### 1.1 Simple Linear Regression Basics\n",
    "- Allows us to understand **relationship** between two **continuous variables**\n",
    "- Example\n",
    "    - x: independent variable\n",
    "        - Weight\n",
    "    - y: dependent variable\n",
    "        - Height\n",
    "- $y=\\alpha x + \\beta$\n"
   ]
  },
  {
   "cell_type": "markdown",
   "metadata": {},
   "source": [
    "### 1.2 Example of simple linear regression"
   ]
  },
  {
   "cell_type": "markdown",
   "metadata": {},
   "source": [
    "**Create plot for simple linear regression**\n",
    "\n",
    "Take note that this code is not important at all. It simply creates random data points and does a simple best-fit line to best approximate the underlying function if one even exists."
   ]
  },
  {
   "cell_type": "code",
   "execution_count": 2,
   "metadata": {},
   "outputs": [],
   "source": [
    "import numpy as np\n",
    "import matplotlib.pyplot as plt\n",
    "%matplotlib inline"
   ]
  },
  {
   "cell_type": "code",
   "execution_count": 3,
   "metadata": {},
   "outputs": [],
   "source": [
    "# Creates 50 random x and y numbers\n",
    "np.random.seed(1)\n",
    "n = 50\n",
    "x = np.random.randn(n)\n",
    "y = x * np.random.randn(n)"
   ]
  },
  {
   "cell_type": "code",
   "execution_count": 4,
   "metadata": {},
   "outputs": [],
   "source": [
    "# Makes the dots colorful\n",
    "colors = np.random.rand(n)"
   ]
  },
  {
   "cell_type": "code",
   "execution_count": 5,
   "metadata": {},
   "outputs": [
    {
     "data": {
      "image/png": "[encoded data removed]",
      "text/plain": [
       "<Figure size 432x288 with 1 Axes>"
      ]
     },
     "metadata": {
      "needs_background": "light"
     },
     "output_type": "display_data"
    }
   ],
   "source": [
    "# Plots best-fit line via polyfit\n",
    "plt.plot(np.unique(x), np.poly1d(np.polyfit(x, y, 1))(np.unique(x)))\n",
    "\n",
    "# Plots the random x and y data points we created\n",
    "# Interestingly, alpha makes it more aesthetically pleasing\n",
    "plt.scatter(x, y, c=colors, alpha=0.5)\n",
    "plt.show()"
   ]
  },
  {
   "cell_type": "markdown",
   "metadata": {},
   "source": [
    "### 1.3 Aim of Linear Regression\n",
    "- Minimize the distance between the points and the line ($y = \\alpha x + \\beta$)\n",
    "- Adjusting\n",
    "    - Coefficient: $\\alpha$\n",
    "    - Bias/intercept: $\\beta$"
   ]
  },
  {
   "cell_type": "markdown",
   "metadata": {},
   "source": [
    "## 2. Building a Linear Regression Model with PyTorch\n",
    "\n",
    "### 2.1 Example\n",
    "- Coefficient: $\\alpha = 2$\n",
    "- Bias/intercept: $\\beta = 1$\n",
    "- Equation: $y = 2x + 1$\n",
    "\n",
    "### 2.2 Building a Toy Dataset"
   ]
  },
  {
   "cell_type": "markdown",
   "metadata": {},
   "source": [
    "**Create a list of values from 0 to 11**"
   ]
  },
  {
   "cell_type": "code",
   "execution_count": 2,
   "metadata": {},
   "outputs": [],
   "source": [
    "import numpy as np"
   ]
  },
  {
   "cell_type": "code",
   "execution_count": 4,
   "metadata": {},
   "outputs": [],
   "source": [
    "x_values = [i for i in range(11)]"
   ]
  },
  {
   "cell_type": "code",
   "execution_count": 5,
   "metadata": {},
   "outputs": [
    {
     "data": {
      "text/plain": [
       "[0, 1, 2, 3, 4, 5, 6, 7, 8, 9, 10]"
      ]
     },
     "execution_count": 5,
     "metadata": {},
     "output_type": "execute_result"
    }
   ],
   "source": [
    "x_values"
   ]
  },
  {
   "cell_type": "markdown",
   "metadata": {},
   "source": [
    "**Convert list of numbers to numpy array**"
   ]
  },
  {
   "cell_type": "code",
   "execution_count": 6,
   "metadata": {},
   "outputs": [
    {
     "data": {
      "text/plain": [
       "(11,)"
      ]
     },
     "execution_count": 6,
     "metadata": {},
     "output_type": "execute_result"
    }
   ],
   "source": [
    "# convert to numpy\n",
    "x_train = np.array(x_values, dtype=np.float32)\n",
    "x_train.shape"
   ]
  },
  {
   "cell_type": "markdown",
   "metadata": {},
   "source": [
    "**Convert to 2-dimensional array**\n",
    "\n",
    "If you don't this you will get an error stating you need 2D. Simply just reshape accordingly if you ever face such errors down the road."
   ]
  },
  {
   "cell_type": "code",
   "execution_count": 7,
   "metadata": {},
   "outputs": [
    {
     "data": {
      "text/plain": [
       "(11, 1)"
      ]
     },
     "execution_count": 7,
     "metadata": {},
     "output_type": "execute_result"
    }
   ],
   "source": [
    "# Important : 2-Dimension is required\n",
    "x_train = x_train.reshape(-1, 1)\n",
    "x_train.shape"
   ]
  },
  {
   "cell_type": "markdown",
   "metadata": {},
   "source": [
    "**Create list of y values**\n",
    "\n",
    "We want y values for every x value we have above. \n",
    "    \n",
    "$y = 2x + 1$"
   ]
  },
  {
   "cell_type": "code",
   "execution_count": 8,
   "metadata": {},
   "outputs": [],
   "source": [
    "y_values = [2*i+1 for i in x_values]"
   ]
  },
  {
   "cell_type": "code",
   "execution_count": 9,
   "metadata": {},
   "outputs": [
    {
     "data": {
      "text/plain": [
       "[1, 3, 5, 7, 9, 11, 13, 15, 17, 19, 21]"
      ]
     },
     "execution_count": 9,
     "metadata": {},
     "output_type": "execute_result"
    }
   ],
   "source": [
    "y_values"
   ]
  },
  {
   "cell_type": "markdown",
   "metadata": {},
   "source": [
    "**Convert to numpy array**\n",
    "\n",
    "You will slowly get a hang on how when you deal with PyTorch tensors, you just keep on making sure your raw data is in numpy form to make sure everything's good."
   ]
  },
  {
   "cell_type": "code",
   "execution_count": 10,
   "metadata": {},
   "outputs": [
    {
     "data": {
      "text/plain": [
       "(11,)"
      ]
     },
     "execution_count": 10,
     "metadata": {},
     "output_type": "execute_result"
    }
   ],
   "source": [
    "y_train = np.array(y_values, dtype=np.float32)\n",
    "y_train.shape"
   ]
  },
  {
   "cell_type": "markdown",
   "metadata": {},
   "source": [
    "**Reshape y numpy array to 2-dimension**"
   ]
  },
  {
   "cell_type": "code",
   "execution_count": 11,
   "metadata": {},
   "outputs": [
    {
     "data": {
      "text/plain": [
       "(11, 1)"
      ]
     },
     "execution_count": 11,
     "metadata": {},
     "output_type": "execute_result"
    }
   ],
   "source": [
    "y_train = y_train.reshape(-1, 1)\n",
    "y_train.shape"
   ]
  },
  {
   "cell_type": "markdown",
   "metadata": {},
   "source": [
    "### 2.3 Building Model"
   ]
  },
  {
   "cell_type": "markdown",
   "metadata": {},
   "source": [
    "**Critical Imports**"
   ]
  },
  {
   "cell_type": "code",
   "execution_count": 12,
   "metadata": {},
   "outputs": [],
   "source": [
    "import torch\n",
    "import torch.nn as nn"
   ]
  },
  {
   "cell_type": "markdown",
   "metadata": {},
   "source": [
    "**Create Model**\n",
    "\n",
    "1. Linear model\n",
    "    - True Equation: $y = 2x + 1$\n",
    "2. Forward\n",
    "    - Example\n",
    "        - Input $x = 1$\n",
    "        - Output $\\hat y = ?$"
   ]
  },
  {
   "cell_type": "code",
   "execution_count": 13,
   "metadata": {},
   "outputs": [],
   "source": [
    "# create class\n",
    "class LinearRegressionModel (nn.Module):\n",
    "    def __init__(self, input_dim, output_dim):\n",
    "        super(LinearRegressionModel, self).__init__()\n",
    "        self.linear = nn.Linear(input_dim, output_dim)\n",
    "        \n",
    "    def forward(self, x):\n",
    "        out = self.linear(x)\n",
    "        return out"
   ]
  },
  {
   "cell_type": "markdown",
   "metadata": {},
   "source": [
    "**Instantiate Model Class**\n",
    "\n",
    "- input: [0, 1, 2, 3, 4, 5, 6, 7, 8, 9, 10]\n",
    "- desired output: [1, 3, 5, 7, 9, 11, 13, 15, 17, 19, 21]"
   ]
  },
  {
   "cell_type": "code",
   "execution_count": 14,
   "metadata": {},
   "outputs": [],
   "source": [
    "input_dim = 1\n",
    "output_dim = 1\n",
    "model = LinearRegressionModel(input_dim, output_dim)"
   ]
  },
  {
   "cell_type": "markdown",
   "metadata": {},
   "source": [
    "**Instantiate Loss Class**\n",
    "- MSE Loss: Mean Squared Error\n",
    "- $MSE = \\frac{1}{n} \\sum_{i=1}^n(\\hat y_i - y_i)$\n",
    "    - $\\hat y$: prediction\n",
    "    - $y$: true value"
   ]
  },
  {
   "cell_type": "code",
   "execution_count": 15,
   "metadata": {},
   "outputs": [],
   "source": [
    "criterion = nn.MSELoss() # Mean Squared error"
   ]
  },
  {
   "cell_type": "markdown",
   "metadata": {},
   "source": [
    "**Instantiate Optimizer Class**\n",
    "\n",
    "- Simplified equation\n",
    "    - $\\theta = \\theta - \\eta \\cdot \\nabla_\\theta$\n",
    "        - $\\theta$: parameters (our variables)\n",
    "        - $\\eta$: learning rate (how fast we want to learn)\n",
    "        - $\\nabla_\\theta$: parameters' gradients\n",
    "- Even simplier equation\n",
    "    - `parameters = parameters - learning_rate * parameters_gradients`\n",
    "        - parameters: $\\alpha$ and $\\beta$ in $y = \\alpha x + \\beta$\n",
    "        - desired parameters: $\\alpha = 2$ and $\\beta = 1$ in $ y = 2x + 1$ "
   ]
  },
  {
   "cell_type": "code",
   "execution_count": 16,
   "metadata": {},
   "outputs": [],
   "source": [
    "learning_rate = 0.01\n",
    "optimizer = torch.optim.SGD(model.parameters(), lr=learning_rate)"
   ]
  },
  {
   "cell_type": "markdown",
   "metadata": {},
   "source": [
    "**Train Model**\n",
    "\n",
    "- 1 epoch: going through the whole x_train data once\n",
    "    - 100 epochs: \n",
    "        - 100x mapping `x_train = [0, 1, 2, 3, 4, 5, 6, 7, 8, 9, 10]`\n",
    "            \n",
    "- Process \n",
    "    1. Convert inputs/labels to tensors with gradients\n",
    "    2. Clear gradient buffets\n",
    "    3. Get output given inputs \n",
    "    4. Get loss\n",
    "    5. Get gradients w.r.t. parameters\n",
    "    6. Update parameters using gradients\n",
    "        - `parameters = parameters - learning_rate * parameters_gradients`\n",
    "    7. REPEAT"
   ]
  },
  {
   "cell_type": "code",
   "execution_count": 17,
   "metadata": {},
   "outputs": [],
   "source": [
    "epochs = 100"
   ]
  },
  {
   "cell_type": "code",
   "execution_count": 19,
   "metadata": {},
   "outputs": [
    {
     "name": "stdout",
     "output_type": "stream",
     "text": [
      "epoch 1, loss 142.97166442871094\n",
      "epoch 2, loss 11.741623878479004\n",
      "epoch 3, loss 1.0367070436477661\n",
      "epoch 4, loss 0.16265855729579926\n",
      "epoch 5, loss 0.09049323946237564\n",
      "epoch 6, loss 0.08374466747045517\n",
      "epoch 7, loss 0.08234144747257233\n",
      "epoch 8, loss 0.08138369023799896\n",
      "epoch 9, loss 0.08047176152467728\n",
      "epoch 10, loss 0.07957299798727036\n",
      "epoch 11, loss 0.07868427038192749\n",
      "epoch 12, loss 0.07780573517084122\n",
      "epoch 13, loss 0.07693682610988617\n",
      "epoch 14, loss 0.07607768476009369\n",
      "epoch 15, loss 0.07522815465927124\n",
      "epoch 16, loss 0.07438808679580688\n",
      "epoch 17, loss 0.07355744391679764\n",
      "epoch 18, loss 0.07273602485656738\n",
      "epoch 19, loss 0.07192382216453552\n",
      "epoch 20, loss 0.07112062722444534\n",
      "epoch 21, loss 0.07032637298107147\n",
      "epoch 22, loss 0.06954120099544525\n",
      "epoch 23, loss 0.06876461207866669\n",
      "epoch 24, loss 0.06799671798944473\n",
      "epoch 25, loss 0.06723742932081223\n",
      "epoch 26, loss 0.066486656665802\n",
      "epoch 27, loss 0.06574422121047974\n",
      "epoch 28, loss 0.06500998884439468\n",
      "epoch 29, loss 0.06428395956754684\n",
      "epoch 30, loss 0.06356614083051682\n",
      "epoch 31, loss 0.06285637617111206\n",
      "epoch 32, loss 0.06215430423617363\n",
      "epoch 33, loss 0.061460401862859726\n",
      "epoch 34, loss 0.06077399477362633\n",
      "epoch 35, loss 0.060095395892858505\n",
      "epoch 36, loss 0.05942424759268761\n",
      "epoch 37, loss 0.058760832995176315\n",
      "epoch 38, loss 0.058104634284973145\n",
      "epoch 39, loss 0.05745558813214302\n",
      "epoch 40, loss 0.05681411549448967\n",
      "epoch 41, loss 0.05617968365550041\n",
      "epoch 42, loss 0.05555226653814316\n",
      "epoch 43, loss 0.05493202060461044\n",
      "epoch 44, loss 0.05431864410638809\n",
      "epoch 45, loss 0.0537119060754776\n",
      "epoch 46, loss 0.05311219394207001\n",
      "epoch 47, loss 0.05251912772655487\n",
      "epoch 48, loss 0.05193266272544861\n",
      "epoch 49, loss 0.05135275796055794\n",
      "epoch 50, loss 0.05077926442027092\n",
      "epoch 51, loss 0.05021224543452263\n",
      "epoch 52, loss 0.049651507288217545\n",
      "epoch 53, loss 0.04909711703658104\n",
      "epoch 54, loss 0.04854869097471237\n",
      "epoch 55, loss 0.04800659790635109\n",
      "epoch 56, loss 0.04747060686349869\n",
      "epoch 57, loss 0.04694052040576935\n",
      "epoch 58, loss 0.046416327357292175\n",
      "epoch 59, loss 0.045897964388132095\n",
      "epoch 60, loss 0.045385368168354034\n",
      "epoch 61, loss 0.04487856477499008\n",
      "epoch 62, loss 0.044377539306879044\n",
      "epoch 63, loss 0.0438818633556366\n",
      "epoch 64, loss 0.043391939252614975\n",
      "epoch 65, loss 0.04290741682052612\n",
      "epoch 66, loss 0.042428236454725266\n",
      "epoch 67, loss 0.041954413056373596\n",
      "epoch 68, loss 0.04148593917489052\n",
      "epoch 69, loss 0.041022736579179764\n",
      "epoch 70, loss 0.04056454077363014\n",
      "epoch 71, loss 0.04011158272624016\n",
      "epoch 72, loss 0.03966366499662399\n",
      "epoch 73, loss 0.039220694452524185\n",
      "epoch 74, loss 0.03878280147910118\n",
      "epoch 75, loss 0.03834961727261543\n",
      "epoch 76, loss 0.0379214733839035\n",
      "epoch 77, loss 0.03749798610806465\n",
      "epoch 78, loss 0.03707929700613022\n",
      "epoch 79, loss 0.03666521608829498\n",
      "epoch 80, loss 0.03625572472810745\n",
      "epoch 81, loss 0.03585093840956688\n",
      "epoch 82, loss 0.0354505330324173\n",
      "epoch 83, loss 0.035054679960012436\n",
      "epoch 84, loss 0.034663207828998566\n",
      "epoch 85, loss 0.0342760905623436\n",
      "epoch 86, loss 0.0338933952152729\n",
      "epoch 87, loss 0.03351493179798126\n",
      "epoch 88, loss 0.03314060717821121\n",
      "epoch 89, loss 0.03277057781815529\n",
      "epoch 90, loss 0.03240462765097618\n",
      "epoch 91, loss 0.032042860984802246\n",
      "epoch 92, loss 0.0316849909722805\n",
      "epoch 93, loss 0.031331147998571396\n",
      "epoch 94, loss 0.03098127990961075\n",
      "epoch 95, loss 0.030635295435786247\n",
      "epoch 96, loss 0.030293220654129982\n",
      "epoch 97, loss 0.029954949393868446\n",
      "epoch 98, loss 0.029620392248034477\n",
      "epoch 99, loss 0.029289590194821358\n",
      "epoch 100, loss 0.028962621465325356\n"
     ]
    }
   ],
   "source": [
    "for epoch in range(epochs):\n",
    "    epoch += 1\n",
    "    # 1) convert numpy array to torch variable\n",
    "    inputs = torch.from_numpy(x_train)\n",
    "    labels = torch.from_numpy(y_train)\n",
    "    \n",
    "    # 2) clear gradients with respect to parameters of model\n",
    "    optimizer.zero_grad()\n",
    "    \n",
    "    # 3) forward to get output\n",
    "    outputs = model(inputs)\n",
    "    \n",
    "    # 4) calculate loss\n",
    "    loss = criterion(outputs, labels)\n",
    "    \n",
    "    # 5) getting gradients w.r.t. parameters\n",
    "    loss.backward()\n",
    "    \n",
    "    # 6) updating parameters\n",
    "    optimizer.step()\n",
    "    \n",
    "    print('epoch {}, loss {}'.format(epoch, loss.item()))"
   ]
  },
  {
   "cell_type": "markdown",
   "metadata": {},
   "source": [
    "**Looking at predicted values**"
   ]
  },
  {
   "cell_type": "code",
   "execution_count": 20,
   "metadata": {},
   "outputs": [],
   "source": [
    "# purely inference\n",
    "predicted = model(torch.from_numpy(x_train)).data.numpy()"
   ]
  },
  {
   "cell_type": "code",
   "execution_count": 21,
   "metadata": {},
   "outputs": [
    {
     "data": {
      "text/plain": [
       "array([[ 0.68342334],\n",
       "       [ 2.7290132 ],\n",
       "       [ 4.7746034 ],\n",
       "       [ 6.8201933 ],\n",
       "       [ 8.865783  ],\n",
       "       [10.911372  ],\n",
       "       [12.956963  ],\n",
       "       [15.002553  ],\n",
       "       [17.048143  ],\n",
       "       [19.093733  ],\n",
       "       [21.139322  ]], dtype=float32)"
      ]
     },
     "execution_count": 21,
     "metadata": {},
     "output_type": "execute_result"
    }
   ],
   "source": [
    "predicted"
   ]
  },
  {
   "cell_type": "markdown",
   "metadata": {},
   "source": [
    "**Looking at training values**\n",
    "\n",
    "These are the true values, you can see how it's able to predict similar values."
   ]
  },
  {
   "cell_type": "code",
   "execution_count": 22,
   "metadata": {},
   "outputs": [
    {
     "data": {
      "text/plain": [
       "array([[ 1.],\n",
       "       [ 3.],\n",
       "       [ 5.],\n",
       "       [ 7.],\n",
       "       [ 9.],\n",
       "       [11.],\n",
       "       [13.],\n",
       "       [15.],\n",
       "       [17.],\n",
       "       [19.],\n",
       "       [21.]], dtype=float32)"
      ]
     },
     "execution_count": 22,
     "metadata": {},
     "output_type": "execute_result"
    }
   ],
   "source": [
    "y_train"
   ]
  },
  {
   "cell_type": "markdown",
   "metadata": {},
   "source": [
    "**Plot of predicted and actual values**"
   ]
  },
  {
   "cell_type": "code",
   "execution_count": 26,
   "metadata": {},
   "outputs": [
    {
     "data": {
      "image/png": "[encoded data removed]",
      "text/plain": [
       "<Figure size 432x288 with 1 Axes>"
      ]
     },
     "metadata": {
      "needs_background": "light"
     },
     "output_type": "display_data"
    }
   ],
   "source": [
    "import matplotlib.pyplot as plt\n",
    "\n",
    "# 1) clear figure\n",
    "plt.clf()\n",
    "\n",
    "# 2) get predictions\n",
    "predicted = model(torch.from_numpy(x_train)).data.numpy()\n",
    "\n",
    "# 3) plot true data\n",
    "plt.plot(x_train, y_train, 'go', label='True data', alpha=0.5)\n",
    "\n",
    "# 4) plot predictions\n",
    "plt.plot(x_train, predicted, '--', label='Predictions', alpha=0.9)\n",
    "\n",
    "# 5) legend and plot\n",
    "plt.legend(loc='best')\n",
    "plt.show()"
   ]
  },
  {
   "cell_type": "markdown",
   "metadata": {},
   "source": [
    "**Save Model**"
   ]
  },
  {
   "cell_type": "code",
   "execution_count": 27,
   "metadata": {},
   "outputs": [
    {
     "name": "stdout",
     "output_type": "stream",
     "text": [
      "OrderedDict([('linear.weight', tensor([[2.0456]])), ('linear.bias', tensor([0.6834]))])\n"
     ]
    }
   ],
   "source": [
    "save_model = False\n",
    "if save_model is True:\n",
    "    torch.save(model.state_dict(), 'awesome_model.pkl')\n",
    "print(model.state_dict())"
   ]
  },
  {
   "cell_type": "markdown",
   "metadata": {},
   "source": [
    "**Load Model**"
   ]
  },
  {
   "cell_type": "code",
   "execution_count": 28,
   "metadata": {},
   "outputs": [],
   "source": [
    "load_model = False\n",
    "if load_model is True:\n",
    "    model.load_state_dict(torch.load('awesome_model.pkl'))"
   ]
  },
  {
   "cell_type": "markdown",
   "metadata": {},
   "source": [
    "## 3. Building a Linear Regression Model with PyTorch (GPU)"
   ]
  },
  {
   "cell_type": "markdown",
   "metadata": {},
   "source": [
    "**CPU Summary**"
   ]
  },
  {
   "cell_type": "code",
   "execution_count": 29,
   "metadata": {},
   "outputs": [
    {
     "name": "stdout",
     "output_type": "stream",
     "text": [
      "epoch 1, loss 279.8941650390625\n",
      "epoch 2, loss 22.88564109802246\n",
      "epoch 3, loss 1.9216471910476685\n",
      "epoch 4, loss 0.21106809377670288\n",
      "epoch 5, loss 0.0709347128868103\n",
      "epoch 6, loss 0.05890452116727829\n",
      "epoch 7, loss 0.057330235838890076\n",
      "epoch 8, loss 0.05661528930068016\n",
      "epoch 9, loss 0.05597678944468498\n",
      "epoch 10, loss 0.05535125732421875\n",
      "epoch 11, loss 0.054733145982027054\n",
      "epoch 12, loss 0.05412193015217781\n",
      "epoch 13, loss 0.053517647087574005\n",
      "epoch 14, loss 0.05292001739144325\n",
      "epoch 15, loss 0.05232904106378555\n",
      "epoch 16, loss 0.05174465477466583\n",
      "epoch 17, loss 0.051166828721761703\n",
      "epoch 18, loss 0.05059543251991272\n",
      "epoch 19, loss 0.050030581653118134\n",
      "epoch 20, loss 0.04947177320718765\n",
      "epoch 21, loss 0.04891926050186157\n",
      "epoch 22, loss 0.0483730286359787\n",
      "epoch 23, loss 0.047832902520895004\n",
      "epoch 24, loss 0.04729876294732094\n",
      "epoch 25, loss 0.04677053540945053\n",
      "epoch 26, loss 0.046248286962509155\n",
      "epoch 27, loss 0.04573185741901398\n",
      "epoch 28, loss 0.045221105217933655\n",
      "epoch 29, loss 0.04471616446971893\n",
      "epoch 30, loss 0.04421685263514519\n",
      "epoch 31, loss 0.04372313246130943\n",
      "epoch 32, loss 0.04323480278253555\n",
      "epoch 33, loss 0.04275200888514519\n",
      "epoch 34, loss 0.042274534702301025\n",
      "epoch 35, loss 0.041802506893873215\n",
      "epoch 36, loss 0.041335780173540115\n",
      "epoch 37, loss 0.04087422043085098\n",
      "epoch 38, loss 0.04041769728064537\n",
      "epoch 39, loss 0.03996635973453522\n",
      "epoch 40, loss 0.03952014818787575\n",
      "epoch 41, loss 0.0390787348151207\n",
      "epoch 42, loss 0.038642335683107376\n",
      "epoch 43, loss 0.038210779428482056\n",
      "epoch 44, loss 0.037784166634082794\n",
      "epoch 45, loss 0.03736225143074989\n",
      "epoch 46, loss 0.03694508224725723\n",
      "epoch 47, loss 0.03653242811560631\n",
      "epoch 48, loss 0.036124538630247116\n",
      "epoch 49, loss 0.03572116792201996\n",
      "epoch 50, loss 0.035322148352861404\n",
      "epoch 51, loss 0.034927792847156525\n",
      "epoch 52, loss 0.03453776240348816\n",
      "epoch 53, loss 0.03415203094482422\n",
      "epoch 54, loss 0.03377072140574455\n",
      "epoch 55, loss 0.03339352458715439\n",
      "epoch 56, loss 0.03302069380879402\n",
      "epoch 57, loss 0.03265203535556793\n",
      "epoch 58, loss 0.03228733688592911\n",
      "epoch 59, loss 0.031926851719617844\n",
      "epoch 60, loss 0.031570252031087875\n",
      "epoch 61, loss 0.031217748299241066\n",
      "epoch 62, loss 0.030869130045175552\n",
      "epoch 63, loss 0.030524449422955513\n",
      "epoch 64, loss 0.03018351085484028\n",
      "epoch 65, loss 0.029846476390957832\n",
      "epoch 66, loss 0.029513167217373848\n",
      "epoch 67, loss 0.029183587059378624\n",
      "epoch 68, loss 0.02885769121348858\n",
      "epoch 69, loss 0.028535418212413788\n",
      "epoch 70, loss 0.02821684256196022\n",
      "epoch 71, loss 0.02790166437625885\n",
      "epoch 72, loss 0.02759021334350109\n",
      "epoch 73, loss 0.027282051742076874\n",
      "epoch 74, loss 0.026977412402629852\n",
      "epoch 75, loss 0.026676127687096596\n",
      "epoch 76, loss 0.026378288865089417\n",
      "epoch 77, loss 0.026083771139383316\n",
      "epoch 78, loss 0.02579246088862419\n",
      "epoch 79, loss 0.02550434321165085\n",
      "epoch 80, loss 0.02521967515349388\n",
      "epoch 81, loss 0.024938007816672325\n",
      "epoch 82, loss 0.024659501388669014\n",
      "epoch 83, loss 0.024384090676903725\n",
      "epoch 84, loss 0.02411189116537571\n",
      "epoch 85, loss 0.023842554539442062\n",
      "epoch 86, loss 0.023576313629746437\n",
      "epoch 87, loss 0.023313092067837715\n",
      "epoch 88, loss 0.02305271103978157\n",
      "epoch 89, loss 0.022795312106609344\n",
      "epoch 90, loss 0.022540738806128502\n",
      "epoch 91, loss 0.02228899486362934\n",
      "epoch 92, loss 0.02204013429582119\n",
      "epoch 93, loss 0.021793970838189125\n",
      "epoch 94, loss 0.02155064046382904\n",
      "epoch 95, loss 0.02130994200706482\n",
      "epoch 96, loss 0.021072043105959892\n",
      "epoch 97, loss 0.020836738869547844\n",
      "epoch 98, loss 0.02060406468808651\n",
      "epoch 99, loss 0.020373934879899025\n",
      "epoch 100, loss 0.020146455615758896\n"
     ]
    }
   ],
   "source": [
    "import torch\n",
    "import torch.nn as nn\n",
    "\n",
    "'''\n",
    "STEP 1 : create model class\n",
    "'''\n",
    "class LinearRegressionModel(nn.Module):\n",
    "    def __init__(self, input_dim, output_dim):\n",
    "        super(LinearRegressionModel, self).__init__()\n",
    "        self.linear = nn.Linear(input_dim, output_dim)\n",
    "        \n",
    "    def forward(self, x):\n",
    "        output = self.linear(x)\n",
    "        return output\n",
    "    \n",
    "'''\n",
    "STEP 2 : instantiate model class\n",
    "'''\n",
    "input_dim = 1\n",
    "output_dim = 1\n",
    "model = LinearRegressionModel(input_dim, output_dim)\n",
    "\n",
    "'''\n",
    "STEP 3 : instantiate loss class\n",
    "'''\n",
    "criterion = nn.MSELoss()\n",
    "\n",
    "'''\n",
    "STEP 4 : instantiate optimizer class\n",
    "'''\n",
    "learning_rate = 0.01\n",
    "optimizer = torch.optim.SGD(model.parameters(), lr=learning_rate)\n",
    "\n",
    "'''\n",
    "STEP 5 : train the model\n",
    "'''\n",
    "epochs = 100\n",
    "for epoch in range(epochs):\n",
    "    epoch += 1\n",
    "    \n",
    "    # 1) convert numpy to torch variables\n",
    "    inputs = torch.from_numpy(x_train)\n",
    "    labels = torch.from_numpy(y_train)\n",
    "    \n",
    "    # 2) clear gradients w.r.t. parameters\n",
    "    optimizer.zero_grad()\n",
    "    \n",
    "    # 3) foward to get output\n",
    "    outputs = model(inputs)\n",
    "    \n",
    "    # 4) calculate loss\n",
    "    loss = criterion(outputs, labels)\n",
    "    \n",
    "    # 5) getting gradients w.r.t. parameters\n",
    "    loss.backward()\n",
    "    \n",
    "    # 6) updatino parameters\n",
    "    optimizer.step()\n",
    "    \n",
    "    print(\"epoch {0}, loss {1}\".format(epoch, loss.item()))"
   ]
  },
  {
   "cell_type": "markdown",
   "metadata": {},
   "source": [
    "**GPU Summary**\n",
    "\n",
    "- Just remember always 2 things must be on GPU\n",
    "    - `model`\n",
    "    - `tensors`"
   ]
  },
  {
   "cell_type": "code",
   "execution_count": 28,
   "metadata": {},
   "outputs": [
    {
     "name": "stdout",
     "output_type": "stream",
     "text": [
      "epoch 1, loss 161.7766571044922\n",
      "epoch 2, loss 13.696737289428711\n",
      "epoch 3, loss 1.6127339601516724\n",
      "epoch 4, loss 0.6215453147888184\n",
      "epoch 5, loss 0.5352253317832947\n",
      "epoch 6, loss 0.522773802280426\n",
      "epoch 7, loss 0.5164079666137695\n",
      "epoch 8, loss 0.5105983018875122\n",
      "epoch 9, loss 0.5048931837081909\n",
      "epoch 10, loss 0.49925491213798523\n",
      "epoch 11, loss 0.4936795234680176\n",
      "epoch 12, loss 0.48816683888435364\n",
      "epoch 13, loss 0.4827154278755188\n",
      "epoch 14, loss 0.47732487320899963\n",
      "epoch 15, loss 0.47199487686157227\n",
      "epoch 16, loss 0.4667241871356964\n",
      "epoch 17, loss 0.4615125358104706\n",
      "epoch 18, loss 0.45635873079299927\n",
      "epoch 19, loss 0.45126259326934814\n",
      "epoch 20, loss 0.4462234675884247\n",
      "epoch 21, loss 0.4412403404712677\n",
      "epoch 22, loss 0.4363134205341339\n",
      "epoch 23, loss 0.4314410388469696\n",
      "epoch 24, loss 0.42662313580513\n",
      "epoch 25, loss 0.4218592345714569\n",
      "epoch 26, loss 0.41714832186698914\n",
      "epoch 27, loss 0.41249018907546997\n",
      "epoch 28, loss 0.4078839421272278\n",
      "epoch 29, loss 0.40332919359207153\n",
      "epoch 30, loss 0.39882519841194153\n",
      "epoch 31, loss 0.3943716287612915\n",
      "epoch 32, loss 0.3899676501750946\n",
      "epoch 33, loss 0.38561293482780457\n",
      "epoch 34, loss 0.3813069462776184\n",
      "epoch 35, loss 0.3770488500595093\n",
      "epoch 36, loss 0.37283840775489807\n",
      "epoch 37, loss 0.36867496371269226\n",
      "epoch 38, loss 0.3645579516887665\n",
      "epoch 39, loss 0.3604871928691864\n",
      "epoch 40, loss 0.35646164417266846\n",
      "epoch 41, loss 0.3524811565876007\n",
      "epoch 42, loss 0.3485449552536011\n",
      "epoch 43, loss 0.34465277194976807\n",
      "epoch 44, loss 0.34080418944358826\n",
      "epoch 45, loss 0.33699849247932434\n",
      "epoch 46, loss 0.33323538303375244\n",
      "epoch 47, loss 0.32951420545578003\n",
      "epoch 48, loss 0.32583439350128174\n",
      "epoch 49, loss 0.3221959173679352\n",
      "epoch 50, loss 0.3185979425907135\n",
      "epoch 51, loss 0.3150402307510376\n",
      "epoch 52, loss 0.31152233481407166\n",
      "epoch 53, loss 0.308043509721756\n",
      "epoch 54, loss 0.3046036660671234\n",
      "epoch 55, loss 0.30120226740837097\n",
      "epoch 56, loss 0.29783865809440613\n",
      "epoch 57, loss 0.2945128083229065\n",
      "epoch 58, loss 0.29122394323349\n",
      "epoch 59, loss 0.2879718840122223\n",
      "epoch 60, loss 0.28475621342658997\n",
      "epoch 61, loss 0.28157636523246765\n",
      "epoch 62, loss 0.2784319818019867\n",
      "epoch 63, loss 0.2753227949142456\n",
      "epoch 64, loss 0.27224844694137573\n",
      "epoch 65, loss 0.26920825242996216\n",
      "epoch 66, loss 0.266201913356781\n",
      "epoch 67, loss 0.26322948932647705\n",
      "epoch 68, loss 0.2602900266647339\n",
      "epoch 69, loss 0.2573833167552948\n",
      "epoch 70, loss 0.25450918078422546\n",
      "epoch 71, loss 0.2516670227050781\n",
      "epoch 72, loss 0.24885667860507965\n",
      "epoch 73, loss 0.24607768654823303\n",
      "epoch 74, loss 0.2433299422264099\n",
      "epoch 75, loss 0.24061259627342224\n",
      "epoch 76, loss 0.23792578279972076\n",
      "epoch 77, loss 0.23526883125305176\n",
      "epoch 78, loss 0.2326417863368988\n",
      "epoch 79, loss 0.2300439327955246\n",
      "epoch 80, loss 0.22747498750686646\n",
      "epoch 81, loss 0.22493483126163483\n",
      "epoch 82, loss 0.22242306172847748\n",
      "epoch 83, loss 0.219939187169075\n",
      "epoch 84, loss 0.2174830585718155\n",
      "epoch 85, loss 0.21505451202392578\n",
      "epoch 86, loss 0.21265310049057007\n",
      "epoch 87, loss 0.2102784961462021\n",
      "epoch 88, loss 0.207930326461792\n",
      "epoch 89, loss 0.20560850203037262\n",
      "epoch 90, loss 0.20331233739852905\n",
      "epoch 91, loss 0.2010420262813568\n",
      "epoch 92, loss 0.19879692792892456\n",
      "epoch 93, loss 0.1965770125389099\n",
      "epoch 94, loss 0.19438184797763824\n",
      "epoch 95, loss 0.19221128523349762\n",
      "epoch 96, loss 0.19006481766700745\n",
      "epoch 97, loss 0.1879424899816513\n",
      "epoch 98, loss 0.18584385514259338\n",
      "epoch 99, loss 0.18376842141151428\n",
      "epoch 100, loss 0.18171626329421997\n"
     ]
    }
   ],
   "source": [
    "import torch\n",
    "import torch.nn as nn\n",
    "\n",
    "'''\n",
    "STEP 1 : create model class\n",
    "'''\n",
    "class LinearRegressionModel(nn.Module):\n",
    "    def __init__(self, input_dim, output_dim):\n",
    "        super(LinearRegressionModel, self).__init__()\n",
    "        self.linear = nn.Linear(input_dim, output_dim)\n",
    "        \n",
    "    def forward(self, x):\n",
    "        output = self.linear(x)\n",
    "        return output\n",
    "    \n",
    "'''\n",
    "STEP 2 : instantiate model class\n",
    "'''\n",
    "input_dim = 1\n",
    "output_dim = 1\n",
    "model = LinearRegressionModel(input_dim, output_dim)\n",
    "\n",
    "#######################\n",
    "#  USE GPU FOR MODEL  #\n",
    "#######################\n",
    "\n",
    "device = torch.device(\"cuda:0\" if torch.cuda.is_available() else \"cpu\")\n",
    "model.to(device)\n",
    "\n",
    "'''\n",
    "STEP 3 : instantiate loss class\n",
    "'''\n",
    "criterion = nn.MSELoss()\n",
    "\n",
    "'''\n",
    "STEP 4 : instantiate optimizer class\n",
    "'''\n",
    "learning_rate = 0.01\n",
    "optimizer = torch.optim.SGD(model.parameters(), lr=learning_rate)\n",
    "\n",
    "'''\n",
    "STEP 5 : train the model\n",
    "'''\n",
    "epochs = 100\n",
    "for epoch in range(epochs):\n",
    "    epoch += 1\n",
    "    \n",
    "    # 1) convert numpy to torch variables\n",
    "    \n",
    "    ########################\n",
    "    #  USE GPU FOR TENSOR  #\n",
    "    ########################\n",
    "    inputs = torch.from_numpy(x_train).to(device)\n",
    "    labels = torch.from_numpy(y_train).to(device)\n",
    "    \n",
    "    # 2) clear gradients w.r.t. parameters\n",
    "    optimizer.zero_grad()\n",
    "    \n",
    "    # 3) foward to get output\n",
    "    outputs = model(inputs)\n",
    "    \n",
    "    # 4) calculate loss\n",
    "    loss = criterion(outputs, labels)\n",
    "    \n",
    "    # 5) getting gradients w.r.t. parameters\n",
    "    loss.backward()\n",
    "    \n",
    "    # 6) updatino parameters\n",
    "    optimizer.step()\n",
    "    \n",
    "    print(\"epoch {0}, loss {1}\".format(epoch, loss.item()))"
   ]
  },
  {
   "cell_type": "markdown",
   "metadata": {},
   "source": [
    "## Summary\n",
    "\n",
    "We've learnt to...\n",
    "\n",
    "- Simple **linear regression basics**\n",
    "    - $y = Ax + B$\n",
    "    - $y = 2x + 1$\n",
    "- **Example** of simple linear regression\n",
    "- **Aim** of linear regression\n",
    "    - Minimizing distance between the points and the line\n",
    "        - Calculate \"distance\" through `MSE`\n",
    "        - Calculate `gradients`\n",
    "        - Update parameters with `parameters = parameters - learning_rate * gradients`\n",
    "        - Slowly update parameters $A$ and $B$ model the linear relationship between $y$ and $x$ of the form $y = 2x + 1$\n",
    "- Built a linear regression **model** in **CPU and GPU**\n",
    "    - Step 1: Create Model Class\n",
    "    - Step 2: Instantiate Model Class\n",
    "    - Step 3: Instantiate Loss Class\n",
    "    - Step 4: Instantiate Optimizer Class\n",
    "    - Step 5: Train Model\n",
    "- Important things to be on **GPU**\n",
    "    - `model`\n",
    "    - `tensors with gradients`\n",
    "- How to bring to **GPU**?\n",
    "    - `model_name.to(device)`  \n",
    "    - `variable_name.to(device)`"
   ]
  },
  {
   "cell_type": "markdown",
   "metadata": {},
   "source": [
    "# Logistic Regression with PyTorch\n",
    "## 1. About Logistic Regression"
   ]
  },
  {
   "cell_type": "markdown",
   "metadata": {},
   "source": [
    "### 1.1 Logistic Regression Basics\n",
    "\n",
    "#### Classification algorithm\n",
    "- Example: Spam vs No Spam\n",
    "    - Input: Bunch of words\n",
    "    - Output: Probability spam or not\n",
    "\n",
    "#### Basic Comparison\n",
    "- **Linear regression**\n",
    "    - Output: numeric value given inputs\n",
    "- **Logistic regression**:\n",
    "    - Output: probability [0, 1] given input belonging to a class\n",
    "    \n",
    "    \n",
    "#### Input/Output Comparison\n",
    "- **Linear regression: Multiplication**\n",
    "    - Input: [1]\n",
    "        - Output: 2\n",
    "    - Input: [2]\n",
    "        - Output: 4\n",
    "    - Trying to model the relationship `y = 2x`\n",
    "- **Logistic regression: Spam**\n",
    "    - Input: \"Sign up to get 1 million dollars by tonight\"\n",
    "        - Output: p = 0.8\n",
    "    - Input: \"This is a receipt for your recent purchase with Amazon\"\n",
    "        - Output: p = 0.3\n",
    "    - **p: probability it is spam**\n",
    "        \n",
    "            "
   ]
  },
  {
   "cell_type": "markdown",
   "metadata": {},
   "source": [
    "### 1.2 Problems of Linear Regression\n",
    "- Example\n",
    "    - Fever\n",
    "    - **Input**: temperature\n",
    "    - **Output**: fever or no fever\n",
    "- Remember\n",
    "    - **Linear regression**: minimize error between points and line"
   ]
  },
  {
   "cell_type": "markdown",
   "metadata": {},
   "source": [
    "**Linear Regression Problem 1: Fever value can go negative (below 0) and positive (above 1)**\n",
    "\n",
    "If you simply tried to do a simple linear regression on this fever problem, you would realize an apparent error. Fever can go beyond 1 and below 0 which does not make sense in this context."
   ]
  },
  {
   "cell_type": "code",
   "execution_count": 3,
   "metadata": {},
   "outputs": [
    {
     "data": {
      "image/png": "[encoded data removed]",
      "text/plain": [
       "<Figure size 432x288 with 1 Axes>"
      ]
     },
     "metadata": {
      "needs_background": "light"
     },
     "output_type": "display_data"
    }
   ],
   "source": [
    "import numpy as np\n",
    "import matplotlib.pyplot as plt\n",
    "%matplotlib inline \n",
    "\n",
    "x = [1, 5, 10, 10, 25, 50, 70, 75, 100,]\n",
    "y = [0, 0, 0, 0, 0, 1, 1, 1, 1]\n",
    "\n",
    "colors = np.random.rand(len(x))\n",
    "plt.plot(np.unique(x), np.poly1d(np.polyfit(x, y, 1))(np.unique(x)))\n",
    "plt.ylabel(\"Fever\")\n",
    "plt.xlabel(\"Temperature\")\n",
    "\n",
    "plt.scatter(x, y, c=colors, alpha=0.5)\n",
    "plt.show()"
   ]
  },
  {
   "cell_type": "markdown",
   "metadata": {},
   "source": [
    "**Linear Regression Problem 2: Fever points are not predicted with the presence of outliers**\n",
    "    \n",
    "Previously at least some points could be properly predicted. However, with the presence of outliers, everything goes wonky for simple linear regression, having no predictive capacity at all.    "
   ]
  },
  {
   "cell_type": "code",
   "execution_count": 4,
   "metadata": {},
   "outputs": [
    {
     "data": {
      "image/png": "[encoded data removed]",
      "text/plain": [
       "<Figure size 432x288 with 1 Axes>"
      ]
     },
     "metadata": {
      "needs_background": "light"
     },
     "output_type": "display_data"
    }
   ],
   "source": [
    "import numpy as np\n",
    "import matplotlib.pyplot as plt\n",
    "\n",
    "x = [1, 5, 10, 10, 25, 50, 70, 75, 300]\n",
    "y = [0, 0, 0, 0, 0, 1, 1, 1, 1]\n",
    "\n",
    "colors = np.random.rand(len(x))\n",
    "plt.plot(np.unique(x), np.poly1d(np.polyfit(x, y, 1))(np.unique(x)))\n",
    "plt.ylabel(\"Fever\")\n",
    "plt.xlabel(\"Temperature\")\n",
    "\n",
    "plt.scatter(x, y, c=colors, alpha=0.5)\n",
    "plt.show()"
   ]
  },
  {
   "cell_type": "markdown",
   "metadata": {},
   "source": [
    "### 1.3 Logistic Regression In-Depth\n",
    "\n",
    "#### Predicting Probability\n",
    "- Linear regression doesn't work\n",
    "- Instead of predicting direct values: **predict probability**\n",
    "- cross-entropy loss\n",
    "\n",
    "#### Logistic Function g()\n",
    "- **\"Two-class logistic regression\"**\n",
    "- $\\boldsymbol{y} = A\\boldsymbol{x} + \\boldsymbol{b}$\n",
    "    - Where $\\boldsymbol{y}$ is a vector comprising the 2-class prediction $y_0$ and $y_1$\n",
    "    - Where the labels are $y_0 = 0$  and $y_1 = 1$\n",
    "    - Also, it's bolded because it's a vector, not a matrix.\n",
    "- $g(y_1) = \\frac {1} {1 + e^{-y_1}}$\n",
    "    - $g(y_1)$ = Estimated probability that $y = 1$\n",
    "- $g(y_0) = 1 - g(y_1)$\n",
    "    - $g(y_0)$ = Estimated probability that $y = 0$\n",
    "- For our illustration above, we have 4 classes, so we have to use softmax function explained below\n",
    "\n",
    "#### Softmax Function g()\n",
    "- **\"Multi-class logistic regression\"**\n",
    "    - Generalization of logistic function, where you can derive back to the logistic function if you've a 2 class classification problem\n",
    "    - Here, we will use a 4 class example (K = 4) as shown above to be very clear in how it relates back to that simple examaple.\n",
    "- $\\boldsymbol{y} = A\\boldsymbol{x} + \\boldsymbol{b}$\n",
    "    - Where $\\boldsymbol{y}$ is a vector comprising the 4-class prediction $y_0, y_1, y_2, y_3$\n",
    "    - Where the 4 labels (K = 4) are $y_0 = 0, y_1 = 1, y_2 = 2, y_3 = 3$\n",
    "- $g(y_i) = \\frac {e^{y_i} } {\\sum^K_i e^{y_i}}$ where K = 4 because we have 4 classes\n",
    "    - To put numbers to this equation in relation to the illustration above where we've $y_0 = 1.3, y_1 = 1.2, y = 4.5, y = 4.8$\n",
    "        - $g(y_0) = \\frac {e^{1.3}}{e^{1.3} + e^{1.2} + e^{4.5} + e^{4.8}} = 0.017$\n",
    "        - $g(y_1) = \\frac {e^{1.2}}{e^{1.3} + e^{1.2} + e^{4.5} + e^{4.8}} = 0.015$\n",
    "        - $g(y_2) = \\frac {e^{4.5}}{e^{1.3} + e^{1.2} + e^{4.5} + e^{4.8}} = 0.412$\n",
    "        - $g(y_3) = \\frac {e^{4.8}}{e^{1.3} + e^{1.2} + e^{4.5} + e^{4.8}} = 0.556$\n",
    "        - $g(y_0) + g(y_1) + g(y_2) + g(y_3) = 1.0$\n",
    "        - All softmax outputs have to sum to one as they represent a probability distribution over K classes. \n",
    "- Take note how these numbers are not exactly as in the illustration in the softmax box but the concept is important (intentionally made so).\n",
    "    - $y_0$ and $y_1$ are approximately similar in values and they return similar probabilities.\n",
    "    - Similarly, $y_2$ and $y_3$ are approximately similar in values and they return similar probabilities."
   ]
  },
  {
   "cell_type": "markdown",
   "metadata": {},
   "source": [
    "#### Cross Entropy Function D() for 2 Class\n",
    "- Take note that here, $S$ is our softmax outputs and $L$ are our labels\n",
    "- $D(S, L) = -(L log S + (1-L)log(1-S))$\n",
    "    - If L = 0 (label)\n",
    "        - $D(S, 0) = - log(1-S)$\n",
    "            - $- log(1-S)$: less positive if $S \\longrightarrow 0$\n",
    "            - $- log(1-S)$: more positive if $S \\longrightarrow 1$ (BIGGER LOSS)\n",
    "    - If L = 1 (label)\n",
    "        - $D(S, 1) = - log S$\n",
    "            - $-log(S)$: less positive if $S \\longrightarrow 1$\n",
    "            - $-log(S)$: more positive if $S \\longrightarrow 0$ (BIGGER LOSS)"
   ]
  },
  {
   "cell_type": "markdown",
   "metadata": {},
   "source": [
    "**Numerical example of bigger or small loss**\n",
    "\n",
    "You get a small error of 1e-5 if your label = 0 and your S is closer to 0 (very correct prediction)."
   ]
  },
  {
   "cell_type": "code",
   "execution_count": 5,
   "metadata": {},
   "outputs": [
    {
     "name": "stdout",
     "output_type": "stream",
     "text": [
      "1.0000050000287824e-05\n"
     ]
    }
   ],
   "source": [
    "import math\n",
    "print(-math.log(1 - 0.00001))"
   ]
  },
  {
   "cell_type": "markdown",
   "metadata": {},
   "source": [
    "You get a large error of 11.51 if your label is 0 and S is near to 1 (very wrong prediction)."
   ]
  },
  {
   "cell_type": "code",
   "execution_count": 6,
   "metadata": {},
   "outputs": [
    {
     "name": "stdout",
     "output_type": "stream",
     "text": [
      "11.51292546497478\n"
     ]
    }
   ],
   "source": [
    "print(-math.log(1 - 0.99999))"
   ]
  },
  {
   "cell_type": "markdown",
   "metadata": {},
   "source": [
    "You get a small error of 1e-5 if your label is 1 and S is near 1 (very correct prediction)."
   ]
  },
  {
   "cell_type": "code",
   "execution_count": 7,
   "metadata": {},
   "outputs": [
    {
     "name": "stdout",
     "output_type": "stream",
     "text": [
      "1.0000050000287824e-05\n"
     ]
    }
   ],
   "source": [
    "print(-math.log(0.99999))"
   ]
  },
  {
   "cell_type": "markdown",
   "metadata": {},
   "source": [
    "You get a big error of 11.51 if your label is 1 and S is near 0 (very wrong prediction)."
   ]
  },
  {
   "cell_type": "code",
   "execution_count": 8,
   "metadata": {},
   "outputs": [
    {
     "name": "stdout",
     "output_type": "stream",
     "text": [
      "11.512925464970229\n"
     ]
    }
   ],
   "source": [
    "print(-math.log(0.00001))"
   ]
  },
  {
   "cell_type": "markdown",
   "metadata": {},
   "source": [
    "#### Cross Entropy Function D() for More Than 2 Class\n",
    "- For the case where we have more than 2 class, we need a more generalized function\n",
    "- $D(S, L) = - \\sum^K_1 L_i log(S_i)$\n",
    "    - $K$: number of classes\n",
    "    - $L_i$: label of i-th class, 1 if that's the class else 0\n",
    "    - $S_i$: output of softmax for i-th class\n",
    "\n",
    "#### Cross Entropy Loss over N samples\n",
    "- Goal: Minimizing Cross Entropy Loss, L\n",
    "- $Loss = \\frac {1}{N} \\sum_j^N D_j$\n",
    "    - $D_j$: j-th sample of cross entropy function $D(S, L)$\n",
    "    - $N$: number of samples\n",
    "    - $Loss$: average cross entropy loss over N samples"
   ]
  },
  {
   "cell_type": "markdown",
   "metadata": {},
   "source": [
    "## 2. Building a Logistic Regression Model with PyTorch"
   ]
  },
  {
   "cell_type": "markdown",
   "metadata": {},
   "source": [
    "### Steps\n",
    "- Step 1: Load Dataset\n",
    "- Step 2: Make Dataset Iterable\n",
    "- Step 3: Create Model Class\n",
    "- Step 4: Instantiate Model Class\n",
    "- Step 5: Instantiate Loss Class\n",
    "- Step 6: Instantiate Optimizer Class\n",
    "- Step 7: Train Model"
   ]
  },
  {
   "cell_type": "markdown",
   "metadata": {},
   "source": [
    "### Step 1a: Loading MNIST Train Dataset\n",
    "#### Images from 1 to 9"
   ]
  },
  {
   "cell_type": "markdown",
   "metadata": {},
   "source": [
    "**Inspect length of training dataset**\n",
    "\n",
    "You can easily load MNIST dataset with PyTorch. Here we inspect the training set, where our algorithms will learn from, and you will discover it is made up of 60,000 images."
   ]
  },
  {
   "cell_type": "code",
   "execution_count": 9,
   "metadata": {},
   "outputs": [],
   "source": [
    "import torch\n",
    "import torch.nn as nn\n",
    "import torchvision.transforms as transforms\n",
    "import torchvision.datasets as dsets"
   ]
  },
  {
   "cell_type": "code",
   "execution_count": 11,
   "metadata": {},
   "outputs": [
    {
     "name": "stderr",
     "output_type": "stream",
     "text": [
      "\r",
      "0it [00:00, ?it/s]"
     ]
    },
    {
     "name": "stdout",
     "output_type": "stream",
     "text": [
      "Downloading http://yann.lecun.com/exdb/mnist/train-images-idx3-ubyte.gz to ./data/MNIST/MNIST\\raw\\train-images-idx3-ubyte.gz\n"
     ]
    },
    {
     "name": "stderr",
     "output_type": "stream",
     "text": [
      " 97%|█████████████████████████████████████████████████████████████████▎ | 9658368/9912422 [00:12<00:00, 3103480.72it/s]"
     ]
    },
    {
     "name": "stdout",
     "output_type": "stream",
     "text": [
      "Extracting ./data/MNIST/MNIST\\raw\\train-images-idx3-ubyte.gz to ./data/MNIST/MNIST\\raw\n"
     ]
    },
    {
     "name": "stderr",
     "output_type": "stream",
     "text": [
      "\n",
      "0it [00:00, ?it/s]\u001b[A"
     ]
    },
    {
     "name": "stdout",
     "output_type": "stream",
     "text": [
      "Downloading http://yann.lecun.com/exdb/mnist/train-labels-idx1-ubyte.gz to ./data/MNIST/MNIST\\raw\\train-labels-idx1-ubyte.gz\n"
     ]
    },
    {
     "name": "stderr",
     "output_type": "stream",
     "text": [
      "\n",
      "  0%|                                                                                        | 0/28881 [00:00<?, ?it/s]\u001b[A\n",
      "32768it [00:00, 47824.70it/s]                                                                                          \u001b[A\n",
      "\n",
      "0it [00:00, ?it/s]\u001b[A"
     ]
    },
    {
     "name": "stdout",
     "output_type": "stream",
     "text": [
      "Extracting ./data/MNIST/MNIST\\raw\\train-labels-idx1-ubyte.gz to ./data/MNIST/MNIST\\raw\n",
      "Downloading http://yann.lecun.com/exdb/mnist/t10k-images-idx3-ubyte.gz to ./data/MNIST/MNIST\\raw\\t10k-images-idx3-ubyte.gz\n"
     ]
    },
    {
     "name": "stderr",
     "output_type": "stream",
     "text": [
      "\n",
      "  0%|                                                                                      | 0/1648877 [00:00<?, ?it/s]\u001b[A\n",
      "  1%|▋                                                                      | 16384/1648877 [00:00<00:19, 85887.11it/s]\u001b[A\n",
      "  2%|█▍                                                                     | 32768/1648877 [00:00<00:18, 86365.85it/s]\u001b[A\n",
      "  3%|██                                                                     | 49152/1648877 [00:01<00:18, 88481.55it/s]\u001b[A\n",
      "  4%|██▊                                                                    | 65536/1648877 [00:01<00:17, 90038.78it/s]\u001b[A\n",
      "  5%|███▌                                                                   | 81920/1648877 [00:01<00:17, 91138.57it/s]\u001b[A\n",
      "  6%|████▏                                                                  | 98304/1648877 [00:01<00:16, 92421.43it/s]\u001b[A\n",
      "  7%|████▊                                                                 | 114688/1648877 [00:01<00:16, 93003.08it/s]\u001b[A\n",
      "  8%|█████▌                                                                | 131072/1648877 [00:01<00:16, 94055.37it/s]\u001b[A\n",
      "  9%|██████▎                                                               | 147456/1648877 [00:02<00:15, 94502.61it/s]\u001b[A\n",
      " 10%|███████▏                                                             | 172032/1648877 [00:02<00:14, 104446.66it/s]\u001b[A\n",
      " 12%|████████▏                                                            | 196608/1648877 [00:02<00:12, 113475.26it/s]\u001b[A\n",
      " 13%|████████▉                                                            | 212992/1648877 [00:02<00:13, 107477.77it/s]\u001b[A\n",
      " 14%|█████████▉                                                           | 237568/1648877 [00:02<00:12, 115653.99it/s]\u001b[A\n",
      " 16%|██████████▉                                                          | 262144/1648877 [00:02<00:11, 122486.33it/s]\u001b[A\n",
      " 17%|███████████▉                                                         | 286720/1648877 [00:03<00:10, 128863.08it/s]\u001b[A\n",
      " 19%|█████████████▎                                                       | 319488/1648877 [00:03<00:09, 141169.77it/s]\u001b[A\n",
      " 21%|██████████████▍                                                      | 344064/1648877 [00:03<00:09, 141351.61it/s]\u001b[A\n",
      " 23%|███████████████▊                                                     | 376832/1648877 [00:03<00:08, 152475.60it/s]\u001b[A\n",
      " 25%|█████████████████▏                                                   | 409600/1648877 [00:03<00:07, 162049.24it/s]\u001b[A\n",
      " 27%|██████████████████▌                                                  | 442368/1648877 [00:04<00:07, 169535.70it/s]\u001b[A\n",
      " 29%|███████████████████▉                                                 | 475136/1648877 [00:04<00:06, 176328.76it/s]\u001b[A\n",
      " 31%|█████████████████████▌                                               | 516096/1648877 [00:04<00:05, 190537.12it/s]\u001b[A\n",
      " 34%|███████████████████████▎                                             | 557056/1648877 [00:04<00:05, 205302.04it/s]\u001b[A\n",
      " 37%|█████████████████████████▎                                           | 606208/1648877 [00:04<00:04, 223158.76it/s]\u001b[A\n",
      " 40%|███████████████████████████▍                                         | 655360/1648877 [00:04<00:04, 239357.37it/s]\u001b[A\n",
      " 44%|██████████████████████████████▏                                      | 720896/1648877 [00:05<00:03, 264859.87it/s]\u001b[A\n",
      " 47%|████████████████████████████████▌                                    | 778240/1648877 [00:05<00:03, 287019.74it/s]\u001b[A\n",
      " 52%|███████████████████████████████████▋                                 | 851968/1648877 [00:05<00:02, 314043.46it/s]\u001b[A\n",
      " 56%|██████████████████████████████████████▋                              | 925696/1648877 [00:05<00:02, 340546.17it/s]\u001b[A\n",
      " 61%|█████████████████████████████████████████▌                          | 1007616/1648877 [00:05<00:01, 377364.31it/s]\u001b[A\n",
      " 67%|█████████████████████████████████████████████▎                      | 1097728/1648877 [00:05<00:01, 412219.28it/s]\u001b[A\n",
      " 73%|█████████████████████████████████████████████████▎                  | 1196032/1648877 [00:06<00:01, 440893.03it/s]\u001b[A\n",
      " 79%|█████████████████████████████████████████████████████▋              | 1302528/1648877 [00:06<00:00, 482270.90it/s]\u001b[A\n",
      " 86%|██████████████████████████████████████████████████████████▍         | 1417216/1648877 [00:06<00:00, 535751.65it/s]\u001b[A\n",
      " 94%|███████████████████████████████████████████████████████████████▊    | 1548288/1648877 [00:06<00:00, 576129.89it/s]\u001b[A\n",
      "\n",
      "0it [00:00, ?it/s]\u001b[A\u001b[A"
     ]
    },
    {
     "name": "stdout",
     "output_type": "stream",
     "text": [
      "Extracting ./data/MNIST/MNIST\\raw\\t10k-images-idx3-ubyte.gz to ./data/MNIST/MNIST\\raw\n",
      "Downloading http://yann.lecun.com/exdb/mnist/t10k-labels-idx1-ubyte.gz to ./data/MNIST/MNIST\\raw\\t10k-labels-idx1-ubyte.gz\n"
     ]
    },
    {
     "name": "stderr",
     "output_type": "stream",
     "text": [
      "\n",
      "\n",
      "8192it [00:00, 16382.51it/s]                                                                                           \u001b[A\u001b[A\n"
     ]
    },
    {
     "name": "stdout",
     "output_type": "stream",
     "text": [
      "Extracting ./data/MNIST/MNIST\\raw\\t10k-labels-idx1-ubyte.gz to ./data/MNIST/MNIST\\raw\n",
      "Processing...\n",
      "Done!\n"
     ]
    },
    {
     "data": {
      "text/plain": [
       "60000"
      ]
     },
     "execution_count": 11,
     "metadata": {},
     "output_type": "execute_result"
    },
    {
     "name": "stderr",
     "output_type": "stream",
     "text": [
      "9920512it [00:30, 3103480.72it/s]                                                                                      \n",
      "1654784it [00:26, 576129.89it/s]                                                                                       \u001b[A"
     ]
    }
   ],
   "source": [
    "train_dataset = dsets.MNIST(root='./data/MNIST/',\n",
    "                           train=True,\n",
    "                           transform=transforms.ToTensor(),\n",
    "                           download=True)\n",
    "len(train_dataset)"
   ]
  },
  {
   "cell_type": "markdown",
   "metadata": {},
   "source": [
    "**Inspecting a single image**\n",
    "\n",
    "So this is how a single image is represented in numbers. It's actually a 28 pixel x 28 pixel image which is why you would end up with this 28x28 matrix of numbers."
   ]
  },
  {
   "cell_type": "code",
   "execution_count": 12,
   "metadata": {},
   "outputs": [
    {
     "data": {
      "text/plain": [
       "(tensor([[[0.0000, 0.0000, 0.0000, 0.0000, 0.0000, 0.0000, 0.0000, 0.0000,\n",
       "           0.0000, 0.0000, 0.0000, 0.0000, 0.0000, 0.0000, 0.0000, 0.0000,\n",
       "           0.0000, 0.0000, 0.0000, 0.0000, 0.0000, 0.0000, 0.0000, 0.0000,\n",
       "           0.0000, 0.0000, 0.0000, 0.0000],\n",
       "          [0.0000, 0.0000, 0.0000, 0.0000, 0.0000, 0.0000, 0.0000, 0.0000,\n",
       "           0.0000, 0.0000, 0.0000, 0.0000, 0.0000, 0.0000, 0.0000, 0.0000,\n",
       "           0.0000, 0.0000, 0.0000, 0.0000, 0.0000, 0.0000, 0.0000, 0.0000,\n",
       "           0.0000, 0.0000, 0.0000, 0.0000],\n",
       "          [0.0000, 0.0000, 0.0000, 0.0000, 0.0000, 0.0000, 0.0000, 0.0000,\n",
       "           0.0000, 0.0000, 0.0000, 0.0000, 0.0000, 0.0000, 0.0000, 0.0000,\n",
       "           0.0000, 0.0000, 0.0000, 0.0000, 0.0000, 0.0000, 0.0000, 0.0000,\n",
       "           0.0000, 0.0000, 0.0000, 0.0000],\n",
       "          [0.0000, 0.0000, 0.0000, 0.0000, 0.0000, 0.0000, 0.0000, 0.0000,\n",
       "           0.0000, 0.0000, 0.0000, 0.0000, 0.0000, 0.0000, 0.0000, 0.0000,\n",
       "           0.0000, 0.0000, 0.0000, 0.0000, 0.0000, 0.0000, 0.0000, 0.0000,\n",
       "           0.0000, 0.0000, 0.0000, 0.0000],\n",
       "          [0.0000, 0.0000, 0.0000, 0.0000, 0.0000, 0.0000, 0.0000, 0.0000,\n",
       "           0.0000, 0.0000, 0.0000, 0.0000, 0.0000, 0.0000, 0.0000, 0.0000,\n",
       "           0.0000, 0.0000, 0.0000, 0.0000, 0.0000, 0.0000, 0.0000, 0.0000,\n",
       "           0.0000, 0.0000, 0.0000, 0.0000],\n",
       "          [0.0000, 0.0000, 0.0000, 0.0000, 0.0000, 0.0000, 0.0000, 0.0000,\n",
       "           0.0000, 0.0000, 0.0000, 0.0000, 0.0118, 0.0706, 0.0706, 0.0706,\n",
       "           0.4941, 0.5333, 0.6863, 0.1020, 0.6510, 1.0000, 0.9686, 0.4980,\n",
       "           0.0000, 0.0000, 0.0000, 0.0000],\n",
       "          [0.0000, 0.0000, 0.0000, 0.0000, 0.0000, 0.0000, 0.0000, 0.0000,\n",
       "           0.1176, 0.1412, 0.3686, 0.6039, 0.6667, 0.9922, 0.9922, 0.9922,\n",
       "           0.9922, 0.9922, 0.8824, 0.6745, 0.9922, 0.9490, 0.7647, 0.2510,\n",
       "           0.0000, 0.0000, 0.0000, 0.0000],\n",
       "          [0.0000, 0.0000, 0.0000, 0.0000, 0.0000, 0.0000, 0.0000, 0.1922,\n",
       "           0.9333, 0.9922, 0.9922, 0.9922, 0.9922, 0.9922, 0.9922, 0.9922,\n",
       "           0.9922, 0.9843, 0.3647, 0.3216, 0.3216, 0.2196, 0.1529, 0.0000,\n",
       "           0.0000, 0.0000, 0.0000, 0.0000],\n",
       "          [0.0000, 0.0000, 0.0000, 0.0000, 0.0000, 0.0000, 0.0000, 0.0706,\n",
       "           0.8588, 0.9922, 0.9922, 0.9922, 0.9922, 0.9922, 0.7765, 0.7137,\n",
       "           0.9686, 0.9451, 0.0000, 0.0000, 0.0000, 0.0000, 0.0000, 0.0000,\n",
       "           0.0000, 0.0000, 0.0000, 0.0000],\n",
       "          [0.0000, 0.0000, 0.0000, 0.0000, 0.0000, 0.0000, 0.0000, 0.0000,\n",
       "           0.3137, 0.6118, 0.4196, 0.9922, 0.9922, 0.8039, 0.0431, 0.0000,\n",
       "           0.1686, 0.6039, 0.0000, 0.0000, 0.0000, 0.0000, 0.0000, 0.0000,\n",
       "           0.0000, 0.0000, 0.0000, 0.0000],\n",
       "          [0.0000, 0.0000, 0.0000, 0.0000, 0.0000, 0.0000, 0.0000, 0.0000,\n",
       "           0.0000, 0.0549, 0.0039, 0.6039, 0.9922, 0.3529, 0.0000, 0.0000,\n",
       "           0.0000, 0.0000, 0.0000, 0.0000, 0.0000, 0.0000, 0.0000, 0.0000,\n",
       "           0.0000, 0.0000, 0.0000, 0.0000],\n",
       "          [0.0000, 0.0000, 0.0000, 0.0000, 0.0000, 0.0000, 0.0000, 0.0000,\n",
       "           0.0000, 0.0000, 0.0000, 0.5451, 0.9922, 0.7451, 0.0078, 0.0000,\n",
       "           0.0000, 0.0000, 0.0000, 0.0000, 0.0000, 0.0000, 0.0000, 0.0000,\n",
       "           0.0000, 0.0000, 0.0000, 0.0000],\n",
       "          [0.0000, 0.0000, 0.0000, 0.0000, 0.0000, 0.0000, 0.0000, 0.0000,\n",
       "           0.0000, 0.0000, 0.0000, 0.0431, 0.7451, 0.9922, 0.2745, 0.0000,\n",
       "           0.0000, 0.0000, 0.0000, 0.0000, 0.0000, 0.0000, 0.0000, 0.0000,\n",
       "           0.0000, 0.0000, 0.0000, 0.0000],\n",
       "          [0.0000, 0.0000, 0.0000, 0.0000, 0.0000, 0.0000, 0.0000, 0.0000,\n",
       "           0.0000, 0.0000, 0.0000, 0.0000, 0.1373, 0.9451, 0.8824, 0.6275,\n",
       "           0.4235, 0.0039, 0.0000, 0.0000, 0.0000, 0.0000, 0.0000, 0.0000,\n",
       "           0.0000, 0.0000, 0.0000, 0.0000],\n",
       "          [0.0000, 0.0000, 0.0000, 0.0000, 0.0000, 0.0000, 0.0000, 0.0000,\n",
       "           0.0000, 0.0000, 0.0000, 0.0000, 0.0000, 0.3176, 0.9412, 0.9922,\n",
       "           0.9922, 0.4667, 0.0980, 0.0000, 0.0000, 0.0000, 0.0000, 0.0000,\n",
       "           0.0000, 0.0000, 0.0000, 0.0000],\n",
       "          [0.0000, 0.0000, 0.0000, 0.0000, 0.0000, 0.0000, 0.0000, 0.0000,\n",
       "           0.0000, 0.0000, 0.0000, 0.0000, 0.0000, 0.0000, 0.1765, 0.7294,\n",
       "           0.9922, 0.9922, 0.5882, 0.1059, 0.0000, 0.0000, 0.0000, 0.0000,\n",
       "           0.0000, 0.0000, 0.0000, 0.0000],\n",
       "          [0.0000, 0.0000, 0.0000, 0.0000, 0.0000, 0.0000, 0.0000, 0.0000,\n",
       "           0.0000, 0.0000, 0.0000, 0.0000, 0.0000, 0.0000, 0.0000, 0.0627,\n",
       "           0.3647, 0.9882, 0.9922, 0.7333, 0.0000, 0.0000, 0.0000, 0.0000,\n",
       "           0.0000, 0.0000, 0.0000, 0.0000],\n",
       "          [0.0000, 0.0000, 0.0000, 0.0000, 0.0000, 0.0000, 0.0000, 0.0000,\n",
       "           0.0000, 0.0000, 0.0000, 0.0000, 0.0000, 0.0000, 0.0000, 0.0000,\n",
       "           0.0000, 0.9765, 0.9922, 0.9765, 0.2510, 0.0000, 0.0000, 0.0000,\n",
       "           0.0000, 0.0000, 0.0000, 0.0000],\n",
       "          [0.0000, 0.0000, 0.0000, 0.0000, 0.0000, 0.0000, 0.0000, 0.0000,\n",
       "           0.0000, 0.0000, 0.0000, 0.0000, 0.0000, 0.0000, 0.1804, 0.5098,\n",
       "           0.7176, 0.9922, 0.9922, 0.8118, 0.0078, 0.0000, 0.0000, 0.0000,\n",
       "           0.0000, 0.0000, 0.0000, 0.0000],\n",
       "          [0.0000, 0.0000, 0.0000, 0.0000, 0.0000, 0.0000, 0.0000, 0.0000,\n",
       "           0.0000, 0.0000, 0.0000, 0.0000, 0.1529, 0.5804, 0.8980, 0.9922,\n",
       "           0.9922, 0.9922, 0.9804, 0.7137, 0.0000, 0.0000, 0.0000, 0.0000,\n",
       "           0.0000, 0.0000, 0.0000, 0.0000],\n",
       "          [0.0000, 0.0000, 0.0000, 0.0000, 0.0000, 0.0000, 0.0000, 0.0000,\n",
       "           0.0000, 0.0000, 0.0941, 0.4471, 0.8667, 0.9922, 0.9922, 0.9922,\n",
       "           0.9922, 0.7882, 0.3059, 0.0000, 0.0000, 0.0000, 0.0000, 0.0000,\n",
       "           0.0000, 0.0000, 0.0000, 0.0000],\n",
       "          [0.0000, 0.0000, 0.0000, 0.0000, 0.0000, 0.0000, 0.0000, 0.0000,\n",
       "           0.0902, 0.2588, 0.8353, 0.9922, 0.9922, 0.9922, 0.9922, 0.7765,\n",
       "           0.3176, 0.0078, 0.0000, 0.0000, 0.0000, 0.0000, 0.0000, 0.0000,\n",
       "           0.0000, 0.0000, 0.0000, 0.0000],\n",
       "          [0.0000, 0.0000, 0.0000, 0.0000, 0.0000, 0.0000, 0.0706, 0.6706,\n",
       "           0.8588, 0.9922, 0.9922, 0.9922, 0.9922, 0.7647, 0.3137, 0.0353,\n",
       "           0.0000, 0.0000, 0.0000, 0.0000, 0.0000, 0.0000, 0.0000, 0.0000,\n",
       "           0.0000, 0.0000, 0.0000, 0.0000],\n",
       "          [0.0000, 0.0000, 0.0000, 0.0000, 0.2157, 0.6745, 0.8863, 0.9922,\n",
       "           0.9922, 0.9922, 0.9922, 0.9569, 0.5216, 0.0431, 0.0000, 0.0000,\n",
       "           0.0000, 0.0000, 0.0000, 0.0000, 0.0000, 0.0000, 0.0000, 0.0000,\n",
       "           0.0000, 0.0000, 0.0000, 0.0000],\n",
       "          [0.0000, 0.0000, 0.0000, 0.0000, 0.5333, 0.9922, 0.9922, 0.9922,\n",
       "           0.8314, 0.5294, 0.5176, 0.0627, 0.0000, 0.0000, 0.0000, 0.0000,\n",
       "           0.0000, 0.0000, 0.0000, 0.0000, 0.0000, 0.0000, 0.0000, 0.0000,\n",
       "           0.0000, 0.0000, 0.0000, 0.0000],\n",
       "          [0.0000, 0.0000, 0.0000, 0.0000, 0.0000, 0.0000, 0.0000, 0.0000,\n",
       "           0.0000, 0.0000, 0.0000, 0.0000, 0.0000, 0.0000, 0.0000, 0.0000,\n",
       "           0.0000, 0.0000, 0.0000, 0.0000, 0.0000, 0.0000, 0.0000, 0.0000,\n",
       "           0.0000, 0.0000, 0.0000, 0.0000],\n",
       "          [0.0000, 0.0000, 0.0000, 0.0000, 0.0000, 0.0000, 0.0000, 0.0000,\n",
       "           0.0000, 0.0000, 0.0000, 0.0000, 0.0000, 0.0000, 0.0000, 0.0000,\n",
       "           0.0000, 0.0000, 0.0000, 0.0000, 0.0000, 0.0000, 0.0000, 0.0000,\n",
       "           0.0000, 0.0000, 0.0000, 0.0000],\n",
       "          [0.0000, 0.0000, 0.0000, 0.0000, 0.0000, 0.0000, 0.0000, 0.0000,\n",
       "           0.0000, 0.0000, 0.0000, 0.0000, 0.0000, 0.0000, 0.0000, 0.0000,\n",
       "           0.0000, 0.0000, 0.0000, 0.0000, 0.0000, 0.0000, 0.0000, 0.0000,\n",
       "           0.0000, 0.0000, 0.0000, 0.0000]]]),\n",
       " 5)"
      ]
     },
     "execution_count": 12,
     "metadata": {},
     "output_type": "execute_result"
    }
   ],
   "source": [
    "train_dataset[0]"
   ]
  },
  {
   "cell_type": "markdown",
   "metadata": {},
   "source": [
    "**Inspecting a single data point in the training dataset**\n",
    "\n",
    "When you load MNIST dataset, each data point is actually a tuple containing the image matrix and the label."
   ]
  },
  {
   "cell_type": "code",
   "execution_count": 18,
   "metadata": {},
   "outputs": [
    {
     "data": {
      "text/plain": [
       "tuple"
      ]
     },
     "execution_count": 18,
     "metadata": {},
     "output_type": "execute_result"
    }
   ],
   "source": [
    "type(train_dataset[0])"
   ]
  },
  {
   "cell_type": "markdown",
   "metadata": {},
   "source": [
    "**Inspecting training dataset first element of tuple**\n",
    "\n",
    "This means to access the image, you need to access the first element in the tuple."
   ]
  },
  {
   "cell_type": "code",
   "execution_count": 31,
   "metadata": {},
   "outputs": [
    {
     "data": {
      "text/plain": [
       "torch.Size([1, 28, 28])"
      ]
     },
     "execution_count": 31,
     "metadata": {},
     "output_type": "execute_result"
    }
   ],
   "source": [
    "# input matrix\n",
    "train_dataset[0][0].size()"
   ]
  },
  {
   "cell_type": "markdown",
   "metadata": {},
   "source": [
    "**Inspecting training dataset second element of tuple**\n",
    "\n",
    "The second element actually represents the image's label. Meaning if the second element says 5, it means the 28x28 matrix of numbers represent a digit 5."
   ]
  },
  {
   "cell_type": "code",
   "execution_count": 32,
   "metadata": {},
   "outputs": [
    {
     "data": {
      "text/plain": [
       "5"
      ]
     },
     "execution_count": 32,
     "metadata": {},
     "output_type": "execute_result"
    }
   ],
   "source": [
    "# label\n",
    "train_dataset[0][1]"
   ]
  },
  {
   "cell_type": "markdown",
   "metadata": {},
   "source": [
    "#### Displaying MNIST"
   ]
  },
  {
   "cell_type": "markdown",
   "metadata": {},
   "source": [
    "**Verifying shape of MNIST image**\n",
    "\n",
    "As mentioned, a single MNIST image is of the shape 28 pixel x 28 pixel."
   ]
  },
  {
   "cell_type": "code",
   "execution_count": 23,
   "metadata": {},
   "outputs": [],
   "source": [
    "import matplotlib.pyplot as plt\n",
    "%matplotlib inline\n",
    "import numpy as np"
   ]
  },
  {
   "cell_type": "code",
   "execution_count": 24,
   "metadata": {},
   "outputs": [
    {
     "data": {
      "text/plain": [
       "(1, 28, 28)"
      ]
     },
     "execution_count": 24,
     "metadata": {},
     "output_type": "execute_result"
    }
   ],
   "source": [
    "train_dataset[0][0].numpy().shape"
   ]
  },
  {
   "cell_type": "markdown",
   "metadata": {},
   "source": [
    "**Plot image of MNIST image**"
   ]
  },
  {
   "cell_type": "code",
   "execution_count": 28,
   "metadata": {},
   "outputs": [
    {
     "data": {
      "text/plain": [
       "(28, 28)"
      ]
     },
     "execution_count": 28,
     "metadata": {},
     "output_type": "execute_result"
    }
   ],
   "source": [
    "show_img = train_dataset[0][0].numpy().reshape(28, 28)\n",
    "show_img.shape"
   ]
  },
  {
   "cell_type": "code",
   "execution_count": 29,
   "metadata": {},
   "outputs": [
    {
     "data": {
      "text/plain": [
       "<matplotlib.image.AxesImage at 0x1b5d157c780>"
      ]
     },
     "execution_count": 29,
     "metadata": {},
     "output_type": "execute_result"
    },
    {
     "data": {
      "image/png": "[encoded data removed]",
      "text/plain": [
       "<Figure size 432x288 with 1 Axes>"
      ]
     },
     "metadata": {
      "needs_background": "light"
     },
     "output_type": "display_data"
    }
   ],
   "source": [
    "plt.imshow(show_img, cmap='gray')"
   ]
  },
  {
   "cell_type": "markdown",
   "metadata": {},
   "source": [
    "**Second element of tuple shows label**\n",
    "\n",
    "As you would expect, the label is 5."
   ]
  },
  {
   "cell_type": "code",
   "execution_count": 30,
   "metadata": {},
   "outputs": [
    {
     "data": {
      "text/plain": [
       "5"
      ]
     },
     "execution_count": 30,
     "metadata": {},
     "output_type": "execute_result"
    }
   ],
   "source": [
    "#label\n",
    "train_dataset[0][1]"
   ]
  },
  {
   "cell_type": "markdown",
   "metadata": {},
   "source": [
    "**Plot second image of MNIST image**"
   ]
  },
  {
   "cell_type": "code",
   "execution_count": 34,
   "metadata": {},
   "outputs": [],
   "source": [
    "show_img = train_dataset[1][0].numpy().reshape(28, 28)"
   ]
  },
  {
   "cell_type": "code",
   "execution_count": 35,
   "metadata": {},
   "outputs": [
    {
     "data": {
      "text/plain": [
       "<matplotlib.image.AxesImage at 0x1b5d1da9048>"
      ]
     },
     "execution_count": 35,
     "metadata": {},
     "output_type": "execute_result"
    },
    {
     "data": {
      "image/png": "[encoded data removed]",
      "text/plain": [
       "<Figure size 432x288 with 1 Axes>"
      ]
     },
     "metadata": {
      "needs_background": "light"
     },
     "output_type": "display_data"
    }
   ],
   "source": [
    "plt.imshow(show_img, cmap='gray')"
   ]
  },
  {
   "cell_type": "markdown",
   "metadata": {},
   "source": [
    "**Second element of tuple shows label**\n",
    "\n",
    "We should see 0 here as the label."
   ]
  },
  {
   "cell_type": "code",
   "execution_count": 36,
   "metadata": {},
   "outputs": [
    {
     "data": {
      "text/plain": [
       "0"
      ]
     },
     "execution_count": 36,
     "metadata": {},
     "output_type": "execute_result"
    }
   ],
   "source": [
    "# label\n",
    "train_dataset[1][1]"
   ]
  },
  {
   "cell_type": "markdown",
   "metadata": {},
   "source": [
    "### Step 1b: Loading MNIST Test Dataset\n",
    "- Show our algorithm works beyond the data we have trained on.\n",
    "- Out-of-sample"
   ]
  },
  {
   "cell_type": "markdown",
   "metadata": {},
   "source": [
    "**Load test dataset**\n",
    "\n",
    "Compared to the 60k images in the training set, the testing set where the model will not be trained on has 10k images to check for its out-of-sample performance."
   ]
  },
  {
   "cell_type": "code",
   "execution_count": 37,
   "metadata": {},
   "outputs": [],
   "source": [
    "test_dataset = dsets.MNIST(root='./data/MNIST/', \n",
    "                           train=False, \n",
    "                           transform=transforms.ToTensor())"
   ]
  },
  {
   "cell_type": "code",
   "execution_count": 38,
   "metadata": {},
   "outputs": [
    {
     "data": {
      "text/plain": [
       "10000"
      ]
     },
     "execution_count": 38,
     "metadata": {},
     "output_type": "execute_result"
    }
   ],
   "source": [
    "len(test_dataset)"
   ]
  },
  {
   "cell_type": "markdown",
   "metadata": {},
   "source": [
    "**Test dataset elements**\n",
    "\n",
    "Exactly like the training set, the testing set has 10k tuples containing the 28x28 matrices and their respective labels."
   ]
  },
  {
   "cell_type": "code",
   "execution_count": 39,
   "metadata": {},
   "outputs": [
    {
     "data": {
      "text/plain": [
       "tuple"
      ]
     },
     "execution_count": 39,
     "metadata": {},
     "output_type": "execute_result"
    }
   ],
   "source": [
    "type(test_dataset[0])"
   ]
  },
  {
   "cell_type": "markdown",
   "metadata": {},
   "source": [
    "**Test dataset first element in tuple**\n",
    "\n",
    "This contains the image matrix, similar to the training set."
   ]
  },
  {
   "cell_type": "code",
   "execution_count": 40,
   "metadata": {},
   "outputs": [
    {
     "data": {
      "text/plain": [
       "torch.Size([1, 28, 28])"
      ]
     },
     "execution_count": 40,
     "metadata": {},
     "output_type": "execute_result"
    }
   ],
   "source": [
    "# image matrix\n",
    "test_dataset[0][0].size()"
   ]
  },
  {
   "cell_type": "markdown",
   "metadata": {},
   "source": [
    "**Plot image sample from test dataset**"
   ]
  },
  {
   "cell_type": "code",
   "execution_count": 41,
   "metadata": {},
   "outputs": [
    {
     "data": {
      "text/plain": [
       "<matplotlib.image.AxesImage at 0x1b5c7e367f0>"
      ]
     },
     "execution_count": 41,
     "metadata": {},
     "output_type": "execute_result"
    },
    {
     "data": {
      "image/png": "[encoded data removed]",
      "text/plain": [
       "<Figure size 432x288 with 1 Axes>"
      ]
     },
     "metadata": {
      "needs_background": "light"
     },
     "output_type": "display_data"
    }
   ],
   "source": [
    "show_img = test_dataset[0][0].numpy().reshape(28, 28)\n",
    "plt.imshow(show_img, cmap='gray')"
   ]
  },
  {
   "cell_type": "markdown",
   "metadata": {},
   "source": [
    "**Test dataset second element in tuple**"
   ]
  },
  {
   "cell_type": "code",
   "execution_count": 42,
   "metadata": {},
   "outputs": [
    {
     "data": {
      "text/plain": [
       "7"
      ]
     },
     "execution_count": 42,
     "metadata": {},
     "output_type": "execute_result"
    }
   ],
   "source": [
    "# label\n",
    "test_dataset[0][1]"
   ]
  },
  {
   "cell_type": "markdown",
   "metadata": {},
   "source": [
    "### Step 2: Make Dataset Iterable\n",
    "- Aim: make the dataset iterable\n",
    "- **totaldata**: 60000\n",
    "- **minibatch**: 100\n",
    "    - Number of examples in 1 iteration\n",
    "- **iterations**: 3000\n",
    "    - 1 iteration: one mini-batch forward & backward pass\n",
    "- **epochs**\n",
    "    - 1 epoch: running through the whole dataset once\n",
    "    - $epochs = iterations \\div \\frac{totaldata}{minibatch} = 3000 \\div \\frac{60000}{100} = 5$"
   ]
  },
  {
   "cell_type": "markdown",
   "metadata": {},
   "source": [
    "**Recap training dataset**\n",
    "\n",
    "Remember training dataset has 60k images and testing dataset has 10k images."
   ]
  },
  {
   "cell_type": "code",
   "execution_count": 43,
   "metadata": {},
   "outputs": [
    {
     "data": {
      "text/plain": [
       "60000"
      ]
     },
     "execution_count": 43,
     "metadata": {},
     "output_type": "execute_result"
    }
   ],
   "source": [
    "len(train_dataset)"
   ]
  },
  {
   "cell_type": "markdown",
   "metadata": {},
   "source": [
    "**Defining epochs**\n",
    "\n",
    "When the model goes through the whole 60k images once, learning how to classify 0-9, it's consider 1 epoch.\n",
    "\n",
    "However, there's a concept of batch size where it means the model would look at 100 images before updating the model's weights, thereby learning. When the model updates its weights (parameters) after looking at all the images, this is considered 1 iteration."
   ]
  },
  {
   "cell_type": "code",
   "execution_count": 44,
   "metadata": {},
   "outputs": [],
   "source": [
    "batch_size = 100"
   ]
  },
  {
   "cell_type": "markdown",
   "metadata": {},
   "source": [
    "We arbitrarily set 3000 iterations here which means the model would update 3000 times."
   ]
  },
  {
   "cell_type": "code",
   "execution_count": 45,
   "metadata": {},
   "outputs": [],
   "source": [
    "n_iters = 3000"
   ]
  },
  {
   "cell_type": "markdown",
   "metadata": {},
   "source": [
    "One epoch consists of 60,000 / 100 = 600 iterations. Because we would like to go through 3000 iterations, this implies we would have 3000 / 600 = 5 epochs as each epoch has 600 iterations."
   ]
  },
  {
   "cell_type": "code",
   "execution_count": 46,
   "metadata": {},
   "outputs": [
    {
     "data": {
      "text/plain": [
       "5"
      ]
     },
     "execution_count": 46,
     "metadata": {},
     "output_type": "execute_result"
    }
   ],
   "source": [
    "num_epochs = n_iters / (len(train_dataset) / batch_size)\n",
    "num_epochs = int(num_epochs)\n",
    "num_epochs"
   ]
  },
  {
   "cell_type": "markdown",
   "metadata": {},
   "source": [
    "**Create Iterable Object: Training Dataset**"
   ]
  },
  {
   "cell_type": "code",
   "execution_count": 47,
   "metadata": {},
   "outputs": [],
   "source": [
    "# iterable object\n",
    "train_loader = torch.utils.data.DataLoader(dataset=train_dataset, \n",
    "                                           batch_size=batch_size, \n",
    "                                           shuffle=True)"
   ]
  },
  {
   "cell_type": "markdown",
   "metadata": {},
   "source": [
    "**Check Iterability**"
   ]
  },
  {
   "cell_type": "code",
   "execution_count": 48,
   "metadata": {},
   "outputs": [
    {
     "data": {
      "text/plain": [
       "True"
      ]
     },
     "execution_count": 48,
     "metadata": {},
     "output_type": "execute_result"
    }
   ],
   "source": [
    "import collections\n",
    "isinstance(train_loader, collections.Iterable)"
   ]
  },
  {
   "cell_type": "markdown",
   "metadata": {},
   "source": [
    "**Create Iterable Object: Testing Dataset**"
   ]
  },
  {
   "cell_type": "code",
   "execution_count": 49,
   "metadata": {},
   "outputs": [],
   "source": [
    "# iterable object\n",
    "test_loader = torch.utils.data.DataLoader(dataset=test_dataset, \n",
    "                                          batch_size=batch_size, \n",
    "                                          shuffle=False)"
   ]
  },
  {
   "cell_type": "markdown",
   "metadata": {},
   "source": [
    "**Check iterability of testing dataset**"
   ]
  },
  {
   "cell_type": "code",
   "execution_count": 50,
   "metadata": {},
   "outputs": [
    {
     "data": {
      "text/plain": [
       "True"
      ]
     },
     "execution_count": 50,
     "metadata": {},
     "output_type": "execute_result"
    }
   ],
   "source": [
    "isinstance(test_loader, collections.Iterable)"
   ]
  },
  {
   "cell_type": "markdown",
   "metadata": {},
   "source": [
    "**Iterate through dataset**\n",
    "\n",
    "This is just a simplified example of what we're doing above where we're creating an iterable object `lst` to loop through so we can access all the images `img_1` and `img_2`.\n",
    "    \n",
    "Above, the equivalent of `lst` is `train_loader` and `test_loader`.\n",
    "    "
   ]
  },
  {
   "cell_type": "code",
   "execution_count": 52,
   "metadata": {},
   "outputs": [],
   "source": [
    "img_1 = np.ones((28, 28))\n",
    "img_2 = np.ones((28, 28))\n",
    "lst = [img_1, img_2]"
   ]
  },
  {
   "cell_type": "code",
   "execution_count": 53,
   "metadata": {},
   "outputs": [],
   "source": [
    "lst = [img_1, img_2]"
   ]
  },
  {
   "cell_type": "markdown",
   "metadata": {},
   "source": [
    "### Step 3: Building Model"
   ]
  },
  {
   "cell_type": "markdown",
   "metadata": {},
   "source": [
    "**Create model class**"
   ]
  },
  {
   "cell_type": "code",
   "execution_count": 54,
   "metadata": {},
   "outputs": [],
   "source": [
    "# same as linear regression\n",
    "class LogisticRegressionModel(nn.Module):\n",
    "    def __init__(self, input_dim, output_dim):\n",
    "        super(LogisticRegressionModel, self).__init__()\n",
    "        self.linear = nn.Linear(input_dim, output_dim)\n",
    "        \n",
    "    def forward(self, x):\n",
    "        out = self.linear(x)\n",
    "        return out"
   ]
  },
  {
   "cell_type": "markdown",
   "metadata": {},
   "source": [
    "### Step 4: Instantiate Model Class\n",
    "- Input dimension: \n",
    "    - Size of image\n",
    "    - $28 \\times 28 = 784$\n",
    "- Output dimension: 10\n",
    "    - 0, 1, 2, 3, 4, 5, 6, 7, 8, 9"
   ]
  },
  {
   "cell_type": "markdown",
   "metadata": {},
   "source": [
    "**Check size of dataset**\n",
    "\n",
    "This should be 28x28."
   ]
  },
  {
   "cell_type": "code",
   "execution_count": 55,
   "metadata": {},
   "outputs": [
    {
     "data": {
      "text/plain": [
       "torch.Size([1, 28, 28])"
      ]
     },
     "execution_count": 55,
     "metadata": {},
     "output_type": "execute_result"
    }
   ],
   "source": [
    "# size of images\n",
    "train_dataset[0][0].size()"
   ]
  },
  {
   "cell_type": "markdown",
   "metadata": {},
   "source": [
    "**Instantiate model class based on input and out dimensions**\n",
    "\n",
    "As we're trying to classify digits 0-9 a total of 10 classes, our output dimension is 10.\n",
    "\n",
    "And we're feeding the model with 28x28 images, hence our input dimension is 28x28."
   ]
  },
  {
   "cell_type": "code",
   "execution_count": 56,
   "metadata": {},
   "outputs": [],
   "source": [
    "input_dim = 28*28\n",
    "output_dim = 10\n",
    "\n",
    "model = LogisticRegressionModel(input_dim, output_dim)"
   ]
  },
  {
   "cell_type": "markdown",
   "metadata": {},
   "source": [
    "### Step 5: Instantiate Loss Class\n",
    "- **Logistic Regression**: Cross Entropy Loss\n",
    "    - _Linear Regression: MSE_\n",
    "   "
   ]
  },
  {
   "cell_type": "markdown",
   "metadata": {},
   "source": [
    "**Create Cross Entry Loss Class**\n",
    "\n",
    "Unlike linear regression, we do not use MSE here, we need Cross Entry Loss to calculate our loss before we backpropagate and update our parameters."
   ]
  },
  {
   "cell_type": "code",
   "execution_count": 57,
   "metadata": {},
   "outputs": [],
   "source": [
    "criterion = nn.CrossEntropyLoss()"
   ]
  },
  {
   "cell_type": "markdown",
   "metadata": {},
   "source": [
    "**What happens in `nn.CrossEntropyLoss()`?**\n",
    "\n",
    "It does 2 things at the same time.\n",
    "\n",
    "\n",
    "1. Computes softmax (logistic/softmax function) \n",
    "2. Computes cross entropy\n",
    "\n",
    "<img src=\"./images/lab2/cross_entropy_final_4.png\" alt=\"no_image\" style=\"width: 900px;\"/>"
   ]
  },
  {
   "cell_type": "markdown",
   "metadata": {},
   "source": [
    "### Step 6: Instantiate Optimizer Class\n",
    "- Simplified equation\n",
    "    - $\\theta = \\theta - \\eta \\cdot \\nabla_\\theta $\n",
    "        - $\\theta$: parameters (our variables)\n",
    "        - $\\eta$: learning rate (how fast we want to learn)\n",
    "        - $\\nabla_\\theta$: parameters' gradients\n",
    "- Even simplier equation\n",
    "    - `parameters = parameters - learning_rate * parameters_gradients`\n",
    "    - **At every iteration, we update our model's parameters**"
   ]
  },
  {
   "cell_type": "markdown",
   "metadata": {},
   "source": [
    "**Create optimizer**\n",
    "\n",
    "Similar to what we've covered above, this calculates the parameters' gradients and update them subsequently."
   ]
  },
  {
   "cell_type": "code",
   "execution_count": 64,
   "metadata": {},
   "outputs": [],
   "source": [
    "learning_rate = 0.001\n",
    "\n",
    "optimizer = torch.optim.SGD(model.parameters(), lr=learning_rate)"
   ]
  },
  {
   "cell_type": "markdown",
   "metadata": {},
   "source": [
    "**Parameters In-Depth**\n",
    "\n",
    "\n",
    "You'll realize we have 2 sets of parameters, 10x784 which is A and 10x1 which is b in the $y = AX + b$ equation where X is our input of size 784.\n",
    "    \n",
    "We'll go into details subsequently how these parameters interact with our input to produce our 10x1 output. "
   ]
  },
  {
   "cell_type": "code",
   "execution_count": 58,
   "metadata": {},
   "outputs": [
    {
     "name": "stdout",
     "output_type": "stream",
     "text": [
      "<generator object Module.parameters at 0x000001B5D1729228>\n"
     ]
    }
   ],
   "source": [
    "# Type of parameter object\n",
    "print(model.parameters())"
   ]
  },
  {
   "cell_type": "code",
   "execution_count": 59,
   "metadata": {},
   "outputs": [
    {
     "name": "stdout",
     "output_type": "stream",
     "text": [
      "2\n"
     ]
    }
   ],
   "source": [
    "# Length of parameters\n",
    "print(len(list(model.parameters())))"
   ]
  },
  {
   "cell_type": "code",
   "execution_count": 60,
   "metadata": {},
   "outputs": [
    {
     "data": {
      "text/plain": [
       "[Parameter containing:\n",
       " tensor([[-0.0081, -0.0302,  0.0109,  ..., -0.0080, -0.0031,  0.0010],\n",
       "         [ 0.0117, -0.0268,  0.0348,  ...,  0.0001, -0.0253, -0.0291],\n",
       "         [-0.0126, -0.0150,  0.0332,  ..., -0.0253, -0.0311, -0.0002],\n",
       "         ...,\n",
       "         [-0.0056, -0.0271,  0.0261,  ..., -0.0053, -0.0354, -0.0263],\n",
       "         [ 0.0092,  0.0335, -0.0316,  ..., -0.0327, -0.0076,  0.0129],\n",
       "         [-0.0091,  0.0006, -0.0238,  ..., -0.0337,  0.0049,  0.0021]],\n",
       "        requires_grad=True),\n",
       " Parameter containing:\n",
       " tensor([ 0.0110,  0.0082,  0.0130, -0.0064,  0.0203,  0.0019,  0.0278,  0.0326,\n",
       "         -0.0249, -0.0114], requires_grad=True)]"
      ]
     },
     "execution_count": 60,
     "metadata": {},
     "output_type": "execute_result"
    }
   ],
   "source": [
    "list(model.parameters())"
   ]
  },
  {
   "cell_type": "code",
   "execution_count": 61,
   "metadata": {},
   "outputs": [
    {
     "name": "stdout",
     "output_type": "stream",
     "text": [
      "torch.Size([10, 784])\n"
     ]
    }
   ],
   "source": [
    "# FC 1 Parameters \n",
    "print(list(model.parameters())[0].size())"
   ]
  },
  {
   "cell_type": "code",
   "execution_count": 62,
   "metadata": {},
   "outputs": [
    {
     "name": "stdout",
     "output_type": "stream",
     "text": [
      "torch.Size([10])\n"
     ]
    }
   ],
   "source": [
    "# FC 1 Bias Parameters\n",
    "print(list(model.parameters())[1].size())"
   ]
  },
  {
   "cell_type": "markdown",
   "metadata": {},
   "source": [
    "**Quick Matrix Product Review**\n",
    "\n",
    "- Example 1: **matrix product**\n",
    "    - $A: (100, 10)$\n",
    "    - $B: (10, 1)$\n",
    "    - $A \\cdot B = (100, 10) \\cdot (10, 1) = (100, 1)$\n",
    "- Example 2: **matrix product**\n",
    "    - $A: (50, 5)$\n",
    "    - $B: (5, 2)$\n",
    "    - $A \\cdot B = (50, 5) \\cdot (5, 2) = (50, 2)$\n",
    "- Example 3: **element-wise addition**\n",
    "    - $A: (10, 1)$\n",
    "    - $B: (10, 1)$\n",
    "    - $A + B = (10, 1)$\n",
    "        \n",
    "<img src=\"./images/lab2/lr_params2.png\" alt=\"no_image\" style=\"width: 900px;\"/>    "
   ]
  },
  {
   "cell_type": "markdown",
   "metadata": {},
   "source": [
    "### Step 7: Train Model\n",
    "\n",
    "**7 step process for training models**\n",
    "\n",
    " - Process \n",
    "    1. Convert inputs/labels to tensors with gradients\n",
    "    2. Clear gradient buffets\n",
    "    3. Get output given inputs\n",
    "    4. Get loss\n",
    "    5. Get gradients w.r.t. parameters\n",
    "    6. Update parameters using gradients\n",
    "        - `parameters = parameters - learning_rate * parameters_gradients`\n",
    "    7. REPEAT"
   ]
  },
  {
   "cell_type": "code",
   "execution_count": 66,
   "metadata": {},
   "outputs": [
    {
     "name": "stdout",
     "output_type": "stream",
     "text": [
      "iteration: 500, loss: 1.5914448499679565, accuracy: 76.44\n",
      "iteration: 1000, loss: 1.3247126340866089, accuracy: 79.75\n",
      "iteration: 1500, loss: 1.1901869773864746, accuracy: 81.57\n",
      "iteration: 2000, loss: 1.1496357917785645, accuracy: 82.5\n",
      "iteration: 2500, loss: 1.0168027877807617, accuracy: 83.2\n",
      "iteration: 3000, loss: 1.0037602186203003, accuracy: 83.77\n"
     ]
    }
   ],
   "source": [
    "iter = 0\n",
    "for epoch in range(num_epochs):\n",
    "    for i, (images, labels) in enumerate(train_loader):\n",
    "        # load images as variable\n",
    "        images = images.view(-1, 28*28)\n",
    "        labels = labels\n",
    "        \n",
    "        # clear gradients w.r.t. parameters\n",
    "        optimizer.zero_grad()\n",
    "        \n",
    "        # forward pass to get output/logits\n",
    "        outputs = model(images)\n",
    "        \n",
    "        # calculate loss : softmax --> cross entropy loss\n",
    "        loss = criterion(outputs, labels)\n",
    "        \n",
    "        # getting gradients w.r.t. parameters\n",
    "        loss.backward()\n",
    "        \n",
    "        # updating parameters\n",
    "        optimizer.step()\n",
    "        \n",
    "        iter += 1\n",
    "        \n",
    "        if iter % 500 == 0:\n",
    "            # calculate accuracy\n",
    "            correct = 0\n",
    "            total = 0\n",
    "            \n",
    "            # iterate through test dataset\n",
    "            for images, labels in test_loader:\n",
    "                # load images to a torch variable\n",
    "                images = images.view(-1, 28*28)\n",
    "                \n",
    "                # forward pass only to get logits/output\n",
    "                outputs = model(images)\n",
    "                \n",
    "                # get predictions from the maximum value\n",
    "                _, predicted = torch.max(outputs.data, 1)\n",
    "                \n",
    "                # total number of labels\n",
    "                total += labels.size(0)\n",
    "                \n",
    "                # total correct predictions\n",
    "                correct += (predicted == labels).sum()\n",
    "                \n",
    "            accuracy = 100 * correct.item() / total\n",
    "            \n",
    "            # print loss\n",
    "            print('iteration: {}, loss: {}, accuracy: {}'.format(iter, loss.item(), accuracy))"
   ]
  },
  {
   "cell_type": "markdown",
   "metadata": {},
   "source": [
    "#### Break Down Accuracy Calculation"
   ]
  },
  {
   "cell_type": "markdown",
   "metadata": {},
   "source": [
    "**Printing outputs of our model**\n",
    "\n",
    "As we've trained our model, we can extract the accuracy calculation portion to understand what's happening without re-training the model.\n",
    "\n",
    "This would print out the output of the model's predictions on your notebook."
   ]
  },
  {
   "cell_type": "code",
   "execution_count": 67,
   "metadata": {},
   "outputs": [
    {
     "name": "stdout",
     "output_type": "stream",
     "text": [
      "Outputs\n",
      "tensor([[-4.1912e-01, -1.1316e+00, -3.3780e-01,  5.0849e-02,  1.6380e-01,\n",
      "         -4.5955e-01, -1.1082e+00,  3.2220e+00, -9.9257e-02,  8.3546e-01],\n",
      "        [ 6.2732e-01,  5.0818e-02,  1.9713e+00,  1.1428e+00, -1.7106e+00,\n",
      "          6.1820e-01,  1.4372e+00, -1.6908e+00,  4.6356e-01, -1.4948e+00],\n",
      "        [-9.5425e-01,  2.4788e+00,  1.7959e-01,  1.3081e-01, -6.0669e-01,\n",
      "         -2.7401e-01, -1.0602e-01, -4.2117e-01,  1.6995e-01, -4.4849e-01],\n",
      "        [ 3.2173e+00, -2.5713e+00,  5.0179e-02, -9.7821e-02, -8.8109e-01,\n",
      "          4.6438e-01,  1.1085e+00,  2.5932e-01, -4.3773e-01, -4.8476e-01],\n",
      "        [-2.3028e-01, -2.0807e+00,  4.7810e-01, -6.9463e-01,  1.8244e+00,\n",
      "         -3.3407e-01,  3.2245e-01,  3.8161e-01, -9.6695e-03,  9.6337e-01],\n",
      "        [-1.3049e+00,  3.0202e+00,  1.7652e-01,  4.1544e-01, -6.7183e-01,\n",
      "         -3.8085e-01, -6.9530e-01, -8.5968e-02,  4.6802e-01, -2.5801e-01],\n",
      "        [-1.2533e+00, -1.2030e+00, -9.5699e-01,  9.7894e-02,  1.3802e+00,\n",
      "          5.0112e-01, -7.2388e-01,  6.0730e-01,  6.7461e-01,  9.4082e-01],\n",
      "        [-1.4455e+00, -4.5451e-01, -6.0625e-01, -1.7707e-01,  8.5962e-01,\n",
      "          4.1746e-01,  3.1149e-01,  1.4762e-01, -2.5914e-01,  1.5603e+00],\n",
      "        [ 4.7325e-01, -5.6498e-01,  7.8519e-01, -1.4749e+00,  8.5451e-01,\n",
      "          9.1588e-02,  9.7697e-01, -1.0214e+00,  1.6777e-01,  1.7729e-01],\n",
      "        [-6.0699e-01, -1.0353e+00, -1.1757e+00, -1.0584e+00,  1.2649e+00,\n",
      "         -9.0552e-03, -4.2450e-01,  1.9525e+00,  1.6006e-01,  2.0453e+00],\n",
      "        [ 3.3368e+00, -2.1774e+00,  4.2498e-01,  1.1774e+00, -1.1876e+00,\n",
      "          1.2601e+00, -5.8377e-01, -1.6138e+00,  7.1909e-01, -1.9385e+00],\n",
      "        [ 7.6137e-01, -5.2252e-01,  6.1700e-01,  1.7191e-01,  3.5332e-01,\n",
      "         -2.9286e-01,  7.7696e-01, -1.1822e+00,  1.3439e-01, -5.1545e-01],\n",
      "        [-8.2270e-01, -1.6279e+00, -7.7600e-01, -1.0651e+00,  1.7023e+00,\n",
      "          1.0223e-01, -3.3829e-01,  1.1943e+00,  2.3789e-01,  2.4292e+00],\n",
      "        [ 3.3211e+00, -2.6864e+00, -2.1372e-01, -9.0289e-02, -4.9209e-01,\n",
      "          7.8214e-01, -3.5149e-01, -6.9174e-01,  7.0809e-01,  1.4179e-01],\n",
      "        [-1.4724e+00,  3.1911e+00, -5.7965e-02,  5.2246e-01, -1.0297e+00,\n",
      "         -1.5703e-01,  7.9587e-02, -1.9835e-01,  5.4452e-01, -2.6694e-01],\n",
      "        [ 5.2042e-01, -8.7574e-01,  1.7546e-01,  1.3895e+00, -4.9154e-01,\n",
      "          1.0818e+00, -4.3420e-01, -4.1187e-01,  5.0001e-01, -7.6288e-01],\n",
      "        [-4.6051e-01, -2.1806e+00,  8.6544e-02, -5.4227e-01,  1.4769e+00,\n",
      "         -6.2969e-01, -2.5993e-01,  9.1181e-01,  1.8792e-01,  1.9047e+00],\n",
      "        [ 2.3124e-01, -1.5122e+00, -5.9722e-01,  7.6301e-01, -5.1682e-02,\n",
      "         -3.7827e-01, -8.1703e-01,  3.0985e+00, -3.1228e-01,  4.0048e-01],\n",
      "        [-8.4482e-01, -4.7905e-01,  3.9815e-01,  1.2329e+00, -1.0372e-01,\n",
      "          6.8402e-01,  1.0868e+00, -2.2882e-01,  3.2965e-01, -4.0243e-01],\n",
      "        [-9.4391e-01, -1.7276e+00, -4.0278e-01, -1.1966e-01,  2.2852e+00,\n",
      "          2.1449e-01, -1.7745e-01,  1.3102e-01,  2.1835e-02,  1.5759e+00],\n",
      "        [-1.0373e+00, -2.9585e-01, -1.5319e+00,  1.5993e-01,  6.0266e-01,\n",
      "          4.0021e-01, -1.3646e+00,  1.8198e+00,  3.6132e-01,  1.7384e+00],\n",
      "        [-5.5941e-01, -1.7121e+00,  2.0425e-01,  2.6633e-01,  4.5068e-01,\n",
      "          7.7493e-01,  2.5108e+00, -1.4030e+00,  1.6171e-01,  7.4696e-02],\n",
      "        [-4.2802e-01,  1.8119e-01,  3.4219e-01, -6.2464e-01,  1.0846e+00,\n",
      "         -1.2669e+00,  1.2606e+00, -3.8034e-02, -9.0451e-02,  4.4966e-02],\n",
      "        [ 6.2167e-02, -9.9991e-01, -7.6377e-01,  3.2699e-01,  4.0359e-02,\n",
      "          1.5582e+00,  3.5914e-01, -8.8420e-01,  8.6610e-01,  3.9126e-02],\n",
      "        [-6.5962e-01, -1.2025e+00,  1.6330e-01, -1.9066e-01,  1.5528e+00,\n",
      "         -1.7345e-01, -1.6236e-01,  2.9581e-01, -3.4507e-01,  1.2556e+00],\n",
      "        [ 4.7904e+00, -3.4040e+00,  4.2370e-01, -1.0601e+00, -3.7085e-01,\n",
      "          1.3357e+00,  1.0549e+00, -8.2278e-01, -4.1026e-04, -1.4678e+00],\n",
      "        [-6.6799e-02, -1.3020e+00, -2.3578e-01,  2.8357e-01,  4.3582e-01,\n",
      "          1.2899e-01, -4.4850e-01,  2.0931e+00, -3.7223e-01,  1.2334e+00],\n",
      "        [-3.6855e-01, -2.5590e+00, -2.0625e-01, -7.2516e-01,  2.6218e+00,\n",
      "          3.5260e-01,  2.9415e-01, -8.1790e-02,  1.2593e-01,  1.8299e+00],\n",
      "        [ 3.0195e+00, -2.6403e+00,  2.8003e-01,  1.2124e+00, -1.2222e+00,\n",
      "          8.4078e-01, -3.4647e-01, -6.5245e-01,  9.0016e-01, -7.3976e-01],\n",
      "        [-1.4519e+00,  1.7294e+00, -2.9714e-01,  2.0062e-01, -5.3016e-01,\n",
      "          3.4469e-01,  2.1558e-01, -1.1763e-01,  6.0452e-01, -1.8329e-01],\n",
      "        [-1.0631e+00, -1.4597e-03, -9.3382e-01,  2.4709e+00, -1.2374e+00,\n",
      "          8.9352e-01, -2.8077e-01,  5.5966e-01,  2.0299e-01,  3.0195e-02],\n",
      "        [-1.3204e+00,  1.3536e+00, -3.3830e-01,  3.2217e-01, -3.4384e-01,\n",
      "          2.5983e-01, -1.2871e-02,  2.1188e-01,  3.3446e-01,  2.5807e-01],\n",
      "        [-1.0915e+00, -8.6311e-01, -6.7506e-01,  2.6588e+00, -3.6921e-01,\n",
      "          1.4474e+00, -1.6185e-01, -9.5622e-01,  5.6326e-01,  4.5016e-02],\n",
      "        [ 1.6910e+00, -2.2178e+00,  9.0904e-01, -1.6205e+00,  9.8873e-01,\n",
      "          2.1559e-01,  1.6210e+00, -1.0175e+00, -3.4075e-01, -2.5803e-01],\n",
      "        [-9.6022e-01, -2.7629e-01,  8.5401e-01, -2.7186e-01, -6.5955e-02,\n",
      "         -6.0811e-01, -1.5388e+00,  1.9722e+00,  6.1696e-01,  7.0457e-01],\n",
      "        [ 4.5295e-01, -1.0565e+00,  2.7443e+00,  2.5321e-02, -1.0920e+00,\n",
      "          3.7110e-03,  3.4909e-01, -2.8396e-01,  4.5228e-01, -1.8196e+00],\n",
      "        [-5.6216e-01, -1.4793e+00, -1.1836e-02,  2.5185e-02, -3.7413e-02,\n",
      "         -4.1448e-01, -7.5911e-01,  2.4851e+00, -5.4995e-02,  1.0609e+00],\n",
      "        [-1.6288e+00,  2.4302e+00, -4.3604e-01,  7.5702e-02, -6.2815e-01,\n",
      "          1.9120e-01,  6.2220e-02,  1.5604e-03,  6.2171e-01,  1.9619e-02],\n",
      "        [ 3.7386e-01,  5.7086e-01,  1.2225e+00,  1.1792e+00, -2.0127e+00,\n",
      "          4.4378e-01,  5.9156e-01, -1.1577e+00,  8.1110e-01, -1.5477e+00],\n",
      "        [-1.5716e+00,  3.3043e+00, -1.1821e-01,  4.9650e-01, -1.3200e+00,\n",
      "         -4.5151e-02, -6.1483e-02, -6.4991e-01,  8.7302e-01, -2.7298e-01],\n",
      "        [-7.5706e-01,  1.8713e+00, -9.6020e-02,  8.2175e-02, -4.8900e-01,\n",
      "         -1.4591e-01, -4.4427e-02, -1.9235e-01,  1.6672e-01, -1.2079e-01],\n",
      "        [-8.4616e-01, -8.5063e-01, -2.8629e-01, -2.3284e-01,  2.8741e-01,\n",
      "         -3.7657e-01, -5.1174e-01,  2.3083e+00, -2.7671e-01,  1.4264e+00],\n",
      "        [-2.1613e+00, -3.4893e-01, -2.0523e-01, -3.1229e-01,  2.4073e+00,\n",
      "         -5.6236e-01, -8.8912e-01,  6.5524e-01,  5.2819e-01,  1.9805e+00],\n",
      "        [-3.7676e-01,  8.7755e-01,  1.2935e+00,  8.5823e-02, -7.8217e-02,\n",
      "         -3.7754e-03,  4.4668e-01, -1.1829e+00,  5.1375e-01, -3.9273e-01],\n",
      "        [-1.2719e+00,  2.5289e-01,  6.1618e-02,  1.3166e+00, -5.9522e-01,\n",
      "          5.0579e-01,  6.4527e-01, -4.0225e-01,  1.5707e-01, -2.9673e-01],\n",
      "        [ 1.2345e-01, -1.4061e+00, -5.5321e-01,  1.7273e+00, -6.7476e-01,\n",
      "          1.4482e+00,  8.7405e-02, -1.3274e+00,  1.1319e+00, -4.9011e-01],\n",
      "        [-2.0010e+00,  4.5560e-01,  2.4998e-03,  6.9747e-01, -7.7570e-02,\n",
      "          5.5163e-01,  3.0411e-01, -1.2403e-01,  4.5624e-01,  3.5361e-01],\n",
      "        [-6.9439e-01, -3.0562e-01,  1.6930e+00, -3.0058e-01,  4.5233e-01,\n",
      "         -6.9403e-01,  4.2407e-01, -2.1024e-01, -1.3702e-01,  5.9118e-02],\n",
      "        [-1.1275e+00, -2.9608e+00, -1.4641e+00,  6.8846e-02,  3.0236e+00,\n",
      "          8.3263e-01, -5.7946e-01,  3.2541e-01,  8.4300e-01,  2.5088e+00],\n",
      "        [-1.0354e-01, -2.1613e+00,  6.5008e-01, -5.4618e-01,  2.5685e+00,\n",
      "         -8.9262e-01,  2.8397e-01,  4.2691e-01, -2.1991e-01,  1.2836e+00],\n",
      "        [ 1.3179e-01, -7.8202e-01,  2.6453e-01,  2.5189e-01, -3.0590e-01,\n",
      "          6.2477e-01,  2.4491e+00, -9.9831e-01, -1.4772e-01, -5.3560e-01],\n",
      "        [-7.6129e-02, -9.8545e-01, -1.1744e-01,  1.9654e+00, -3.5157e-01,\n",
      "          7.3227e-01,  2.1464e-02, -1.4486e-01, -1.6106e-01, -4.2379e-03],\n",
      "        [ 7.9608e-01, -1.3417e+00, -1.2955e+00,  1.2432e-01,  8.7443e-01,\n",
      "          1.3913e+00, -1.5050e-01, -1.5523e-02, -1.1752e-01,  5.7715e-01],\n",
      "        [ 4.3793e-01, -7.2015e-01, -3.7907e-01,  1.1130e+00, -8.2845e-02,\n",
      "          7.6299e-01, -7.4092e-02, -6.5644e-01,  4.9862e-01, -3.8459e-01],\n",
      "        [ 3.5058e-02, -8.0895e-01,  1.3838e+00, -1.9466e-02,  9.1705e-01,\n",
      "         -8.8315e-01,  8.1102e-01, -5.9129e-01,  1.2895e-01, -3.7538e-01],\n",
      "        [ 1.6878e+00, -2.4385e+00, -3.7394e-01,  6.3863e-01, -7.4088e-01,\n",
      "          1.0496e+00,  2.8428e-01, -8.3585e-01,  1.6021e+00, -3.4641e-01],\n",
      "        [ 6.5436e-02, -2.8450e+00, -2.1493e-02, -5.1064e-01,  2.9940e+00,\n",
      "          1.7491e-01,  5.3527e-01, -1.6741e-01,  1.2059e-02,  1.2198e+00],\n",
      "        [-9.7253e-01,  2.6178e+00,  5.6102e-02,  3.7613e-01, -8.0450e-01,\n",
      "         -3.0679e-01, -4.6103e-01, -2.5825e-01,  3.1205e-01, -2.2237e-01],\n",
      "        [-1.0495e-01, -2.1089e+00, -7.0706e-01, -7.7735e-01,  1.9767e+00,\n",
      "         -2.4356e-02, -4.7600e-02,  1.2948e+00, -1.9322e-01,  2.3952e+00],\n",
      "        [ 2.2526e-01,  9.9757e-02, -3.9357e-01, -4.7296e-01,  1.8260e-01,\n",
      "          4.0007e-01, -2.6676e-01,  3.3490e-01,  1.7865e-01, -1.5882e-01],\n",
      "        [-1.4491e-01, -1.9817e+00, -4.8034e-01,  9.0569e-01,  5.4758e-01,\n",
      "          1.8450e-01, -5.2265e-02,  2.4180e+00, -5.6242e-01,  5.1134e-01],\n",
      "        [ 9.1469e-02, -9.5583e-01,  1.1879e+00, -1.6101e+00, -8.4008e-02,\n",
      "          9.0452e-02,  5.9678e-01, -9.1174e-01,  1.5013e+00,  4.2024e-01],\n",
      "        [-8.0225e-01, -8.3416e-01, -2.9717e-02, -3.4594e-01,  8.5678e-01,\n",
      "          2.5405e-01,  8.9586e-02, -4.4238e-02,  4.7185e-01,  1.2080e+00],\n",
      "        [-9.7419e-01, -1.2624e-01,  1.2263e+00,  6.9177e-01, -1.5486e-01,\n",
      "         -1.8423e-01, -3.5320e-01, -7.7899e-01,  6.3721e-01,  1.7518e-01],\n",
      "        [-8.5579e-01, -7.8018e-01,  4.7096e-01, -5.1016e-01,  1.0002e+00,\n",
      "         -5.3595e-01, -3.4266e-01,  1.8964e+00,  4.0244e-02,  9.7955e-01],\n",
      "        [-1.4202e+00, -7.0722e-01, -7.1879e-01,  5.5143e-01,  7.1155e-01,\n",
      "          6.9051e-01, -2.5288e-02, -2.9470e-01,  5.1833e-01,  8.8556e-01],\n",
      "        [ 2.5748e-01, -1.2507e-01,  6.7579e-01, -1.9532e-01,  4.3748e-01,\n",
      "         -6.4743e-01,  8.4237e-01,  2.3026e-01, -3.1508e-01, -4.3352e-01],\n",
      "        [-4.9358e-01, -1.5060e+00,  6.1699e-01, -1.1035e+00,  2.4550e+00,\n",
      "         -6.2610e-01, -2.2161e-01,  2.7537e-01,  2.8175e-01,  1.0041e+00],\n",
      "        [-1.4875e+00, -4.3237e-01, -3.5084e-01,  3.0687e+00, -5.0584e-01,\n",
      "          9.2293e-01, -9.8310e-01, -9.4573e-01,  1.1361e+00,  1.7931e-01],\n",
      "        [ 2.7851e+00, -1.8097e+00,  5.4764e-01, -7.0944e-01, -1.3629e+00,\n",
      "          8.1827e-01,  5.2995e-01,  1.3905e-01, -2.8294e-01, -4.6628e-01],\n",
      "        [ 4.5395e-01, -1.4516e+00, -7.9688e-01,  3.3955e-01,  1.7537e-01,\n",
      "         -4.8508e-01, -7.0649e-01,  3.1589e+00, -1.8786e-01,  2.7803e-01],\n",
      "        [ 4.6083e+00, -3.4235e+00,  8.2347e-01,  4.0148e-01, -1.2484e+00,\n",
      "          1.2900e+00,  1.9452e-02, -1.6528e+00,  5.1607e-01, -1.8512e+00],\n",
      "        [ 1.6007e+00, -1.2984e+00,  1.9017e+00,  1.4904e+00, -1.0116e+00,\n",
      "          2.7393e-01,  4.1729e-01, -8.2427e-01,  4.0971e-01, -1.8764e+00],\n",
      "        [-1.4493e+00,  1.0431e+00,  5.5839e-01, -9.4288e-02, -8.7936e-01,\n",
      "         -2.9928e-01, -9.3427e-01,  1.0646e+00,  1.2822e+00,  7.6258e-01],\n",
      "        [-1.5842e+00,  2.6825e+00, -4.0441e-01,  2.2652e-02, -8.9432e-01,\n",
      "          1.3008e-01,  1.3930e-01, -1.1685e-01,  8.2070e-01, -1.1933e-01],\n",
      "        [-1.7622e+00,  7.3900e-01, -4.4466e-01, -4.2134e-01,  9.7232e-01,\n",
      "         -3.0708e-01, -6.7011e-01,  1.9577e+00,  2.7517e-01,  9.0359e-01],\n",
      "        [-3.6511e-01,  6.7307e-02, -3.5746e-01,  2.6027e+00, -1.2895e+00,\n",
      "          1.0839e+00, -4.5193e-01, -1.0644e+00,  6.0937e-01, -7.9455e-01],\n",
      "        [-5.4875e-01, -2.8995e-01,  8.2005e-01, -6.0697e-01, -5.5061e-02,\n",
      "         -7.4545e-01,  1.4824e-01,  2.0123e+00, -2.6959e-01,  6.7178e-01],\n",
      "        [-1.8328e+00,  1.0870e+00, -7.8371e-01,  2.6527e-01, -1.3205e-01,\n",
      "          1.2209e-01, -5.7470e-01,  4.1548e-01,  1.1237e+00,  7.0836e-01],\n",
      "        [-3.5698e-01, -6.0508e-01, -3.5238e-01, -1.0218e+00,  1.6555e-01,\n",
      "         -3.5592e-01, -1.3701e+00,  3.9065e+00,  3.9650e-01,  1.1204e+00],\n",
      "        [-5.0983e-01, -1.9453e+00, -1.0462e+00, -2.5920e-01,  1.1990e+00,\n",
      "          6.8558e-01, -1.6164e-01,  1.6784e+00, -7.8997e-01,  2.1020e+00],\n",
      "        [ 1.5367e-01, -1.7261e+00,  6.6260e-01, -5.8606e-01,  3.3931e-01,\n",
      "          3.6214e-01,  2.6821e+00, -4.2454e-01, -1.8095e-01,  1.0432e-01],\n",
      "        [-5.7142e-01, -1.2186e+00,  4.4039e+00, -6.1011e-02, -2.8471e-01,\n",
      "         -1.3287e+00,  8.8264e-01, -9.8884e-01,  6.5963e-01, -1.2045e+00],\n",
      "        [-5.3560e-01, -1.7884e+00, -5.0931e-01,  8.1561e-03,  9.5256e-01,\n",
      "         -2.2075e-02, -7.8659e-01,  2.4689e+00, -3.7056e-01,  1.7113e+00],\n",
      "        [-5.1876e-01, -1.9370e-01, -4.1295e-01, -5.5168e-01,  5.7175e-01,\n",
      "          7.4202e-01, -4.4452e-01, -7.9225e-01,  9.9781e-01,  7.8333e-01],\n",
      "        [-9.0510e-01, -2.6228e+00, -9.9571e-01,  1.7336e-01,  3.1362e+00,\n",
      "          4.7385e-01, -1.3938e-01, -4.3341e-01,  4.1269e-01,  1.6844e+00],\n",
      "        [-1.9506e+00,  6.7284e-01, -2.3458e-01, -4.3837e-01,  1.0537e-01,\n",
      "         -1.0105e+00, -1.1321e+00,  3.2299e+00,  4.0666e-01,  1.1506e+00],\n",
      "        [-2.1408e-01, -1.5895e+00, -1.0596e+00,  2.0395e+00, -1.7724e-01,\n",
      "          1.4714e+00,  1.0129e+00, -6.2490e-01,  2.3076e-02, -1.4023e-01],\n",
      "        [-1.8088e-01, -2.1159e+00,  1.1151e+00, -1.2247e+00,  1.4110e+00,\n",
      "         -5.2799e-01,  2.8360e+00,  1.0243e-01, -6.4501e-01,  5.4443e-01],\n",
      "        [-1.5710e+00,  3.2571e+00,  4.8242e-01,  2.6691e-01, -7.2919e-01,\n",
      "         -3.2589e-01, -2.4873e-01, -3.9496e-01,  5.0746e-01, -4.3707e-01],\n",
      "        [ 1.2125e-01, -8.1265e-01, -2.4051e-01,  3.2313e+00, -1.4580e+00,\n",
      "          1.0410e+00, -1.5254e+00, -4.9155e-01,  9.9198e-01, -8.0305e-01],\n",
      "        [-9.0882e-01, -5.1786e-01,  4.2862e-01, -8.4637e-01,  5.3394e-01,\n",
      "         -1.4025e-01,  2.9691e+00, -1.0820e+00,  3.4564e-01,  1.1133e-01],\n",
      "        [-8.8621e-01,  1.6725e-01,  1.3282e-01, -5.2387e-01,  4.7761e-01,\n",
      "          3.1391e-02, -1.5354e-01,  1.3434e-01,  6.5787e-01,  6.5513e-01],\n",
      "        [-1.1496e+00, -5.4029e-01, -6.3112e-01,  2.7948e+00, -1.5379e+00,\n",
      "          1.2394e+00, -1.0944e+00,  6.3031e-01,  8.3630e-01,  1.4267e-02],\n",
      "        [-2.6532e+00,  1.9910e+00,  5.3068e-02,  1.6248e-01, -4.9459e-01,\n",
      "          2.5385e-01,  6.2841e-01, -5.0900e-01,  1.1298e+00,  1.5831e-01],\n",
      "        [-8.2772e-01, -5.9038e-01, -2.4802e-01, -1.4479e+00,  2.6656e+00,\n",
      "         -1.7681e-01,  5.1755e-01, -1.1725e-01,  1.2863e-01,  1.6894e+00],\n",
      "        [-1.5174e+00,  6.4386e-01, -4.9193e-01,  3.1739e-01, -9.5386e-02,\n",
      "          5.3998e-01,  1.1092e-02,  8.7619e-02,  4.4793e-01,  3.2142e-01],\n",
      "        [-2.0309e+00,  1.6202e+00, -6.6545e-01,  2.4791e-01, -1.8524e-01,\n",
      "          4.9144e-02,  2.0093e-01,  8.0732e-01,  3.0584e-01,  5.8670e-01],\n",
      "        [ 1.0073e+00, -1.2560e+00,  9.7645e-01, -8.8159e-01, -1.2789e-01,\n",
      "          3.6903e-01,  2.0528e+00, -1.1783e+00, -1.2817e-01, -6.7364e-01],\n",
      "        [-1.1287e+00, -1.8177e+00,  2.4763e-01, -5.9602e-01,  1.8297e+00,\n",
      "         -9.1682e-01, -1.3049e-01,  1.0548e+00,  1.1826e-01,  2.6632e+00]],\n",
      "       grad_fn=<AddmmBackward>)\n"
     ]
    }
   ],
   "source": [
    "iter_test = 0\n",
    "for images, labels in test_loader:\n",
    "    iter_test += 1\n",
    "    images = images.view(-1, 28*28)\n",
    "    outputs = model(images)\n",
    "    if iter_test == 1:\n",
    "        print('Outputs')\n",
    "        print(outputs)\n",
    "    _, predicted = torch.max(outputs.data, 1)"
   ]
  },
  {
   "cell_type": "markdown",
   "metadata": {},
   "source": [
    "**Printing output size**\n",
    "\n",
    "This produces a 100x10 matrix because each iteration has a batch size of 100 and each prediction across the 10 classes, with the largest number indicating the likely number it is predicting."
   ]
  },
  {
   "cell_type": "code",
   "execution_count": 68,
   "metadata": {},
   "outputs": [
    {
     "name": "stdout",
     "output_type": "stream",
     "text": [
      "Outputs\n",
      "torch.Size([100, 10])\n"
     ]
    }
   ],
   "source": [
    "iter_test = 0\n",
    "for images, labels in test_loader:\n",
    "    iter_test += 1\n",
    "    images = images.view(-1, 28*28)\n",
    "    outputs = model(images)\n",
    "    if iter_test == 1:\n",
    "        print('Outputs')\n",
    "        print(outputs.size())\n",
    "    _, predicted = torch.max(outputs.data, 1)"
   ]
  },
  {
   "cell_type": "markdown",
   "metadata": {},
   "source": [
    "**Printing one output**\n",
    "\n",
    "This would be a 1x10 matrix where the largest number is what the model thinks the image is. Here we can see that in the tensor, position 7 has the largest number, indicating the model thinks the image is 7.\n",
    "\n",
    "number 0: -0.4876\n",
    "\n",
    "number 1: -2.2708\n",
    "\n",
    "... \n",
    "\n",
    "number 7: 4.6617"
   ]
  },
  {
   "cell_type": "code",
   "execution_count": 69,
   "metadata": {},
   "outputs": [
    {
     "name": "stdout",
     "output_type": "stream",
     "text": [
      "OUTPUTS\n",
      "tensor([-0.4191, -1.1316, -0.3378,  0.0508,  0.1638, -0.4596, -1.1082,  3.2220,\n",
      "        -0.0993,  0.8355], grad_fn=<SliceBackward>)\n"
     ]
    }
   ],
   "source": [
    "iter_test = 0\n",
    "for images, labels in test_loader:\n",
    "    iter_test += 1\n",
    "    images = images.view(-1, 28*28)\n",
    "    outputs = model(images)\n",
    "    if iter_test == 1:\n",
    "        print('OUTPUTS')\n",
    "        print(outputs[0, :])\n",
    "    _, predicted = torch.max(outputs.data, 1)"
   ]
  },
  {
   "cell_type": "markdown",
   "metadata": {},
   "source": [
    "**Printing prediction output**\n",
    "\n",
    "Because our output is of size 100 (our batch size), our prediction size would also of the size 100."
   ]
  },
  {
   "cell_type": "code",
   "execution_count": 76,
   "metadata": {},
   "outputs": [
    {
     "name": "stdout",
     "output_type": "stream",
     "text": [
      "PREDICTION\n",
      "torch.Size([100])\n"
     ]
    }
   ],
   "source": [
    "iter_test = 0\n",
    "for images, labels in test_loader:\n",
    "    iter_test += 1\n",
    "    images = images.view(-1, 28*28)\n",
    "    outputs = model(images)\n",
    "    _, predicted = torch.max(outputs.data, 1)\n",
    "    if iter_test == 1:\n",
    "        print('PREDICTION')\n",
    "        print(predicted.size())"
   ]
  },
  {
   "cell_type": "markdown",
   "metadata": {},
   "source": [
    "**Print prediction value**\n",
    "\n",
    "We are printing our prediction which as verified above, should be digit 7."
   ]
  },
  {
   "cell_type": "code",
   "execution_count": 78,
   "metadata": {},
   "outputs": [
    {
     "name": "stdout",
     "output_type": "stream",
     "text": [
      "PREDICTION\n",
      "tensor(7)\n"
     ]
    }
   ],
   "source": [
    "iter_test = 0\n",
    "for images, labels in test_loader:\n",
    "    iter_test += 1\n",
    "    images = images.view(-1, 28*28)\n",
    "    outputs = model(images)\n",
    "    _, predicted = torch.max(outputs.data, 1)\n",
    "    if iter_test == 1:\n",
    "        print('PREDICTION')\n",
    "        print(predicted[0])"
   ]
  },
  {
   "cell_type": "markdown",
   "metadata": {},
   "source": [
    "**Print prediction, label and label size**\n",
    "\n",
    "We are trying to show what we are predicting and the actual values. In this case, we're predicting the right value 7!"
   ]
  },
  {
   "cell_type": "code",
   "execution_count": 79,
   "metadata": {},
   "outputs": [
    {
     "name": "stdout",
     "output_type": "stream",
     "text": [
      "PREDICTION\n",
      "tensor(7)\n",
      "\n",
      "\n",
      "LABEL SIZE\n",
      "torch.Size([100])\n",
      "\n",
      "\n",
      "LABEL FOR IMAGE 0\n",
      "tensor(7)\n"
     ]
    }
   ],
   "source": [
    "iter_test = 0\n",
    "for images, labels in test_loader:\n",
    "    iter_test += 1\n",
    "    images = images.view(-1, 28*28)\n",
    "    outputs = model(images)\n",
    "    _, predicted = torch.max(outputs.data, 1)\n",
    "    if iter_test == 1:\n",
    "        print('PREDICTION')\n",
    "        print(predicted[0])\n",
    "        print('\\n')\n",
    "        print('LABEL SIZE')\n",
    "        print(labels.size())\n",
    "        print('\\n')\n",
    "        print('LABEL FOR IMAGE 0')\n",
    "        print(labels[0])"
   ]
  },
  {
   "cell_type": "markdown",
   "metadata": {},
   "source": [
    "**Print second prediction and ground truth**\n",
    "\n",
    "Again, the prediction is correct. Naturally, as our model is quite competent in this simple task."
   ]
  },
  {
   "cell_type": "code",
   "execution_count": 80,
   "metadata": {},
   "outputs": [
    {
     "name": "stdout",
     "output_type": "stream",
     "text": [
      "PREDICTION\n",
      "tensor(2)\n",
      "LABEL SIZE\n",
      "torch.Size([100])\n",
      "LABEL FOR IMAGE 1\n",
      "tensor(2)\n"
     ]
    }
   ],
   "source": [
    "iter_test = 0\n",
    "for images, labels in test_loader:\n",
    "    iter_test += 1\n",
    "    images = images.view(-1, 28*28)\n",
    "    outputs = model(images)\n",
    "    _, predicted = torch.max(outputs.data, 1)\n",
    "\n",
    "    if iter_test == 1:\n",
    "        print('PREDICTION')\n",
    "        print(predicted[1])\n",
    "\n",
    "        print('LABEL SIZE')\n",
    "        print(labels.size())\n",
    "\n",
    "        print('LABEL FOR IMAGE 1')\n",
    "        print(labels[1])"
   ]
  },
  {
   "cell_type": "markdown",
   "metadata": {},
   "source": [
    "**Print accuracy**\n",
    "\n",
    "Now we know what each object represents, we can understand how we arrived at our accuracy numbers.\n",
    "    \n",
    "One last thing to note is that `correct.item()` has this syntax is because `correct` is a PyTorch tensor and to get the value to compute with `total` which is an integer, we need to do this."
   ]
  },
  {
   "cell_type": "code",
   "execution_count": 81,
   "metadata": {},
   "outputs": [
    {
     "name": "stdout",
     "output_type": "stream",
     "text": [
      "83.77\n"
     ]
    }
   ],
   "source": [
    "correct = 0\n",
    "total = 0\n",
    "iter_test = 0\n",
    "for images, labels in test_loader:\n",
    "    iter_test += 1\n",
    "    images = images.view(-1, 28*28)\n",
    "    outputs = model(images)\n",
    "    _, predicted = torch.max(outputs.data, 1)\n",
    "    \n",
    "    # total number of labels\n",
    "    total += labels.size(0)\n",
    "    \n",
    "    # total correct predictions\n",
    "    correct += (predicted == labels).sum()\n",
    "    \n",
    "accuracy = 100 * (correct.item() / total)\n",
    "\n",
    "print(accuracy)"
   ]
  },
  {
   "cell_type": "markdown",
   "metadata": {},
   "source": [
    "**Explanation of Python's `.sum()` function**\n",
    "\n",
    "Python's `.sum()` function allows you to do a comparison between two matrices and sum the ones that return `True` or in our case, those predictions that match actual labels (correct predictions)."
   ]
  },
  {
   "cell_type": "code",
   "execution_count": 82,
   "metadata": {},
   "outputs": [
    {
     "name": "stdout",
     "output_type": "stream",
     "text": [
      "[1. 1. 1. 1. 1. 1. 1. 1. 1. 1.]\n",
      "[1. 1. 1. 1. 1. 1. 1. 1. 1. 1.]\n",
      "[ True  True  True  True  True  True  True  True  True  True]\n",
      "10\n"
     ]
    }
   ],
   "source": [
    "import numpy as np\n",
    "a = np.ones((10))\n",
    "print(a)\n",
    "b = np.ones((10))\n",
    "print(b)\n",
    "\n",
    "print(a == b)\n",
    "\n",
    "print((a == b).sum())"
   ]
  },
  {
   "cell_type": "markdown",
   "metadata": {},
   "source": [
    "#### Saving Model"
   ]
  },
  {
   "cell_type": "markdown",
   "metadata": {},
   "source": [
    "**Saving PyTorch model**\n",
    "\n",
    "This is how you save your model. Feel free to just change `save_model = True` to save your model"
   ]
  },
  {
   "cell_type": "code",
   "execution_count": 87,
   "metadata": {},
   "outputs": [],
   "source": [
    "save_model = False\n",
    "if save_model is True:\n",
    "    torch.save(model.state_dict(), 'model.pkl')"
   ]
  },
  {
   "cell_type": "markdown",
   "metadata": {},
   "source": [
    "## 3. Building a Logistic Regression Model with PyTorch (GPU)"
   ]
  },
  {
   "cell_type": "markdown",
   "metadata": {},
   "source": [
    "**CPU version**\n",
    "\n",
    "The usual 7-step process, getting repetitive by now which we like."
   ]
  },
  {
   "cell_type": "code",
   "execution_count": 92,
   "metadata": {},
   "outputs": [
    {
     "name": "stdout",
     "output_type": "stream",
     "text": [
      "iteration: 500, loss: 1.799738883972168, accuracy: 65.65\n",
      "iteration: 1000, loss: 1.5458807945251465, accuracy: 74.9\n",
      "iteration: 1500, loss: 1.3627903461456299, accuracy: 78.62\n",
      "iteration: 2000, loss: 1.182202935218811, accuracy: 80.51\n",
      "iteration: 2500, loss: 1.090092420578003, accuracy: 81.69\n",
      "iteration: 3000, loss: 1.018148422241211, accuracy: 82.63\n"
     ]
    }
   ],
   "source": [
    "import torch\n",
    "import torch.nn as nn\n",
    "import torchvision.transforms as transforms\n",
    "import torchvision.datasets as dsets\n",
    "\n",
    "'''\n",
    "STEP 1: loading dataset\n",
    "'''\n",
    "train_dataset = dsets.MNIST(root='./data/MNIST/',\n",
    "                           train=True,\n",
    "                           transform=transforms.ToTensor(),\n",
    "                           download=True)\n",
    "test_dataset = dsets.MNIST(root='./data/MNIST/',\n",
    "                          train=False,\n",
    "                          transform=transforms.ToTensor())\n",
    "\n",
    "'''\n",
    "STEP 2 : making dataset iterable\n",
    "'''\n",
    "batch_size = 100\n",
    "n_iters = 3000\n",
    "num_epochs = n_iters / (len(train_dataset) / batch_size)\n",
    "num_epochs = int(num_epochs)\n",
    "\n",
    "train_loader = torch.utils.data.DataLoader(dataset=train_dataset,\n",
    "                                          batch_size = batch_size,\n",
    "                                          shuffle=True)\n",
    "\n",
    "test_loader = torch.utils.data.DataLoader(dataset=test_dataset,\n",
    "                                         batch_size = batch_size,\n",
    "                                         shuffle=False)\n",
    "\n",
    "'''\n",
    "STEP 3: create model class\n",
    "'''\n",
    "class LogisticRegressionModel(nn.Module):\n",
    "    def __init__(self, input_dim, output_dim):\n",
    "        super(LogisticRegressionModel, self).__init__()\n",
    "        self.linear = nn.Linear(input_dim, output_dim)\n",
    "        \n",
    "    def forward(self, x):\n",
    "        out = self.linear(x)\n",
    "        return out\n",
    "    \n",
    "'''\n",
    "STEP 4: instantiate model class\n",
    "'''\n",
    "input_dim = 28*28\n",
    "output_dim = 10\n",
    "\n",
    "model = LogisticRegressionModel(input_dim, output_dim)\n",
    "\n",
    "'''\n",
    "STEP 5: instantiate loss class\n",
    "'''\n",
    "criterion = nn.CrossEntropyLoss()\n",
    "\n",
    "'''\n",
    "STEP 6: instantiate optimizer class\n",
    "'''\n",
    "learning_rate = 0.001\n",
    "optimizer = torch.optim.SGD(model.parameters(), lr=learning_rate)\n",
    "\n",
    "\n",
    "'''\n",
    "STEP 7: train the model\n",
    "'''\n",
    "iter = 0\n",
    "for epoch in range(num_epochs):\n",
    "    for i, (images, labels) in enumerate(train_loader):\n",
    "        # load images\n",
    "        images = images.view(-1, 28*28)\n",
    "        labels = labels\n",
    "        \n",
    "        # clear gradients\n",
    "        optimizer.zero_grad()\n",
    "        \n",
    "        # forward pass to get output\n",
    "        # 100 x 10\n",
    "        outputs = model(images)\n",
    "        \n",
    "        # calculate loss: softmax -> cross entropy loss\n",
    "        loss = criterion(outputs, labels)\n",
    "        \n",
    "        # getting gradients\n",
    "        loss.backward()\n",
    "        \n",
    "        # updating parameters\n",
    "        optimizer.step()\n",
    "        \n",
    "        iter += 1\n",
    "        if iter % 500 == 0:\n",
    "            # calculate accuracy\n",
    "            correct = 0\n",
    "            total = 0\n",
    "            \n",
    "            # iterate through test dataset\n",
    "            for images, labels in test_loader:\n",
    "                images = images.view(-1, 28*28)\n",
    "                # forward\n",
    "                outputs = model(images)\n",
    "                # get predictions\n",
    "                _, predicted = torch.max(outputs.data, 1)\n",
    "                # total number of labels\n",
    "                total += labels.size(0)\n",
    "                # total correct predictions\n",
    "                correct += (predicted==labels).sum()\n",
    "                \n",
    "            accuracy = 100*correct.item()/total\n",
    "            \n",
    "            # print loss\n",
    "            print('iteration: {}, loss: {}, accuracy: {}'.format(iter, loss.item(), accuracy))"
   ]
  },
  {
   "cell_type": "markdown",
   "metadata": {},
   "source": [
    "**GPU Version**\n",
    "\n",
    "2 things must be on GPU \n",
    "- `model`\n",
    "- `tensors`\n",
    "\n",
    "Remember step 4 and 7 will be affected and this will be the same for all model building moving forward."
   ]
  },
  {
   "cell_type": "code",
   "execution_count": 93,
   "metadata": {},
   "outputs": [
    {
     "name": "stdout",
     "output_type": "stream",
     "text": [
      "iteration: 500, loss: 1.871890902519226, accuracy: 67.89\n",
      "iteration: 1000, loss: 1.5203700065612793, accuracy: 76.31\n",
      "iteration: 1500, loss: 1.3976773023605347, accuracy: 79.15\n",
      "iteration: 2000, loss: 1.1869350671768188, accuracy: 81.0\n",
      "iteration: 2500, loss: 1.069792628288269, accuracy: 81.94\n",
      "iteration: 3000, loss: 1.1011682748794556, accuracy: 82.86\n"
     ]
    }
   ],
   "source": [
    "import torch\n",
    "import torch.nn as nn\n",
    "import torchvision.transforms as transforms\n",
    "import torchvision.datasets as dsets\n",
    "\n",
    "'''\n",
    "STEP 1: loading dataset\n",
    "'''\n",
    "train_dataset = dsets.MNIST(root='./data/MNIST/',\n",
    "                           train=True,\n",
    "                           transform=transforms.ToTensor(),\n",
    "                           download=True)\n",
    "test_dataset = dsets.MNIST(root='./data/MNIST/',\n",
    "                          train=False,\n",
    "                          transform=transforms.ToTensor())\n",
    "\n",
    "'''\n",
    "STEP 2 : making dataset iterable\n",
    "'''\n",
    "batch_size = 100\n",
    "n_iters = 3000\n",
    "num_epochs = n_iters / (len(train_dataset) / batch_size)\n",
    "num_epochs = int(num_epochs)\n",
    "\n",
    "train_loader = torch.utils.data.DataLoader(dataset=train_dataset,\n",
    "                                          batch_size = batch_size,\n",
    "                                          shuffle=True)\n",
    "\n",
    "test_loader = torch.utils.data.DataLoader(dataset=test_dataset,\n",
    "                                         batch_size = batch_size,\n",
    "                                         shuffle=False)\n",
    "\n",
    "'''\n",
    "STEP 3: create model class\n",
    "'''\n",
    "class LogisticRegressionModel(nn.Module):\n",
    "    def __init__(self, input_dim, output_dim):\n",
    "        super(LogisticRegressionModel, self).__init__()\n",
    "        self.linear = nn.Linear(input_dim, output_dim)\n",
    "        \n",
    "    def forward(self, x):\n",
    "        out = self.linear(x)\n",
    "        return out\n",
    "    \n",
    "'''\n",
    "STEP 4: instantiate model class\n",
    "'''\n",
    "input_dim = 28*28\n",
    "output_dim = 10\n",
    "\n",
    "model = LogisticRegressionModel(input_dim, output_dim)\n",
    "\n",
    "#######################\n",
    "#  USE GPU FOR MODEL  #\n",
    "#######################\n",
    "\n",
    "device = torch.device(\"cuda:0\" if torch.cuda.is_available() else \"cpu\")\n",
    "model.to(device)\n",
    "\n",
    "'''\n",
    "STEP 5: instantiate loss class\n",
    "'''\n",
    "criterion = nn.CrossEntropyLoss()\n",
    "\n",
    "'''\n",
    "STEP 6: instantiate optimizer class\n",
    "'''\n",
    "learning_rate = 0.001\n",
    "optimizer = torch.optim.SGD(model.parameters(), lr=learning_rate)\n",
    "\n",
    "\n",
    "'''\n",
    "STEP 7: train the model\n",
    "'''\n",
    "iter = 0\n",
    "for epoch in range(num_epochs):\n",
    "    for i, (images, labels) in enumerate(train_loader):\n",
    "        # load images\n",
    "        \n",
    "        ########################\n",
    "        #  USE GPU FOR TENSOR  #\n",
    "        ########################\n",
    "        images = images.view(-1, 28*28).to(device)\n",
    "        labels = labels.to(device)\n",
    "        \n",
    "        # clear gradients\n",
    "        optimizer.zero_grad()\n",
    "        \n",
    "        # forward pass to get output\n",
    "        # 100 x 10\n",
    "        outputs = model(images)\n",
    "        \n",
    "        # calculate loss: softmax -> cross entropy loss\n",
    "        loss = criterion(outputs, labels)\n",
    "        \n",
    "        # getting gradients\n",
    "        loss.backward()\n",
    "        \n",
    "        # updating parameters\n",
    "        optimizer.step()\n",
    "        \n",
    "        iter += 1\n",
    "        if iter % 500 == 0:\n",
    "            # calculate accuracy\n",
    "            correct = 0\n",
    "            total = 0\n",
    "            \n",
    "            # iterate through test dataset\n",
    "            for images, labels in test_loader:\n",
    "                ########################\n",
    "                #  USE GPU FOR TENSOR  #\n",
    "                ########################\n",
    "                images = images.view(-1, 28*28).to(device)\n",
    "                \n",
    "                # forward\n",
    "                outputs = model(images)\n",
    "                \n",
    "                # get predictions\n",
    "                _, predicted = torch.max(outputs.data, 1)\n",
    "                \n",
    "                # total number of labels\n",
    "                total += labels.size(0)\n",
    "                \n",
    "                # total correct predictions\n",
    "                ########################\n",
    "                #  USE GPU FOR TENSOR  #\n",
    "                ########################\n",
    "                if torch.cuda.is_available():\n",
    "                    correct += (predicted.cpu()==labels.cpu()).sum()\n",
    "                else:\n",
    "                    correct += (predicted==labels).sum()\n",
    "            accuracy = 100*correct.item()/total\n",
    "            \n",
    "            # print loss\n",
    "            print('iteration: {}, loss: {}, accuracy: {}'.format(iter, loss.item(), accuracy))"
   ]
  },
  {
   "cell_type": "markdown",
   "metadata": {},
   "source": [
    "## Summary\n",
    "\n",
    "- **Logistic regression** basics\n",
    "- **Problems** of **linear regression**\n",
    "- **In-depth** Logistic Regression\n",
    "    1. Get logits\n",
    "    2. Get softmax\n",
    "    3. Get cross-entropy loss\n",
    "- **Aim**: reduce cross-entropy loss\n",
    "- Built a **logistic regression model** in **CPU and GPU**\n",
    "    - Step 1: Load Dataset\n",
    "    - Step 2: Make Dataset Iterable\n",
    "    - Step 3: Create Model Class\n",
    "    - Step 4: Instantiate Model Class\n",
    "    - Step 5: Instantiate Loss Class\n",
    "    - Step 6: Instantiate Optimizer Class\n",
    "    - Step 7: Train Model\n",
    "- Important things to be on **GPU**\n",
    "    - `model`\n",
    "    - `tensors with gradients`"
   ]
  },
  {
   "cell_type": "markdown",
   "metadata": {},
   "source": [
    "# Feedforward Neural Network with PyTorch\n",
    "## 1. About Feedforward Neural Network"
   ]
  },
  {
   "cell_type": "markdown",
   "metadata": {},
   "source": [
    "### 1.1 Logistic Regression Transition to Neural Networks\n",
    "\n",
    "#### Logistic Regression Review\n",
    "\n",
    "<img src=\"./images/lab2/cross_entropy_final_4.png\" alt=\"no_image\" style=\"width: 900px;\"/>"
   ]
  },
  {
   "cell_type": "markdown",
   "metadata": {},
   "source": [
    "**Define logistic regression model**\n",
    "\n",
    "Import our relevant torch modules."
   ]
  },
  {
   "cell_type": "code",
   "execution_count": 1,
   "metadata": {},
   "outputs": [],
   "source": [
    "import torch\n",
    "import torch.nn as nn"
   ]
  },
  {
   "cell_type": "markdown",
   "metadata": {},
   "source": [
    "Define our model class."
   ]
  },
  {
   "cell_type": "code",
   "execution_count": 2,
   "metadata": {},
   "outputs": [],
   "source": [
    "class LogisticRegressionModel(nn.Module):\n",
    "    def __init__(self, input_dim, output_dim):\n",
    "        super(LogisticRegressionModel, self).__init__()\n",
    "        self.linear = nn.Linear(input_dim, output_dim)\n",
    "        \n",
    "    def forward(self, x):\n",
    "        out = self.linear(x)\n",
    "        return x"
   ]
  },
  {
   "cell_type": "markdown",
   "metadata": {},
   "source": [
    "Instantiate the logistic regression model."
   ]
  },
  {
   "cell_type": "code",
   "execution_count": 3,
   "metadata": {},
   "outputs": [],
   "source": [
    "input_dim = 28*28\n",
    "output_dim = 10\n",
    "\n",
    "model = LogisticRegressionModel(input_dim, output_dim)"
   ]
  },
  {
   "cell_type": "markdown",
   "metadata": {},
   "source": [
    "When we inspect the model, we would have an input size of 784 (derived from 28 x 28) and output size of 10 (which is the number of classes we are classifying from 0 to 9)."
   ]
  },
  {
   "cell_type": "code",
   "execution_count": 4,
   "metadata": {},
   "outputs": [
    {
     "name": "stdout",
     "output_type": "stream",
     "text": [
      "LogisticRegressionModel(\n",
      "  (linear): Linear(in_features=784, out_features=10, bias=True)\n",
      ")\n"
     ]
    }
   ],
   "source": [
    "print(model)"
   ]
  },
  {
   "cell_type": "markdown",
   "metadata": {},
   "source": [
    "#### Logistic Regression Problems\n",
    "- Can represent **linear** functions well\n",
    "    - $ y = 2x + 3$\n",
    "    - $ y = x_1 + x_2 $\n",
    "    - $ y = x_1 + 3x_2 + 4x_3 $\n",
    "- Cannot represent **non-linear** functions\n",
    "    - $ y = 4x_1 + 2x_2^2 +3x_3^3 $\n",
    "    - $ y = x_1x_2$\n",
    "       \n",
    "### 1.2 Introducing a Non-linear Function\n",
    "\n",
    "<img src=\"./images/lab2/logistic_regression_comparison_nn5.png\" alt=\"no_image\" style=\"width: 900px;\"/>\n",
    "\n",
    "\n",
    "### Non-linear Function In-Depth\n",
    "- Function: takes a number & perform mathematical operation\n",
    "- Common Types of Non-linearity\n",
    "    - ReLUs (Rectified Linear Units)      \n",
    "    - Sigmoid     \n",
    "    - Tanh\n",
    "\n",
    "#### Sigmoid (Logistic)\n",
    "- $\\sigma(x) = \\frac{1}{1 + e^{-x}}$\n",
    "- Input number $\\rightarrow$ [0, 1]\n",
    "    - Large negative number $\\rightarrow$ 0\n",
    "    - Large positive number $\\rightarrow$ 1\n",
    "- Cons: \n",
    "    1. Activation saturates at 0 or 1 with **gradients $\\approx$ 0**\n",
    "        - No signal to update weights $\\rightarrow$ **cannot learn**\n",
    "        - **Solution**: Have to carefully initialize weights to prevent this\n",
    "    2. Outputs not centered around 0 \n",
    "        - If output always positive $\\rightarrow$ gradients always positive or negative $\\rightarrow$ **bad for gradient updates** \n",
    "\n",
    "#### Tanh\n",
    "- $\\tanh(x) = 2 \\sigma(2x) -1$\n",
    "    - A scaled sigmoid function\n",
    "- Input number $\\rightarrow$ [-1, 1]\n",
    "- Cons: \n",
    "    1. Activation saturates at 0 or 1 with **gradients $\\approx$ 0**\n",
    "        - No signal to update weights $\\rightarrow$ **cannot learn**\n",
    "        - **Solution**: Have to carefully initialize weights to prevent this\n",
    "\n",
    " \n",
    "#### ReLUs\n",
    "- $f(x) = \\max(0, x)$\n",
    "- Pros:\n",
    "    1. Accelerates convergence $\\rightarrow$ **train faster**\n",
    "    2. **Less computationally expensive operation** compared to Sigmoid/Tanh exponentials\n",
    "- Cons:\n",
    "    1. Many ReLU units \"die\" $\\rightarrow$ **gradients = 0** forever\n",
    "        - **Solution**: careful learning rate choice\n",
    "      \n"
   ]
  },
  {
   "cell_type": "markdown",
   "metadata": {},
   "source": [
    "## 2. Building a Feedforward Neural Network with PyTorch\n",
    "\n",
    "### Model A: 1 Hidden Layer Feedforward Neural Network (Sigmoid Activation)\n",
    "<img src=\"./images/lab2/nn1.png\" alt=\"no_image\" style=\"width: 900px;\"/>\n",
    "\n",
    "### Steps\n",
    "- Step 1: Load Dataset\n",
    "- Step 2: Make Dataset Iterable\n",
    "- Step 3: Create Model Class\n",
    "- Step 4: Instantiate Model Class\n",
    "- Step 5: Instantiate Loss Class\n",
    "- Step 6: Instantiate Optimizer Class\n",
    "- Step 7: Train Model"
   ]
  },
  {
   "cell_type": "markdown",
   "metadata": {},
   "source": [
    "### Step 1: Loading MNIST Train Dataset\n",
    "**Images from 1 to 9**\n",
    "\n",
    "Similar to what we did in logistic regression, we will be using the same MNIST dataset where we load our training and testing datasets."
   ]
  },
  {
   "cell_type": "code",
   "execution_count": 5,
   "metadata": {},
   "outputs": [],
   "source": [
    "import torch\n",
    "import torch.nn as nn\n",
    "import torchvision.transforms as transforms\n",
    "import torchvision.datasets as dsets"
   ]
  },
  {
   "cell_type": "code",
   "execution_count": 6,
   "metadata": {},
   "outputs": [
    {
     "name": "stderr",
     "output_type": "stream",
     "text": [
      "\r",
      "0it [00:00, ?it/s]"
     ]
    },
    {
     "name": "stdout",
     "output_type": "stream",
     "text": [
      "Downloading http://yann.lecun.com/exdb/mnist/train-images-idx3-ubyte.gz to ./data/MINST/MNIST\\raw\\train-images-idx3-ubyte.gz\n"
     ]
    },
    {
     "name": "stderr",
     "output_type": "stream",
     "text": [
      "9920512it [00:03, 3243695.80it/s]                                                                                      \n"
     ]
    },
    {
     "name": "stdout",
     "output_type": "stream",
     "text": [
      "Extracting ./data/MINST/MNIST\\raw\\train-images-idx3-ubyte.gz to ./data/MINST/MNIST\\raw\n"
     ]
    },
    {
     "name": "stderr",
     "output_type": "stream",
     "text": [
      "\r",
      "0it [00:00, ?it/s]"
     ]
    },
    {
     "name": "stdout",
     "output_type": "stream",
     "text": [
      "Downloading http://yann.lecun.com/exdb/mnist/train-labels-idx1-ubyte.gz to ./data/MINST/MNIST\\raw\\train-labels-idx1-ubyte.gz\n"
     ]
    },
    {
     "name": "stderr",
     "output_type": "stream",
     "text": [
      "32768it [00:00, 64672.01it/s]                                                                                          \n",
      "0it [00:00, ?it/s]"
     ]
    },
    {
     "name": "stdout",
     "output_type": "stream",
     "text": [
      "Extracting ./data/MINST/MNIST\\raw\\train-labels-idx1-ubyte.gz to ./data/MINST/MNIST\\raw\n",
      "Downloading http://yann.lecun.com/exdb/mnist/t10k-images-idx3-ubyte.gz to ./data/MINST/MNIST\\raw\\t10k-images-idx3-ubyte.gz\n"
     ]
    },
    {
     "name": "stderr",
     "output_type": "stream",
     "text": [
      "1654784it [00:01, 1111327.35it/s]                                                                                      \n",
      "0it [00:00, ?it/s]"
     ]
    },
    {
     "name": "stdout",
     "output_type": "stream",
     "text": [
      "Extracting ./data/MINST/MNIST\\raw\\t10k-images-idx3-ubyte.gz to ./data/MINST/MNIST\\raw\n",
      "Downloading http://yann.lecun.com/exdb/mnist/t10k-labels-idx1-ubyte.gz to ./data/MINST/MNIST\\raw\\t10k-labels-idx1-ubyte.gz\n"
     ]
    },
    {
     "name": "stderr",
     "output_type": "stream",
     "text": [
      "8192it [00:00, 19416.33it/s]                                                                                           \n"
     ]
    },
    {
     "name": "stdout",
     "output_type": "stream",
     "text": [
      "Extracting ./data/MINST/MNIST\\raw\\t10k-labels-idx1-ubyte.gz to ./data/MINST/MNIST\\raw\n",
      "Processing...\n",
      "Done!\n"
     ]
    }
   ],
   "source": [
    "train_dataset = dsets.MNIST(root='./data/MINST/',\n",
    "                           train=True,\n",
    "                           transform=transforms.ToTensor(),\n",
    "                           download=True)\n",
    "test_dataset = dsets.MNIST(root='./data/MINST/',\n",
    "                           train=False,\n",
    "                           transform=transforms.ToTensor())"
   ]
  },
  {
   "cell_type": "markdown",
   "metadata": {},
   "source": [
    "### Step 2: Make Dataset Iterable"
   ]
  },
  {
   "cell_type": "markdown",
   "metadata": {},
   "source": [
    "**Batch sizes and iterations**\n",
    "\n",
    "Because we have 60000 training samples (images), we need to split them up to small groups (batches) and pass these batches of samples to our feedforward neural network subsesquently.\n",
    "\n",
    "There are a few reasons why we split them into batches. Passing your whole dataset as a single batch would:\n",
    "\n",
    "(1) require a lot of RAM/VRAM on your CPU/GPU and this might result in Out-of-Memory (OOM) errors.\n",
    "\n",
    "(2) cause unstable training if you just use all the errors accumulated in 60,000 images to update the model rather than gradually update the model. In layman terms, imagine you accumulated errors for a student taking an exam with 60,000 questions and punish the student all at the same time. It is much harder for the student to learn compared to letting the student learn it made mistakes and did well in smaller batches of questions like mini-tests!\n",
    "\n",
    "If we have 60,000 images and we want a batch size of 100, then we would have 600 iterations where each iteration involves passing 100 images to the model and getting their respective predictions."
   ]
  },
  {
   "cell_type": "code",
   "execution_count": 7,
   "metadata": {},
   "outputs": [
    {
     "data": {
      "text/plain": [
       "600.0"
      ]
     },
     "execution_count": 7,
     "metadata": {},
     "output_type": "execute_result"
    }
   ],
   "source": [
    "60000/100"
   ]
  },
  {
   "cell_type": "markdown",
   "metadata": {},
   "source": [
    "**Epochs**\n",
    "\n",
    "An epoch means that you have successfully passed the whole training set, 60,000 images, to the model. Continuing our example above, an epoch consists of 600 iterations.\n",
    "\n",
    "If we want to go through the whole dataset 5 times (5 epochs) for the model to learn, then we need 3000 iterations (600 x 5)."
   ]
  },
  {
   "cell_type": "code",
   "execution_count": 8,
   "metadata": {},
   "outputs": [
    {
     "data": {
      "text/plain": [
       "3000"
      ]
     },
     "execution_count": 8,
     "metadata": {},
     "output_type": "execute_result"
    }
   ],
   "source": [
    "600 * 5"
   ]
  },
  {
   "cell_type": "markdown",
   "metadata": {},
   "source": [
    "**Bringing batch size, iterations and epochs together**\n",
    "\n",
    "As we have gone through above, we want to have 5 epochs, where each epoch would have 600 iterations and each iteration has a batch size of 100.\n",
    "\n",
    "Because we want 5 epochs, we need a total of 3000 iterations."
   ]
  },
  {
   "cell_type": "code",
   "execution_count": 9,
   "metadata": {},
   "outputs": [],
   "source": [
    "batch_size = 100\n",
    "n_iters = 3000 # total data / batch_size * epoch\n",
    "num_epochs = n_iters / (len(train_dataset) / batch_size)\n",
    "num_epochs = int(num_epochs)\n",
    "\n",
    "train_loader = torch.utils.data.DataLoader(dataset=train_dataset,\n",
    "                                          batch_size=batch_size,\n",
    "                                          shuffle=True)\n",
    "test_loader = torch.utils.data.DataLoader(dataset=test_dataset,\n",
    "                                         batch_size=batch_size,\n",
    "                                         shuffle=False)"
   ]
  },
  {
   "cell_type": "markdown",
   "metadata": {},
   "source": [
    "### Step 3: Create Model Class"
   ]
  },
  {
   "cell_type": "markdown",
   "metadata": {},
   "source": [
    "**Creating our feedforward neural network**\n",
    "\n",
    "Compared to logistic regression with only a single linear layer, we know for an FNN we need an additional linear layer and non-linear layer.\n",
    "\n",
    "This translates to just 4 more lines of code!"
   ]
  },
  {
   "cell_type": "code",
   "execution_count": 10,
   "metadata": {},
   "outputs": [],
   "source": [
    "class FeedforwardNeuralNetModel(nn.Module):\n",
    "    def __init__(self, input_dim, hidden_dim, output_dim):\n",
    "        super(FeedforwardNeuralNetModel, self).__init__()\n",
    "        # linear function\n",
    "        self.fc1 = nn.Linear(input_dim, hidden_dim)\n",
    "        \n",
    "        # non-linearity\n",
    "        self.sigmoid = nn.Sigmoid\n",
    "        \n",
    "        # linear function\n",
    "        self.fc2 = nn.Linear(hidden_dim, output_dim)\n",
    "        \n",
    "    def forward(self, x):\n",
    "        out = self.fc1(x)\n",
    "        out = self.sigmoid(out)\n",
    "        out = self.fc2(out)\n",
    "        return out"
   ]
  },
  {
   "cell_type": "markdown",
   "metadata": {},
   "source": [
    "### Step 4: Instantiate Model Class\n",
    "\n",
    "- **Input** dimension: **784** \n",
    "    - Size of image\n",
    "    - $28 \\times 28 = 784$\n",
    "- **Output** dimension: **10**\n",
    "    - 0, 1, 2, 3, 4, 5, 6, 7, 8, 9\n",
    "- **Hidden** dimension: **100**\n",
    "    - Can be any number\n",
    "    - Similar term\n",
    "        - Number of neurons\n",
    "        - Number of non-linear activation functions\n"
   ]
  },
  {
   "cell_type": "markdown",
   "metadata": {},
   "source": [
    "**Instantiating our model class**\n",
    "\n",
    "Our input size is determined by the size of the image (numbers ranging from 0 to 9) which has a width of 28 pixels and a height of 28 pixels. Hence the size of our input is 784 (28 x 28).\n",
    "\n",
    "Our output size is what we are trying to predict. When we pass an image to our model, it will try to predict if it's 0, 1, 2, 3, 4, 5, 6, 7, 8, or 9. That is a total of 10 classes, hence we have an output size of 10.\n",
    "\n",
    "Now the tricky part is in determining our hidden layer size, that is the size of our first linear layer prior to the non-linear layer. This can be any number, a larger number implies a bigger model with more parameters. Intuitively we think a bigger model equates to a better model, but a bigger model requires more training samples to learn and converge to a good model (also called curse of dimensionality). Hence, it is wise to pick the model size for the problem at hand. Because it is a simple problem of recognizing digits, we typically would not need a big model to achieve state-of-the-art results.\n",
    "\n",
    "On the flipside, too small of a hidden size would mean there would be insufficient model capacity to predict competently. In layman terms, too small of a capacity implies a smaller brain capacity so no matter how many training samples you give it, it has a maximum capacity in terms of its predictive power."
   ]
  },
  {
   "cell_type": "code",
   "execution_count": 11,
   "metadata": {},
   "outputs": [],
   "source": [
    "input_dim = 28*28\n",
    "hidden_dim = 100\n",
    "output_dim = 10\n",
    "\n",
    "model = FeedforwardNeuralNetModel(input_dim, hidden_dim, output_dim)"
   ]
  },
  {
   "cell_type": "markdown",
   "metadata": {},
   "source": [
    "### Step 5: Instantiate Loss Class\n",
    "\n",
    "- Feedforward Neural Network: **Cross Entropy Loss**\n",
    "    - _Logistic Regression_: **Cross Entropy Loss**\n",
    "    - _Linear Regression_: **MSE**"
   ]
  },
  {
   "cell_type": "markdown",
   "metadata": {},
   "source": [
    "**Loss class**\n",
    "\n",
    "This is exactly the same as what we did in logistic regression. Because we are going through a classification problem, cross entropy function is required to compute the loss between our softmax outputs and our binary labels."
   ]
  },
  {
   "cell_type": "code",
   "execution_count": 12,
   "metadata": {},
   "outputs": [],
   "source": [
    "criterion = nn.CrossEntropyLoss()"
   ]
  },
  {
   "cell_type": "markdown",
   "metadata": {},
   "source": [
    "### Step 6: Instantiate Optimizer Class\n",
    "- Simplified equation\n",
    "    - $\\theta = \\theta - \\eta \\cdot \\nabla_\\theta$\n",
    "        - $\\theta$: parameters (our tensors with gradient accumulation capabilities)\n",
    "        - $\\eta$: learning rate (how fast we want to learn)\n",
    "        - $\\nabla_\\theta$: parameters' gradients\n",
    "- Even simplier equation\n",
    "    - `parameters = parameters - learning_rate * parameters_gradients`\n",
    "    - **At every iteration, we update our model's parameters**"
   ]
  },
  {
   "cell_type": "markdown",
   "metadata": {},
   "source": [
    "**Optimizer class**\n",
    "\n",
    "Learning rate determines how fast the algorithm learns. Too small and the algorithm learns too slowly, too large and the algorithm learns too fast resulting in instabilities.\n",
    "\n",
    "Intuitively, we would think a larger learning rate would be better because we learn faster. But that's not true. Imagine we pass 10 images to a human to learn how to recognize whether the image is a hot dog or not, and it got half right and half wrong.\n",
    "\n",
    "A well defined learning rate (neither too small or large) is equivalent to rewarding the human with a sweet for getting the first half right, and punishing the other half the human got wrong with a smack on the palm.\n",
    "\n",
    "A large learning rate would be equivalent to feeding a thousand sweets to the human and smacking a thousand times on the human's palm. This would lead in a very unstable learning environment. Similarly, we will observe that the algorithm's convergence path will be extremely unstable if you use a large learning rate without reducing it subsequently.\n",
    "\n",
    "We are using an optimization algorithm called Stochastic Gradient Descent (SGD) which is essentially what we covered above on calculating the parameters' gradients multiplied by the learning rate then using it to update our parameters gradually. There's an in-depth analysis of various optimization algorithms on top of SGD in another section."
   ]
  },
  {
   "cell_type": "code",
   "execution_count": 13,
   "metadata": {},
   "outputs": [],
   "source": [
    "learning_rate = 0.1\n",
    "\n",
    "optimizer = torch.optim.SGD(model.parameters(), lr=learning_rate)"
   ]
  },
  {
   "cell_type": "markdown",
   "metadata": {},
   "source": [
    "### Parameters In-Depth"
   ]
  },
  {
   "cell_type": "markdown",
   "metadata": {},
   "source": [
    "**Linear layers' parameters**\n",
    "\n",
    "In a simple linear layer it's $Y = AX + B$, and our parameters are $A$ and bias $B$. \n",
    "    \n",
    "Hence, each linear layer would have 2 groups of parameters  $A$ and $B$. It is critical to take note that our non-linear layers have no parameters to update. They are merely mathematical functions performed on $Y$, the output of our linear layers.\n",
    "    \n",
    "This would return a Python generator object, so you need to call list on the generator object to access anything meaningful."
   ]
  },
  {
   "cell_type": "code",
   "execution_count": 14,
   "metadata": {},
   "outputs": [
    {
     "name": "stdout",
     "output_type": "stream",
     "text": [
      "<generator object Module.parameters at 0x000001DD9AFB8A98>\n"
     ]
    }
   ],
   "source": [
    "print(model.parameters())"
   ]
  },
  {
   "cell_type": "markdown",
   "metadata": {},
   "source": [
    "Here we call list on the generator object and getting the length of the list. This would return 4 because we've 2 linear layers, and each layer has 2 groups of parameters $A$ and $b$."
   ]
  },
  {
   "cell_type": "code",
   "execution_count": 15,
   "metadata": {},
   "outputs": [
    {
     "name": "stdout",
     "output_type": "stream",
     "text": [
      "4\n"
     ]
    }
   ],
   "source": [
    "print(len(list(model.parameters())))"
   ]
  },
  {
   "cell_type": "markdown",
   "metadata": {},
   "source": [
    "Our first linear layer parameters, $A_1$, would be of size 100 x 784. This is because we've an input size of 784 (28 x 28) and a hidden size of 100."
   ]
  },
  {
   "cell_type": "code",
   "execution_count": 16,
   "metadata": {},
   "outputs": [
    {
     "name": "stdout",
     "output_type": "stream",
     "text": [
      "torch.Size([100, 784])\n"
     ]
    }
   ],
   "source": [
    "# FC 1 Parameters \n",
    "print(list(model.parameters())[0].size())"
   ]
  },
  {
   "cell_type": "markdown",
   "metadata": {},
   "source": [
    "Our first linear layer bias parameters, $B_1$, would be of size 100 which is our hidden size."
   ]
  },
  {
   "cell_type": "code",
   "execution_count": 17,
   "metadata": {},
   "outputs": [
    {
     "name": "stdout",
     "output_type": "stream",
     "text": [
      "torch.Size([100])\n"
     ]
    }
   ],
   "source": [
    "# FC 1 Bias Parameters\n",
    "print(list(model.parameters())[1].size())"
   ]
  },
  {
   "cell_type": "markdown",
   "metadata": {},
   "source": [
    "Our second linear layer is our readout layer, where the parameters $A_2$ would be of size 10 x 100. This is because our output size is 10 and hidden size is 100."
   ]
  },
  {
   "cell_type": "code",
   "execution_count": 18,
   "metadata": {},
   "outputs": [
    {
     "name": "stdout",
     "output_type": "stream",
     "text": [
      "torch.Size([10, 100])\n"
     ]
    }
   ],
   "source": [
    "# FC 2 Parameters\n",
    "print(list(model.parameters())[2].size())"
   ]
  },
  {
   "cell_type": "markdown",
   "metadata": {},
   "source": [
    "Likewise our readout layer's bias $B_1$ would just be 10, the size of our output."
   ]
  },
  {
   "cell_type": "code",
   "execution_count": 19,
   "metadata": {},
   "outputs": [
    {
     "name": "stdout",
     "output_type": "stream",
     "text": [
      "torch.Size([10])\n"
     ]
    }
   ],
   "source": [
    "# FC 2 Bias Parameters\n",
    "print(list(model.parameters())[3].size())"
   ]
  },
  {
   "cell_type": "markdown",
   "metadata": {},
   "source": [
    "The diagram below shows the interaction amongst our input $X$ and our linear layers' parameters $A_1$, $B_1$, $A_2$, and $B_2$ to reach to the final size of 10 x 1."
   ]
  },
  {
   "cell_type": "markdown",
   "metadata": {},
   "source": [
    "<img src=\"./images/lab2/nn1_params3.png\" alt=\"no_image\" style=\"width: 900px;\"/>"
   ]
  },
  {
   "cell_type": "markdown",
   "metadata": {},
   "source": [
    "### Step 7: Train Model\n",
    "- Process \n",
    "    1. Convert inputs to tensors with gradient accumulation capabilities\n",
    "    2. Clear gradient buffers\n",
    "    3. Get output given inputs \n",
    "    4. Get loss\n",
    "    5. Get gradients w.r.t. parameters\n",
    "    6. Update parameters using gradients\n",
    "        - `parameters = parameters - learning_rate * parameters_gradients`\n",
    "    7. REPEAT"
   ]
  },
  {
   "cell_type": "markdown",
   "metadata": {},
   "source": [
    "**7-step training process**"
   ]
  },
  {
   "cell_type": "code",
   "execution_count": 109,
   "metadata": {},
   "outputs": [
    {
     "name": "stdout",
     "output_type": "stream",
     "text": [
      "Iteration: 500. Loss: 0.6416046619415283. Accuracy: 85.76\n",
      "Iteration: 1000. Loss: 0.2638024687767029. Accuracy: 89.58\n",
      "Iteration: 1500. Loss: 0.2913622558116913. Accuracy: 90.54\n",
      "Iteration: 2000. Loss: 0.36239469051361084. Accuracy: 91.21\n",
      "Iteration: 2500. Loss: 0.2494616061449051. Accuracy: 91.62\n",
      "Iteration: 3000. Loss: 0.36123189330101013. Accuracy: 92.05\n"
     ]
    }
   ],
   "source": [
    "iter = 0\n",
    "for epoch in range(num_epochs):\n",
    "    for i, (images, labels) in enumerate(train_loader):\n",
    "        # Load images with gradient accumulation capabilities\n",
    "        images = images.view(-1, 28*28)\n",
    "\n",
    "        # Clear gradients w.r.t. parameters\n",
    "        optimizer.zero_grad()\n",
    "\n",
    "        # Forward pass to get output/logits\n",
    "        outputs = model(images)\n",
    "\n",
    "        # Calculate Loss: softmax --> cross entropy loss\n",
    "        loss = criterion(outputs, labels)\n",
    "\n",
    "        # Getting gradients w.r.t. parameters\n",
    "        loss.backward()\n",
    "\n",
    "        # Updating parameters\n",
    "        optimizer.step()\n",
    "\n",
    "        iter += 1\n",
    "\n",
    "        if iter % 500 == 0:\n",
    "            # Calculate Accuracy         \n",
    "            correct = 0\n",
    "            total = 0\n",
    "            # Iterate through test dataset\n",
    "            for images, labels in test_loader:\n",
    "                # Load images with gradient accumulation capabilities\n",
    "                images = images.view(-1, 28*28)\n",
    "\n",
    "                # Forward pass only to get logits/output\n",
    "                outputs = model(images)\n",
    "\n",
    "                # Get predictions from the maximum value\n",
    "                _, predicted = torch.max(outputs.data, 1)\n",
    "\n",
    "                # Total number of labels\n",
    "                total += labels.size(0)\n",
    "\n",
    "                # Total correct predictions\n",
    "                correct += (predicted == labels).sum()\n",
    "\n",
    "            accuracy = 100 * correct.item() / total\n",
    "\n",
    "            # Print Loss\n",
    "            print('Iteration: {}. Loss: {}. Accuracy: {}'.format(iter, loss.item(), accuracy))"
   ]
  },
  {
   "cell_type": "markdown",
   "metadata": {},
   "source": [
    "### Model B: 1 Hidden Layer Feedforward Neural Network (Tanh Activation)\n",
    "<img src=\"./images/lab2/nn1.png\" alt=\"no_image\" style=\"width: 900px;\"/>\n",
    "\n",
    "### Steps\n",
    "- Step 1: Load Dataset\n",
    "- Step 2: Make Dataset Iterable\n",
    "- **Step 3: Create Model Class**\n",
    "- Step 4: Instantiate Model Class\n",
    "- Step 5: Instantiate Loss Class\n",
    "- Step 6: Instantiate Optimizer Class\n",
    "- Step 7: Train Model"
   ]
  },
  {
   "cell_type": "markdown",
   "metadata": {},
   "source": [
    "**1-layer FNN with Tanh Activation**\n",
    "\n",
    "The only difference here compared to previously is that we are using Tanh activation instead of Sigmoid activation. This affects step 3."
   ]
  },
  {
   "cell_type": "code",
   "execution_count": 22,
   "metadata": {},
   "outputs": [
    {
     "name": "stdout",
     "output_type": "stream",
     "text": [
      "iter: 500, loss: 0.2872872054576874, accuracy: 91.01\n",
      "iter: 1000, loss: 0.2652204930782318, accuracy: 92.55\n",
      "iter: 1500, loss: 0.13556793332099915, accuracy: 93.41\n",
      "iter: 2000, loss: 0.2442370355129242, accuracy: 94.2\n",
      "iter: 2500, loss: 0.146214097738266, accuracy: 94.71\n",
      "iter: 3000, loss: 0.15331757068634033, accuracy: 95.08\n"
     ]
    }
   ],
   "source": [
    "import torch\n",
    "import torch.nn as nn\n",
    "import torchvision.transforms as transforms\n",
    "import torchvision.datasets as dsets\n",
    "\n",
    "# 1. load dataset\n",
    "train_dataset = dsets.MNIST(root='./data/MNIST/',\n",
    "                           train=True,\n",
    "                           transform=transforms.ToTensor(),\n",
    "                           download=True)\n",
    "\n",
    "test_dataset = dsets.MNIST(root='./data/MNIST/',\n",
    "                          train=False,\n",
    "                          transform=transforms.ToTensor())\n",
    "\n",
    "# 2. make dataset iterable\n",
    "batch_size = 100\n",
    "n_iters = 3000\n",
    "num_epochs = n_iters / (len(train_dataset) / batch_size)\n",
    "num_epochs = int(num_epochs)\n",
    "\n",
    "train_loader = torch.utils.data.DataLoader(dataset=train_dataset,\n",
    "                                           batch_size=batch_size,\n",
    "                                           shuffle=True)\n",
    "test_loader = torch.utils.data.DataLoader(dataset=test_dataset,\n",
    "                                          batch_size=batch_size,\n",
    "                                          shuffle=False)\n",
    "\n",
    "# 3. create model class\n",
    "class FFNNModel(nn.Module):\n",
    "    def __init__(self, input_dim, hidden_dim, output_dim):\n",
    "        super(FFNNModel, self).__init__()\n",
    "        self.fc1 = nn.Linear(input_dim, hidden_dim)\n",
    "        self.tanh = nn.Tanh()\n",
    "        self.fc2 = nn.Linear(hidden_dim, output_dim)\n",
    "\n",
    "    def forward(self, x):\n",
    "        out = self.fc1(x)\n",
    "        out = self.tanh(out)\n",
    "        out = self.fc2(out)\n",
    "        return out\n",
    "    \n",
    "# 4. instantiate model class\n",
    "input_dim = 28*28\n",
    "output_dim = 10\n",
    "hidden_dim = 100\n",
    "\n",
    "model = FFNNModel(input_dim, hidden_dim, output_dim)\n",
    "\n",
    "# 5. instantiate loss class\n",
    "criterion = nn.CrossEntropyLoss()\n",
    "\n",
    "# 6. instantiate optimizer class\n",
    "learning_rate = 0.1\n",
    "optimizer = torch.optim.SGD(model.parameters(), lr=learning_rate)\n",
    "\n",
    "# 7. train the model\n",
    "iter = 0\n",
    "for epoch in range(num_epochs):\n",
    "    for i, (images, labels) in enumerate(train_loader):\n",
    "        # convert inputs to tensors with gradient accumulation capabilities\n",
    "        images = images.view(-1, 28*28)\n",
    "        \n",
    "        # clear gradients\n",
    "        optimizer.zero_grad()\n",
    "        \n",
    "        # forward\n",
    "        outputs = model(images)\n",
    "        \n",
    "        # calculate loss\n",
    "        loss = criterion(outputs, labels)\n",
    "        \n",
    "        # get gradients\n",
    "        loss.backward()\n",
    "        \n",
    "        # update parameters\n",
    "        optimizer.step()\n",
    "        \n",
    "        iter += 1\n",
    "        if iter % 500 == 0:\n",
    "            # calculate acuracy\n",
    "            correct = 0\n",
    "            total = 0\n",
    "            for images, labels in test_loader:\n",
    "                images = images.view(-1, 28*28)\n",
    "                outputs = model(images)\n",
    "                _, predicted = torch.max(outputs.data, 1)\n",
    "                total += labels.size(0)\n",
    "                correct += (predicted==labels).sum()\n",
    "                \n",
    "            accuracy = 100 * correct.item() / total\n",
    "            \n",
    "            print('iter: {}, loss: {}, accuracy: {}'.format(iter, loss.item(), accuracy))\n",
    "    "
   ]
  },
  {
   "cell_type": "markdown",
   "metadata": {},
   "source": [
    "### Model C: 1 Hidden Layer Feedforward Neural Network (ReLU Activation)\n",
    "<img src=\"./images/lab2/nn1.png\" alt=\"no_image\" style=\"width: 900px;\"/>\n",
    "\n",
    "### Steps\n",
    "- Step 1: Load Dataset\n",
    "- Step 2: Make Dataset Iterable\n",
    "- **Step 3: Create Model Class**\n",
    "- Step 4: Instantiate Model Class\n",
    "- Step 5: Instantiate Loss Class\n",
    "- Step 6: Instantiate Optimizer Class\n",
    "- Step 7: Train Model"
   ]
  },
  {
   "cell_type": "markdown",
   "metadata": {},
   "source": [
    "**1-layer FNN with ReLU Activation**\n",
    "\n",
    "The only difference again is in using ReLU activation and it affects step 3."
   ]
  },
  {
   "cell_type": "code",
   "execution_count": 23,
   "metadata": {},
   "outputs": [
    {
     "name": "stdout",
     "output_type": "stream",
     "text": [
      "iter: 500, loss: 0.22274595499038696, accuracy: 91.17\n",
      "iter: 1000, loss: 0.3316263258457184, accuracy: 92.85\n",
      "iter: 1500, loss: 0.22306746244430542, accuracy: 93.85\n",
      "iter: 2000, loss: 0.31199389696121216, accuracy: 94.53\n",
      "iter: 2500, loss: 0.19311437010765076, accuracy: 95.31\n",
      "iter: 3000, loss: 0.2146567404270172, accuracy: 95.87\n"
     ]
    }
   ],
   "source": [
    "import torch\n",
    "import torch.nn as nn\n",
    "import torchvision.transforms as transforms\n",
    "import torchvision.datasets as dsets\n",
    "\n",
    "# 1. load dataset\n",
    "train_dataset = dsets.MNIST(root='./data/MNIST/',\n",
    "                           train=True,\n",
    "                           transform=transforms.ToTensor(),\n",
    "                           download=True)\n",
    "\n",
    "test_dataset = dsets.MNIST(root='./data/MNIST/',\n",
    "                          train=False,\n",
    "                          transform=transforms.ToTensor())\n",
    "\n",
    "# 2. make dataset iterable\n",
    "batch_size = 100\n",
    "n_iters = 3000\n",
    "num_epochs = n_iters / (len(train_dataset) / batch_size)\n",
    "num_epochs = int(num_epochs)\n",
    "\n",
    "train_loader = torch.utils.data.DataLoader(dataset=train_dataset,\n",
    "                                           batch_size=batch_size,\n",
    "                                           shuffle=True)\n",
    "test_loader = torch.utils.data.DataLoader(dataset=test_dataset,\n",
    "                                          batch_size=batch_size,\n",
    "                                          shuffle=False)\n",
    "\n",
    "# 3. create model class\n",
    "class FFNNModel(nn.Module):\n",
    "    def __init__(self, input_dim, hidden_dim, output_dim):\n",
    "        super(FFNNModel, self).__init__()\n",
    "        self.fc1 = nn.Linear(input_dim, hidden_dim)\n",
    "        self.relu = nn.ReLU()\n",
    "        self.fc2 = nn.Linear(hidden_dim, output_dim)\n",
    "\n",
    "    def forward(self, x):\n",
    "        out = self.fc1(x)\n",
    "        out = self.relu(out)\n",
    "        out = self.fc2(out)\n",
    "        return out\n",
    "    \n",
    "# 4. instantiate model class\n",
    "input_dim = 28*28\n",
    "output_dim = 10\n",
    "hidden_dim = 100\n",
    "\n",
    "model = FFNNModel(input_dim, hidden_dim, output_dim)\n",
    "\n",
    "# 5. instantiate loss class\n",
    "criterion = nn.CrossEntropyLoss()\n",
    "\n",
    "# 6. instantiate optimizer class\n",
    "learning_rate = 0.1\n",
    "optimizer = torch.optim.SGD(model.parameters(), lr=learning_rate)\n",
    "\n",
    "# 7. train the model\n",
    "iter = 0\n",
    "for epoch in range(num_epochs):\n",
    "    for i, (images, labels) in enumerate(train_loader):\n",
    "        # convert inputs to tensors with gradient accumulation capabilities\n",
    "        images = images.view(-1, 28*28)\n",
    "        \n",
    "        # clear gradients\n",
    "        optimizer.zero_grad()\n",
    "        \n",
    "        # forward\n",
    "        outputs = model(images)\n",
    "        \n",
    "        # calculate loss\n",
    "        loss = criterion(outputs, labels)\n",
    "        \n",
    "        # get gradients\n",
    "        loss.backward()\n",
    "        \n",
    "        # update parameters\n",
    "        optimizer.step()\n",
    "        \n",
    "        iter += 1\n",
    "        if iter % 500 == 0:\n",
    "            # calculate acuracy\n",
    "            correct = 0\n",
    "            total = 0\n",
    "            for images, labels in test_loader:\n",
    "                images = images.view(-1, 28*28)\n",
    "                outputs = model(images)\n",
    "                _, predicted = torch.max(outputs.data, 1)\n",
    "                total += labels.size(0)\n",
    "                correct += (predicted==labels).sum()\n",
    "                \n",
    "            accuracy = 100 * correct.item() / total\n",
    "            \n",
    "            print('iter: {}, loss: {}, accuracy: {}'.format(iter, loss.item(), accuracy))\n",
    "    "
   ]
  },
  {
   "cell_type": "markdown",
   "metadata": {},
   "source": [
    "### Model D: 2 Hidden Layer Feedforward Neural Network (ReLU Activation)\n",
    "<img src=\"./images/lab2/nn2.png\" alt=\"no_image\" style=\"width: 900px;\"/>\n",
    "\n",
    "### Steps\n",
    "- Step 1: Load Dataset\n",
    "- Step 2: Make Dataset Iterable\n",
    "- **Step 3: Create Model Class**\n",
    "- Step 4: Instantiate Model Class\n",
    "- Step 5: Instantiate Loss Class\n",
    "- Step 6: Instantiate Optimizer Class\n",
    "- Step 7: Train Model"
   ]
  },
  {
   "cell_type": "markdown",
   "metadata": {},
   "source": [
    "**2-layer FNN with ReLU Activation**\n",
    "\n",
    "This is a bigger difference that increases your model's capacity by adding another linear layer and non-linear layer which affects step 3."
   ]
  },
  {
   "cell_type": "code",
   "execution_count": 24,
   "metadata": {},
   "outputs": [
    {
     "name": "stdout",
     "output_type": "stream",
     "text": [
      "iter: 500, loss: 0.18185226619243622, accuracy: 91.13\n",
      "iter: 1000, loss: 0.1496511697769165, accuracy: 93.63\n",
      "iter: 1500, loss: 0.17544814944267273, accuracy: 94.78\n",
      "iter: 2000, loss: 0.1624055802822113, accuracy: 95.99\n",
      "iter: 2500, loss: 0.06035758927464485, accuracy: 96.73\n",
      "iter: 3000, loss: 0.07528278231620789, accuracy: 96.67\n"
     ]
    }
   ],
   "source": [
    "import torch\n",
    "import torch.nn as nn\n",
    "import torchvision.transforms as transforms\n",
    "import torchvision.datasets as dsets\n",
    "\n",
    "# 1. load dataset\n",
    "train_dataset = dsets.MNIST(root='./data/MNIST/',\n",
    "                           train=True,\n",
    "                           transform=transforms.ToTensor(),\n",
    "                           download=True)\n",
    "\n",
    "test_dataset = dsets.MNIST(root='./data/MNIST/',\n",
    "                          train=False,\n",
    "                          transform=transforms.ToTensor())\n",
    "\n",
    "# 2. make dataset iterable\n",
    "batch_size = 100\n",
    "n_iters = 3000\n",
    "num_epochs = n_iters / (len(train_dataset) / batch_size)\n",
    "num_epochs = int(num_epochs)\n",
    "\n",
    "train_loader = torch.utils.data.DataLoader(dataset=train_dataset,\n",
    "                                           batch_size=batch_size,\n",
    "                                           shuffle=True)\n",
    "test_loader = torch.utils.data.DataLoader(dataset=test_dataset,\n",
    "                                          batch_size=batch_size,\n",
    "                                          shuffle=False)\n",
    "\n",
    "# 3. create model class\n",
    "class FFNNModel(nn.Module):\n",
    "    def __init__(self, input_dim, hidden_dim, output_dim):\n",
    "        super(FFNNModel, self).__init__()\n",
    "        self.fc1 = nn.Linear(input_dim, hidden_dim)\n",
    "        self.relu1 = nn.ReLU()\n",
    "        self.fc2 = nn.Linear(hidden_dim, hidden_dim)\n",
    "        self.relu2 = nn.ReLU()\n",
    "        self.fc3 = nn.Linear(hidden_dim, output_dim)\n",
    "\n",
    "    def forward(self, x):\n",
    "        out = self.fc1(x)\n",
    "        out = self.relu1(out)\n",
    "        out = self.fc2(out)\n",
    "        out = self.relu2(out)\n",
    "        out = self.fc3(out)\n",
    "        return out\n",
    "    \n",
    "# 4. instantiate model class\n",
    "input_dim = 28*28\n",
    "output_dim = 10\n",
    "hidden_dim = 100\n",
    "\n",
    "model = FFNNModel(input_dim, hidden_dim, output_dim)\n",
    "\n",
    "# 5. instantiate loss class\n",
    "criterion = nn.CrossEntropyLoss()\n",
    "\n",
    "# 6. instantiate optimizer class\n",
    "learning_rate = 0.1\n",
    "optimizer = torch.optim.SGD(model.parameters(), lr=learning_rate)\n",
    "\n",
    "# 7. train the model\n",
    "iter = 0\n",
    "for epoch in range(num_epochs):\n",
    "    for i, (images, labels) in enumerate(train_loader):\n",
    "        # convert inputs to tensors with gradient accumulation capabilities\n",
    "        images = images.view(-1, 28*28)\n",
    "        \n",
    "        # clear gradients\n",
    "        optimizer.zero_grad()\n",
    "        \n",
    "        # forward\n",
    "        outputs = model(images)\n",
    "        \n",
    "        # calculate loss\n",
    "        loss = criterion(outputs, labels)\n",
    "        \n",
    "        # get gradients\n",
    "        loss.backward()\n",
    "        \n",
    "        # update parameters\n",
    "        optimizer.step()\n",
    "        \n",
    "        iter += 1\n",
    "        if iter % 500 == 0:\n",
    "            # calculate acuracy\n",
    "            correct = 0\n",
    "            total = 0\n",
    "            for images, labels in test_loader:\n",
    "                images = images.view(-1, 28*28)\n",
    "                outputs = model(images)\n",
    "                _, predicted = torch.max(outputs.data, 1)\n",
    "                total += labels.size(0)\n",
    "                correct += (predicted==labels).sum()\n",
    "                \n",
    "            accuracy = 100 * correct.item() / total\n",
    "            \n",
    "            print('iter: {}, loss: {}, accuracy: {}'.format(iter, loss.item(), accuracy))\n",
    "    "
   ]
  },
  {
   "cell_type": "markdown",
   "metadata": {},
   "source": [
    "### Model E: 3 Hidden Layer Feedforward Neural Network (ReLU Activation)\n",
    "<img src=\"./images/lab2/nn3.png\" alt=\"no_image\" style=\"width: 900px;\"/>\n",
    "\n",
    "### Steps\n",
    "- Step 1: Load Dataset\n",
    "- Step 2: Make Dataset Iterable\n",
    "- **Step 3: Create Model Class**\n",
    "- Step 4: Instantiate Model Class\n",
    "- Step 5: Instantiate Loss Class\n",
    "- Step 6: Instantiate Optimizer Class\n",
    "- Step 7: Train Model"
   ]
  },
  {
   "cell_type": "markdown",
   "metadata": {},
   "source": [
    "**3-layer FNN with ReLU Activation**\n",
    "\n",
    "Let's add one more layer! Bigger model capacity. But will it be better? Remember what we talked about on curse of dimensionality?"
   ]
  },
  {
   "cell_type": "code",
   "execution_count": 113,
   "metadata": {},
   "outputs": [
    {
     "name": "stdout",
     "output_type": "stream",
     "text": [
      "Iteration: 500. Loss: 0.23731116950511932. Accuracy: 91.3\n",
      "Iteration: 1000. Loss: 0.22314941883087158. Accuracy: 93.95\n",
      "Iteration: 1500. Loss: 0.10083617269992828. Accuracy: 95.32\n",
      "Iteration: 2000. Loss: 0.09337284415960312. Accuracy: 95.55\n",
      "Iteration: 2500. Loss: 0.05002380535006523. Accuracy: 96.6\n",
      "Iteration: 3000. Loss: 0.19129978120326996. Accuracy: 97.06\n"
     ]
    }
   ],
   "source": [
    "import torch\n",
    "import torch.nn as nn\n",
    "import torchvision.transforms as transforms\n",
    "import torchvision.datasets as dsets\n",
    "\n",
    "'''\n",
    "STEP 1: LOADING DATASET\n",
    "'''\n",
    "\n",
    "train_dataset = dsets.MNIST(root='./data/MNIST/', \n",
    "                            train=True, \n",
    "                            transform=transforms.ToTensor(),\n",
    "                            download=True)\n",
    "\n",
    "test_dataset = dsets.MNIST(root='./data/MNIST/', \n",
    "                           train=False, \n",
    "                           transform=transforms.ToTensor())\n",
    "\n",
    "'''\n",
    "STEP 2: MAKING DATASET ITERABLE\n",
    "'''\n",
    "\n",
    "batch_size = 100\n",
    "n_iters = 3000\n",
    "num_epochs = n_iters / (len(train_dataset) / batch_size)\n",
    "num_epochs = int(num_epochs)\n",
    "\n",
    "train_loader = torch.utils.data.DataLoader(dataset=train_dataset, \n",
    "                                           batch_size=batch_size, \n",
    "                                           shuffle=True)\n",
    "\n",
    "test_loader = torch.utils.data.DataLoader(dataset=test_dataset, \n",
    "                                          batch_size=batch_size, \n",
    "                                          shuffle=False)\n",
    "\n",
    "'''\n",
    "STEP 3: CREATE MODEL CLASS\n",
    "'''\n",
    "class FeedforwardNeuralNetModel(nn.Module):\n",
    "    def __init__(self, input_dim, hidden_dim, output_dim):\n",
    "        super(FeedforwardNeuralNetModel, self).__init__()\n",
    "        # Linear function 1: 784 --> 100\n",
    "        self.fc1 = nn.Linear(input_dim, hidden_dim) \n",
    "        # Non-linearity 1\n",
    "        self.relu1 = nn.ReLU()\n",
    "\n",
    "        # Linear function 2: 100 --> 100\n",
    "        self.fc2 = nn.Linear(hidden_dim, hidden_dim)\n",
    "        # Non-linearity 2\n",
    "        self.relu2 = nn.ReLU()\n",
    "\n",
    "        # Linear function 3: 100 --> 100\n",
    "        self.fc3 = nn.Linear(hidden_dim, hidden_dim)\n",
    "        # Non-linearity 3\n",
    "        self.relu3 = nn.ReLU()\n",
    "\n",
    "        # Linear function 4 (readout): 100 --> 10\n",
    "        self.fc4 = nn.Linear(hidden_dim, output_dim)  \n",
    "\n",
    "    def forward(self, x):\n",
    "        # Linear function 1\n",
    "        out = self.fc1(x)\n",
    "        # Non-linearity 1\n",
    "        out = self.relu1(out)\n",
    "\n",
    "        # Linear function 2\n",
    "        out = self.fc2(out)\n",
    "        # Non-linearity 2\n",
    "        out = self.relu2(out)\n",
    "\n",
    "        # Linear function 2\n",
    "        out = self.fc3(out)\n",
    "        # Non-linearity 2\n",
    "        out = self.relu3(out)\n",
    "\n",
    "        # Linear function 4 (readout)\n",
    "        out = self.fc4(out)\n",
    "        return out\n",
    "'''\n",
    "STEP 4: INSTANTIATE MODEL CLASS\n",
    "'''\n",
    "input_dim = 28*28\n",
    "hidden_dim = 100\n",
    "output_dim = 10\n",
    "\n",
    "model = FeedforwardNeuralNetModel(input_dim, hidden_dim, output_dim)\n",
    "\n",
    "'''\n",
    "STEP 5: INSTANTIATE LOSS CLASS\n",
    "'''\n",
    "criterion = nn.CrossEntropyLoss()\n",
    "\n",
    "\n",
    "'''\n",
    "STEP 6: INSTANTIATE OPTIMIZER CLASS\n",
    "'''\n",
    "learning_rate = 0.1\n",
    "\n",
    "optimizer = torch.optim.SGD(model.parameters(), lr=learning_rate)\n",
    "\n",
    "'''\n",
    "STEP 7: TRAIN THE MODEL\n",
    "'''\n",
    "iter = 0\n",
    "for epoch in range(num_epochs):\n",
    "    for i, (images, labels) in enumerate(train_loader):\n",
    "        # Load images with gradient accumulation capabilities\n",
    "        images = images.view(-1, 28*28)\n",
    "\n",
    "        # Clear gradients w.r.t. parameters\n",
    "        optimizer.zero_grad()\n",
    "\n",
    "        # Forward pass to get output/logits\n",
    "        outputs = model(images)\n",
    "\n",
    "        # Calculate Loss: softmax --> cross entropy loss\n",
    "        loss = criterion(outputs, labels)\n",
    "\n",
    "        # Getting gradients w.r.t. parameters\n",
    "        loss.backward()\n",
    "\n",
    "        # Updating parameters\n",
    "        optimizer.step()\n",
    "\n",
    "        iter += 1\n",
    "\n",
    "        if iter % 500 == 0:\n",
    "            # Calculate Accuracy         \n",
    "            correct = 0\n",
    "            total = 0\n",
    "            # Iterate through test dataset\n",
    "            for images, labels in test_loader:\n",
    "                # Load images with gradient accumulation capabilities\n",
    "                images = images.view(-1, 28*28)\n",
    "\n",
    "                # Forward pass only to get logits/output\n",
    "                outputs = model(images)\n",
    "\n",
    "                # Get predictions from the maximum value\n",
    "                _, predicted = torch.max(outputs.data, 1)\n",
    "\n",
    "                # Total number of labels\n",
    "                total += labels.size(0)\n",
    "\n",
    "                # Total correct predictions\n",
    "                correct += (predicted == labels).sum()\n",
    "\n",
    "            accuracy = 100 * correct.item() / total\n",
    "\n",
    "            # Print Loss\n",
    "            print('Iteration: {}. Loss: {}. Accuracy: {}'.format(iter, loss.item(), accuracy))"
   ]
  },
  {
   "cell_type": "markdown",
   "metadata": {},
   "source": [
    "### General Comments on FNNs\n",
    "- 2 ways to expand a neural network\n",
    "    - More non-linear activation units (neurons)\n",
    "    - More hidden layers \n",
    "- Cons\n",
    "    - Need a larger dataset\n",
    "        - Curse of dimensionality\n",
    "    - Does not necessarily mean higher accuracy"
   ]
  },
  {
   "cell_type": "markdown",
   "metadata": {},
   "source": [
    "## 3. Building a Feedforward Neural Network with PyTorch (GPU)"
   ]
  },
  {
   "cell_type": "markdown",
   "metadata": {},
   "source": [
    "<img src=\"./images/lab2/nn3.png\" alt=\"no_image\" style=\"width: 900px;\"/>\n",
    "\n",
    "GPU: 2 things must be on GPU\n",
    "- `model`\n",
    "- `tensors with gradient accumulation capabilities`\n",
    "\n",
    "### Steps\n",
    "- Step 1: Load Dataset\n",
    "- Step 2: Make Dataset Iterable\n",
    "- Step 3: Create Model Class\n",
    "- **Step 4: Instantiate Model Class**\n",
    "- Step 5: Instantiate Loss Class\n",
    "- Step 6: Instantiate Optimizer Class\n",
    "- **Step 7: Train Model**"
   ]
  },
  {
   "cell_type": "markdown",
   "metadata": {},
   "source": [
    "**3-layer FNN with ReLU Activation on GPU**\n",
    "\n",
    "Only step 4 and 7 of the CPU code will be affected and it's a simple change."
   ]
  },
  {
   "cell_type": "code",
   "execution_count": 25,
   "metadata": {},
   "outputs": [
    {
     "name": "stdout",
     "output_type": "stream",
     "text": [
      "Iteration: 500. Loss: 0.26560378074645996. Accuracy: 90.62\n",
      "Iteration: 1000. Loss: 0.20822454988956451. Accuracy: 94.25\n",
      "Iteration: 1500. Loss: 0.12326369434595108. Accuracy: 94.56\n",
      "Iteration: 2000. Loss: 0.10073315352201462. Accuracy: 96.04\n",
      "Iteration: 2500. Loss: 0.04586681351065636. Accuracy: 96.47\n",
      "Iteration: 3000. Loss: 0.07458092272281647. Accuracy: 97.14\n"
     ]
    }
   ],
   "source": [
    "import torch\n",
    "import torch.nn as nn\n",
    "import torchvision.transforms as transforms\n",
    "import torchvision.datasets as dsets\n",
    "\n",
    "'''\n",
    "STEP 1: LOADING DATASET\n",
    "'''\n",
    "\n",
    "train_dataset = dsets.MNIST(root='./data/MNIST/', \n",
    "                            train=True, \n",
    "                            transform=transforms.ToTensor(),\n",
    "                            download=True)\n",
    "\n",
    "test_dataset = dsets.MNIST(root='./data/MNIST/', \n",
    "                           train=False, \n",
    "                           transform=transforms.ToTensor())\n",
    "\n",
    "'''\n",
    "STEP 2: MAKING DATASET ITERABLE\n",
    "'''\n",
    "\n",
    "batch_size = 100\n",
    "n_iters = 3000\n",
    "num_epochs = n_iters / (len(train_dataset) / batch_size)\n",
    "num_epochs = int(num_epochs)\n",
    "\n",
    "train_loader = torch.utils.data.DataLoader(dataset=train_dataset, \n",
    "                                           batch_size=batch_size, \n",
    "                                           shuffle=True)\n",
    "\n",
    "test_loader = torch.utils.data.DataLoader(dataset=test_dataset, \n",
    "                                          batch_size=batch_size, \n",
    "                                          shuffle=False)\n",
    "\n",
    "'''\n",
    "STEP 3: CREATE MODEL CLASS\n",
    "'''\n",
    "class FeedforwardNeuralNetModel(nn.Module):\n",
    "    def __init__(self, input_dim, hidden_dim, output_dim):\n",
    "        super(FeedforwardNeuralNetModel, self).__init__()\n",
    "        # Linear function 1: 784 --> 100\n",
    "        self.fc1 = nn.Linear(input_dim, hidden_dim) \n",
    "        # Non-linearity 1\n",
    "        self.relu1 = nn.ReLU()\n",
    "\n",
    "        # Linear function 2: 100 --> 100\n",
    "        self.fc2 = nn.Linear(hidden_dim, hidden_dim)\n",
    "        # Non-linearity 2\n",
    "        self.relu2 = nn.ReLU()\n",
    "\n",
    "        # Linear function 3: 100 --> 100\n",
    "        self.fc3 = nn.Linear(hidden_dim, hidden_dim)\n",
    "        # Non-linearity 3\n",
    "        self.relu3 = nn.ReLU()\n",
    "\n",
    "        # Linear function 4 (readout): 100 --> 10\n",
    "        self.fc4 = nn.Linear(hidden_dim, output_dim)  \n",
    "\n",
    "    def forward(self, x):\n",
    "        # Linear function 1\n",
    "        out = self.fc1(x)\n",
    "        # Non-linearity 1\n",
    "        out = self.relu1(out)\n",
    "\n",
    "        # Linear function 2\n",
    "        out = self.fc2(out)\n",
    "        # Non-linearity 2\n",
    "        out = self.relu2(out)\n",
    "\n",
    "        # Linear function 2\n",
    "        out = self.fc3(out)\n",
    "        # Non-linearity 2\n",
    "        out = self.relu3(out)\n",
    "\n",
    "        # Linear function 4 (readout)\n",
    "        out = self.fc4(out)\n",
    "        return out\n",
    "'''\n",
    "STEP 4: INSTANTIATE MODEL CLASS\n",
    "'''\n",
    "input_dim = 28*28\n",
    "hidden_dim = 100\n",
    "output_dim = 10\n",
    "\n",
    "model = FeedforwardNeuralNetModel(input_dim, hidden_dim, output_dim)\n",
    "\n",
    "device = torch.device(\"cuda:0\" if torch.cuda.is_available() else \"cpu\")\n",
    "model.to(device)\n",
    "\n",
    "'''\n",
    "STEP 5: INSTANTIATE LOSS CLASS\n",
    "'''\n",
    "criterion = nn.CrossEntropyLoss()\n",
    "\n",
    "\n",
    "'''\n",
    "STEP 6: INSTANTIATE OPTIMIZER CLASS\n",
    "'''\n",
    "learning_rate = 0.1\n",
    "\n",
    "optimizer = torch.optim.SGD(model.parameters(), lr=learning_rate)\n",
    "\n",
    "'''\n",
    "STEP 7: TRAIN THE MODEL\n",
    "'''\n",
    "iter = 0\n",
    "for epoch in range(num_epochs):\n",
    "    for i, (images, labels) in enumerate(train_loader):\n",
    "        # Load images with gradient accumulation capabilities\n",
    "        images = images.view(-1, 28*28).to(device)\n",
    "        labels = labels.to(device)\n",
    "\n",
    "        # Clear gradients w.r.t. parameters\n",
    "        optimizer.zero_grad()\n",
    "\n",
    "        # Forward pass to get output/logits\n",
    "        outputs = model(images)\n",
    "\n",
    "        # Calculate Loss: softmax --> cross entropy loss\n",
    "        loss = criterion(outputs, labels)\n",
    "\n",
    "        # Getting gradients w.r.t. parameters\n",
    "        loss.backward()\n",
    "\n",
    "        # Updating parameters\n",
    "        optimizer.step()\n",
    "\n",
    "        iter += 1\n",
    "\n",
    "        if iter % 500 == 0:\n",
    "            # Calculate Accuracy         \n",
    "            correct = 0\n",
    "            total = 0\n",
    "            # Iterate through test dataset\n",
    "            for images, labels in test_loader:\n",
    "                # Load images with gradient accumulation capabilities\n",
    "                images = images.view(-1, 28*28).to(device)\n",
    "                labels = labels.to(device)\n",
    "\n",
    "                # Forward pass only to get logits/output\n",
    "                outputs = model(images)\n",
    "\n",
    "                # Get predictions from the maximum value\n",
    "                _, predicted = torch.max(outputs.data, 1)\n",
    "\n",
    "                # Total number of labels\n",
    "                total += labels.size(0)\n",
    "\n",
    "                # Total correct predictions\n",
    "                if torch.cuda.is_available():\n",
    "                    correct += (predicted.cpu() == labels.cpu()).sum()\n",
    "                else:\n",
    "                    correct += (predicted == labels).sum()\n",
    "\n",
    "            accuracy = 100 * correct.item() / total\n",
    "\n",
    "            # Print Loss\n",
    "            print('Iteration: {}. Loss: {}. Accuracy: {}'.format(iter, loss.item(), accuracy))"
   ]
  },
  {
   "cell_type": "markdown",
   "metadata": {},
   "source": [
    "> **Alternative Term of Neural Network**\n",
    ">\n",
    "> The alternative term is **Universal Function Approximator**. This is because ultimately we are trying to find a function that maps our input, $X$, to our output, $y$. "
   ]
  },
  {
   "cell_type": "markdown",
   "metadata": {},
   "source": [
    "## Summary\n",
    "\n",
    "- **Logistic Regression Problems**\n",
    "    - Cannot represent **non-linear** functions\n",
    "        - $ y = 4x_1 + 2x_2^2 +3x_3^3 $\n",
    "        - $ y = x_1x_2$\n",
    "- Introduced **Non-Linearity** to Logistic Regression to form a Neural Network\n",
    "- **Types** of Non-Linearity\n",
    "    - Sigmoid\n",
    "    - Tanh\n",
    "    - ReLU\n",
    "- Feedforward Neural Network **Models**\n",
    "    - Model A: 1 hidden layer (**sigmoid** activation)\n",
    "    - Model B: 1 hidden layer (**tanh** activation)\n",
    "    - Model C: 1 hidden layer (**ReLU** activation)\n",
    "    - Model D: **2 hidden** layers (ReLU activation)\n",
    "    - Model E: **3 hidden** layers (ReLU activation)\n",
    "- Models Variation in **Code**\n",
    "    - Modifying only step 3\n",
    "- Ways to Expand Model’s **Capacity**\n",
    "    - More non-linear activation units (**neurons**)\n",
    "    - More hidden **layers**\n",
    "- **Cons** of Expanding Capacity\n",
    "    - Need more **data**\n",
    "    - Does not necessarily mean higher **accuracy**\n",
    "- **GPU** Code\n",
    "    - 2 things on GPU\n",
    "        - **model**\n",
    "        - **tensors with gradient accumulation capabilities**\n",
    "    - Modifying only **Step 4 & Step 7**\n",
    "- **7 Step** Model Building Recap\n",
    "    - Step 1: Load Dataset\n",
    "    - Step 2: Make Dataset Iterable\n",
    "    - Step 3: Create Model Class\n",
    "    - Step 4: Instantiate Model Class\n",
    "    - Step 5: Instantiate Loss Class\n",
    "    - Step 6: Instantiate Optimizer Class\n",
    "    - Step 7: Train Model\n"
   ]
  },
  {
   "cell_type": "markdown",
   "metadata": {},
   "source": [
    "### *References*\n",
    "[1] [DOI](https://zenodo.org/badge/139945544.svg)(https://zenodo.org/badge/latestdoi/139945544)"
   ]
  },
  {
   "cell_type": "code",
   "execution_count": null,
   "metadata": {},
   "outputs": [],
   "source": []
  }
 ],
 "metadata": {
  "kernelspec": {
   "display_name": "Python 3",
   "language": "python",
   "name": "python3"
  },
  "language_info": {
   "codemirror_mode": {
    "name": "ipython",
    "version": 3
   },
   "file_extension": ".py",
   "mimetype": "text/x-python",
   "name": "python",
   "nbconvert_exporter": "python",
   "pygments_lexer": "ipython3",
   "version": "3.7.3"
  }
 },
 "nbformat": 4,
 "nbformat_minor": 2
}
