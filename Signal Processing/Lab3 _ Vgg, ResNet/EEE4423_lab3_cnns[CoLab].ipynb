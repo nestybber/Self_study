{
 "cells": [
  {
   "cell_type": "markdown",
   "metadata": {
    "colab_type": "text",
    "id": "b3B60UvFA5EB"
   },
   "source": [
    "> ### EEE4423: Signal Processing Lab\n",
    "\n",
    "# LAB \\#3: Convolutional Neural Networks [CoLab]"
   ]
  },
  {
   "cell_type": "code",
   "execution_count": 0,
   "metadata": {
    "colab": {},
    "colab_type": "code",
    "id": "0MuQ_XTtA5ED",
    "outputId": "6936d214-053f-422f-8a04-cd107cbfade8"
   },
   "outputs": [
    {
     "name": "stdout",
     "output_type": "stream",
     "text": [
      "This code is written at 2019-01-08 14:38:44.130681\n"
     ]
    }
   ],
   "source": [
    "import datetime\n",
    "print(\"This code is written at \" + str(datetime.datetime.now()))"
   ]
  },
  {
   "cell_type": "markdown",
   "metadata": {
    "colab_type": "text",
    "id": "C6uzxe1dA5EJ"
   },
   "source": [
    "# Convolutional Neural Network with PyTorch\n",
    "\n",
    "## 1. About Convolutional Neural Network\n",
    "\n",
    "\n",
    "### 1.1 Transition From Feedforward Neural Network\n",
    "\n",
    "#### Hidden Layer Feedforward Neural Network\n"
   ]
  },
  {
   "cell_type": "markdown",
   "metadata": {
    "colab_type": "text",
    "id": "HtR4seKHA5EK"
   },
   "source": [
    "> **Recap of FNN**\n",
    ">\n",
    "> So let's do a recap of what we covered in the Feedforward Neural Network (FNN) section using a simple FNN with 1 hidden layer (a pair of affine function and non-linear function)\n",
    ">    \n",
    "> 1. [Yellow box] Pass input into an affine function $\\boldsymbol{y} = A\\boldsymbol{x} + \\boldsymbol{b}$\n",
    "> 2. [Pink box] Pass logits to non-linear function, for example sigmoid, tanh (hyperbolic tangent), ReLU, or LeakyReLU\n",
    "> 3. [Blue box] Pass output of non-linear function to another affine function\n",
    "> 4. [Red box] Pass output of final affine function to softmax function to get our probability distribution over K classes\n",
    "> 5. [Purple box] Finally we can get our loss by using our cross entropy function \n",
    "\n",
    "<img src=\"https://docs.google.com/uc?export=download&id=1Df14oUuKdj_Xi3s-Uy9WE6CBwy1dK-vi\" alt=\"no_image\" style=\"width: 900px;\"/> "
   ]
  },
  {
   "cell_type": "markdown",
   "metadata": {
    "colab_type": "text",
    "id": "W0cOmJC6A5EL"
   },
   "source": [
    "#### Basic Convolutional Neural Network (CNN)\n",
    "\n",
    "- A basic CNN just requires 2 additional layers!\n",
    "    - **Convolution** and **pooling** layers **before our feedforward neural network**"
   ]
  },
  {
   "cell_type": "markdown",
   "metadata": {
    "colab_type": "text",
    "id": "jB1FulBdA5EN"
   },
   "source": [
    "<img src=\"https://docs.google.com/uc?export=download&id=1K_GFyEwf22jwKSeES1jVckoTBKg7slij\" alt=\"no_image\" style=\"width: 900px;\"/> "
   ]
  },
  {
   "cell_type": "markdown",
   "metadata": {
    "colab_type": "text",
    "id": "DrXjsNI1A5EO"
   },
   "source": [
    "### 1.2 One Convolutional Layer: High Level View"
   ]
  },
  {
   "cell_type": "markdown",
   "metadata": {
    "colab_type": "text",
    "id": "iF4xVex2A5EP"
   },
   "source": [
    "<img src=\"https://docs.google.com/uc?export=download&id=1sPfrxnF94eAppJ9pbwJtdqZ72Kj9qEs1\" alt=\"no_image\" style=\"width: 900px;\"/>\n",
    "<img src=\"https://docs.google.com/uc?export=download&id=1-h5yLnUHl0dS7KM-RD6Y-mJEgJIZ0PHc\" alt=\"no_image\" style=\"width: 900px;\"/>\n",
    "<img src=\"https://docs.google.com/uc?export=download&id=1sPfrxnF94eAppJ9pbwJtdqZ72Kj9qEs1\" alt=\"no_image\" style=\"width: 900px;\"/>\n",
    "<img src=\"https://docs.google.com/uc?export=download&id=1lVK_eBUvEZ5ciYLknXxuUt3sjrbG3BKc\" alt=\"no_image\" style=\"width: 900px;\"/>\n",
    "<img src=\"https://docs.google.com/uc?export=download&id=1uiL61vs8wizkLa1Wg4HVIHA7xgZZjq34\" alt=\"no_image\" style=\"width: 900px;\"/>"
   ]
  },
  {
   "cell_type": "markdown",
   "metadata": {
    "colab_type": "text",
    "id": "zaHBf8l_A5EQ"
   },
   "source": [
    "### 1.3 One Convolutional Layer: High Level View Summary\n",
    "<img src=\"https://docs.google.com/uc?export=download&id=1sPfrxnF94eAppJ9pbwJtdqZ72Kj9qEs1\" alt=\"no_image\" style=\"width: 900px;\"/>\n",
    "\n",
    "- As the **kernel is sliding/convolving** across the image $\\rightarrow$ 2 operations done **per patch**\n",
    "    1. Element-wise multiplication\n",
    "    2. Summation\n",
    "- More **kernels** $=$ more **feature map channels**\n",
    "    - Can capture **more information** about the input\n",
    "    \n",
    "\n",
    "### 1.4 Multiple Convolutional Layers: High Level View\n",
    "<img src=\"https://docs.google.com/uc?export=download&id=1Hm9vPsTdwLTOPs-eAwoRmUhAHVs7NuPJ\" alt=\"no_image\" style=\"width: 900px;\"/>\n",
    "\n",
    "### 1.5 Pooling Layer: High Level View\n",
    "- 2 Common Types\n",
    "    - Max Pooling\n",
    "    - Average Pooling\n",
    "\n",
    "<img src=\"https://docs.google.com/uc?export=download&id=1ucAjOwLsVc1QVEQt4X7entdToJRWxcwK\" alt=\"no_image\" style=\"width: 900px;\"/>\n",
    "\n",
    "### 1.6 Multiple Pooling Layers: High Level View\n",
    "<img src=\"https://docs.google.com/uc?export=download&id=1Hm9vPsTdwLTOPs-eAwoRmUhAHVs7NuPJ\" alt=\"no_image\" style=\"width: 900px;\"/>\n",
    "\n",
    "### 1.7 Padding\n",
    "<img src=\"https://docs.google.com/uc?export=download&id=1aAr0tpTkIf1ggO9HpUSRTv3QAD5S8PCM\" alt=\"no_image\" style=\"width: 900px;\"/>\n",
    "\n",
    "### 1.8 Padding Summary\n",
    "- **Valid** Padding (Zero Padding)\n",
    "    - Output size < Input Size\n",
    "- **Same** Padding\n",
    "    - Output size = Input Size\n",
    "\n",
    "### 1.9 Dimension Calculations\n",
    "- $ O = \\frac {W - K + 2P}{S} + 1$\n",
    "    - $O$: output height/length\n",
    "    - $W$: input height/length\n",
    "    - $K$: filter size (kernel size)\n",
    "    - $P$: padding\n",
    "        - $ P = \\frac{K - 1}{2} $\n",
    "    - $S$: stride\n",
    "    \n",
    "#### Example 1: Output Dimension Calculation for Valid Padding\n",
    "<img src=\"https://docs.google.com/uc?export=download&id=1h6TqOvPe0nnhqT3lnnc0uiMle0B9SwjA\" alt=\"no_image\" style=\"width: 900px;\"/>\n",
    "\n",
    "- $W = 4$\n",
    "- $K = 3$\n",
    "- $P = 0$\n",
    "- $S = 1$\n",
    "- $O = \\frac {4 - 3 + 2*0}{1} + 1 = \\frac {1}{1} + 1 = 1 + 1 = 2 $\n",
    "\n",
    "\n",
    "#### Example 2: Output Dimension Calculation for Same Padding\n",
    "<img src=\"https://docs.google.com/uc?export=download&id=1rsYzCGOPMTKNh3ZTFtnegVU2Kpa871c3\" alt=\"no_image\" style=\"width: 900px;\"/>\n",
    "\n",
    "- $W = 5$\n",
    "- $K = 3$\n",
    "- $P = \\frac{3 - 1}{2} = \\frac{2}{2} = 1 $\n",
    "- $S = 1 $\n",
    "- $O = \\frac {5 - 3 + 2*1}{1} + 1 = \\frac {4}{1} + 1 = 5$"
   ]
  },
  {
   "cell_type": "markdown",
   "metadata": {
    "colab_type": "text",
    "id": "QX-UGaLJA5ER"
   },
   "source": [
    "## 2. Building a Convolutional Neural Network with PyTorch\n",
    "\n",
    "### Model A: \n",
    "- 2 Convolutional Layers\n",
    "    - Same Padding (same output size)\n",
    "- 2 Max Pooling Layers\n",
    "- 1 Fully Connected Layer\n",
    "<img src=\"https://docs.google.com/uc?export=download&id=1kL3Ch9Pm7yspyGcICCmo60i1BLYp6cHc\" alt=\"no_image\" style=\"width: 900px;\"/>\n",
    "\n",
    "### Steps\n",
    "- Step 1: Load Dataset\n",
    "- Step 2: Make Dataset Iterable\n",
    "- Step 3: Create Model Class\n",
    "- Step 4: Instantiate Model Class\n",
    "- Step 5: Instantiate Loss Class\n",
    "- Step 6: Instantiate Optimizer Class\n",
    "- Step 7: Train Model"
   ]
  },
  {
   "cell_type": "markdown",
   "metadata": {
    "colab_type": "text",
    "id": "DPDhJ6T4A5ES"
   },
   "source": [
    "### Step 1: Loading MNIST Train Dataset\n",
    "#### Images from 1 to 9"
   ]
  },
  {
   "cell_type": "markdown",
   "metadata": {
    "colab_type": "text",
    "id": "P6Vpgj5FA5ES"
   },
   "source": [
    "**MNIST Dataset and Size of Training Dataset (Excluding Labels)**"
   ]
  },
  {
   "cell_type": "code",
   "execution_count": 18,
   "metadata": {
    "colab": {},
    "colab_type": "code",
    "id": "XzpjrB-uA5ET"
   },
   "outputs": [],
   "source": [
    "import torch\n",
    "import torch.nn as nn\n",
    "import torchvision.transforms as transforms\n",
    "import torchvision.datasets as dsets"
   ]
  },
  {
   "cell_type": "code",
   "execution_count": 19,
   "metadata": {
    "colab": {},
    "colab_type": "code",
    "id": "Z0a1R8eGA5EW"
   },
   "outputs": [],
   "source": [
    "train_dataset = dsets.MNIST(root='./data/MNIST/',\n",
    "                           train=True,\n",
    "                           transform=transforms.ToTensor(),\n",
    "                           download=True)\n",
    "test_dataset = dsets.MNIST(root='./data/MNIST/',\n",
    "                           train=False,\n",
    "                           transform=transforms.ToTensor())"
   ]
  },
  {
   "cell_type": "code",
   "execution_count": 20,
   "metadata": {
    "colab": {},
    "colab_type": "code",
    "id": "iGOPMLaBA5EZ",
    "outputId": "84582421-5747-4f4b-bd94-1e2866ff42df"
   },
   "outputs": [
    {
     "name": "stdout",
     "output_type": "stream",
     "text": [
      "torch.Size([60000, 28, 28])\n"
     ]
    }
   ],
   "source": [
    "print(train_dataset.data.size())"
   ]
  },
  {
   "cell_type": "markdown",
   "metadata": {
    "colab_type": "text",
    "id": "LRiLSALmA5Ec"
   },
   "source": [
    "**Size of our training dataset labels**"
   ]
  },
  {
   "cell_type": "code",
   "execution_count": 21,
   "metadata": {
    "colab": {},
    "colab_type": "code",
    "id": "L9Kat_IlA5Ed",
    "outputId": "91c27ce2-1892-498d-f243-ce4b647d7cba"
   },
   "outputs": [
    {
     "name": "stdout",
     "output_type": "stream",
     "text": [
      "torch.Size([60000])\n"
     ]
    },
    {
     "data": {
      "text/plain": [
       "['__add__',\n",
       " '__class__',\n",
       " '__delattr__',\n",
       " '__dict__',\n",
       " '__dir__',\n",
       " '__doc__',\n",
       " '__eq__',\n",
       " '__format__',\n",
       " '__ge__',\n",
       " '__getattribute__',\n",
       " '__getitem__',\n",
       " '__gt__',\n",
       " '__hash__',\n",
       " '__init__',\n",
       " '__init_subclass__',\n",
       " '__le__',\n",
       " '__len__',\n",
       " '__lt__',\n",
       " '__module__',\n",
       " '__ne__',\n",
       " '__new__',\n",
       " '__reduce__',\n",
       " '__reduce_ex__',\n",
       " '__repr__',\n",
       " '__setattr__',\n",
       " '__sizeof__',\n",
       " '__str__',\n",
       " '__subclasshook__',\n",
       " '__weakref__',\n",
       " '_check_exists',\n",
       " '_format_transform_repr',\n",
       " '_repr_indent',\n",
       " 'class_to_idx',\n",
       " 'classes',\n",
       " 'data',\n",
       " 'download',\n",
       " 'extra_repr',\n",
       " 'processed_folder',\n",
       " 'raw_folder',\n",
       " 'root',\n",
       " 'target_transform',\n",
       " 'targets',\n",
       " 'test_data',\n",
       " 'test_file',\n",
       " 'test_labels',\n",
       " 'train',\n",
       " 'train_data',\n",
       " 'train_labels',\n",
       " 'training_file',\n",
       " 'transform',\n",
       " 'transforms',\n",
       " 'urls']"
      ]
     },
     "execution_count": 21,
     "metadata": {},
     "output_type": "execute_result"
    }
   ],
   "source": [
    "print(train_dataset.targets.size())\n",
    "dir(train_dataset)"
   ]
  },
  {
   "cell_type": "markdown",
   "metadata": {
    "colab_type": "text",
    "id": "w-INVWOEA5Eg"
   },
   "source": [
    "**Size of our testing dataset (excluding labels)**"
   ]
  },
  {
   "cell_type": "code",
   "execution_count": 22,
   "metadata": {
    "colab": {},
    "colab_type": "code",
    "id": "0QOW_C4OA5Ei",
    "outputId": "bd434485-325d-47e8-ae92-fe00865f49ea"
   },
   "outputs": [
    {
     "name": "stdout",
     "output_type": "stream",
     "text": [
      "torch.Size([10000, 28, 28])\n"
     ]
    }
   ],
   "source": [
    "print(test_dataset.data.size())"
   ]
  },
  {
   "cell_type": "markdown",
   "metadata": {
    "colab_type": "text",
    "id": "PGLRUKuSA5El"
   },
   "source": [
    "**Size of our testing dataset labels**"
   ]
  },
  {
   "cell_type": "code",
   "execution_count": 23,
   "metadata": {
    "colab": {},
    "colab_type": "code",
    "id": "ySJwCIr-A5En",
    "outputId": "243aad78-81f1-48b2-d6cb-16e278d61595"
   },
   "outputs": [
    {
     "name": "stdout",
     "output_type": "stream",
     "text": [
      "torch.Size([10000])\n"
     ]
    }
   ],
   "source": [
    "print(test_dataset.targets.size())"
   ]
  },
  {
   "cell_type": "markdown",
   "metadata": {
    "colab_type": "text",
    "id": "XHsWPONMA5Eq"
   },
   "source": [
    "### Step 2: Make Dataset Iterable"
   ]
  },
  {
   "cell_type": "markdown",
   "metadata": {
    "colab_type": "text",
    "id": "zAV8It8UA5Er"
   },
   "source": [
    "**Load Dataset into Dataloader**"
   ]
  },
  {
   "cell_type": "code",
   "execution_count": 46,
   "metadata": {
    "colab": {},
    "colab_type": "code",
    "id": "UU0qxR5eA5Es"
   },
   "outputs": [],
   "source": [
    "batch_size = 100\n",
    "n_iters = 3000\n",
    "num_epochs = n_iters / (len(train_dataset) / batch_size)\n",
    "num_epochs = int(num_epochs)\n",
    "\n",
    "train_loader = torch.utils.data.DataLoader(dataset=train_dataset,\n",
    "                                          batch_size=batch_size,\n",
    "                                          shuffle=True)\n",
    "test_loader = torch.utils.data.DataLoader(dataset=test_dataset,\n",
    "                                          batch_size=batch_size,\n",
    "                                          shuffle=False)"
   ]
  },
  {
   "cell_type": "code",
   "execution_count": 25,
   "metadata": {
    "colab": {},
    "colab_type": "code",
    "id": "ciztnPfDA5Ev",
    "outputId": "7ea1579f-49ae-435b-aad2-9b7150a8219d"
   },
   "outputs": [
    {
     "data": {
      "text/plain": [
       "5"
      ]
     },
     "execution_count": 25,
     "metadata": {},
     "output_type": "execute_result"
    }
   ],
   "source": [
    "num_epochs"
   ]
  },
  {
   "cell_type": "markdown",
   "metadata": {
    "colab_type": "text",
    "id": "BkLsS-ObA5Ey"
   },
   "source": [
    "### Step 3: Create Model Class"
   ]
  },
  {
   "cell_type": "markdown",
   "metadata": {
    "colab_type": "text",
    "id": "u2tNNXPPA5Ez"
   },
   "source": [
    "### Step 3: Create Model Class\n",
    "<img src=\"https://docs.google.com/uc?export=download&id=1kL3Ch9Pm7yspyGcICCmo60i1BLYp6cHc\" alt=\"no_image\" style=\"width: 900px;\"/>\n",
    "\n",
    "#### Output Formula for Convolution\n",
    "- $ O = \\frac {W - K + 2P}{S} + 1$\n",
    "    - $O$: output height/length\n",
    "    - $W$: input height/length\n",
    "    - $K$: **filter size (kernel size) = 5**\n",
    "    - $P$: **same padding (non-zero)**\n",
    "        - $P = \\frac{K - 1}{2}  = \\frac{5 - 1}{2} = 2$\n",
    "    - $S$: **stride = 1**\n",
    "    \n",
    "#### Output Formula for Pooling\n",
    "- $ O = \\frac {W - K}{S} + 1$\n",
    "    - W: input height/width\n",
    "    - K: **filter size = 2**\n",
    "    - S: **stride size = filter size**, PyTorch defaults the stride to kernel filter size\n",
    "        - If using PyTorch default stride, this will result in the formula $ O = \\frac {W}{K}$\n",
    "        - By default, in our tutorials, we do this for simplicity.\n",
    "\n",
    "<img src=\"https://docs.google.com/uc?export=download&id=1pk-vIRpGphx2MWxWme6alknQXHojCKQ_\" alt=\"no_image\" style=\"width: 900px;\"/>"
   ]
  },
  {
   "cell_type": "markdown",
   "metadata": {
    "colab_type": "text",
    "id": "hXY2RNw8A5E0"
   },
   "source": [
    "**Define our simple 2 convolutional layer CNN**"
   ]
  },
  {
   "cell_type": "code",
   "execution_count": 26,
   "metadata": {
    "colab": {},
    "colab_type": "code",
    "id": "VtzUznyzA5E1"
   },
   "outputs": [],
   "source": [
    "class CNNModel(nn.Module):\n",
    "    def __init__(self):\n",
    "        super(CNNModel, self).__init__()\n",
    "        \n",
    "        # conv1\n",
    "        self.cnn1 = nn.Conv2d(in_channels=1, out_channels=16, kernel_size=5, stride=1, padding=2)\n",
    "        self.relu1 = nn.ReLU()\n",
    "        \n",
    "        # max pool1\n",
    "        self.maxpool1 = nn.MaxPool2d(kernel_size=2)\n",
    "        \n",
    "        # conv2\n",
    "        self.cnn2 = nn.Conv2d(in_channels=16, out_channels=32, kernel_size=5, stride=1, padding=2)\n",
    "        self.relu2 = nn.ReLU()\n",
    "        \n",
    "        # max pool2\n",
    "        self.maxpool2 = nn.MaxPool2d(kernel_size=2)\n",
    "        \n",
    "        # fully-connected (read_out)\n",
    "        self.fc1 = nn.Linear(32 * 7 * 7, 10)\n",
    "        \n",
    "    def forward(self, x):\n",
    "        out = self.cnn1(x)\n",
    "        out = self.relu1(out)\n",
    "        out = self.maxpool1(out)\n",
    "        \n",
    "        out = self.cnn2(out)\n",
    "        out = self.relu2(out)\n",
    "        out = self.maxpool2(out)\n",
    "        \n",
    "        # resize\n",
    "        # original size : (100, 32, 7, 7)\n",
    "        # out.size(0) : 100\n",
    "        # new out size : (100, 32 * 7 * 7)\n",
    "        out = out.view(out.size(0), -1)\n",
    "        \n",
    "        # linear func\n",
    "        out = self.fc1(out)\n",
    "        \n",
    "        return out"
   ]
  },
  {
   "cell_type": "markdown",
   "metadata": {
    "colab_type": "text",
    "id": "PfP94uK-A5E5"
   },
   "source": [
    "### Step 4: Instantiate Model Class"
   ]
  },
  {
   "cell_type": "markdown",
   "metadata": {
    "colab_type": "text",
    "id": "D2ydgaSbA5E7"
   },
   "source": [
    "**Our model**"
   ]
  },
  {
   "cell_type": "code",
   "execution_count": 27,
   "metadata": {
    "colab": {},
    "colab_type": "code",
    "id": "uh13QyQnA5E9"
   },
   "outputs": [],
   "source": [
    "model = CNNModel()"
   ]
  },
  {
   "cell_type": "markdown",
   "metadata": {
    "colab_type": "text",
    "id": "m0ce_8h7A5FC"
   },
   "source": [
    "### Step 5: Instantiate Loss Class"
   ]
  },
  {
   "cell_type": "code",
   "execution_count": 28,
   "metadata": {
    "colab": {},
    "colab_type": "code",
    "id": "AjVQhzDtA5FC"
   },
   "outputs": [],
   "source": [
    "criterion = nn.CrossEntropyLoss()"
   ]
  },
  {
   "cell_type": "markdown",
   "metadata": {
    "colab_type": "text",
    "id": "cXX8ZxDwA5FG"
   },
   "source": [
    "### Step 6: Instantiate Optimizer Class"
   ]
  },
  {
   "cell_type": "markdown",
   "metadata": {
    "colab_type": "text",
    "id": "0-Rda-v4A5FG"
   },
   "source": [
    "- Simplified equation\n",
    "    - $\\theta = \\theta - \\eta \\cdot \\nabla_\\theta$\n",
    "        - $\\theta$: parameters\n",
    "        - $\\eta$: learning rate (how fast we want to learn)\n",
    "        - $\\nabla_\\theta$: parameters' gradients\n",
    "- Even simplier equation\n",
    "    - `parameters = parameters - learning_rate * parameters_gradients`\n",
    "    - **At every iteration, we update our model's parameters**"
   ]
  },
  {
   "cell_type": "markdown",
   "metadata": {
    "colab_type": "text",
    "id": "xNXSsrSmA5FG"
   },
   "source": [
    "**Optimizer**"
   ]
  },
  {
   "cell_type": "code",
   "execution_count": 29,
   "metadata": {
    "colab": {},
    "colab_type": "code",
    "id": "AIs775ZfA5FH"
   },
   "outputs": [],
   "source": [
    "learning_rate = 0.01\n",
    "\n",
    "optimizer = torch.optim.SGD(model.parameters(), lr=learning_rate)"
   ]
  },
  {
   "cell_type": "markdown",
   "metadata": {
    "colab_type": "text",
    "id": "sVJx5x9tA5FJ"
   },
   "source": [
    "### Parameters In-Depth"
   ]
  },
  {
   "cell_type": "markdown",
   "metadata": {
    "colab_type": "text",
    "id": "mbx665D3A5FK"
   },
   "source": [
    "**Print model's parameter**"
   ]
  },
  {
   "cell_type": "code",
   "execution_count": 30,
   "metadata": {
    "colab": {},
    "colab_type": "code",
    "id": "X_2U8s_nA5FK",
    "outputId": "16462a95-3550-450e-b800-7c9d76a77871"
   },
   "outputs": [
    {
     "name": "stdout",
     "output_type": "stream",
     "text": [
      "<generator object Module.parameters at 0x0000011F62AE3408>\n"
     ]
    }
   ],
   "source": [
    "print(model.parameters())"
   ]
  },
  {
   "cell_type": "code",
   "execution_count": 31,
   "metadata": {
    "colab": {},
    "colab_type": "code",
    "id": "hs3Y1XFZA5FN",
    "outputId": "611cac59-c9e6-4886-ad5e-627c09cbbe22"
   },
   "outputs": [
    {
     "name": "stdout",
     "output_type": "stream",
     "text": [
      "6\n"
     ]
    }
   ],
   "source": [
    "print(len(list(model.parameters())))"
   ]
  },
  {
   "cell_type": "code",
   "execution_count": 36,
   "metadata": {
    "colab": {},
    "colab_type": "code",
    "id": "lTNj170hA5FR",
    "outputId": "9bb7b475-5dab-46c4-bad1-7242077abb49"
   },
   "outputs": [
    {
     "name": "stdout",
     "output_type": "stream",
     "text": [
      "torch.Size([16, 1, 5, 5])\n"
     ]
    }
   ],
   "source": [
    "# conv1 : 16 kernels\n",
    "print(list(model.parameters())[0].size())"
   ]
  },
  {
   "cell_type": "code",
   "execution_count": 37,
   "metadata": {
    "colab": {},
    "colab_type": "code",
    "id": "T0ByiWfZA5FV",
    "outputId": "a265d613-5851-47a2-a163-17ebbc1d0ce7"
   },
   "outputs": [
    {
     "name": "stdout",
     "output_type": "stream",
     "text": [
      "torch.Size([16])\n"
     ]
    }
   ],
   "source": [
    "# conv1 bias : 16 kernels\n",
    "print(list(model.parameters())[1].size())"
   ]
  },
  {
   "cell_type": "code",
   "execution_count": 38,
   "metadata": {
    "colab": {},
    "colab_type": "code",
    "id": "rKgK_-OxA5FZ",
    "outputId": "fddcb9a5-3097-4bff-d01d-f3529cabe923"
   },
   "outputs": [
    {
     "name": "stdout",
     "output_type": "stream",
     "text": [
      "torch.Size([32, 16, 5, 5])\n"
     ]
    }
   ],
   "source": [
    "# conv2 : 32 kernels with depth 16\n",
    "print(list(model.parameters())[2].size())"
   ]
  },
  {
   "cell_type": "code",
   "execution_count": 39,
   "metadata": {
    "colab": {},
    "colab_type": "code",
    "id": "Ex8vaY90A5Fb",
    "outputId": "e9dd5a5b-7a69-42d0-bbe6-614932ef0562"
   },
   "outputs": [
    {
     "name": "stdout",
     "output_type": "stream",
     "text": [
      "torch.Size([32])\n"
     ]
    }
   ],
   "source": [
    "# conv2 bias : 32 kernels with depth 16\n",
    "print(list(model.parameters())[3].size())"
   ]
  },
  {
   "cell_type": "code",
   "execution_count": 40,
   "metadata": {
    "colab": {},
    "colab_type": "code",
    "id": "F-ahcxWqA5Fe",
    "outputId": "a7b2979e-2974-4c71-835a-e43943c5333e"
   },
   "outputs": [
    {
     "name": "stdout",
     "output_type": "stream",
     "text": [
      "torch.Size([10, 1568])\n"
     ]
    }
   ],
   "source": [
    "# fc layer\n",
    "print(list(model.parameters())[4].size())"
   ]
  },
  {
   "cell_type": "code",
   "execution_count": 41,
   "metadata": {
    "colab": {},
    "colab_type": "code",
    "id": "Bp2E3yErA5Fh",
    "outputId": "00029de5-7cd9-4331-8be7-61c9ccf2286b"
   },
   "outputs": [
    {
     "name": "stdout",
     "output_type": "stream",
     "text": [
      "torch.Size([10])\n"
     ]
    }
   ],
   "source": [
    "# fc layer bias\n",
    "print(list(model.parameters())[5].size())"
   ]
  },
  {
   "cell_type": "markdown",
   "metadata": {
    "colab_type": "text",
    "id": "SjZEsuW6A5Fk"
   },
   "source": [
    "### Step 7: Train Model"
   ]
  },
  {
   "cell_type": "markdown",
   "metadata": {
    "colab_type": "text",
    "id": "pVjKjbiAA5Fk"
   },
   "source": [
    "- Process \n",
    "    1. **Convert inputs to tensors with gradient accumulation abilities**\n",
    "        - CNN Input: (1, 28, 28) \n",
    "        - Feedforward NN Input: (1, 28*28)\n",
    "    2. Clear gradient buffets\n",
    "    3. Get output given inputs \n",
    "    4. Get loss\n",
    "    5. Get gradients w.r.t. parameters\n",
    "    6. Update parameters using gradients\n",
    "        - `parameters = parameters - learning_rate * parameters_gradients`\n",
    "    7. REPEAT"
   ]
  },
  {
   "cell_type": "markdown",
   "metadata": {
    "colab_type": "text",
    "id": "9e1dkyTIA5Fk"
   },
   "source": [
    "**Model training**"
   ]
  },
  {
   "cell_type": "code",
   "execution_count": 49,
   "metadata": {
    "colab": {},
    "colab_type": "code",
    "id": "4DRZxWQkA5Fm",
    "outputId": "724505fa-1048-45ca-c0b1-d7ddca7851bb"
   },
   "outputs": [
    {
     "name": "stdout",
     "output_type": "stream",
     "text": [
      "iter: 500, loss: 0.10455281287431717, accuracy: 96.88\n",
      "iter: 1000, loss: 0.06508006900548935, accuracy: 97.39\n",
      "iter: 1500, loss: 0.1425369828939438, accuracy: 97.5\n",
      "iter: 2000, loss: 0.06572877615690231, accuracy: 97.79\n",
      "iter: 2500, loss: 0.10755827277898788, accuracy: 98.01\n",
      "iter: 3000, loss: 0.057090096175670624, accuracy: 97.83\n"
     ]
    }
   ],
   "source": [
    "iter = 0\n",
    "for epoch in range(num_epochs):\n",
    "    for i, (images, labels) in enumerate(train_loader):\n",
    "        \n",
    "        optimizer.zero_grad()\n",
    "        \n",
    "        outputs = model(images)\n",
    "        \n",
    "        loss = criterion(outputs, labels)\n",
    "        \n",
    "        loss.backward()\n",
    "        \n",
    "        optimizer.step()\n",
    "        \n",
    "        iter += 1\n",
    "        \n",
    "        if iter%500 == 0:\n",
    "            correct = 0\n",
    "            total = 0\n",
    "            for images, labels in test_loader:\n",
    "                \n",
    "                outputs = model(images)\n",
    "                \n",
    "                _, predicted = torch.max(outputs.data, 1)\n",
    "                \n",
    "                total += labels.size(0)\n",
    "                \n",
    "                correct += (predicted == labels).sum()\n",
    "                \n",
    "            accuracy = 100 * correct.item() / total\n",
    "            print(\"iter: {}, loss: {}, accuracy: {}\".format(iter, loss.item(), accuracy))"
   ]
  },
  {
   "cell_type": "markdown",
   "metadata": {
    "colab_type": "text",
    "id": "L_VqlmwMA5Fo"
   },
   "source": [
    "### Model B: \n",
    "- 2 Convolutional Layers\n",
    "    - Same Padding (same output size)\n",
    "- 2 **Average Pooling** Layers\n",
    "- 1 Fully Connected Layer\n",
    "<img src=\"https://docs.google.com/uc?export=download&id=13kU2k4ibhEy9YUGP4KHcv0tOkqiPjiOI\" alt=\"no_image\" style=\"width: 900px;\"/>\n",
    "<img src=\"https://docs.google.com/uc?export=download&id=11VqeA2765HZw_t65FlbxrjStKasnyV86\" alt=\"no_image\" style=\"width: 900px;\"/>\n",
    "\n",
    "### Steps\n",
    "- Step 1: Load Dataset\n",
    "- Step 2: Make Dataset Iterable\n",
    "- Step 3: Create Model Class\n",
    "- Step 4: Instantiate Model Class\n",
    "- Step 5: Instantiate Loss Class\n",
    "- Step 6: Instantiate Optimizer Class\n",
    "- Step 7: Train Model"
   ]
  },
  {
   "cell_type": "markdown",
   "metadata": {
    "colab_type": "text",
    "id": "ugHaGhkzA5Fp"
   },
   "source": [
    "**2 Conv + 2 Average Pool + 1 FC (Zero Padding, Same Padding)**"
   ]
  },
  {
   "cell_type": "code",
   "execution_count": null,
   "metadata": {
    "colab": {},
    "colab_type": "code",
    "id": "Ccmckw-7A5Fq",
    "outputId": "69d42c9a-a199-4c1e-fe71-7c5a939ad652"
   },
   "outputs": [],
   "source": [
    "import torch\n",
    "import torch.nn as nn\n",
    "import torchvision.transforms as transforms\n",
    "import torchvision.datasets as dsets\n",
    "\n",
    "'''\n",
    "STEP 1: LOADING DATASET\n",
    "'''\n",
    "\n",
    "train_dataset = dsets.MNIST(root='./data/MNIST/', \n",
    "                            train=True, \n",
    "                            transform=transforms.ToTensor(),\n",
    "                            download=True)\n",
    "\n",
    "test_dataset = dsets.MNIST(root='./data/MNIST/', \n",
    "                           train=False, \n",
    "                           transform=transforms.ToTensor())\n",
    "\n",
    "'''\n",
    "STEP 2: MAKING DATASET ITERABLE\n",
    "'''\n",
    "\n",
    "batch_size = 100\n",
    "n_iters = 3000\n",
    "num_epochs = n_iters / (len(train_dataset) / batch_size)\n",
    "num_epochs = int(num_epochs)\n",
    "\n",
    "train_loader = torch.utils.data.DataLoader(dataset=train_dataset, \n",
    "                                           batch_size=batch_size, \n",
    "                                           shuffle=True)\n",
    "\n",
    "test_loader = torch.utils.data.DataLoader(dataset=test_dataset, \n",
    "                                          batch_size=batch_size, \n",
    "                                          shuffle=False)\n",
    "\n",
    "'''\n",
    "STEP 3: CREATE MODEL CLASS\n",
    "'''\n",
    "class CNNModel(nn.Module):\n",
    "    def __init__(self):\n",
    "        super(CNNModel, self).__init__()\n",
    "\n",
    "        # Convolution 1\n",
    "        self.cnn1 = nn.Conv2d(in_channels=1, out_channels=16, kernel_size=5, stride=1, padding=2)\n",
    "        self.relu1 = nn.ReLU()\n",
    "\n",
    "        # Average pool 1\n",
    "        self.avgpool1 = nn.AvgPool2d(kernel_size=2)\n",
    "\n",
    "        # Convolution 2\n",
    "        self.cnn2 = nn.Conv2d(in_channels=16, out_channels=32, kernel_size=5, stride=1, padding=2)\n",
    "        self.relu2 = nn.ReLU()\n",
    "\n",
    "        # Average pool 2\n",
    "        self.avgpool2 = nn.AvgPool2d(kernel_size=2)\n",
    "\n",
    "        # Fully connected 1 (readout)\n",
    "        self.fc1 = nn.Linear(32 * 7 * 7, 10) \n",
    "\n",
    "    def forward(self, x):\n",
    "        # Convolution 1\n",
    "        out = self.cnn1(x)\n",
    "        out = self.relu1(out)\n",
    "\n",
    "        # Average pool 1\n",
    "        out = self.avgpool1(out)\n",
    "\n",
    "        # Convolution 2 \n",
    "        out = self.cnn2(out)\n",
    "        out = self.relu2(out)\n",
    "\n",
    "        # Max pool 2 \n",
    "        out = self.avgpool2(out)\n",
    "\n",
    "        # Resize\n",
    "        # Original size: (100, 32, 7, 7)\n",
    "        # out.size(0): 100\n",
    "        # New out size: (100, 32*7*7)\n",
    "        out = out.view(out.size(0), -1)\n",
    "\n",
    "        # Linear function (readout)\n",
    "        out = self.fc1(out)\n",
    "\n",
    "        return out\n",
    "\n",
    "'''\n",
    "STEP 4: INSTANTIATE MODEL CLASS\n",
    "'''\n",
    "\n",
    "model = CNNModel()\n",
    "\n",
    "'''\n",
    "STEP 5: INSTANTIATE LOSS CLASS\n",
    "'''\n",
    "criterion = nn.CrossEntropyLoss()\n",
    "\n",
    "\n",
    "'''\n",
    "STEP 6: INSTANTIATE OPTIMIZER CLASS\n",
    "'''\n",
    "learning_rate = 0.01\n",
    "\n",
    "optimizer = torch.optim.SGD(model.parameters(), lr=learning_rate)\n",
    "\n",
    "'''\n",
    "STEP 7: TRAIN THE MODEL\n",
    "'''\n",
    "iter = 0\n",
    "for epoch in range(num_epochs):\n",
    "    for i, (images, labels) in enumerate(train_loader):\n",
    "\n",
    "        # Clear gradients w.r.t. parameters\n",
    "        optimizer.zero_grad()\n",
    "\n",
    "        # Forward pass to get output/logits\n",
    "        outputs = model(images)\n",
    "\n",
    "        # Calculate Loss: softmax --> cross entropy loss\n",
    "        loss = criterion(outputs, labels)\n",
    "\n",
    "        # Getting gradients w.r.t. parameters\n",
    "        loss.backward()\n",
    "\n",
    "        # Updating parameters\n",
    "        optimizer.step()\n",
    "\n",
    "        iter += 1\n",
    "\n",
    "        if iter % 500 == 0:\n",
    "            # Calculate Accuracy         \n",
    "            correct = 0\n",
    "            total = 0\n",
    "            # Iterate through test dataset\n",
    "            for images, labels in test_loader:\n",
    "\n",
    "                # Forward pass only to get logits/output\n",
    "                outputs = model(images)\n",
    "\n",
    "                # Get predictions from the maximum value\n",
    "                _, predicted = torch.max(outputs.data, 1)\n",
    "\n",
    "                # Total number of labels\n",
    "                total += labels.size(0)\n",
    "\n",
    "                # Total correct predictions\n",
    "                correct += (predicted == labels).sum()\n",
    "\n",
    "            accuracy = 100 * correct.item() / total\n",
    "\n",
    "            # Print Loss\n",
    "            print('Iteration: {}. Loss: {}. Accuracy: {}'.format(iter, loss.item(), accuracy))"
   ]
  },
  {
   "cell_type": "markdown",
   "metadata": {
    "colab_type": "text",
    "id": "5d_bP9b1A5Fs"
   },
   "source": [
    "> **Comparison of accuracies**\n",
    ">\n",
    "> It seems like average pooling test accuracy is less than the max pooling accuracy! Does this mean average pooling is better? This is not definitive and depends on a lot of factors including the model's architecture, seed (that affects random weight initialization) and more."
   ]
  },
  {
   "cell_type": "markdown",
   "metadata": {
    "colab_type": "text",
    "id": "09ooCflcA5Ft"
   },
   "source": [
    "### Average Pooling Test Accuracy < Max Pooling Test Accuracy"
   ]
  },
  {
   "cell_type": "markdown",
   "metadata": {
    "colab_type": "text",
    "id": "rAFsRJU8A5Ft"
   },
   "source": [
    "### Model C: \n",
    "- 2 Convolutional Layers\n",
    "    - **Valid Padding** (smaller output size)\n",
    "- 2 **Max Pooling** Layers\n",
    "- 1 Fully Connected Layer\n",
    "<img src=\"https://docs.google.com/uc?export=download&id=1LQFFmKWPMk6c1RRqEO4FZBGbBVajnEvq\" alt=\"no_image\" style=\"width: 900px;\"/>\n",
    "<img src=\"https://docs.google.com/uc?export=download&id=10a8jONv6GEA8NlACrBytU6stHON2vuep\" alt=\"no_image\" style=\"width: 900px;\"/>\n",
    "\n",
    "### Steps\n",
    "- Step 1: Load Dataset\n",
    "- Step 2: Make Dataset Iterable\n",
    "- Step 3: Create Model Class\n",
    "- Step 4: Instantiate Model Class\n",
    "- Step 5: Instantiate Loss Class\n",
    "- Step 6: Instantiate Optimizer Class\n",
    "- Step 7: Train Model"
   ]
  },
  {
   "cell_type": "markdown",
   "metadata": {
    "colab_type": "text",
    "id": "x65XdvYGA5Fu"
   },
   "source": [
    "**2 Conv + 2 Max Pool + 1 FC (Valid Padding, No Padding)**"
   ]
  },
  {
   "cell_type": "code",
   "execution_count": null,
   "metadata": {
    "colab": {},
    "colab_type": "code",
    "id": "1OG2drgdA5Fv",
    "outputId": "8c7e34a5-825d-4b4d-d2f1-ca84dae55819"
   },
   "outputs": [],
   "source": [
    "import torch\n",
    "import torch.nn as nn\n",
    "import torchvision.transforms as transforms\n",
    "import torchvision.datasets as dsets\n",
    "\n",
    "'''\n",
    "STEP 1: LOADING DATASET\n",
    "'''\n",
    "\n",
    "train_dataset = dsets.MNIST(root='./data/MNIST/', \n",
    "                            train=True, \n",
    "                            transform=transforms.ToTensor(),\n",
    "                            download=True)\n",
    "\n",
    "test_dataset = dsets.MNIST(root='./data/MNIST/', \n",
    "                           train=False, \n",
    "                           transform=transforms.ToTensor())\n",
    "\n",
    "'''\n",
    "STEP 2: MAKING DATASET ITERABLE\n",
    "'''\n",
    "\n",
    "batch_size = 100\n",
    "n_iters = 3000\n",
    "num_epochs = n_iters / (len(train_dataset) / batch_size)\n",
    "num_epochs = int(num_epochs)\n",
    "\n",
    "train_loader = torch.utils.data.DataLoader(dataset=train_dataset, \n",
    "                                           batch_size=batch_size, \n",
    "                                           shuffle=True)\n",
    "\n",
    "test_loader = torch.utils.data.DataLoader(dataset=test_dataset, \n",
    "                                          batch_size=batch_size, \n",
    "                                          shuffle=False)\n",
    "\n",
    "'''\n",
    "STEP 3: CREATE MODEL CLASS\n",
    "'''\n",
    "class CNNModel(nn.Module):\n",
    "    def __init__(self):\n",
    "        super(CNNModel, self).__init__()\n",
    "\n",
    "        # Convolution 1\n",
    "        self.cnn1 = nn.Conv2d(in_channels=1, out_channels=16, kernel_size=5, stride=1, padding=0)\n",
    "        self.relu1 = nn.ReLU()\n",
    "\n",
    "        # Max pool 1\n",
    "        self.maxpool1 = nn.MaxPool2d(kernel_size=2)\n",
    "\n",
    "        # Convolution 2\n",
    "        self.cnn2 = nn.Conv2d(in_channels=16, out_channels=32, kernel_size=5, stride=1, padding=0)\n",
    "        self.relu2 = nn.ReLU()\n",
    "\n",
    "        # Max pool 2\n",
    "        self.maxpool2 = nn.MaxPool2d(kernel_size=2)\n",
    "\n",
    "        # Fully connected 1 (readout)\n",
    "        self.fc1 = nn.Linear(32 * 4 * 4, 10) \n",
    "\n",
    "    def forward(self, x):\n",
    "        # Convolution 1\n",
    "        out = self.cnn1(x)\n",
    "        out = self.relu1(out)\n",
    "\n",
    "        # Max pool 1\n",
    "        out = self.maxpool1(out)\n",
    "\n",
    "        # Convolution 2 \n",
    "        out = self.cnn2(out)\n",
    "        out = self.relu2(out)\n",
    "\n",
    "        # Max pool 2 \n",
    "        out = self.maxpool2(out)\n",
    "\n",
    "        # Resize\n",
    "        # Original size: (100, 32, 7, 7)\n",
    "        # out.size(0): 100\n",
    "        # New out size: (100, 32*7*7)\n",
    "        out = out.view(out.size(0), -1)\n",
    "\n",
    "        # Linear function (readout)\n",
    "        out = self.fc1(out)\n",
    "\n",
    "        return out\n",
    "\n",
    "'''\n",
    "STEP 4: INSTANTIATE MODEL CLASS\n",
    "'''\n",
    "\n",
    "model = CNNModel()\n",
    "\n",
    "'''\n",
    "STEP 5: INSTANTIATE LOSS CLASS\n",
    "'''\n",
    "criterion = nn.CrossEntropyLoss()\n",
    "\n",
    "\n",
    "'''\n",
    "STEP 6: INSTANTIATE OPTIMIZER CLASS\n",
    "'''\n",
    "learning_rate = 0.01\n",
    "\n",
    "optimizer = torch.optim.SGD(model.parameters(), lr=learning_rate)\n",
    "\n",
    "'''\n",
    "STEP 7: TRAIN THE MODEL\n",
    "'''\n",
    "iter = 0\n",
    "for epoch in range(num_epochs):\n",
    "    for i, (images, labels) in enumerate(train_loader):\n",
    "\n",
    "        # Clear gradients w.r.t. parameters\n",
    "        optimizer.zero_grad()\n",
    "\n",
    "        # Forward pass to get output/logits\n",
    "        outputs = model(images)\n",
    "\n",
    "        # Calculate Loss: softmax --> cross entropy loss\n",
    "        loss = criterion(outputs, labels)\n",
    "\n",
    "        # Getting gradients w.r.t. parameters\n",
    "        loss.backward()\n",
    "\n",
    "        # Updating parameters\n",
    "        optimizer.step()\n",
    "\n",
    "        iter += 1\n",
    "\n",
    "        if iter % 500 == 0:\n",
    "            # Calculate Accuracy         \n",
    "            correct = 0\n",
    "            total = 0\n",
    "            # Iterate through test dataset\n",
    "            for images, labels in test_loader:\n",
    "               \n",
    "                # Forward pass only to get logits/output\n",
    "                outputs = model(images)\n",
    "\n",
    "                # Get predictions from the maximum value\n",
    "                _, predicted = torch.max(outputs.data, 1)\n",
    "\n",
    "                # Total number of labels\n",
    "                total += labels.size(0)\n",
    "\n",
    "                # Total correct predictions\n",
    "                correct += (predicted == labels).sum()\n",
    "\n",
    "            accuracy = 100 * correct.item() / total\n",
    "\n",
    "            # Print Loss\n",
    "            print('Iteration: {}. Loss: {}. Accuracy: {}'.format(iter, loss.item(), accuracy))"
   ]
  },
  {
   "cell_type": "markdown",
   "metadata": {
    "colab_type": "text",
    "id": "ndfLOe9lA5F0"
   },
   "source": [
    "### Summary of Results\n",
    "\n",
    "| Model A | Model B | Model C | \n",
    "|------|------|------|\n",
    "|   Max Pooling  | Average Pooling | Max Pooling |\n",
    "| Same Padding | Same Padding | Valid Padding | \n",
    "| 97.04% | 93.59% | 96.5% | \n",
    "\n",
    "\n",
    "| All Models |\n",
    "|------|\n",
    "| INPUT $\\rightarrow$ CONV $\\rightarrow$ POOL $\\rightarrow$ CONV $\\rightarrow$ POOL $\\rightarrow$ FC | \n",
    "| Convolution Kernel Size = 5 x 5 |\n",
    "| Convolution Kernel Stride = 1 |\n",
    "| Pooling Kernel Size = 2 x 2 |\n",
    "\n",
    "### General Deep Learning Notes on CNN and FNN\n",
    "- 3 ways to expand a convolutional neural network\n",
    "    - More convolutional layers \n",
    "    - Less aggressive downsampling\n",
    "        - Smaller kernel size for pooling (gradually downsampling)\n",
    "    - More fully connected layers \n",
    "- Cons\n",
    "    - Need a larger dataset\n",
    "        - Curse of dimensionality\n",
    "    - Does not necessarily mean higher accuracy\n"
   ]
  },
  {
   "cell_type": "markdown",
   "metadata": {
    "colab_type": "text",
    "id": "cIUg4BtXA5F0"
   },
   "source": [
    "## 3. Building a Convolutional Neural Network with PyTorch (GPU)\n",
    "### Model A\n",
    "\n",
    "<img src=\"https://docs.google.com/uc?export=download&id=1kL3Ch9Pm7yspyGcICCmo60i1BLYp6cHc\" alt=\"no_image\" style=\"width: 900px;\"/>\n",
    "<img src=\"https://docs.google.com/uc?export=download&id=1pk-vIRpGphx2MWxWme6alknQXHojCKQ_\" alt=\"no_image\" style=\"width: 900px;\"/>\n",
    "\n",
    "GPU: 2 things must be on GPU\n",
    "- `model`\n",
    "- `tensors`\n",
    "\n",
    "### Steps\n",
    "- Step 1: Load Dataset\n",
    "- Step 2: Make Dataset Iterable\n",
    "- Step 3: Create Model Class\n",
    "- **Step 4: Instantiate Model Class**\n",
    "- Step 5: Instantiate Loss Class\n",
    "- Step 6: Instantiate Optimizer Class\n",
    "- **Step 7: Train Model**"
   ]
  },
  {
   "cell_type": "markdown",
   "metadata": {
    "colab_type": "text",
    "id": "Is9HbJQJA5F0"
   },
   "source": [
    "**2 Conv + 2 Max Pooling + 1 FC (Same Padding, Zero Padding)**"
   ]
  },
  {
   "cell_type": "code",
   "execution_count": 56,
   "metadata": {
    "colab": {},
    "colab_type": "code",
    "id": "kw2ghnLdA5F1",
    "outputId": "95bf90a2-e488-4600-ee64-811f380b06d8"
   },
   "outputs": [
    {
     "name": "stdout",
     "output_type": "stream",
     "text": [
      "True\n",
      "iter: 500, loss: 0.32004788517951965, accuracy: 90.03\n",
      "iter: 1000, loss: 0.2346104085445404, accuracy: 93.86\n",
      "iter: 1500, loss: 0.13923463225364685, accuracy: 95.12\n",
      "iter: 2000, loss: 0.06531662493944168, accuracy: 95.68\n",
      "iter: 2500, loss: 0.15674632787704468, accuracy: 96.22\n",
      "iter: 3000, loss: 0.2536715865135193, accuracy: 96.73\n"
     ]
    }
   ],
   "source": [
    "import torch\n",
    "import torch.nn as nn\n",
    "import torchvision.transforms as transforms\n",
    "import torchvision.datasets as dsets\n",
    "\n",
    "# 1. prepare dataset\n",
    "train_dset = dsets.MNIST(root='./data/MNIST',\n",
    "                        train=True,\n",
    "                        transform=transforms.ToTensor(),\n",
    "                        download=True)\n",
    "test_dset = dsets.MNIST(root='./data/MNIST',\n",
    "                        train=False,\n",
    "                        transform=transforms.ToTensor())\n",
    "\n",
    "# 2. make dataset iterable\n",
    "batch_size = 100\n",
    "n_iters = 3000\n",
    "num_epochs = n_iters / (len(train_dataset) / batch_size)\n",
    "num_epochs = int(num_epochs)\n",
    "\n",
    "train_loader = torch.utils.data.DataLoader(dataset=train_dset,\n",
    "                                          batch_size=batch_size,\n",
    "                                          shuffle=True)\n",
    "test_loader = torch.utils.data.DataLoader(dataset=test_dset,\n",
    "                                          batch_size=batch_size,\n",
    "                                          shuffle=False)\n",
    "\n",
    "# 3. create model class\n",
    "class CNNModel(nn.Module):\n",
    "    def __init__(self):\n",
    "        super(CNNModel, self).__init__()\n",
    "        \n",
    "        self.conv1 = nn.Conv2d(in_channels=1, out_channels=16, kernel_size=5, stride=1, padding=2)\n",
    "        self.relu1 = nn.ReLU()\n",
    "        self.maxpool1 = nn.MaxPool2d(kernel_size=2)\n",
    "        \n",
    "        self.conv2 = nn.Conv2d(in_channels=16, out_channels=32, kernel_size=5, stride=1, padding=2)\n",
    "        self.relu2 = nn.ReLU()\n",
    "        self.maxpool2 = nn.MaxPool2d(kernel_size=2)\n",
    "        \n",
    "        self.fc1 = nn.Linear(32*7*7, 10)\n",
    "        \n",
    "    def forward(self, x):\n",
    "        out = self.conv1(x)\n",
    "        out = self.relu1(out)\n",
    "        out = self.maxpool1(out)\n",
    "        \n",
    "        out = self.conv2(out)\n",
    "        out = self.relu2(out)\n",
    "        out = self.maxpool2(out)\n",
    "        \n",
    "        # (100, 32, 7, 7) -> (100, 32*7*7)\n",
    "        out = out.view(out.size(0), -1)\n",
    "        \n",
    "        out = self.fc1(out)\n",
    "        return out\n",
    "\n",
    "# 4. instantiate model class\n",
    "model = CNNModel()\n",
    "\n",
    "device = torch.device(\"cuda:0\" if torch.cuda.is_available() else \"cpu\")\n",
    "model.to(device)\n",
    "\n",
    "# 5. instantiate loss class\n",
    "criterion = nn.CrossEntropyLoss()\n",
    "\n",
    "# 6. instantiate optimizer class\n",
    "learning_rate = 0.01\n",
    "optimizer = torch.optim.SGD(model.parameters(), lr=learning_rate)\n",
    "\n",
    "print(torch.cuda.is_available())\n",
    "\n",
    "# 7. train the model\n",
    "iter = 0\n",
    "for epoch in range(num_epochs):\n",
    "    for i, (images, labels) in enumerate(train_loader):\n",
    "        images = images.to(device)\n",
    "        labels = labels.to(device)\n",
    "        \n",
    "        optimizer.zero_grad()\n",
    "        \n",
    "        outputs = model(images)\n",
    "        \n",
    "        loss = criterion(outputs, labels)\n",
    "        \n",
    "        loss.backward()\n",
    "        \n",
    "        optimizer.step()\n",
    "        iter += 1\n",
    "        \n",
    "        if iter % 500 == 0:\n",
    "            correct = 0\n",
    "            total = 0\n",
    "            for images, labels in test_loader:\n",
    "                images = images.to(device)\n",
    "                labels = labels.to(device)\n",
    "                \n",
    "                outputs = model(images)\n",
    "                \n",
    "                _, predicted = torch.max(outputs.data, 1)\n",
    "                \n",
    "                total += labels.size(0)\n",
    "                \n",
    "                if torch.cuda.is_available():\n",
    "                    correct += (predicted.cpu() == labels.cpu()).sum()\n",
    "                else:\n",
    "                    correct += (predicted == labels).sum()\n",
    "            \n",
    "            accuracy = 100 * correct.item() / total\n",
    "            print(\"iter: {}, loss: {}, accuracy: {}\".format(iter, loss, accuracy))\n",
    "                \n",
    "        "
   ]
  },
  {
   "cell_type": "markdown",
   "metadata": {
    "colab_type": "text",
    "id": "ASpRhzDXA5F5"
   },
   "source": [
    "> **More Efficient Convolutions via Toeplitz Matrices**\n",
    ">\n",
    "> This is beyond the scope of this particular lesson. But now that we understand how convolutions work, it is critical to know that it is quite an inefficient operation if we use for-loops to perform our 2D convolutions (5 x 5 convolution kernel size for example) on our 2D images (28 x 28 MNIST image for example).\n",
    ">\n",
    "> A more efficient implementation is in converting our convolution kernel into a Toeplitz matrix and our image into a vector. Then, we will do just one matrix operation using our Toeplitz matrix and vector.\n",
    ">\n",
    "> There will be a whole lesson dedicated to this operation released down the road."
   ]
  },
  {
   "cell_type": "markdown",
   "metadata": {
    "colab_type": "text",
    "id": "kNSaJTzOA5F5"
   },
   "source": [
    "## Summary\n",
    "\n",
    "- Transition from **Feedforward Neural Network**\n",
    "    - Addition of **Convolutional** & **Pooling** Layers before Linear Layers\n",
    "- One **Convolutional** Layer Basics\n",
    "- One **Pooling** Layer Basics\n",
    "    - Max pooling\n",
    "    - Average pooling\n",
    "- **Padding**\n",
    "- **Output Dimension** Calculations and Examples\n",
    "    -  $ O = \\frac {W - K + 2P}{S} + 1$\n",
    "- Convolutional Neural Networks\n",
    "    - **Model A**: 2 Conv + 2 Max pool + 1 FC\n",
    "        - Same Padding\n",
    "    - **Model B**: 2 Conv + 2 Average pool + 1 FC\n",
    "        - Same Padding\n",
    "    - **Model C**: 2 Conv + 2 Max pool + 1 FC\n",
    "        - Valid Padding\n",
    "- Model Variation in **Code**\n",
    "    - Modifying only step 3\n",
    "- Ways to Expand Model’s **Capacity**\n",
    "    - More convolutions\n",
    "    - Gradual pooling\n",
    "    - More fully connected layers\n",
    "- **GPU** Code\n",
    "    - 2 things on GPU\n",
    "        - **model**\n",
    "        - **variable**\n",
    "    - Modifying only **Step 4 & Step 7**\n",
    "- **7 Step** Model Building Recap\n",
    "    - Step 1: Load Dataset\n",
    "    - Step 2: Make Dataset Iterable\n",
    "    - Step 3: Create Model Class\n",
    "    - Step 4: Instantiate Model Class\n",
    "    - Step 5: Instantiate Loss Class\n",
    "    - Step 6: Instantiate Optimizer Class\n",
    "    - Step 7: Train Model"
   ]
  },
  {
   "cell_type": "markdown",
   "metadata": {
    "colab_type": "text",
    "id": "wT_7e4eTA5F6"
   },
   "source": [
    "### *References*\n",
    "[1] [DOI](https://zenodo.org/badge/139945544.svg)(https://zenodo.org/badge/latestdoi/139945544)"
   ]
  },
  {
   "cell_type": "code",
   "execution_count": 0,
   "metadata": {
    "colab": {},
    "colab_type": "code",
    "id": "7ZVKrtCtBUZD"
   },
   "outputs": [],
   "source": []
  }
 ],
 "metadata": {
  "colab": {
   "name": "EEE4423_lab3_cnns.ipynb",
   "provenance": [],
   "version": "0.3.2"
  },
  "kernelspec": {
   "display_name": "Python 3",
   "language": "python",
   "name": "python3"
  },
  "language_info": {
   "codemirror_mode": {
    "name": "ipython",
    "version": 3
   },
   "file_extension": ".py",
   "mimetype": "text/x-python",
   "name": "python",
   "nbconvert_exporter": "python",
   "pygments_lexer": "ipython3",
   "version": "3.7.3"
  }
 },
 "nbformat": 4,
 "nbformat_minor": 1
}
