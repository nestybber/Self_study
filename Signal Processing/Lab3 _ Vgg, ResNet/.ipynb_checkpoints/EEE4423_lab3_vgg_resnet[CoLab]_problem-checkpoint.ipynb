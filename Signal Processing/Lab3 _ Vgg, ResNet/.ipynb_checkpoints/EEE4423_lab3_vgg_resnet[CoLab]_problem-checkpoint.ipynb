{
 "cells": [
  {
   "cell_type": "markdown",
   "metadata": {
    "colab_type": "text",
    "id": "SEHO-jaFj9Zm"
   },
   "source": [
    "> ### EEE4423: Signal Processing Lab\n",
    "\n",
    "# LAB \\#3: CNN: VGG Net and ResNet [CoLab]"
   ]
  },
  {
   "cell_type": "markdown",
   "metadata": {
    "colab_type": "text",
    "id": "HVdm1LA1j9Zo"
   },
   "source": [
    "<h4><div style=\"text-align: right\"> Due date: March 29, 2019.  </div> <br>\n",
    "<div style=\"text-align: right\"> Please upload your file @ yscec by 9 AM in the form of [ID_Name_Lab3.ipynb]. </div></h4>"
   ]
  },
  {
   "cell_type": "markdown",
   "metadata": {
    "colab_type": "text",
    "id": "8cl2DqlTj9Zp"
   },
   "source": [
    "### *Instructions:*\n",
    "- Write a program implementing a particular algorithm to solve a given problem.   \n",
    "- <span style=\"color:red\">**Report and discuss your results. Analyze the algorithm, theoretically and empirically.**</span> \n",
    "- Each team must write their own answers and codes (<span style=\"color:red\">**if not you will get a F grade**</span>)."
   ]
  },
  {
   "cell_type": "markdown",
   "metadata": {
    "colab_type": "text",
    "id": "KKipoMbMj9Zq"
   },
   "source": [
    "<h2><span style=\"color:blue\">[2015142113] [JunYoung Kim]</span> </h2>"
   ]
  },
  {
   "cell_type": "code",
   "execution_count": 1,
   "metadata": {
    "colab": {
     "base_uri": "https://localhost:8080/",
     "height": 34
    },
    "colab_type": "code",
    "executionInfo": {
     "elapsed": 2059,
     "status": "ok",
     "timestamp": 1586020825410,
     "user": {
      "displayName": "kyungmook choi",
      "photoUrl": "",
      "userId": "04352800545748553848"
     },
     "user_tz": -540
    },
    "id": "VL1pbTi2j9Zr",
    "outputId": "4d80d87c-18b4-4b55-cbe0-ad38344c8177"
   },
   "outputs": [
    {
     "name": "stdout",
     "output_type": "stream",
     "text": [
      "This code is written at 2020-04-04 17:20:24.284612\n"
     ]
    }
   ],
   "source": [
    "import datetime\n",
    "print(\"This code is written at \" + str(datetime.datetime.now()))"
   ]
  },
  {
   "cell_type": "code",
   "execution_count": 2,
   "metadata": {
    "colab": {
     "base_uri": "https://localhost:8080/",
     "height": 476
    },
    "colab_type": "code",
    "executionInfo": {
     "elapsed": 7377,
     "status": "ok",
     "timestamp": 1586020830743,
     "user": {
      "displayName": "kyungmook choi",
      "photoUrl": "",
      "userId": "04352800545748553848"
     },
     "user_tz": -540
    },
    "id": "5rfPXXDMkcpZ",
    "outputId": "8847f8a7-f8ef-4d08-9eb2-3d30ff20fd74"
   },
   "outputs": [
    {
     "name": "stdout",
     "output_type": "stream",
     "text": [
      "Python version\n",
      "sys.version_info(major=3, minor=6, micro=9, releaselevel='final', serial=0)\n",
      "\n",
      "OS information\n",
      "Linux-4.19.104+-x86_64-with-Ubuntu-18.04-bionic\n",
      "\n",
      "Is GPU available?\n",
      "True\n",
      "\n",
      "GPU information\n",
      "Sat Apr  4 17:20:28 2020       \n",
      "+-----------------------------------------------------------------------------+\n",
      "| NVIDIA-SMI 440.64.00    Driver Version: 418.67       CUDA Version: 10.1     |\n",
      "|-------------------------------+----------------------+----------------------+\n",
      "| GPU  Name        Persistence-M| Bus-Id        Disp.A | Volatile Uncorr. ECC |\n",
      "| Fan  Temp  Perf  Pwr:Usage/Cap|         Memory-Usage | GPU-Util  Compute M. |\n",
      "|===============================+======================+======================|\n",
      "|   0  Tesla P100-PCIE...  Off  | 00000000:00:04.0 Off |                    0 |\n",
      "| N/A   43C    P0    27W / 250W |     10MiB / 16280MiB |      0%      Default |\n",
      "+-------------------------------+----------------------+----------------------+\n",
      "                                                                               \n",
      "+-----------------------------------------------------------------------------+\n",
      "| Processes:                                                       GPU Memory |\n",
      "|  GPU       PID   Type   Process name                             Usage      |\n",
      "|=============================================================================|\n",
      "|  No running processes found                                                 |\n",
      "+-----------------------------------------------------------------------------+\n"
     ]
    }
   ],
   "source": [
    "#####################################################################\n",
    "# In order to use GPU acceleration, you must change runtime type.\n",
    "# See the menu bar above. \n",
    "# \"Runtime\" -> \"Change runtime type\"  -> \"Hardware accelerator\"\n",
    "# Change 'None' to 'GPU', then run the code below.\n",
    "#####################################################################\n",
    "\n",
    "import sys\n",
    "import platform\n",
    "import torch\n",
    "\n",
    "print(\"Python version\")\n",
    "print(sys.version_info)\n",
    "\n",
    "print(\"\\nOS information\")\n",
    "print(platform.platform())\n",
    "\n",
    "print(\"\\nIs GPU available?\")\n",
    "print(torch.cuda.is_available())\n",
    "\n",
    "# print(\"\\nCPU information\")\n",
    "# !cat /proc/cpuinfo\n",
    "\n",
    "# print(\"\\nMemory information\")\n",
    "# !cat /proc/meminfo\n",
    "\n",
    "print(\"\\nGPU information\")\n",
    "!nvidia-smi"
   ]
  },
  {
   "cell_type": "markdown",
   "metadata": {
    "colab_type": "text",
    "id": "VpPLjwr8j9Zw"
   },
   "source": [
    "## 1. VGGNet with PyTorch"
   ]
  },
  {
   "cell_type": "markdown",
   "metadata": {
    "colab_type": "text",
    "id": "IWeEYLiSj9Zx"
   },
   "source": [
    "### Implementing VGGNet\n",
    "\n",
    "> 1. **Dataset**\n",
    ">> - Images from the first three categories in CIFAR-10. (Due to the computational constraints.)  <br>\n",
    "     Three categories : plane, car, bird  /  The number of training images : 15,000   /  The number of test images : 3,000\n",
    ">> - Augmented with flipping and random cropping.\n",
    ">\n",
    "> 2. **Network architecture**\n",
    ">> - Type-D configuration in the paper (+ 3-way classifier after convolutional layers).\n",
    ">> - ReLU activation.\n",
    ">> - No dropout for simplicity.\n",
    ">> - We will apply **batch-normalization** after every convolution which is not used in the paper (otherwise, hard to optimize).\n",
    ">>\n",
    ">> <table><tr>\n",
    ">> <td> <img src=\"https://docs.google.com/uc?export=download&id=1OiTmrplD9gOrEJizLChyLp31R0QtoeHv\" alt=\"no_image\" style=\"width: 550px;\"/> </td>\n",
    ">> <td> <img src=\"https://docs.google.com/uc?export=download&id=1bBvAOdJeskMMyOrZtBCCnkEEgq9PgjX9\" alt=\"no_image\" style=\"width: 250px;\"/> </td>\n",
    ">> </tr></table>\n",
    ">>\n",
    ">> <font size=\"0.5\"> Figure from <br>\n",
    ">> [1] https://www.quora.com/What-is-the-VGG-neural-network </font>\n",
    ">\n",
    "> 3. **Loss function**\n",
    ">> - Cross-entropy loss between outputs & ground-truths. <br>\n",
    "     Note that `nn.CrossEntroyLoss` takes logits before softmax as network outputs and scalar index (not one-hot vector) as ground-truths.<br>\n",
    "     See https://pytorch.org/docs/stable/nn.html#crossentropyloss for details.\n",
    ">\n",
    "> 4. **Training**\n",
    ">> - Default weight initialization for simplicity.\n",
    ">> - SGD optimizer with `learning rate = 1e-2`, `momentum = 0.9`, and `weight_decay = 5e-4`.\n",
    ">> - 20 epochs without learning rate scheduling.\n",
    ">\n",
    "> 5. **Evaluation metric**\n",
    ">> - Classification accuracy (i.e., the percentage of correct predictions).\n",
    ">\n",
    "> "
   ]
  },
  {
   "cell_type": "code",
   "execution_count": 0,
   "metadata": {
    "colab": {},
    "colab_type": "code",
    "id": "LGgir5u7j9Zy"
   },
   "outputs": [],
   "source": [
    "import torch\n",
    "import torch.nn as nn\n",
    "import torch.optim as optim\n",
    "import torch.nn.functional as F\n",
    "import torchvision.transforms as transforms\n",
    "import torchvision.datasets as dsets \n",
    "import torchvision\n",
    "import time\n",
    "import os\n",
    "\n",
    "# os.environ[\"CUDA_VISIBLE_DEVICES\"]=\"0\""
   ]
  },
  {
   "cell_type": "code",
   "execution_count": 4,
   "metadata": {
    "colab": {
     "base_uri": "https://localhost:8080/",
     "height": 100,
     "referenced_widgets": [
      "e5806f855d2c4aba9d8e684fe29d9424",
      "be7c4195adfd4aff98ee091e384fff95",
      "7bbba3ab19a247d8b86e8b10dca19c61",
      "8f8a7b74f4b04d9c83ecfecd3d274970",
      "707df9e4594f4304a2024b437894ece9",
      "d8d47e55a15d4e7395b14e3e65fcaa4a",
      "82e9de3e874b47df9542bf4c22481200",
      "178ebd051cf142828e0e0879a4c22807"
     ]
    },
    "colab_type": "code",
    "executionInfo": {
     "elapsed": 13505,
     "status": "ok",
     "timestamp": 1586020836887,
     "user": {
      "displayName": "kyungmook choi",
      "photoUrl": "",
      "userId": "04352800545748553848"
     },
     "user_tz": -540
    },
    "id": "OwvpXFuaj9Z0",
    "outputId": "c9548f00-3a4c-43a9-d7b4-00c9d7c1ec6e"
   },
   "outputs": [
    {
     "name": "stdout",
     "output_type": "stream",
     "text": [
      "STEP 1: LOADING DATASET\n",
      "Downloading https://www.cs.toronto.edu/~kriz/cifar-10-python.tar.gz to ./data/CIFAR10/cifar-10-python.tar.gz\n"
     ]
    },
    {
     "data": {
      "application/vnd.jupyter.widget-view+json": {
       "model_id": "e5806f855d2c4aba9d8e684fe29d9424",
       "version_major": 2,
       "version_minor": 0
      },
      "text/plain": [
       "HBox(children=(IntProgress(value=1, bar_style='info', max=1), HTML(value='')))"
      ]
     },
     "metadata": {
      "tags": []
     },
     "output_type": "display_data"
    },
    {
     "name": "stdout",
     "output_type": "stream",
     "text": [
      "Extracting ./data/CIFAR10/cifar-10-python.tar.gz to ./data/CIFAR10/\n"
     ]
    }
   ],
   "source": [
    "print('STEP 1: LOADING DATASET')\n",
    "\n",
    "transform_train = transforms.Compose([\n",
    "    transforms.RandomCrop(32, padding=4),\n",
    "    transforms.RandomHorizontalFlip(),\n",
    "    transforms.ToTensor(),\n",
    "    transforms.Normalize((0.4914, 0.4822, 0.4465), (0.2023, 0.1994, 0.2010)),\n",
    "])\n",
    "\n",
    "transform_test = transforms.Compose([\n",
    "    transforms.ToTensor(),\n",
    "    transforms.Normalize((0.4914, 0.4822, 0.4465), (0.2023, 0.1994, 0.2010)),\n",
    "])\n",
    "\n",
    "train_dataset = dsets.CIFAR10(root='./data/CIFAR10/', \n",
    "                            train=True, \n",
    "                            transform=transform_train,\n",
    "                            download=True)\n",
    "\n",
    "test_dataset = dsets.CIFAR10(root='./data/CIFAR10/', \n",
    "                           train=False, \n",
    "                           transform=transform_test)"
   ]
  },
  {
   "cell_type": "code",
   "execution_count": 5,
   "metadata": {
    "colab": {
     "base_uri": "https://localhost:8080/",
     "height": 34
    },
    "colab_type": "code",
    "executionInfo": {
     "elapsed": 29600,
     "status": "ok",
     "timestamp": 1586020852987,
     "user": {
      "displayName": "kyungmook choi",
      "photoUrl": "",
      "userId": "04352800545748553848"
     },
     "user_tz": -540
    },
    "id": "DrK0ZHmLj9Z4",
    "outputId": "c7266d6c-24cb-4716-cb92-9b50fc0ab16f"
   },
   "outputs": [
    {
     "name": "stdout",
     "output_type": "stream",
     "text": [
      "\n"
     ]
    }
   ],
   "source": [
    "# reducing the dataset\n",
    "reduced_train_dataset = []\n",
    "for images, labels in train_dataset:\n",
    "    if labels < 3:\n",
    "        reduced_train_dataset.append((images, labels))\n",
    "        \n",
    "reduced_test_dataset = []\n",
    "for images, labels in test_dataset:\n",
    "    if labels < 3:\n",
    "        reduced_test_dataset.append((images, labels))"
   ]
  },
  {
   "cell_type": "code",
   "execution_count": 6,
   "metadata": {
    "colab": {
     "base_uri": "https://localhost:8080/",
     "height": 51
    },
    "colab_type": "code",
    "executionInfo": {
     "elapsed": 29592,
     "status": "ok",
     "timestamp": 1586020852988,
     "user": {
      "displayName": "kyungmook choi",
      "photoUrl": "",
      "userId": "04352800545748553848"
     },
     "user_tz": -540
    },
    "id": "LWnYJ2cwj9Z6",
    "outputId": "3b7e5170-b3f6-4f76-c6fb-5783806b1fd7"
   },
   "outputs": [
    {
     "name": "stdout",
     "output_type": "stream",
     "text": [
      "The number of training images :  15000\n",
      "The number of test images :  3000\n"
     ]
    }
   ],
   "source": [
    "print(\"The number of training images : \", len(reduced_train_dataset))\n",
    "print(\"The number of test images : \", len(reduced_test_dataset))"
   ]
  },
  {
   "cell_type": "code",
   "execution_count": 7,
   "metadata": {
    "colab": {
     "base_uri": "https://localhost:8080/",
     "height": 34
    },
    "colab_type": "code",
    "executionInfo": {
     "elapsed": 29583,
     "status": "ok",
     "timestamp": 1586020852989,
     "user": {
      "displayName": "kyungmook choi",
      "photoUrl": "",
      "userId": "04352800545748553848"
     },
     "user_tz": -540
    },
    "id": "WFq0isyCj9Z-",
    "outputId": "b26809a3-3e8c-47d4-f7c0-4f0e2dc92bf0"
   },
   "outputs": [
    {
     "name": "stdout",
     "output_type": "stream",
     "text": [
      "STEP 2: MAKING DATASET ITERABLE\n"
     ]
    }
   ],
   "source": [
    "print('STEP 2: MAKING DATASET ITERABLE')\n",
    "\n",
    "train_loader = torch.utils.data.DataLoader(dataset=reduced_train_dataset, \n",
    "                                           batch_size=128, \n",
    "                                           shuffle=True)\n",
    "\n",
    "test_loader = torch.utils.data.DataLoader(dataset=reduced_test_dataset, \n",
    "                                          batch_size=100, \n",
    "                                          shuffle=False)\n",
    "\n",
    "class_names = ('plane', 'car', 'bird', 'cat', 'deer', 'dog', 'frog', 'horse', 'ship', 'truck')"
   ]
  },
  {
   "cell_type": "markdown",
   "metadata": {
    "colab_type": "text",
    "id": "Wy7GW1lkj9aB"
   },
   "source": [
    "### Visualize a few images"
   ]
  },
  {
   "cell_type": "code",
   "execution_count": 0,
   "metadata": {
    "colab": {},
    "colab_type": "code",
    "id": "tJGv35Alj9aC"
   },
   "outputs": [],
   "source": [
    "import matplotlib.pyplot as plt\n",
    "%matplotlib inline  \n",
    "import numpy as np"
   ]
  },
  {
   "cell_type": "code",
   "execution_count": 0,
   "metadata": {
    "colab": {},
    "colab_type": "code",
    "id": "3PYou4Cuj9aE"
   },
   "outputs": [],
   "source": [
    "def imshow(inp, title=None):\n",
    "    \"\"\"Imshow for Tensor.\"\"\"\n",
    "    inp = inp.numpy().transpose((1, 2, 0))\n",
    "    mean = np.array([0.4914, 0.4822, 0.4465])\n",
    "    std = np.array([0.2023, 0.1994, 0.2010])\n",
    "    inp = std * inp + mean\n",
    "    inp = np.clip(inp, 0, 1)\n",
    "    plt.imshow(inp)\n",
    "    if title is not None:\n",
    "        plt.title(title)\n",
    "    plt.pause(0.001)  # pause a bit so that plots are updated"
   ]
  },
  {
   "cell_type": "code",
   "execution_count": 10,
   "metadata": {
    "colab": {
     "base_uri": "https://localhost:8080/",
     "height": 151
    },
    "colab_type": "code",
    "executionInfo": {
     "elapsed": 29566,
     "status": "ok",
     "timestamp": 1586020852990,
     "user": {
      "displayName": "kyungmook choi",
      "photoUrl": "",
      "userId": "04352800545748553848"
     },
     "user_tz": -540
    },
    "id": "jX59AE2pj9aH",
    "outputId": "b87932ba-e9bb-4aca-9465-9206f14b937d"
   },
   "outputs": [
    {
     "data": {
      "image/png": "[encoded data removed]",
      "text/plain": [
       "<Figure size 432x288 with 1 Axes>"
      ]
     },
     "metadata": {
      "tags": []
     },
     "output_type": "display_data"
    }
   ],
   "source": [
    "train_loader_sample = torch.utils.data.DataLoader(dataset=reduced_train_dataset, \n",
    "                                           batch_size=4, \n",
    "                                           shuffle=True)\n",
    "\n",
    "# Get a batch of training data\n",
    "inputs, classes = next(iter(train_loader_sample))\n",
    "\n",
    "# Make a grid from batch\n",
    "out = torchvision.utils.make_grid(inputs)\n",
    "\n",
    "imshow(out, title=[class_names[x] for x in classes])"
   ]
  },
  {
   "cell_type": "markdown",
   "metadata": {
    "colab_type": "text",
    "id": "hzbc_fTrj9aM"
   },
   "source": [
    "### 1.1 Write code (VGG 16) [3 points]"
   ]
  },
  {
   "cell_type": "code",
   "execution_count": 11,
   "metadata": {
    "colab": {
     "base_uri": "https://localhost:8080/",
     "height": 34
    },
    "colab_type": "code",
    "executionInfo": {
     "elapsed": 29557,
     "status": "ok",
     "timestamp": 1586020852991,
     "user": {
      "displayName": "kyungmook choi",
      "photoUrl": "",
      "userId": "04352800545748553848"
     },
     "user_tz": -540
    },
    "id": "gjeNHb89j9aN",
    "outputId": "9259d6d5-f5a8-42f3-b18f-54b447823c36"
   },
   "outputs": [
    {
     "name": "stdout",
     "output_type": "stream",
     "text": [
      "STEP 3: CREATE MODEL CLASS (VGG16)\n"
     ]
    }
   ],
   "source": []
  },
  {
   "cell_type": "code",
   "execution_count": 12,
   "metadata": {
    "colab": {
     "base_uri": "https://localhost:8080/",
     "height": 1000
    },
    "colab_type": "code",
    "executionInfo": {
     "elapsed": 39034,
     "status": "ok",
     "timestamp": 1586020862478,
     "user": {
      "displayName": "kyungmook choi",
      "photoUrl": "",
      "userId": "04352800545748553848"
     },
     "user_tz": -540
    },
    "id": "iqoPZuR3j9aQ",
    "outputId": "c5aa3af0-0924-499f-d6dd-5d826adc3eae"
   },
   "outputs": [
    {
     "name": "stdout",
     "output_type": "stream",
     "text": [
      "STEP 4: INSTANTIATE MODEL CLASS\n",
      "The number of parameters :  20931394\n"
     ]
    },
    {
     "data": {
      "text/plain": [
       "VGG(\n",
       "  (convlayer): Sequential(\n",
       "    (0): Sequential(\n",
       "      (0): Conv2d(3, 64, kernel_size=(3, 3), stride=(1, 1), padding=(1, 1))\n",
       "      (1): BatchNorm2d(64, eps=1e-05, momentum=0.1, affine=True, track_running_stats=True)\n",
       "      (2): ReLU()\n",
       "      (3): Conv2d(64, 64, kernel_size=(3, 3), stride=(1, 1), padding=(1, 1))\n",
       "      (4): BatchNorm2d(64, eps=1e-05, momentum=0.1, affine=True, track_running_stats=True)\n",
       "      (5): ReLU()\n",
       "    )\n",
       "    (1): MaxPool2d(kernel_size=2, stride=2, padding=0, dilation=1, ceil_mode=False)\n",
       "    (2): Sequential(\n",
       "      (0): Conv2d(64, 128, kernel_size=(3, 3), stride=(1, 1), padding=(1, 1))\n",
       "      (1): BatchNorm2d(128, eps=1e-05, momentum=0.1, affine=True, track_running_stats=True)\n",
       "      (2): ReLU()\n",
       "      (3): Conv2d(128, 128, kernel_size=(3, 3), stride=(1, 1), padding=(1, 1))\n",
       "      (4): BatchNorm2d(128, eps=1e-05, momentum=0.1, affine=True, track_running_stats=True)\n",
       "      (5): ReLU()\n",
       "    )\n",
       "    (3): MaxPool2d(kernel_size=2, stride=2, padding=0, dilation=1, ceil_mode=False)\n",
       "    (4): Sequential(\n",
       "      (0): Conv2d(128, 256, kernel_size=(3, 3), stride=(1, 1), padding=(1, 1))\n",
       "      (1): BatchNorm2d(256, eps=1e-05, momentum=0.1, affine=True, track_running_stats=True)\n",
       "      (2): ReLU()\n",
       "      (3): Conv2d(256, 256, kernel_size=(3, 3), stride=(1, 1), padding=(1, 1))\n",
       "      (4): BatchNorm2d(256, eps=1e-05, momentum=0.1, affine=True, track_running_stats=True)\n",
       "      (5): ReLU()\n",
       "      (6): Conv2d(256, 256, kernel_size=(3, 3), stride=(1, 1), padding=(1, 1))\n",
       "      (7): BatchNorm2d(256, eps=1e-05, momentum=0.1, affine=True, track_running_stats=True)\n",
       "      (8): ReLU()\n",
       "    )\n",
       "    (5): MaxPool2d(kernel_size=2, stride=2, padding=0, dilation=1, ceil_mode=False)\n",
       "    (6): Sequential(\n",
       "      (0): Conv2d(256, 512, kernel_size=(3, 3), stride=(1, 1), padding=(1, 1))\n",
       "      (1): BatchNorm2d(512, eps=1e-05, momentum=0.1, affine=True, track_running_stats=True)\n",
       "      (2): ReLU()\n",
       "      (3): Conv2d(512, 512, kernel_size=(3, 3), stride=(1, 1), padding=(1, 1))\n",
       "      (4): BatchNorm2d(512, eps=1e-05, momentum=0.1, affine=True, track_running_stats=True)\n",
       "      (5): ReLU()\n",
       "      (6): Conv2d(512, 512, kernel_size=(3, 3), stride=(1, 1), padding=(1, 1))\n",
       "      (7): BatchNorm2d(512, eps=1e-05, momentum=0.1, affine=True, track_running_stats=True)\n",
       "      (8): ReLU()\n",
       "    )\n",
       "    (7): MaxPool2d(kernel_size=2, stride=2, padding=0, dilation=1, ceil_mode=False)\n",
       "    (8): Sequential(\n",
       "      (0): Conv2d(512, 512, kernel_size=(3, 3), stride=(1, 1), padding=(1, 1))\n",
       "      (1): BatchNorm2d(512, eps=1e-05, momentum=0.1, affine=True, track_running_stats=True)\n",
       "      (2): ReLU()\n",
       "      (3): Conv2d(512, 512, kernel_size=(3, 3), stride=(1, 1), padding=(1, 1))\n",
       "      (4): BatchNorm2d(512, eps=1e-05, momentum=0.1, affine=True, track_running_stats=True)\n",
       "      (5): ReLU()\n",
       "      (6): Conv2d(512, 512, kernel_size=(3, 3), stride=(1, 1), padding=(1, 1))\n",
       "      (7): BatchNorm2d(512, eps=1e-05, momentum=0.1, affine=True, track_running_stats=True)\n",
       "      (8): ReLU()\n",
       "    )\n",
       "    (9): MaxPool2d(kernel_size=2, stride=2, padding=0, dilation=1, ceil_mode=False)\n",
       "  )\n",
       "  (fclayer): Sequential(\n",
       "    (0): Linear(in_features=512, out_features=4096, bias=True)\n",
       "    (1): ReLU()\n",
       "    (2): Dropout(p=0.5, inplace=False)\n",
       "    (3): Linear(in_features=4096, out_features=1000, bias=True)\n",
       "    (4): ReLU()\n",
       "    (5): Dropout(p=0.5, inplace=False)\n",
       "    (6): Linear(in_features=1000, out_features=10, bias=True)\n",
       "  )\n",
       ")"
      ]
     },
     "execution_count": 12,
     "metadata": {
      "tags": []
     },
     "output_type": "execute_result"
    }
   ],
   "source": []
  },
  {
   "cell_type": "code",
   "execution_count": 13,
   "metadata": {
    "colab": {
     "base_uri": "https://localhost:8080/",
     "height": 51
    },
    "colab_type": "code",
    "executionInfo": {
     "elapsed": 39025,
     "status": "ok",
     "timestamp": 1586020862480,
     "user": {
      "displayName": "kyungmook choi",
      "photoUrl": "",
      "userId": "04352800545748553848"
     },
     "user_tz": -540
    },
    "id": "mFeamtXXj9aT",
    "outputId": "9e3523eb-6c93-46f1-9576-8f2d05dd88c1"
   },
   "outputs": [
    {
     "name": "stdout",
     "output_type": "stream",
     "text": [
      "STEP 5: INSTANTIATE LOSS CLASS\n",
      "STEP 6: INSTANTIATE OPTIMIZER CLASS\n"
     ]
    }
   ],
   "source": [
    "print('STEP 5: INSTANTIATE LOSS CLASS')\n",
    "\n",
    "criterion = nn.CrossEntropyLoss()\n",
    "\n",
    "print('STEP 6: INSTANTIATE OPTIMIZER CLASS')\n",
    "\n",
    "learning_rate = 1e-2\n",
    "momentum = 0.9\n",
    "weight_decay = 5e-4\n",
    "\n",
    "optimizer = torch.optim.SGD(model.parameters(), lr=learning_rate, momentum = momentum, weight_decay = weight_decay)"
   ]
  },
  {
   "cell_type": "markdown",
   "metadata": {
    "colab_type": "text",
    "id": "PaWErvoRj9aY"
   },
   "source": [
    "### 1.2 Train the VGG 16 model and print test accuracy for every epochs [2 points]"
   ]
  },
  {
   "cell_type": "code",
   "execution_count": 14,
   "metadata": {
    "colab": {
     "base_uri": "https://localhost:8080/",
     "height": 374
    },
    "colab_type": "code",
    "executionInfo": {
     "elapsed": 153628,
     "status": "ok",
     "timestamp": 1586020977094,
     "user": {
      "displayName": "kyungmook choi",
      "photoUrl": "",
      "userId": "04352800545748553848"
     },
     "user_tz": -540
    },
    "id": "bbi85f2Pj9aY",
    "outputId": "290215dd-0acb-40ea-b783-2b2823b78e6f",
    "scrolled": true
   },
   "outputs": [
    {
     "name": "stdout",
     "output_type": "stream",
     "text": [
      "STEP 7: TRAIN THE MODEL\n",
      "Epoch: 0. Loss: 0.6790280872482365. Accuracy: 82.7. Elapsed time: 5.49723681640625 sec\n",
      "Epoch: 1. Loss: 0.39377079348442917. Accuracy: 84.93333333333334. Elapsed time: 5.27788330078125 sec\n",
      "Epoch: 2. Loss: 0.29808063072673346. Accuracy: 89.33333333333333. Elapsed time: 5.27611279296875 sec\n",
      "Epoch: 3. Loss: 0.23055573016152545. Accuracy: 88.06666666666666. Elapsed time: 5.27895361328125 sec\n",
      "Epoch: 4. Loss: 0.1847809575245542. Accuracy: 90.26666666666667. Elapsed time: 5.27582470703125 sec\n",
      "Epoch: 5. Loss: 0.14983118953719987. Accuracy: 92.3. Elapsed time: 5.2808173828125 sec\n",
      "Epoch: 6. Loss: 0.11608903671977884. Accuracy: 91.73333333333333. Elapsed time: 5.28150439453125 sec\n",
      "Epoch: 7. Loss: 0.09748920651500002. Accuracy: 91.83333333333333. Elapsed time: 5.2796357421875 sec\n",
      "Epoch: 8. Loss: 0.0830786904769997. Accuracy: 91.43333333333334. Elapsed time: 5.2815126953125 sec\n",
      "Epoch: 9. Loss: 0.05260594039208303. Accuracy: 91.16666666666667. Elapsed time: 5.28315087890625 sec\n",
      "Epoch: 10. Loss: 0.05008321198619018. Accuracy: 92.73333333333333. Elapsed time: 5.28371142578125 sec\n",
      "Epoch: 11. Loss: 0.050986712245996726. Accuracy: 91.56666666666666. Elapsed time: 5.28232177734375 sec\n",
      "Epoch: 12. Loss: 0.039698185130827505. Accuracy: 92.96666666666667. Elapsed time: 5.27858837890625 sec\n",
      "Epoch: 13. Loss: 0.041387083908637705. Accuracy: 92.46666666666667. Elapsed time: 5.27749853515625 sec\n",
      "Epoch: 14. Loss: 0.040847172029316425. Accuracy: 91.86666666666666. Elapsed time: 5.2843115234375 sec\n",
      "Epoch: 15. Loss: 0.029394782905987765. Accuracy: 92.56666666666666. Elapsed time: 5.2831083984375 sec\n",
      "Epoch: 16. Loss: 0.02835525099338048. Accuracy: 92.33333333333333. Elapsed time: 5.285021484375 sec\n",
      "Epoch: 17. Loss: 0.01427418241766676. Accuracy: 92.86666666666666. Elapsed time: 5.2832900390625 sec\n",
      "Epoch: 18. Loss: 0.024428554794798465. Accuracy: 93.2. Elapsed time: 5.2835068359375 sec\n",
      "Epoch: 19. Loss: 0.020260796961137802. Accuracy: 92.96666666666667. Elapsed time: 5.287052734375 sec\n"
     ]
    }
   ],
   "source": []
  },
  {
   "cell_type": "markdown",
   "metadata": {
    "colab_type": "text",
    "id": "Tb-Zo5yOj9ac"
   },
   "source": [
    "## 2. ResNet with PyTorch"
   ]
  },
  {
   "cell_type": "markdown",
   "metadata": {
    "colab_type": "text",
    "id": "MQeESvzij9ad"
   },
   "source": [
    "### Implementing ResNet\n",
    "\n",
    "> 1. **Dataset**\n",
    ">> - The same dataset used for VGGNet\n",
    ">\n",
    "> 2. **Network architecture**\n",
    ">> - 50-layer ResNet with **bottleneck blocks**. <br>\n",
    "     Note. The initial convolution layer (i.e., conv1) is different from the one in the paper &<br>\n",
    "     the initial max-pooling layer is removed (because the size of CIFAR-10 images is too small).\n",
    ">> - ReLU activation.\n",
    ">> - Strided convolution for down-sampling instead of max-pooling layer. <br>\n",
    "     Note. Once down-sampled, a $1\\times1$ convolution/stride 2 is applied to residual for expanding the channel of the residual.\n",
    ">> - No dropout for simplicity.\n",
    ">> - Batch-normalization after every convolution.\n",
    ">>\n",
    ">>\n",
    ">> <table><tr>\n",
    ">> <td> <img src=\"https://docs.google.com/uc?export=download&id=1ZYDfpVBFBvQnVezVcJqRxwh09rUVmxwD\" alt=\"no_image\" style=\"width: 500px;\"/> </td>\n",
    ">> <td> <img src=\"https://docs.google.com/uc?export=download&id=1JNEea1G-5yOKVLmSCkiYAEJ0HXOys0CR\" alt=\"no_image\" style=\"width: 300px;\"/> </td>\n",
    ">> </tr></table>\n",
    ">>\n",
    ">> <img src=\"https://docs.google.com/uc?export=download&id=1vY0ys5KAZmMlOKk8Dcv7eAV8pZ9cawzJ\" alt=\"no_image\" style=\"width: 870px;\"/>\n",
    ">>\n",
    ">> <font size=\"0.5\"> Figures from <br> \n",
    ">> [1] https://www.codeproject.com/Articles/1248963/Deep-Learning-using-Python-plus-Keras-Chapter-Re  <br> \n",
    ">> [2] Rezende et al., *Signal Processing: Image Communication*, 2018. </font>\n",
    ">\n",
    "> 3. **Loss function**\n",
    ">> - Cross-entropy loss between outputs & ground-truths. <br>\n",
    ">\n",
    "> 4. **Training**\n",
    ">> - Default weight initialization for simplicity.\n",
    ">> - SGD optimizer with `learning rate = 1e-2`, `momentum = 0.9`, and `weight_decay = 5e-4`.\n",
    ">> - 15 epochs without learning rate scheduling.\n",
    ">\n",
    "> 5. **Evaluation metric**\n",
    ">> - Classification accuracy (i.e., the percentage of correct predictions).\n",
    ">\n",
    "> "
   ]
  },
  {
   "cell_type": "markdown",
   "metadata": {
    "colab_type": "text",
    "id": "j-guPbqGj9ae"
   },
   "source": [
    "### 2.1 Implement ResNet50 and train it with the CIFAR 10 dataset [4 points] "
   ]
  },
  {
   "cell_type": "code",
   "execution_count": 15,
   "metadata": {
    "colab": {
     "base_uri": "https://localhost:8080/",
     "height": 1000
    },
    "colab_type": "code",
    "executionInfo": {
     "elapsed": 154278,
     "status": "ok",
     "timestamp": 1586020977754,
     "user": {
      "displayName": "kyungmook choi",
      "photoUrl": "",
      "userId": "04352800545748553848"
     },
     "user_tz": -540
    },
    "id": "21UwX-8Kj9af",
    "outputId": "23748f86-7d6a-4ec7-8bbd-c9a64be66f6d"
   },
   "outputs": [
    {
     "name": "stdout",
     "output_type": "stream",
     "text": [
      "STEP 3: CREATE MODEL CLASS (ResNet-50)\n",
      "STEP 4: INSTANTIATE MODEL CLASS\n",
      "The number of parameters :  55463178\n"
     ]
    },
    {
     "data": {
      "text/plain": [
       "Res50(\n",
       "  (conv1x): Sequential(\n",
       "    (0): Conv2d(3, 64, kernel_size=(3, 3), stride=(1, 1), padding=(1, 1))\n",
       "    (1): BatchNorm2d(64, eps=1e-05, momentum=0.1, affine=True, track_running_stats=True)\n",
       "    (2): ReLU()\n",
       "  )\n",
       "  (conv2x): Sequential(\n",
       "    (0): bottleneck(\n",
       "      (conv3): Sequential(\n",
       "        (0): Conv2d(64, 64, kernel_size=(1, 1), stride=(1, 1))\n",
       "        (1): BatchNorm2d(64, eps=1e-05, momentum=0.1, affine=True, track_running_stats=True)\n",
       "        (2): ReLU()\n",
       "        (3): Conv2d(64, 64, kernel_size=(3, 3), stride=(1, 1), padding=(1, 1))\n",
       "        (4): BatchNorm2d(64, eps=1e-05, momentum=0.1, affine=True, track_running_stats=True)\n",
       "        (5): ReLU()\n",
       "        (6): Conv2d(64, 256, kernel_size=(1, 1), stride=(1, 1))\n",
       "        (7): BatchNorm2d(256, eps=1e-05, momentum=0.1, affine=True, track_running_stats=True)\n",
       "      )\n",
       "      (down): Conv2d(64, 256, kernel_size=(1, 1), stride=(2, 2))\n",
       "      (equalizer): Conv2d(64, 256, kernel_size=(1, 1), stride=(1, 1))\n",
       "      (bn1): BatchNorm2d(256, eps=1e-05, momentum=0.1, affine=True, track_running_stats=True)\n",
       "      (relu1): ReLU()\n",
       "    )\n",
       "    (1): bottleneck(\n",
       "      (conv3): Sequential(\n",
       "        (0): Conv2d(256, 64, kernel_size=(1, 1), stride=(1, 1))\n",
       "        (1): BatchNorm2d(64, eps=1e-05, momentum=0.1, affine=True, track_running_stats=True)\n",
       "        (2): ReLU()\n",
       "        (3): Conv2d(64, 64, kernel_size=(3, 3), stride=(1, 1), padding=(1, 1))\n",
       "        (4): BatchNorm2d(64, eps=1e-05, momentum=0.1, affine=True, track_running_stats=True)\n",
       "        (5): ReLU()\n",
       "        (6): Conv2d(64, 256, kernel_size=(1, 1), stride=(1, 1))\n",
       "        (7): BatchNorm2d(256, eps=1e-05, momentum=0.1, affine=True, track_running_stats=True)\n",
       "      )\n",
       "      (down): Conv2d(256, 256, kernel_size=(1, 1), stride=(2, 2))\n",
       "      (equalizer): Conv2d(256, 256, kernel_size=(1, 1), stride=(1, 1))\n",
       "      (bn1): BatchNorm2d(256, eps=1e-05, momentum=0.1, affine=True, track_running_stats=True)\n",
       "      (relu1): ReLU()\n",
       "    )\n",
       "    (2): bottleneck(\n",
       "      (conv3): Sequential(\n",
       "        (0): Conv2d(256, 64, kernel_size=(1, 1), stride=(1, 1))\n",
       "        (1): BatchNorm2d(64, eps=1e-05, momentum=0.1, affine=True, track_running_stats=True)\n",
       "        (2): ReLU()\n",
       "        (3): Conv2d(64, 64, kernel_size=(3, 3), stride=(1, 1), padding=(1, 1))\n",
       "        (4): BatchNorm2d(64, eps=1e-05, momentum=0.1, affine=True, track_running_stats=True)\n",
       "        (5): ReLU()\n",
       "        (6): Conv2d(64, 256, kernel_size=(1, 1), stride=(1, 1))\n",
       "        (7): BatchNorm2d(256, eps=1e-05, momentum=0.1, affine=True, track_running_stats=True)\n",
       "      )\n",
       "      (down): Conv2d(256, 256, kernel_size=(1, 1), stride=(2, 2))\n",
       "      (equalizer): Conv2d(256, 256, kernel_size=(1, 1), stride=(1, 1))\n",
       "      (bn1): BatchNorm2d(256, eps=1e-05, momentum=0.1, affine=True, track_running_stats=True)\n",
       "      (relu1): ReLU()\n",
       "    )\n",
       "  )\n",
       "  (conv3x): Sequential(\n",
       "    (0): bottleneck(\n",
       "      (conv3): Sequential(\n",
       "        (0): Conv2d(256, 128, kernel_size=(1, 1), stride=(2, 2))\n",
       "        (1): BatchNorm2d(128, eps=1e-05, momentum=0.1, affine=True, track_running_stats=True)\n",
       "        (2): ReLU()\n",
       "        (3): Conv2d(128, 128, kernel_size=(3, 3), stride=(1, 1), padding=(1, 1))\n",
       "        (4): BatchNorm2d(128, eps=1e-05, momentum=0.1, affine=True, track_running_stats=True)\n",
       "        (5): ReLU()\n",
       "        (6): Conv2d(128, 512, kernel_size=(1, 1), stride=(1, 1))\n",
       "        (7): BatchNorm2d(512, eps=1e-05, momentum=0.1, affine=True, track_running_stats=True)\n",
       "      )\n",
       "      (down): Conv2d(256, 512, kernel_size=(1, 1), stride=(2, 2))\n",
       "      (equalizer): Conv2d(256, 512, kernel_size=(1, 1), stride=(1, 1))\n",
       "      (bn1): BatchNorm2d(512, eps=1e-05, momentum=0.1, affine=True, track_running_stats=True)\n",
       "      (relu1): ReLU()\n",
       "    )\n",
       "    (1): bottleneck(\n",
       "      (conv3): Sequential(\n",
       "        (0): Conv2d(512, 128, kernel_size=(1, 1), stride=(1, 1))\n",
       "        (1): BatchNorm2d(128, eps=1e-05, momentum=0.1, affine=True, track_running_stats=True)\n",
       "        (2): ReLU()\n",
       "        (3): Conv2d(128, 128, kernel_size=(3, 3), stride=(1, 1), padding=(1, 1))\n",
       "        (4): BatchNorm2d(128, eps=1e-05, momentum=0.1, affine=True, track_running_stats=True)\n",
       "        (5): ReLU()\n",
       "        (6): Conv2d(128, 512, kernel_size=(1, 1), stride=(1, 1))\n",
       "        (7): BatchNorm2d(512, eps=1e-05, momentum=0.1, affine=True, track_running_stats=True)\n",
       "      )\n",
       "      (down): Conv2d(512, 512, kernel_size=(1, 1), stride=(2, 2))\n",
       "      (equalizer): Conv2d(512, 512, kernel_size=(1, 1), stride=(1, 1))\n",
       "      (bn1): BatchNorm2d(512, eps=1e-05, momentum=0.1, affine=True, track_running_stats=True)\n",
       "      (relu1): ReLU()\n",
       "    )\n",
       "    (2): bottleneck(\n",
       "      (conv3): Sequential(\n",
       "        (0): Conv2d(512, 128, kernel_size=(1, 1), stride=(1, 1))\n",
       "        (1): BatchNorm2d(128, eps=1e-05, momentum=0.1, affine=True, track_running_stats=True)\n",
       "        (2): ReLU()\n",
       "        (3): Conv2d(128, 128, kernel_size=(3, 3), stride=(1, 1), padding=(1, 1))\n",
       "        (4): BatchNorm2d(128, eps=1e-05, momentum=0.1, affine=True, track_running_stats=True)\n",
       "        (5): ReLU()\n",
       "        (6): Conv2d(128, 512, kernel_size=(1, 1), stride=(1, 1))\n",
       "        (7): BatchNorm2d(512, eps=1e-05, momentum=0.1, affine=True, track_running_stats=True)\n",
       "      )\n",
       "      (down): Conv2d(512, 512, kernel_size=(1, 1), stride=(2, 2))\n",
       "      (equalizer): Conv2d(512, 512, kernel_size=(1, 1), stride=(1, 1))\n",
       "      (bn1): BatchNorm2d(512, eps=1e-05, momentum=0.1, affine=True, track_running_stats=True)\n",
       "      (relu1): ReLU()\n",
       "    )\n",
       "    (3): bottleneck(\n",
       "      (conv3): Sequential(\n",
       "        (0): Conv2d(512, 128, kernel_size=(1, 1), stride=(1, 1))\n",
       "        (1): BatchNorm2d(128, eps=1e-05, momentum=0.1, affine=True, track_running_stats=True)\n",
       "        (2): ReLU()\n",
       "        (3): Conv2d(128, 128, kernel_size=(3, 3), stride=(1, 1), padding=(1, 1))\n",
       "        (4): BatchNorm2d(128, eps=1e-05, momentum=0.1, affine=True, track_running_stats=True)\n",
       "        (5): ReLU()\n",
       "        (6): Conv2d(128, 512, kernel_size=(1, 1), stride=(1, 1))\n",
       "        (7): BatchNorm2d(512, eps=1e-05, momentum=0.1, affine=True, track_running_stats=True)\n",
       "      )\n",
       "      (down): Conv2d(512, 512, kernel_size=(1, 1), stride=(2, 2))\n",
       "      (equalizer): Conv2d(512, 512, kernel_size=(1, 1), stride=(1, 1))\n",
       "      (bn1): BatchNorm2d(512, eps=1e-05, momentum=0.1, affine=True, track_running_stats=True)\n",
       "      (relu1): ReLU()\n",
       "    )\n",
       "  )\n",
       "  (conv4x): Sequential(\n",
       "    (0): bottleneck(\n",
       "      (conv3): Sequential(\n",
       "        (0): Conv2d(512, 256, kernel_size=(1, 1), stride=(2, 2))\n",
       "        (1): BatchNorm2d(256, eps=1e-05, momentum=0.1, affine=True, track_running_stats=True)\n",
       "        (2): ReLU()\n",
       "        (3): Conv2d(256, 256, kernel_size=(3, 3), stride=(1, 1), padding=(1, 1))\n",
       "        (4): BatchNorm2d(256, eps=1e-05, momentum=0.1, affine=True, track_running_stats=True)\n",
       "        (5): ReLU()\n",
       "        (6): Conv2d(256, 1024, kernel_size=(1, 1), stride=(1, 1))\n",
       "        (7): BatchNorm2d(1024, eps=1e-05, momentum=0.1, affine=True, track_running_stats=True)\n",
       "      )\n",
       "      (down): Conv2d(512, 1024, kernel_size=(1, 1), stride=(2, 2))\n",
       "      (equalizer): Conv2d(512, 1024, kernel_size=(1, 1), stride=(1, 1))\n",
       "      (bn1): BatchNorm2d(1024, eps=1e-05, momentum=0.1, affine=True, track_running_stats=True)\n",
       "      (relu1): ReLU()\n",
       "    )\n",
       "    (1): bottleneck(\n",
       "      (conv3): Sequential(\n",
       "        (0): Conv2d(1024, 256, kernel_size=(1, 1), stride=(1, 1))\n",
       "        (1): BatchNorm2d(256, eps=1e-05, momentum=0.1, affine=True, track_running_stats=True)\n",
       "        (2): ReLU()\n",
       "        (3): Conv2d(256, 256, kernel_size=(3, 3), stride=(1, 1), padding=(1, 1))\n",
       "        (4): BatchNorm2d(256, eps=1e-05, momentum=0.1, affine=True, track_running_stats=True)\n",
       "        (5): ReLU()\n",
       "        (6): Conv2d(256, 1024, kernel_size=(1, 1), stride=(1, 1))\n",
       "        (7): BatchNorm2d(1024, eps=1e-05, momentum=0.1, affine=True, track_running_stats=True)\n",
       "      )\n",
       "      (down): Conv2d(1024, 1024, kernel_size=(1, 1), stride=(2, 2))\n",
       "      (equalizer): Conv2d(1024, 1024, kernel_size=(1, 1), stride=(1, 1))\n",
       "      (bn1): BatchNorm2d(1024, eps=1e-05, momentum=0.1, affine=True, track_running_stats=True)\n",
       "      (relu1): ReLU()\n",
       "    )\n",
       "    (2): bottleneck(\n",
       "      (conv3): Sequential(\n",
       "        (0): Conv2d(1024, 256, kernel_size=(1, 1), stride=(1, 1))\n",
       "        (1): BatchNorm2d(256, eps=1e-05, momentum=0.1, affine=True, track_running_stats=True)\n",
       "        (2): ReLU()\n",
       "        (3): Conv2d(256, 256, kernel_size=(3, 3), stride=(1, 1), padding=(1, 1))\n",
       "        (4): BatchNorm2d(256, eps=1e-05, momentum=0.1, affine=True, track_running_stats=True)\n",
       "        (5): ReLU()\n",
       "        (6): Conv2d(256, 1024, kernel_size=(1, 1), stride=(1, 1))\n",
       "        (7): BatchNorm2d(1024, eps=1e-05, momentum=0.1, affine=True, track_running_stats=True)\n",
       "      )\n",
       "      (down): Conv2d(1024, 1024, kernel_size=(1, 1), stride=(2, 2))\n",
       "      (equalizer): Conv2d(1024, 1024, kernel_size=(1, 1), stride=(1, 1))\n",
       "      (bn1): BatchNorm2d(1024, eps=1e-05, momentum=0.1, affine=True, track_running_stats=True)\n",
       "      (relu1): ReLU()\n",
       "    )\n",
       "    (3): bottleneck(\n",
       "      (conv3): Sequential(\n",
       "        (0): Conv2d(1024, 256, kernel_size=(1, 1), stride=(1, 1))\n",
       "        (1): BatchNorm2d(256, eps=1e-05, momentum=0.1, affine=True, track_running_stats=True)\n",
       "        (2): ReLU()\n",
       "        (3): Conv2d(256, 256, kernel_size=(3, 3), stride=(1, 1), padding=(1, 1))\n",
       "        (4): BatchNorm2d(256, eps=1e-05, momentum=0.1, affine=True, track_running_stats=True)\n",
       "        (5): ReLU()\n",
       "        (6): Conv2d(256, 1024, kernel_size=(1, 1), stride=(1, 1))\n",
       "        (7): BatchNorm2d(1024, eps=1e-05, momentum=0.1, affine=True, track_running_stats=True)\n",
       "      )\n",
       "      (down): Conv2d(1024, 1024, kernel_size=(1, 1), stride=(2, 2))\n",
       "      (equalizer): Conv2d(1024, 1024, kernel_size=(1, 1), stride=(1, 1))\n",
       "      (bn1): BatchNorm2d(1024, eps=1e-05, momentum=0.1, affine=True, track_running_stats=True)\n",
       "      (relu1): ReLU()\n",
       "    )\n",
       "    (4): bottleneck(\n",
       "      (conv3): Sequential(\n",
       "        (0): Conv2d(1024, 256, kernel_size=(1, 1), stride=(1, 1))\n",
       "        (1): BatchNorm2d(256, eps=1e-05, momentum=0.1, affine=True, track_running_stats=True)\n",
       "        (2): ReLU()\n",
       "        (3): Conv2d(256, 256, kernel_size=(3, 3), stride=(1, 1), padding=(1, 1))\n",
       "        (4): BatchNorm2d(256, eps=1e-05, momentum=0.1, affine=True, track_running_stats=True)\n",
       "        (5): ReLU()\n",
       "        (6): Conv2d(256, 1024, kernel_size=(1, 1), stride=(1, 1))\n",
       "        (7): BatchNorm2d(1024, eps=1e-05, momentum=0.1, affine=True, track_running_stats=True)\n",
       "      )\n",
       "      (down): Conv2d(1024, 1024, kernel_size=(1, 1), stride=(2, 2))\n",
       "      (equalizer): Conv2d(1024, 1024, kernel_size=(1, 1), stride=(1, 1))\n",
       "      (bn1): BatchNorm2d(1024, eps=1e-05, momentum=0.1, affine=True, track_running_stats=True)\n",
       "      (relu1): ReLU()\n",
       "    )\n",
       "    (5): bottleneck(\n",
       "      (conv3): Sequential(\n",
       "        (0): Conv2d(1024, 256, kernel_size=(1, 1), stride=(1, 1))\n",
       "        (1): BatchNorm2d(256, eps=1e-05, momentum=0.1, affine=True, track_running_stats=True)\n",
       "        (2): ReLU()\n",
       "        (3): Conv2d(256, 256, kernel_size=(3, 3), stride=(1, 1), padding=(1, 1))\n",
       "        (4): BatchNorm2d(256, eps=1e-05, momentum=0.1, affine=True, track_running_stats=True)\n",
       "        (5): ReLU()\n",
       "        (6): Conv2d(256, 1024, kernel_size=(1, 1), stride=(1, 1))\n",
       "        (7): BatchNorm2d(1024, eps=1e-05, momentum=0.1, affine=True, track_running_stats=True)\n",
       "      )\n",
       "      (down): Conv2d(1024, 1024, kernel_size=(1, 1), stride=(2, 2))\n",
       "      (equalizer): Conv2d(1024, 1024, kernel_size=(1, 1), stride=(1, 1))\n",
       "      (bn1): BatchNorm2d(1024, eps=1e-05, momentum=0.1, affine=True, track_running_stats=True)\n",
       "      (relu1): ReLU()\n",
       "    )\n",
       "  )\n",
       "  (conv5x): Sequential(\n",
       "    (0): bottleneck(\n",
       "      (conv3): Sequential(\n",
       "        (0): Conv2d(1024, 512, kernel_size=(1, 1), stride=(2, 2))\n",
       "        (1): BatchNorm2d(512, eps=1e-05, momentum=0.1, affine=True, track_running_stats=True)\n",
       "        (2): ReLU()\n",
       "        (3): Conv2d(512, 512, kernel_size=(3, 3), stride=(1, 1), padding=(1, 1))\n",
       "        (4): BatchNorm2d(512, eps=1e-05, momentum=0.1, affine=True, track_running_stats=True)\n",
       "        (5): ReLU()\n",
       "        (6): Conv2d(512, 2048, kernel_size=(1, 1), stride=(1, 1))\n",
       "        (7): BatchNorm2d(2048, eps=1e-05, momentum=0.1, affine=True, track_running_stats=True)\n",
       "      )\n",
       "      (down): Conv2d(1024, 2048, kernel_size=(1, 1), stride=(2, 2))\n",
       "      (equalizer): Conv2d(1024, 2048, kernel_size=(1, 1), stride=(1, 1))\n",
       "      (bn1): BatchNorm2d(2048, eps=1e-05, momentum=0.1, affine=True, track_running_stats=True)\n",
       "      (relu1): ReLU()\n",
       "    )\n",
       "    (1): bottleneck(\n",
       "      (conv3): Sequential(\n",
       "        (0): Conv2d(2048, 512, kernel_size=(1, 1), stride=(1, 1))\n",
       "        (1): BatchNorm2d(512, eps=1e-05, momentum=0.1, affine=True, track_running_stats=True)\n",
       "        (2): ReLU()\n",
       "        (3): Conv2d(512, 512, kernel_size=(3, 3), stride=(1, 1), padding=(1, 1))\n",
       "        (4): BatchNorm2d(512, eps=1e-05, momentum=0.1, affine=True, track_running_stats=True)\n",
       "        (5): ReLU()\n",
       "        (6): Conv2d(512, 2048, kernel_size=(1, 1), stride=(1, 1))\n",
       "        (7): BatchNorm2d(2048, eps=1e-05, momentum=0.1, affine=True, track_running_stats=True)\n",
       "      )\n",
       "      (down): Conv2d(2048, 2048, kernel_size=(1, 1), stride=(2, 2))\n",
       "      (equalizer): Conv2d(2048, 2048, kernel_size=(1, 1), stride=(1, 1))\n",
       "      (bn1): BatchNorm2d(2048, eps=1e-05, momentum=0.1, affine=True, track_running_stats=True)\n",
       "      (relu1): ReLU()\n",
       "    )\n",
       "    (2): bottleneck(\n",
       "      (conv3): Sequential(\n",
       "        (0): Conv2d(2048, 512, kernel_size=(1, 1), stride=(1, 1))\n",
       "        (1): BatchNorm2d(512, eps=1e-05, momentum=0.1, affine=True, track_running_stats=True)\n",
       "        (2): ReLU()\n",
       "        (3): Conv2d(512, 512, kernel_size=(3, 3), stride=(1, 1), padding=(1, 1))\n",
       "        (4): BatchNorm2d(512, eps=1e-05, momentum=0.1, affine=True, track_running_stats=True)\n",
       "        (5): ReLU()\n",
       "        (6): Conv2d(512, 2048, kernel_size=(1, 1), stride=(1, 1))\n",
       "        (7): BatchNorm2d(2048, eps=1e-05, momentum=0.1, affine=True, track_running_stats=True)\n",
       "      )\n",
       "      (down): Conv2d(2048, 2048, kernel_size=(1, 1), stride=(2, 2))\n",
       "      (equalizer): Conv2d(2048, 2048, kernel_size=(1, 1), stride=(1, 1))\n",
       "      (bn1): BatchNorm2d(2048, eps=1e-05, momentum=0.1, affine=True, track_running_stats=True)\n",
       "      (relu1): ReLU()\n",
       "    )\n",
       "  )\n",
       "  (avgpool): AvgPool2d(kernel_size=4, stride=1, padding=0)\n",
       "  (fclayer): Linear(in_features=2048, out_features=10, bias=True)\n",
       ")"
      ]
     },
     "execution_count": 15,
     "metadata": {
      "tags": []
     },
     "output_type": "execute_result"
    }
   ],
   "source": []
  },
  {
   "cell_type": "markdown",
   "metadata": {
    "colab_type": "text",
    "id": "PTFU8J5Uj9aj"
   },
   "source": [
    "### 2.2 Print test accuracy for every epochs. [1 points]"
   ]
  },
  {
   "cell_type": "code",
   "execution_count": 16,
   "metadata": {
    "colab": {
     "base_uri": "https://localhost:8080/",
     "height": 323
    },
    "colab_type": "code",
    "executionInfo": {
     "elapsed": 574021,
     "status": "ok",
     "timestamp": 1586021397509,
     "user": {
      "displayName": "kyungmook choi",
      "photoUrl": "",
      "userId": "04352800545748553848"
     },
     "user_tz": -540
    },
    "id": "ydsAXR-qj9ak",
    "outputId": "555f4847-859e-495c-c1b1-f7bef6a16349"
   },
   "outputs": [
    {
     "name": "stdout",
     "output_type": "stream",
     "text": [
      "STEP 5: INSTANTIATE LOSS CLASS\n",
      "STEP 6: INSTANTIATE OPTIMIZER CLASS\n",
      "STEP 7: TRAIN THE MODEL\n",
      "Epoch: 0. Loss: 1.2122440818002669. Accuracy: 72.06666666666666. Elapsed time: 26.0574296875 sec\n",
      "Epoch: 1. Loss: 0.633612008418067. Accuracy: 75.63333333333334. Elapsed time: 26.06732421875 sec\n",
      "Epoch: 2. Loss: 0.5342823037151563. Accuracy: 78.8. Elapsed time: 26.065544921875 sec\n",
      "Epoch: 3. Loss: 0.436281555032326. Accuracy: 76.26666666666667. Elapsed time: 26.053947265625 sec\n",
      "Epoch: 4. Loss: 0.41396097864134834. Accuracy: 81.7. Elapsed time: 26.0459296875 sec\n",
      "Epoch: 5. Loss: 0.34664130817025396. Accuracy: 81.66666666666667. Elapsed time: 26.055765625 sec\n",
      "Epoch: 6. Loss: 0.29669285502474185. Accuracy: 80.86666666666666. Elapsed time: 26.064615234375 sec\n",
      "Epoch: 7. Loss: 0.26090581437288707. Accuracy: 83.8. Elapsed time: 26.05434375 sec\n",
      "Epoch: 8. Loss: 0.2318247726534383. Accuracy: 84.46666666666667. Elapsed time: 26.054609375 sec\n",
      "Epoch: 9. Loss: 0.1842667990821903. Accuracy: 82.23333333333333. Elapsed time: 26.0568828125 sec\n",
      "Epoch: 10. Loss: 0.1471235249507225. Accuracy: 84.7. Elapsed time: 26.052853515625 sec\n",
      "Epoch: 11. Loss: 0.14336182922124863. Accuracy: 84.33333333333333. Elapsed time: 26.06146484375 sec\n",
      "Epoch: 12. Loss: 0.11761722808419647. Accuracy: 84.56666666666666. Elapsed time: 26.05419921875 sec\n",
      "Epoch: 13. Loss: 0.10058901061193418. Accuracy: 80.33333333333333. Elapsed time: 26.05846875 sec\n",
      "Epoch: 14. Loss: 0.12497160893123029. Accuracy: 81.2. Elapsed time: 26.05783984375 sec\n"
     ]
    }
   ],
   "source": []
  }
 ],
 "metadata": {
  "accelerator": "GPU",
  "colab": {
   "collapsed_sections": [],
   "name": "EEE4423_lab3_vgg_resnet[CoLab]_problem.ipynb",
   "provenance": []
  },
  "kernelspec": {
   "display_name": "Python 3",
   "language": "python",
   "name": "python3"
  },
  "language_info": {
   "codemirror_mode": {
    "name": "ipython",
    "version": 3
   },
   "file_extension": ".py",
   "mimetype": "text/x-python",
   "name": "python",
   "nbconvert_exporter": "python",
   "pygments_lexer": "ipython3",
   "version": "3.7.3"
  },
  "widgets": {
   "application/vnd.jupyter.widget-state+json": {
    "178ebd051cf142828e0e0879a4c22807": {
     "model_module": "@jupyter-widgets/base",
     "model_name": "LayoutModel",
     "state": {
      "_model_module": "@jupyter-widgets/base",
      "_model_module_version": "1.2.0",
      "_model_name": "LayoutModel",
      "_view_count": null,
      "_view_module": "@jupyter-widgets/base",
      "_view_module_version": "1.2.0",
      "_view_name": "LayoutView",
      "align_content": null,
      "align_items": null,
      "align_self": null,
      "border": null,
      "bottom": null,
      "display": null,
      "flex": null,
      "flex_flow": null,
      "grid_area": null,
      "grid_auto_columns": null,
      "grid_auto_flow": null,
      "grid_auto_rows": null,
      "grid_column": null,
      "grid_gap": null,
      "grid_row": null,
      "grid_template_areas": null,
      "grid_template_columns": null,
      "grid_template_rows": null,
      "height": null,
      "justify_content": null,
      "justify_items": null,
      "left": null,
      "margin": null,
      "max_height": null,
      "max_width": null,
      "min_height": null,
      "min_width": null,
      "object_fit": null,
      "object_position": null,
      "order": null,
      "overflow": null,
      "overflow_x": null,
      "overflow_y": null,
      "padding": null,
      "right": null,
      "top": null,
      "visibility": null,
      "width": null
     }
    },
    "707df9e4594f4304a2024b437894ece9": {
     "model_module": "@jupyter-widgets/controls",
     "model_name": "ProgressStyleModel",
     "state": {
      "_model_module": "@jupyter-widgets/controls",
      "_model_module_version": "1.5.0",
      "_model_name": "ProgressStyleModel",
      "_view_count": null,
      "_view_module": "@jupyter-widgets/base",
      "_view_module_version": "1.2.0",
      "_view_name": "StyleView",
      "bar_color": null,
      "description_width": "initial"
     }
    },
    "7bbba3ab19a247d8b86e8b10dca19c61": {
     "model_module": "@jupyter-widgets/controls",
     "model_name": "IntProgressModel",
     "state": {
      "_dom_classes": [],
      "_model_module": "@jupyter-widgets/controls",
      "_model_module_version": "1.5.0",
      "_model_name": "IntProgressModel",
      "_view_count": null,
      "_view_module": "@jupyter-widgets/controls",
      "_view_module_version": "1.5.0",
      "_view_name": "ProgressView",
      "bar_style": "success",
      "description": "",
      "description_tooltip": null,
      "layout": "IPY_MODEL_d8d47e55a15d4e7395b14e3e65fcaa4a",
      "max": 1,
      "min": 0,
      "orientation": "horizontal",
      "style": "IPY_MODEL_707df9e4594f4304a2024b437894ece9",
      "value": 1
     }
    },
    "82e9de3e874b47df9542bf4c22481200": {
     "model_module": "@jupyter-widgets/controls",
     "model_name": "DescriptionStyleModel",
     "state": {
      "_model_module": "@jupyter-widgets/controls",
      "_model_module_version": "1.5.0",
      "_model_name": "DescriptionStyleModel",
      "_view_count": null,
      "_view_module": "@jupyter-widgets/base",
      "_view_module_version": "1.2.0",
      "_view_name": "StyleView",
      "description_width": ""
     }
    },
    "8f8a7b74f4b04d9c83ecfecd3d274970": {
     "model_module": "@jupyter-widgets/controls",
     "model_name": "HTMLModel",
     "state": {
      "_dom_classes": [],
      "_model_module": "@jupyter-widgets/controls",
      "_model_module_version": "1.5.0",
      "_model_name": "HTMLModel",
      "_view_count": null,
      "_view_module": "@jupyter-widgets/controls",
      "_view_module_version": "1.5.0",
      "_view_name": "HTMLView",
      "description": "",
      "description_tooltip": null,
      "layout": "IPY_MODEL_178ebd051cf142828e0e0879a4c22807",
      "placeholder": "​",
      "style": "IPY_MODEL_82e9de3e874b47df9542bf4c22481200",
      "value": " 170500096/? [00:07&lt;00:00, 22181741.61it/s]"
     }
    },
    "be7c4195adfd4aff98ee091e384fff95": {
     "model_module": "@jupyter-widgets/base",
     "model_name": "LayoutModel",
     "state": {
      "_model_module": "@jupyter-widgets/base",
      "_model_module_version": "1.2.0",
      "_model_name": "LayoutModel",
      "_view_count": null,
      "_view_module": "@jupyter-widgets/base",
      "_view_module_version": "1.2.0",
      "_view_name": "LayoutView",
      "align_content": null,
      "align_items": null,
      "align_self": null,
      "border": null,
      "bottom": null,
      "display": null,
      "flex": null,
      "flex_flow": null,
      "grid_area": null,
      "grid_auto_columns": null,
      "grid_auto_flow": null,
      "grid_auto_rows": null,
      "grid_column": null,
      "grid_gap": null,
      "grid_row": null,
      "grid_template_areas": null,
      "grid_template_columns": null,
      "grid_template_rows": null,
      "height": null,
      "justify_content": null,
      "justify_items": null,
      "left": null,
      "margin": null,
      "max_height": null,
      "max_width": null,
      "min_height": null,
      "min_width": null,
      "object_fit": null,
      "object_position": null,
      "order": null,
      "overflow": null,
      "overflow_x": null,
      "overflow_y": null,
      "padding": null,
      "right": null,
      "top": null,
      "visibility": null,
      "width": null
     }
    },
    "d8d47e55a15d4e7395b14e3e65fcaa4a": {
     "model_module": "@jupyter-widgets/base",
     "model_name": "LayoutModel",
     "state": {
      "_model_module": "@jupyter-widgets/base",
      "_model_module_version": "1.2.0",
      "_model_name": "LayoutModel",
      "_view_count": null,
      "_view_module": "@jupyter-widgets/base",
      "_view_module_version": "1.2.0",
      "_view_name": "LayoutView",
      "align_content": null,
      "align_items": null,
      "align_self": null,
      "border": null,
      "bottom": null,
      "display": null,
      "flex": null,
      "flex_flow": null,
      "grid_area": null,
      "grid_auto_columns": null,
      "grid_auto_flow": null,
      "grid_auto_rows": null,
      "grid_column": null,
      "grid_gap": null,
      "grid_row": null,
      "grid_template_areas": null,
      "grid_template_columns": null,
      "grid_template_rows": null,
      "height": null,
      "justify_content": null,
      "justify_items": null,
      "left": null,
      "margin": null,
      "max_height": null,
      "max_width": null,
      "min_height": null,
      "min_width": null,
      "object_fit": null,
      "object_position": null,
      "order": null,
      "overflow": null,
      "overflow_x": null,
      "overflow_y": null,
      "padding": null,
      "right": null,
      "top": null,
      "visibility": null,
      "width": null
     }
    },
    "e5806f855d2c4aba9d8e684fe29d9424": {
     "model_module": "@jupyter-widgets/controls",
     "model_name": "HBoxModel",
     "state": {
      "_dom_classes": [],
      "_model_module": "@jupyter-widgets/controls",
      "_model_module_version": "1.5.0",
      "_model_name": "HBoxModel",
      "_view_count": null,
      "_view_module": "@jupyter-widgets/controls",
      "_view_module_version": "1.5.0",
      "_view_name": "HBoxView",
      "box_style": "",
      "children": [
       "IPY_MODEL_7bbba3ab19a247d8b86e8b10dca19c61",
       "IPY_MODEL_8f8a7b74f4b04d9c83ecfecd3d274970"
      ],
      "layout": "IPY_MODEL_be7c4195adfd4aff98ee091e384fff95"
     }
    }
   }
  }
 },
 "nbformat": 4,
 "nbformat_minor": 1
}
