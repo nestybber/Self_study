{
 "cells": [
  {
   "cell_type": "code",
   "execution_count": 1,
   "metadata": {},
   "outputs": [
    {
     "name": "stdout",
     "output_type": "stream",
     "text": [
      "target  dbscan\n",
      "0        0        49\n",
      "        -1         1\n",
      "1        1        46\n",
      "        -1         4\n",
      "2        1        42\n",
      "        -1         8\n",
      "Name: dbscan, dtype: int64\n"
     ]
    }
   ],
   "source": [
    "import numpy as np\n",
    "import pandas as pd\n",
    "import matplotlib.pyplot as plt\n",
    "\n",
    "from sklearn.datasets import load_iris\n",
    "from sklearn.cluster import DBSCAN\n",
    "\n",
    "iris = load_iris()\n",
    "iris_df = pd.DataFrame(iris.data, columns=iris.feature_names)\n",
    "iris_df['target'] = iris.target\n",
    "\n",
    "dbscan = DBSCAN(eps=0.6, min_samples=8, metric='euclidean')\n",
    "# parameter 2개. eps: 입실론으로 개별 데이터 주변 반경. min_samples: 입실론 반경안에 들어가야 할 최소 데이터 수(자신 포함) -> 핵심데이터\n",
    "dbscan_labels = dbscan.fit_predict(iris.data)\n",
    "iris_df['dbscan'] = dbscan_labels\n",
    "\n",
    "iris_result = iris_df.groupby('target')['dbscan'].value_counts()\n",
    "print(iris_result)"
   ]
  },
  {
   "cell_type": "code",
   "execution_count": 2,
   "metadata": {},
   "outputs": [],
   "source": [
    "# target값은 3개인데 군집의 개수는 2개. -1 label은 noise data를 의미\n",
    "# DBSCAN은 군잽의 개수를 알고리즘에 따라 자동지정\n",
    "\n",
    "# 2차원으로 시각화 위해 PCA로 차원 줄이기\n",
    "from sklearn.decomposition import PCA\n",
    "\n",
    "pca = PCA(n_components=2)\n",
    "pca_transformed = pca.fit_transform(iris.data)\n",
    "\n",
    "# visualize_cluster_plot 함수 사용해보기(부록에 포함)"
   ]
  },
  {
   "cell_type": "code",
   "execution_count": 14,
   "metadata": {},
   "outputs": [],
   "source": [
    "def visualize_cluster_plot(cluster, df, col_name, is_center=True):\n",
    "    if is_center:\n",
    "        centers = cluster.cluster_centers_\n",
    "    \n",
    "    unique_labels = np.unique(df[col_name])\n",
    "    markers = ['o', 's', '^', 'x', '*']\n",
    "    is_Noise = False\n",
    "    \n",
    "    for label in unique_labels:\n",
    "        df_cluster = df[df[col_name]==label]\n",
    "        if label == -1:\n",
    "            cluster_name = 'Noise'\n",
    "            is_Noise = True\n",
    "        else:\n",
    "            cluster_name = 'cluster'+str(label)\n",
    "            \n",
    "        plt.scatter(x=df_cluster['ftr1'], y=df_cluster['ftr2'], marker=markers[label], label=cluster_name)\n",
    "        \n",
    "        if is_center:\n",
    "            center_x_y = centers[label]\n",
    "            plt.scatter(x=center_x_y[0], y=center_x_y[1], s=250, color='white', alpha=0.9, edgecolor='k', marker=markers[label])\n",
    "            plt.scatter(x=center_x_y[0], y=center_x_y[1], s=70, color='k', marker='$%d$' % label)\n",
    "            \n",
    "        if is_Noise:\n",
    "            legend_loc = 'upper center'\n",
    "        else:\n",
    "            legend_loc = 'upper right'\n",
    "        \n",
    "    plt.legend(loc=legend_loc)\n",
    "    plt.show()"
   ]
  },
  {
   "cell_type": "code",
   "execution_count": 15,
   "metadata": {},
   "outputs": [
    {
     "data": {
      "image/png": "[encoded data removed]",
      "text/plain": [
       "<Figure size 432x288 with 1 Axes>"
      ]
     },
     "metadata": {
      "needs_background": "light"
     },
     "output_type": "display_data"
    }
   ],
   "source": [
    "iris_df['ftr1'] = pca_transformed[:,0]\n",
    "iris_df['ftr2'] = pca_transformed[:,1]\n",
    "\n",
    "visualize_cluster_plot(dbscan, iris_df, 'dbscan', is_center=False)"
   ]
  },
  {
   "cell_type": "code",
   "execution_count": null,
   "metadata": {},
   "outputs": [],
   "source": []
  }
 ],
 "metadata": {
  "kernelspec": {
   "display_name": "Python 3",
   "language": "python",
   "name": "python3"
  },
  "language_info": {
   "codemirror_mode": {
    "name": "ipython",
    "version": 3
   },
   "file_extension": ".py",
   "mimetype": "text/x-python",
   "name": "python",
   "nbconvert_exporter": "python",
   "pygments_lexer": "ipython3",
   "version": "3.7.3"
  }
 },
 "nbformat": 4,
 "nbformat_minor": 2
}
