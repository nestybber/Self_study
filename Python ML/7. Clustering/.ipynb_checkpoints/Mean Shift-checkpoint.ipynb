{
 "cells": [
  {
   "cell_type": "code",
   "execution_count": 1,
   "metadata": {},
   "outputs": [
    {
     "name": "stdout",
     "output_type": "stream",
     "text": [
      "cluster labels type: [0 1 2 3 4 5 6 7]\n"
     ]
    }
   ],
   "source": [
    "# mean shift(평균이동)은 데이터의 분포도를 이용해 군집 중심점을 찾는다\n",
    "# 일반적으로 주어진 모델의 확률밀도함수를 찾기 위해 KDE(Kernel Density Estimation)이용\n",
    "\n",
    "import numpy as np\n",
    "import pandas as pd\n",
    "import matplotlib.pyplot as plt\n",
    "\n",
    "from sklearn.datasets import make_blobs\n",
    "from sklearn.cluster import MeanShift\n",
    "\n",
    "X, y = make_blobs(n_samples=200, n_features=2, centers=3, cluster_std=0.8)\n",
    "meanshift = MeanShift(bandwidth=0.9)\n",
    "cluster_labels = meanshift.fit_predict(X)\n",
    "print('cluster labels type:', np.unique(cluster_labels))"
   ]
  },
  {
   "cell_type": "code",
   "execution_count": 5,
   "metadata": {},
   "outputs": [
    {
     "name": "stdout",
     "output_type": "stream",
     "text": [
      "cluster labels type: [0 1 2]\n"
     ]
    }
   ],
   "source": [
    "# 무려 8개로 분류됨, bandwidth를 조금 늘려봄\n",
    "meanshift = MeanShift(bandwidth=1.1)\n",
    "cluster_labels = meanshift.fit_predict(X)\n",
    "print('cluster labels type:', np.unique(cluster_labels))"
   ]
  },
  {
   "cell_type": "code",
   "execution_count": 6,
   "metadata": {},
   "outputs": [
    {
     "name": "stdout",
     "output_type": "stream",
     "text": [
      "1.567\n"
     ]
    }
   ],
   "source": [
    "# 최적화된 bandwidth 찾기\n",
    "from sklearn.cluster import estimate_bandwidth\n",
    "\n",
    "bandwidth = estimate_bandwidth(X, quantile=0.2)\n",
    "print(round(bandwidth, 3))"
   ]
  },
  {
   "cell_type": "code",
   "execution_count": 8,
   "metadata": {},
   "outputs": [
    {
     "name": "stdout",
     "output_type": "stream",
     "text": [
      "[0 1 2]\n"
     ]
    }
   ],
   "source": [
    "cluster_df = pd.DataFrame(X, columns=['ftr1', 'ftr2'])\n",
    "cluster_df['target'] = y\n",
    "\n",
    "meanshift = MeanShift(bandwidth=bandwidth)\n",
    "cluster_labels = meanshift.fit_predict(X)\n",
    "print(np.unique(cluster_labels))"
   ]
  },
  {
   "cell_type": "code",
   "execution_count": 11,
   "metadata": {},
   "outputs": [
    {
     "data": {
      "image/png": "[encoded data removed]",
      "text/plain": [
       "<Figure size 432x288 with 1 Axes>"
      ]
     },
     "metadata": {
      "needs_background": "light"
     },
     "output_type": "display_data"
    }
   ],
   "source": [
    "cluster_df['ms'] = cluster_labels\n",
    "markers = ['o', 's', '^', '*']\n",
    "unique_labels = np.unique(cluster_labels)\n",
    "centers = meanshift.cluster_centers_\n",
    "\n",
    "for label in unique_labels:\n",
    "    label_cluster = cluster_df[cluster_df['ms']==label]\n",
    "    plt.scatter(x=label_cluster['ftr1'], y=label_cluster['ftr2'], marker=markers[label])\n",
    "    center_x_y = centers[label]\n",
    "    plt.scatter(x=center_x_y[0], y=center_x_y[1], s=200, color='white', alpha=0.9, marker=markers[label])\n",
    "    plt.scatter(x=center_x_y[0], y=center_x_y[1], s=70, color='k', alpha=0.9, marker='$%d$' % label)\n",
    "    \n",
    "plt.show()"
   ]
  },
  {
   "cell_type": "code",
   "execution_count": null,
   "metadata": {},
   "outputs": [],
   "source": [
    "# 평균이동의 장점 : 데이터 세트의 형태나 분포 형태를 가정 X -> 유연한 군집화 가능\n",
    "#                   이상치에 영향 덜 받고 미리 군집 개수 정할 필요 없음. 단 수행시간 오래걸리고 BW에 큰 영향을 받음.."
   ]
  }
 ],
 "metadata": {
  "kernelspec": {
   "display_name": "Python 3",
   "language": "python",
   "name": "python3"
  },
  "language_info": {
   "codemirror_mode": {
    "name": "ipython",
    "version": 3
   },
   "file_extension": ".py",
   "mimetype": "text/x-python",
   "name": "python",
   "nbconvert_exporter": "python",
   "pygments_lexer": "ipython3",
   "version": "3.7.3"
  }
 },
 "nbformat": 4,
 "nbformat_minor": 2
}
