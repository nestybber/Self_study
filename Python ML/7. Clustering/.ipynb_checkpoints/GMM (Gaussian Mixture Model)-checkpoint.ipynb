{
 "cells": [
  {
   "cell_type": "code",
   "execution_count": 1,
   "metadata": {},
   "outputs": [],
   "source": [
    "# GMM 군집화는 군집화를 적용하고자 하는 데이터가 여러개의 가우시안 분포 모델을 섞어 생성된 모델이라고 가정하고 시작.\n",
    "# 섞인 데이터 분포에서 개별 유형의 가우시안 분포를 추출후, 개별 데이턱 이 중 어떤 정규분포에 속하는 지 결정\n",
    "# <모수 추정>이라고도 함. -> 개별 정규분포의 평균과 분산, 각 데이터가 어떤 정규분포에 해당되는지의 확률 두가지를 추정해야함.\n",
    "# EM 방식 사용(Expectation and Maximization)"
   ]
  },
  {
   "cell_type": "code",
   "execution_count": 2,
   "metadata": {},
   "outputs": [],
   "source": [
    "from sklearn.datasets import load_iris\n",
    "from sklearn.cluster import KMeans\n",
    "from sklearn.mixture import GaussianMixture\n",
    "# KMeans는 거리 기반 군집화, Gaussian Mixture는 확률 기반 군집화\n",
    "# KMeans는 원형으로 분포된 데이터에서 군집화 효과가 좋다.\n",
    "\n",
    "import numpy as np\n",
    "import pandas as pd\n",
    "import matplotlib.pyplot as plt\n",
    "\n",
    "iris = load_iris()\n",
    "iris_df = pd.DataFrame(iris.data, columns=iris.feature_names)\n",
    "iris_df['target'] = iris.target"
   ]
  },
  {
   "cell_type": "code",
   "execution_count": 3,
   "metadata": {},
   "outputs": [
    {
     "name": "stdout",
     "output_type": "stream",
     "text": [
      "target  gmm\n",
      "0       0      50\n",
      "1       2      45\n",
      "        1       5\n",
      "2       1      50\n",
      "Name: gmm, dtype: int64\n"
     ]
    }
   ],
   "source": [
    "gmm = GaussianMixture(n_components=3).fit(iris.data)\n",
    "gmm_cluster_labels = gmm.predict(iris.data)\n",
    "\n",
    "iris_df['gmm'] = gmm_cluster_labels\n",
    "iris_result = iris_df.groupby(['target'])['gmm'].value_counts()\n",
    "print(iris_result)"
   ]
  },
  {
   "cell_type": "code",
   "execution_count": null,
   "metadata": {},
   "outputs": [],
   "source": []
  }
 ],
 "metadata": {
  "kernelspec": {
   "display_name": "Python 3",
   "language": "python",
   "name": "python3"
  },
  "language_info": {
   "codemirror_mode": {
    "name": "ipython",
    "version": 3
   },
   "file_extension": ".py",
   "mimetype": "text/x-python",
   "name": "python",
   "nbconvert_exporter": "python",
   "pygments_lexer": "ipython3",
   "version": "3.7.3"
  }
 },
 "nbformat": 4,
 "nbformat_minor": 2
}
